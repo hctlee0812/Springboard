{
 "cells": [
  {
   "cell_type": "markdown",
   "metadata": {},
   "source": [
    "## Data Wrangling: League of Legends Ranked Games"
   ]
  },
  {
   "cell_type": "markdown",
   "metadata": {},
   "source": [
    "##### Import Module / Libraries"
   ]
  },
  {
   "cell_type": "code",
   "execution_count": 26,
   "metadata": {},
   "outputs": [],
   "source": [
    "import pandas as pd\n",
    "import numpy as np\n",
    "import matplotlib.pyplot as plt\n",
    "import seaborn as sns\n",
    "import sys\n",
    "import os"
   ]
  },
  {
   "cell_type": "markdown",
   "metadata": {},
   "source": [
    "##### Loading CSV files into dataframes"
   ]
  },
  {
   "cell_type": "code",
   "execution_count": 3,
   "metadata": {},
   "outputs": [],
   "source": [
    "champs = 'champs.csv'\n",
    "champs_df = pd.read_csv(champs)\n",
    "\n",
    "matches = 'matches.csv'\n",
    "matches_df = pd.read_csv(matches)\n",
    "\n",
    "participants = 'participants.csv'\n",
    "participants_df = pd.read_csv(participants)\n",
    "\n",
    "stats1 = 'stats1.csv'\n",
    "stats1_df = pd.read_csv(stats1)\n",
    "\n",
    "stats2 = 'stats2.csv'\n",
    "stats2_df = pd.read_csv(stats2, low_memory=False)\n",
    "\n",
    "bans = 'teambans.csv'\n",
    "bans_df = pd.read_csv(bans)\n",
    "\n",
    "teamstats = 'teamstats.csv'\n",
    "teamstats_df = pd.read_csv(teamstats)"
   ]
  },
  {
   "cell_type": "markdown",
   "metadata": {},
   "source": [
    "### Prepare Matches Dataframe"
   ]
  },
  {
   "cell_type": "code",
   "execution_count": 4,
   "metadata": {},
   "outputs": [
    {
     "data": {
      "text/html": [
       "<div>\n",
       "<style scoped>\n",
       "    .dataframe tbody tr th:only-of-type {\n",
       "        vertical-align: middle;\n",
       "    }\n",
       "\n",
       "    .dataframe tbody tr th {\n",
       "        vertical-align: top;\n",
       "    }\n",
       "\n",
       "    .dataframe thead th {\n",
       "        text-align: right;\n",
       "    }\n",
       "</style>\n",
       "<table border=\"1\" class=\"dataframe\">\n",
       "  <thead>\n",
       "    <tr style=\"text-align: right;\">\n",
       "      <th></th>\n",
       "      <th>id</th>\n",
       "      <th>gameid</th>\n",
       "      <th>platformid</th>\n",
       "      <th>queueid</th>\n",
       "      <th>seasonid</th>\n",
       "      <th>duration</th>\n",
       "      <th>creation</th>\n",
       "      <th>version</th>\n",
       "    </tr>\n",
       "  </thead>\n",
       "  <tbody>\n",
       "    <tr>\n",
       "      <th>0</th>\n",
       "      <td>10</td>\n",
       "      <td>3187427022</td>\n",
       "      <td>EUW1</td>\n",
       "      <td>420</td>\n",
       "      <td>8</td>\n",
       "      <td>1909</td>\n",
       "      <td>1495068946860</td>\n",
       "      <td>7.10.187.9675</td>\n",
       "    </tr>\n",
       "    <tr>\n",
       "      <th>1</th>\n",
       "      <td>11</td>\n",
       "      <td>3187425281</td>\n",
       "      <td>EUW1</td>\n",
       "      <td>420</td>\n",
       "      <td>8</td>\n",
       "      <td>1693</td>\n",
       "      <td>1495066760778</td>\n",
       "      <td>7.10.187.9675</td>\n",
       "    </tr>\n",
       "  </tbody>\n",
       "</table>\n",
       "</div>"
      ],
      "text/plain": [
       "   id      gameid platformid  queueid  seasonid  duration       creation  \\\n",
       "0  10  3187427022       EUW1      420         8      1909  1495068946860   \n",
       "1  11  3187425281       EUW1      420         8      1693  1495066760778   \n",
       "\n",
       "         version  \n",
       "0  7.10.187.9675  \n",
       "1  7.10.187.9675  "
      ]
     },
     "execution_count": 4,
     "metadata": {},
     "output_type": "execute_result"
    }
   ],
   "source": [
    "matches_df.head(2)"
   ]
  },
  {
   "cell_type": "code",
   "execution_count": 5,
   "metadata": {},
   "outputs": [],
   "source": [
    "matches_df.duration = matches_df.duration * .01  # Convert duration to minutes"
   ]
  },
  {
   "cell_type": "code",
   "execution_count": 6,
   "metadata": {},
   "outputs": [],
   "source": [
    "conditions = [ # Create list of current values\n",
    "        matches_df.platformid == 'EUN1',\n",
    "        matches_df.platformid == 'EUW1',\n",
    "        matches_df.platformid == 'NA1',\n",
    "        matches_df.platformid == 'TR1']\n",
    "choices = ['Europe North', 'Europe West', 'North America', 'Turkey'] # Create list of new values\n",
    "\n",
    "matches = matches_df[['platformid', 'seasonid', 'duration']].copy()"
   ]
  },
  {
   "cell_type": "code",
   "execution_count": 7,
   "metadata": {},
   "outputs": [],
   "source": [
    "matches.platformid = np.select(conditions, choices) # Map conditions with choices\n",
    "matches = matches.rename(index = str, columns = {\"platformid\": \"Region\",\"duration\":\"Duration\",\"seasonid\":'Season'}) #Rename columns"
   ]
  },
  {
   "cell_type": "code",
   "execution_count": 8,
   "metadata": {
    "scrolled": true
   },
   "outputs": [
    {
     "data": {
      "text/html": [
       "<div>\n",
       "<style scoped>\n",
       "    .dataframe tbody tr th:only-of-type {\n",
       "        vertical-align: middle;\n",
       "    }\n",
       "\n",
       "    .dataframe tbody tr th {\n",
       "        vertical-align: top;\n",
       "    }\n",
       "\n",
       "    .dataframe thead th {\n",
       "        text-align: right;\n",
       "    }\n",
       "</style>\n",
       "<table border=\"1\" class=\"dataframe\">\n",
       "  <thead>\n",
       "    <tr style=\"text-align: right;\">\n",
       "      <th></th>\n",
       "      <th>Region</th>\n",
       "      <th>Season</th>\n",
       "      <th>Duration</th>\n",
       "    </tr>\n",
       "  </thead>\n",
       "  <tbody>\n",
       "    <tr>\n",
       "      <th>0</th>\n",
       "      <td>Europe West</td>\n",
       "      <td>8</td>\n",
       "      <td>19.09</td>\n",
       "    </tr>\n",
       "    <tr>\n",
       "      <th>1</th>\n",
       "      <td>Europe West</td>\n",
       "      <td>8</td>\n",
       "      <td>16.93</td>\n",
       "    </tr>\n",
       "  </tbody>\n",
       "</table>\n",
       "</div>"
      ],
      "text/plain": [
       "        Region  Season  Duration\n",
       "0  Europe West       8     19.09\n",
       "1  Europe West       8     16.93"
      ]
     },
     "execution_count": 8,
     "metadata": {},
     "output_type": "execute_result"
    }
   ],
   "source": [
    "matches.head(2) # Confirm changes made"
   ]
  },
  {
   "cell_type": "code",
   "execution_count": 27,
   "metadata": {},
   "outputs": [],
   "source": [
    "path=r'/Users/Henry/Desktop/Springboard/Capstone Project/EDA' \n",
    "matches.to_csv(os.path.join(path,r'matches.csv')) # Export file to EDA folder"
   ]
  },
  {
   "cell_type": "markdown",
   "metadata": {},
   "source": [
    "### Preparing Participants Dataframe"
   ]
  },
  {
   "cell_type": "code",
   "execution_count": 10,
   "metadata": {},
   "outputs": [
    {
     "data": {
      "text/html": [
       "<div>\n",
       "<style scoped>\n",
       "    .dataframe tbody tr th:only-of-type {\n",
       "        vertical-align: middle;\n",
       "    }\n",
       "\n",
       "    .dataframe tbody tr th {\n",
       "        vertical-align: top;\n",
       "    }\n",
       "\n",
       "    .dataframe thead th {\n",
       "        text-align: right;\n",
       "    }\n",
       "</style>\n",
       "<table border=\"1\" class=\"dataframe\">\n",
       "  <thead>\n",
       "    <tr style=\"text-align: right;\">\n",
       "      <th></th>\n",
       "      <th>id</th>\n",
       "      <th>matchid</th>\n",
       "      <th>player</th>\n",
       "      <th>championid</th>\n",
       "      <th>ss1</th>\n",
       "      <th>ss2</th>\n",
       "      <th>role</th>\n",
       "      <th>position</th>\n",
       "    </tr>\n",
       "  </thead>\n",
       "  <tbody>\n",
       "    <tr>\n",
       "      <th>0</th>\n",
       "      <td>9</td>\n",
       "      <td>10</td>\n",
       "      <td>1</td>\n",
       "      <td>19</td>\n",
       "      <td>4</td>\n",
       "      <td>11</td>\n",
       "      <td>NONE</td>\n",
       "      <td>JUNGLE</td>\n",
       "    </tr>\n",
       "    <tr>\n",
       "      <th>1</th>\n",
       "      <td>10</td>\n",
       "      <td>10</td>\n",
       "      <td>2</td>\n",
       "      <td>267</td>\n",
       "      <td>3</td>\n",
       "      <td>4</td>\n",
       "      <td>DUO_SUPPORT</td>\n",
       "      <td>BOT</td>\n",
       "    </tr>\n",
       "  </tbody>\n",
       "</table>\n",
       "</div>"
      ],
      "text/plain": [
       "   id  matchid  player  championid  ss1  ss2         role position\n",
       "0   9       10       1          19    4   11         NONE   JUNGLE\n",
       "1  10       10       2         267    3    4  DUO_SUPPORT      BOT"
      ]
     },
     "execution_count": 10,
     "metadata": {},
     "output_type": "execute_result"
    }
   ],
   "source": [
    "participants_df.head(2) # Explore dataframe"
   ]
  },
  {
   "cell_type": "code",
   "execution_count": 11,
   "metadata": {},
   "outputs": [],
   "source": [
    "participants_merged = pd.merge(participants_df, # Merge champions dataframe with participants dataframe\n",
    "                               champs_df,how='inner', left_on='championid'\n",
    "                               , right_on='id').sort_values(by =['matchid'])\n",
    "\n",
    "participants_columns = participants_merged[['matchid', # Select columns\n",
    "                                            'player',\n",
    "                                            'position',\n",
    "                                            'name']] \n",
    "\n",
    "participants = participants_columns.rename(index = str, #Rename columns\n",
    "                                           columns = {\"matchid\": \"Match ID\",\n",
    "                                                      \"player\":\"Player\",\n",
    "                                                      \"position\":'Position',\n",
    "                                                      \"name\": 'Champion'}) \n",
    "\n",
    "participants = participants.reset_index() # Reset index\n",
    "\n",
    "participants = participants[['Match ID', 'Player', 'Position', 'Champion']] # Reselect columns\n"
   ]
  },
  {
   "cell_type": "code",
   "execution_count": 12,
   "metadata": {
    "scrolled": true
   },
   "outputs": [
    {
     "data": {
      "text/html": [
       "<div>\n",
       "<style scoped>\n",
       "    .dataframe tbody tr th:only-of-type {\n",
       "        vertical-align: middle;\n",
       "    }\n",
       "\n",
       "    .dataframe tbody tr th {\n",
       "        vertical-align: top;\n",
       "    }\n",
       "\n",
       "    .dataframe thead th {\n",
       "        text-align: right;\n",
       "    }\n",
       "</style>\n",
       "<table border=\"1\" class=\"dataframe\">\n",
       "  <thead>\n",
       "    <tr style=\"text-align: right;\">\n",
       "      <th></th>\n",
       "      <th>Match ID</th>\n",
       "      <th>Player</th>\n",
       "      <th>Position</th>\n",
       "      <th>Champion</th>\n",
       "    </tr>\n",
       "  </thead>\n",
       "  <tbody>\n",
       "    <tr>\n",
       "      <th>0</th>\n",
       "      <td>10</td>\n",
       "      <td>1</td>\n",
       "      <td>JUNGLE</td>\n",
       "      <td>Warwick</td>\n",
       "    </tr>\n",
       "    <tr>\n",
       "      <th>1</th>\n",
       "      <td>10</td>\n",
       "      <td>3</td>\n",
       "      <td>BOT</td>\n",
       "      <td>Draven</td>\n",
       "    </tr>\n",
       "  </tbody>\n",
       "</table>\n",
       "</div>"
      ],
      "text/plain": [
       "   Match ID  Player Position Champion\n",
       "0        10       1   JUNGLE  Warwick\n",
       "1        10       3      BOT   Draven"
      ]
     },
     "execution_count": 12,
     "metadata": {},
     "output_type": "execute_result"
    }
   ],
   "source": [
    "participants.head(2) # Confirm preparation"
   ]
  },
  {
   "cell_type": "code",
   "execution_count": 28,
   "metadata": {},
   "outputs": [],
   "source": [
    "path=r'/Users/Henry/Desktop/Springboard/Capstone Project/EDA' \n",
    "participants.to_csv(os.path.join(path,r'participants.csv')) # Export file to EDA folder"
   ]
  },
  {
   "cell_type": "markdown",
   "metadata": {},
   "source": [
    "### Preparing Team Bans"
   ]
  },
  {
   "cell_type": "code",
   "execution_count": 13,
   "metadata": {
    "scrolled": false
   },
   "outputs": [
    {
     "data": {
      "text/html": [
       "<div>\n",
       "<style scoped>\n",
       "    .dataframe tbody tr th:only-of-type {\n",
       "        vertical-align: middle;\n",
       "    }\n",
       "\n",
       "    .dataframe tbody tr th {\n",
       "        vertical-align: top;\n",
       "    }\n",
       "\n",
       "    .dataframe thead th {\n",
       "        text-align: right;\n",
       "    }\n",
       "</style>\n",
       "<table border=\"1\" class=\"dataframe\">\n",
       "  <thead>\n",
       "    <tr style=\"text-align: right;\">\n",
       "      <th></th>\n",
       "      <th>matchid</th>\n",
       "      <th>teamid</th>\n",
       "      <th>championid</th>\n",
       "      <th>banturn</th>\n",
       "    </tr>\n",
       "  </thead>\n",
       "  <tbody>\n",
       "    <tr>\n",
       "      <th>0</th>\n",
       "      <td>10</td>\n",
       "      <td>100</td>\n",
       "      <td>11</td>\n",
       "      <td>1</td>\n",
       "    </tr>\n",
       "    <tr>\n",
       "      <th>1</th>\n",
       "      <td>10</td>\n",
       "      <td>100</td>\n",
       "      <td>117</td>\n",
       "      <td>3</td>\n",
       "    </tr>\n",
       "  </tbody>\n",
       "</table>\n",
       "</div>"
      ],
      "text/plain": [
       "   matchid  teamid  championid  banturn\n",
       "0       10     100          11        1\n",
       "1       10     100         117        3"
      ]
     },
     "execution_count": 13,
     "metadata": {},
     "output_type": "execute_result"
    }
   ],
   "source": [
    "bans_df.head(2)"
   ]
  },
  {
   "cell_type": "code",
   "execution_count": 14,
   "metadata": {},
   "outputs": [],
   "source": [
    "bans_merged = pd.merge(bans_df, # Merge champions dataframe with bans dataframe\n",
    "                               champs_df,how='inner', left_on='championid'\n",
    "                               , right_on='id').sort_values(by =['matchid'])\n",
    "bans_columns = bans_merged[['matchid', # Select columns\n",
    "                                            'banturn',\n",
    "                                            'name']] \n",
    "bans = bans_columns.rename(index = str, #Rename columns\n",
    "                                           columns = {\"matchid\": \"Match ID\",\n",
    "                                                      \"banturn\":\"Ban Turn\",\n",
    "                                                      \"name\": 'Champion'})"
   ]
  },
  {
   "cell_type": "code",
   "execution_count": 15,
   "metadata": {},
   "outputs": [],
   "source": [
    "bans = bans.reset_index() # Reset index\n",
    "bans = bans[['Match ID', 'Ban Turn', 'Champion']] # Reselect columns after resetting index"
   ]
  },
  {
   "cell_type": "code",
   "execution_count": 16,
   "metadata": {},
   "outputs": [
    {
     "data": {
      "text/html": [
       "<div>\n",
       "<style scoped>\n",
       "    .dataframe tbody tr th:only-of-type {\n",
       "        vertical-align: middle;\n",
       "    }\n",
       "\n",
       "    .dataframe tbody tr th {\n",
       "        vertical-align: top;\n",
       "    }\n",
       "\n",
       "    .dataframe thead th {\n",
       "        text-align: right;\n",
       "    }\n",
       "</style>\n",
       "<table border=\"1\" class=\"dataframe\">\n",
       "  <thead>\n",
       "    <tr style=\"text-align: right;\">\n",
       "      <th></th>\n",
       "      <th>Match ID</th>\n",
       "      <th>Ban Turn</th>\n",
       "      <th>Champion</th>\n",
       "    </tr>\n",
       "  </thead>\n",
       "  <tbody>\n",
       "    <tr>\n",
       "      <th>0</th>\n",
       "      <td>10</td>\n",
       "      <td>1</td>\n",
       "      <td>Master Yi</td>\n",
       "    </tr>\n",
       "    <tr>\n",
       "      <th>1</th>\n",
       "      <td>10</td>\n",
       "      <td>6</td>\n",
       "      <td>Fizz</td>\n",
       "    </tr>\n",
       "  </tbody>\n",
       "</table>\n",
       "</div>"
      ],
      "text/plain": [
       "   Match ID  Ban Turn   Champion\n",
       "0        10         1  Master Yi\n",
       "1        10         6       Fizz"
      ]
     },
     "execution_count": 16,
     "metadata": {},
     "output_type": "execute_result"
    }
   ],
   "source": [
    "bans.head(2)"
   ]
  },
  {
   "cell_type": "code",
   "execution_count": 29,
   "metadata": {},
   "outputs": [],
   "source": [
    "path=r'/Users/Henry/Desktop/Springboard/Capstone Project/EDA' \n",
    "bans.to_csv(os.path.join(path,r'bans.csv')) # Export file to EDA folder"
   ]
  },
  {
   "cell_type": "markdown",
   "metadata": {},
   "source": [
    "### Preparing Individual Stats"
   ]
  },
  {
   "cell_type": "code",
   "execution_count": 17,
   "metadata": {},
   "outputs": [
    {
     "data": {
      "text/html": [
       "<div>\n",
       "<style scoped>\n",
       "    .dataframe tbody tr th:only-of-type {\n",
       "        vertical-align: middle;\n",
       "    }\n",
       "\n",
       "    .dataframe tbody tr th {\n",
       "        vertical-align: top;\n",
       "    }\n",
       "\n",
       "    .dataframe thead th {\n",
       "        text-align: right;\n",
       "    }\n",
       "</style>\n",
       "<table border=\"1\" class=\"dataframe\">\n",
       "  <thead>\n",
       "    <tr style=\"text-align: right;\">\n",
       "      <th></th>\n",
       "      <th>id</th>\n",
       "      <th>win</th>\n",
       "      <th>item1</th>\n",
       "      <th>item2</th>\n",
       "      <th>item3</th>\n",
       "      <th>item4</th>\n",
       "      <th>item5</th>\n",
       "      <th>item6</th>\n",
       "      <th>trinket</th>\n",
       "      <th>kills</th>\n",
       "      <th>...</th>\n",
       "      <th>neutralminionskilled</th>\n",
       "      <th>ownjunglekills</th>\n",
       "      <th>enemyjunglekills</th>\n",
       "      <th>totcctimedealt</th>\n",
       "      <th>champlvl</th>\n",
       "      <th>pinksbought</th>\n",
       "      <th>wardsbought</th>\n",
       "      <th>wardsplaced</th>\n",
       "      <th>wardskilled</th>\n",
       "      <th>firstblood</th>\n",
       "    </tr>\n",
       "  </thead>\n",
       "  <tbody>\n",
       "    <tr>\n",
       "      <th>0</th>\n",
       "      <td>9</td>\n",
       "      <td>0</td>\n",
       "      <td>3748</td>\n",
       "      <td>2003</td>\n",
       "      <td>3111</td>\n",
       "      <td>3053</td>\n",
       "      <td>1419</td>\n",
       "      <td>1042</td>\n",
       "      <td>3340</td>\n",
       "      <td>6</td>\n",
       "      <td>...</td>\n",
       "      <td>69</td>\n",
       "      <td>42</td>\n",
       "      <td>27</td>\n",
       "      <td>610</td>\n",
       "      <td>13</td>\n",
       "      <td>0</td>\n",
       "      <td>0</td>\n",
       "      <td>10</td>\n",
       "      <td>0</td>\n",
       "      <td>0</td>\n",
       "    </tr>\n",
       "    <tr>\n",
       "      <th>1</th>\n",
       "      <td>10</td>\n",
       "      <td>0</td>\n",
       "      <td>2301</td>\n",
       "      <td>3111</td>\n",
       "      <td>3190</td>\n",
       "      <td>3107</td>\n",
       "      <td>0</td>\n",
       "      <td>0</td>\n",
       "      <td>3364</td>\n",
       "      <td>0</td>\n",
       "      <td>...</td>\n",
       "      <td>1</td>\n",
       "      <td>1</td>\n",
       "      <td>0</td>\n",
       "      <td>211</td>\n",
       "      <td>14</td>\n",
       "      <td>1</td>\n",
       "      <td>0</td>\n",
       "      <td>17</td>\n",
       "      <td>3</td>\n",
       "      <td>0</td>\n",
       "    </tr>\n",
       "  </tbody>\n",
       "</table>\n",
       "<p>2 rows × 56 columns</p>\n",
       "</div>"
      ],
      "text/plain": [
       "   id  win  item1  item2  item3  item4  item5  item6  trinket  kills  \\\n",
       "0   9    0   3748   2003   3111   3053   1419   1042     3340      6   \n",
       "1  10    0   2301   3111   3190   3107      0      0     3364      0   \n",
       "\n",
       "      ...      neutralminionskilled  ownjunglekills  enemyjunglekills  \\\n",
       "0     ...                        69              42                27   \n",
       "1     ...                         1               1                 0   \n",
       "\n",
       "   totcctimedealt  champlvl  pinksbought  wardsbought  wardsplaced  \\\n",
       "0             610        13            0            0           10   \n",
       "1             211        14            1            0           17   \n",
       "\n",
       "   wardskilled  firstblood  \n",
       "0            0           0  \n",
       "1            3           0  \n",
       "\n",
       "[2 rows x 56 columns]"
      ]
     },
     "execution_count": 17,
     "metadata": {},
     "output_type": "execute_result"
    }
   ],
   "source": [
    "stats1_df.head(2) # Explore stats1 dataframe"
   ]
  },
  {
   "cell_type": "code",
   "execution_count": 18,
   "metadata": {},
   "outputs": [
    {
     "data": {
      "text/html": [
       "<div>\n",
       "<style scoped>\n",
       "    .dataframe tbody tr th:only-of-type {\n",
       "        vertical-align: middle;\n",
       "    }\n",
       "\n",
       "    .dataframe tbody tr th {\n",
       "        vertical-align: top;\n",
       "    }\n",
       "\n",
       "    .dataframe thead th {\n",
       "        text-align: right;\n",
       "    }\n",
       "</style>\n",
       "<table border=\"1\" class=\"dataframe\">\n",
       "  <thead>\n",
       "    <tr style=\"text-align: right;\">\n",
       "      <th></th>\n",
       "      <th>id</th>\n",
       "      <th>win</th>\n",
       "      <th>item1</th>\n",
       "      <th>item2</th>\n",
       "      <th>item3</th>\n",
       "      <th>item4</th>\n",
       "      <th>item5</th>\n",
       "      <th>item6</th>\n",
       "      <th>trinket</th>\n",
       "      <th>kills</th>\n",
       "      <th>...</th>\n",
       "      <th>neutralminionskilled</th>\n",
       "      <th>ownjunglekills</th>\n",
       "      <th>enemyjunglekills</th>\n",
       "      <th>totcctimedealt</th>\n",
       "      <th>champlvl</th>\n",
       "      <th>pinksbought</th>\n",
       "      <th>wardsbought</th>\n",
       "      <th>wardsplaced</th>\n",
       "      <th>wardskilled</th>\n",
       "      <th>firstblood</th>\n",
       "    </tr>\n",
       "  </thead>\n",
       "  <tbody>\n",
       "    <tr>\n",
       "      <th>0</th>\n",
       "      <td>1028382</td>\n",
       "      <td>0</td>\n",
       "      <td>1056</td>\n",
       "      <td>3001</td>\n",
       "      <td>1052</td>\n",
       "      <td>3020</td>\n",
       "      <td>1058</td>\n",
       "      <td>1026</td>\n",
       "      <td>3340</td>\n",
       "      <td>7</td>\n",
       "      <td>...</td>\n",
       "      <td>0</td>\n",
       "      <td>0</td>\n",
       "      <td>0</td>\n",
       "      <td>50</td>\n",
       "      <td>12</td>\n",
       "      <td>0</td>\n",
       "      <td>0</td>\n",
       "      <td>6</td>\n",
       "      <td>0</td>\n",
       "      <td>0</td>\n",
       "    </tr>\n",
       "    <tr>\n",
       "      <th>1</th>\n",
       "      <td>1028383</td>\n",
       "      <td>0</td>\n",
       "      <td>1041</td>\n",
       "      <td>2003</td>\n",
       "      <td>0</td>\n",
       "      <td>0</td>\n",
       "      <td>0</td>\n",
       "      <td>0</td>\n",
       "      <td>3340</td>\n",
       "      <td>0</td>\n",
       "      <td>...</td>\n",
       "      <td>11</td>\n",
       "      <td>11</td>\n",
       "      <td>0</td>\n",
       "      <td>114</td>\n",
       "      <td>3</td>\n",
       "      <td>0</td>\n",
       "      <td>0</td>\n",
       "      <td>0</td>\n",
       "      <td>0</td>\n",
       "      <td>0</td>\n",
       "    </tr>\n",
       "  </tbody>\n",
       "</table>\n",
       "<p>2 rows × 56 columns</p>\n",
       "</div>"
      ],
      "text/plain": [
       "        id  win  item1  item2  item3  item4  item5  item6  trinket  kills  \\\n",
       "0  1028382    0   1056   3001   1052   3020   1058   1026     3340      7   \n",
       "1  1028383    0   1041   2003      0      0      0      0     3340      0   \n",
       "\n",
       "      ...      neutralminionskilled  ownjunglekills  enemyjunglekills  \\\n",
       "0     ...                         0               0                 0   \n",
       "1     ...                        11              11                 0   \n",
       "\n",
       "   totcctimedealt  champlvl  pinksbought  wardsbought  wardsplaced  \\\n",
       "0              50        12            0            0            6   \n",
       "1             114         3            0            0            0   \n",
       "\n",
       "   wardskilled  firstblood  \n",
       "0            0           0  \n",
       "1            0           0  \n",
       "\n",
       "[2 rows x 56 columns]"
      ]
     },
     "execution_count": 18,
     "metadata": {},
     "output_type": "execute_result"
    }
   ],
   "source": [
    "stats2_df.head(2) # Explore stats2 dataframe"
   ]
  },
  {
   "cell_type": "code",
   "execution_count": 19,
   "metadata": {},
   "outputs": [
    {
     "data": {
      "text/plain": [
       "(1834517, 56)"
      ]
     },
     "execution_count": 19,
     "metadata": {},
     "output_type": "execute_result"
    }
   ],
   "source": [
    "stats = stats1_df.append([stats2_df]) # Union stats dataframes\n",
    "stats.shape # Confirm union"
   ]
  },
  {
   "cell_type": "code",
   "execution_count": 20,
   "metadata": {},
   "outputs": [],
   "source": [
    "stats = stats[['id', 'win', 'kills', # Select Columns\n",
    "               'neutralminionskilled','ownjunglekills','enemyjunglekills',\n",
    "               'totcctimedealt', 'champlvl', 'pinksbought','wardsbought','wardsplaced','wardskilled','firstblood']]"
   ]
  },
  {
   "cell_type": "code",
   "execution_count": 30,
   "metadata": {
    "scrolled": true
   },
   "outputs": [
    {
     "data": {
      "text/html": [
       "<div>\n",
       "<style scoped>\n",
       "    .dataframe tbody tr th:only-of-type {\n",
       "        vertical-align: middle;\n",
       "    }\n",
       "\n",
       "    .dataframe tbody tr th {\n",
       "        vertical-align: top;\n",
       "    }\n",
       "\n",
       "    .dataframe thead th {\n",
       "        text-align: right;\n",
       "    }\n",
       "</style>\n",
       "<table border=\"1\" class=\"dataframe\">\n",
       "  <thead>\n",
       "    <tr style=\"text-align: right;\">\n",
       "      <th></th>\n",
       "      <th>id</th>\n",
       "      <th>win</th>\n",
       "      <th>kills</th>\n",
       "      <th>neutralminionskilled</th>\n",
       "      <th>ownjunglekills</th>\n",
       "      <th>enemyjunglekills</th>\n",
       "      <th>totcctimedealt</th>\n",
       "      <th>champlvl</th>\n",
       "      <th>pinksbought</th>\n",
       "      <th>wardsbought</th>\n",
       "      <th>wardsplaced</th>\n",
       "      <th>wardskilled</th>\n",
       "      <th>firstblood</th>\n",
       "    </tr>\n",
       "  </thead>\n",
       "  <tbody>\n",
       "    <tr>\n",
       "      <th>0</th>\n",
       "      <td>9</td>\n",
       "      <td>0</td>\n",
       "      <td>6</td>\n",
       "      <td>69</td>\n",
       "      <td>42</td>\n",
       "      <td>27</td>\n",
       "      <td>610</td>\n",
       "      <td>13</td>\n",
       "      <td>0</td>\n",
       "      <td>0</td>\n",
       "      <td>10</td>\n",
       "      <td>0</td>\n",
       "      <td>0</td>\n",
       "    </tr>\n",
       "    <tr>\n",
       "      <th>1</th>\n",
       "      <td>10</td>\n",
       "      <td>0</td>\n",
       "      <td>0</td>\n",
       "      <td>1</td>\n",
       "      <td>1</td>\n",
       "      <td>0</td>\n",
       "      <td>211</td>\n",
       "      <td>14</td>\n",
       "      <td>1</td>\n",
       "      <td>0</td>\n",
       "      <td>17</td>\n",
       "      <td>3</td>\n",
       "      <td>0</td>\n",
       "    </tr>\n",
       "  </tbody>\n",
       "</table>\n",
       "</div>"
      ],
      "text/plain": [
       "   id  win  kills  neutralminionskilled  ownjunglekills  enemyjunglekills  \\\n",
       "0   9    0      6                    69              42                27   \n",
       "1  10    0      0                     1               1                 0   \n",
       "\n",
       "   totcctimedealt  champlvl  pinksbought wardsbought  wardsplaced  \\\n",
       "0             610        13            0           0           10   \n",
       "1             211        14            1           0           17   \n",
       "\n",
       "   wardskilled  firstblood  \n",
       "0            0           0  \n",
       "1            3           0  "
      ]
     },
     "execution_count": 30,
     "metadata": {},
     "output_type": "execute_result"
    }
   ],
   "source": [
    "stats.head(2)"
   ]
  },
  {
   "cell_type": "code",
   "execution_count": 31,
   "metadata": {},
   "outputs": [],
   "source": [
    "path=r'/Users/Henry/Desktop/Springboard/Capstone Project/EDA' \n",
    "stats.to_csv(os.path.join(path,r'stats.csv')) # Export file to EDA folder"
   ]
  },
  {
   "cell_type": "markdown",
   "metadata": {},
   "source": [
    "### Preparing Team Stats"
   ]
  },
  {
   "cell_type": "code",
   "execution_count": 22,
   "metadata": {
    "scrolled": true
   },
   "outputs": [
    {
     "data": {
      "text/html": [
       "<div>\n",
       "<style scoped>\n",
       "    .dataframe tbody tr th:only-of-type {\n",
       "        vertical-align: middle;\n",
       "    }\n",
       "\n",
       "    .dataframe tbody tr th {\n",
       "        vertical-align: top;\n",
       "    }\n",
       "\n",
       "    .dataframe thead th {\n",
       "        text-align: right;\n",
       "    }\n",
       "</style>\n",
       "<table border=\"1\" class=\"dataframe\">\n",
       "  <thead>\n",
       "    <tr style=\"text-align: right;\">\n",
       "      <th></th>\n",
       "      <th>matchid</th>\n",
       "      <th>teamid</th>\n",
       "      <th>firstblood</th>\n",
       "      <th>firsttower</th>\n",
       "      <th>firstinhib</th>\n",
       "      <th>firstbaron</th>\n",
       "      <th>firstdragon</th>\n",
       "      <th>firstharry</th>\n",
       "      <th>towerkills</th>\n",
       "      <th>inhibkills</th>\n",
       "      <th>baronkills</th>\n",
       "      <th>dragonkills</th>\n",
       "      <th>harrykills</th>\n",
       "    </tr>\n",
       "  </thead>\n",
       "  <tbody>\n",
       "    <tr>\n",
       "      <th>0</th>\n",
       "      <td>10</td>\n",
       "      <td>100</td>\n",
       "      <td>0</td>\n",
       "      <td>1</td>\n",
       "      <td>0</td>\n",
       "      <td>0</td>\n",
       "      <td>0</td>\n",
       "      <td>0</td>\n",
       "      <td>5</td>\n",
       "      <td>0</td>\n",
       "      <td>0</td>\n",
       "      <td>0</td>\n",
       "      <td>0</td>\n",
       "    </tr>\n",
       "    <tr>\n",
       "      <th>1</th>\n",
       "      <td>10</td>\n",
       "      <td>200</td>\n",
       "      <td>1</td>\n",
       "      <td>0</td>\n",
       "      <td>1</td>\n",
       "      <td>1</td>\n",
       "      <td>1</td>\n",
       "      <td>1</td>\n",
       "      <td>10</td>\n",
       "      <td>3</td>\n",
       "      <td>1</td>\n",
       "      <td>3</td>\n",
       "      <td>1</td>\n",
       "    </tr>\n",
       "  </tbody>\n",
       "</table>\n",
       "</div>"
      ],
      "text/plain": [
       "   matchid  teamid  firstblood  firsttower  firstinhib  firstbaron  \\\n",
       "0       10     100           0           1           0           0   \n",
       "1       10     200           1           0           1           1   \n",
       "\n",
       "   firstdragon  firstharry  towerkills  inhibkills  baronkills  dragonkills  \\\n",
       "0            0           0           5           0           0            0   \n",
       "1            1           1          10           3           1            3   \n",
       "\n",
       "   harrykills  \n",
       "0           0  \n",
       "1           1  "
      ]
     },
     "execution_count": 22,
     "metadata": {},
     "output_type": "execute_result"
    }
   ],
   "source": [
    "teamstats_df.head(2)"
   ]
  },
  {
   "cell_type": "code",
   "execution_count": 32,
   "metadata": {},
   "outputs": [],
   "source": [
    "path=r'/Users/Henry/Desktop/Springboard/Capstone Project/EDA' \n",
    "teamstats_df.to_csv(os.path.join(path,r'teamstats.csv')) # Export file to EDA folder"
   ]
  }
 ],
 "metadata": {
  "kernelspec": {
   "display_name": "Python 3",
   "language": "python",
   "name": "python3"
  },
  "language_info": {
   "codemirror_mode": {
    "name": "ipython",
    "version": 3
   },
   "file_extension": ".py",
   "mimetype": "text/x-python",
   "name": "python",
   "nbconvert_exporter": "python",
   "pygments_lexer": "ipython3",
   "version": "3.6.4"
  }
 },
 "nbformat": 4,
 "nbformat_minor": 2
}
