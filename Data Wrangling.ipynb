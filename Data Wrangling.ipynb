{
 "cells": [
  {
   "cell_type": "markdown",
   "metadata": {},
   "source": [
    "## Data Wrangling: League of Legends Ranked Games"
   ]
  },
  {
   "cell_type": "markdown",
   "metadata": {},
   "source": [
    "##### Import Module / Libraries"
   ]
  },
  {
   "cell_type": "code",
   "execution_count": 42,
   "metadata": {},
   "outputs": [],
   "source": [
    "import pandas as pd\n",
    "import numpy as np\n",
    "import matplotlib.pyplot as plt\n",
    "import seaborn as sns\n",
    "import sys\n",
    "import os\n",
    "from pandas.io.json import json_normalize"
   ]
  },
  {
   "cell_type": "markdown",
   "metadata": {},
   "source": [
    "##### Loading CSV files into dataframes"
   ]
  },
  {
   "cell_type": "code",
   "execution_count": 99,
   "metadata": {},
   "outputs": [],
   "source": [
    "champs = 'champs.csv'\n",
    "champs_df = pd.read_csv(champs)\n",
    "\n",
    "duration = 'matches.csv'\n",
    "duration_df = pd.read_csv(duration)\n",
    "\n",
    "summoner_spell = 'summoner_spell_info.json'\n",
    "summoner_spell_df = pd.read_json(summoner_spell)\n",
    "\n",
    "participants = 'participants.csv'\n",
    "participants_df = pd.read_csv(participants)\n",
    "\n",
    "stats1 = 'stats1.csv'\n",
    "stats1_df = pd.read_csv(stats1)\n",
    "\n",
    "stats2 = 'stats2.csv'\n",
    "stats2_df = pd.read_csv(stats2, low_memory=False)\n",
    "\n",
    "bans = 'teambans.csv'\n",
    "bans_df = pd.read_csv(bans)\n",
    "\n",
    "macro_stats = 'games.csv'\n",
    "macro_stats_df = pd.read_csv(macro_stats)"
   ]
  },
  {
   "cell_type": "markdown",
   "metadata": {},
   "source": [
    "### Prepare Summoner Spell Dataframe"
   ]
  },
  {
   "cell_type": "code",
   "execution_count": 84,
   "metadata": {},
   "outputs": [
    {
     "data": {
      "text/html": [
       "<div>\n",
       "<style scoped>\n",
       "    .dataframe tbody tr th:only-of-type {\n",
       "        vertical-align: middle;\n",
       "    }\n",
       "\n",
       "    .dataframe tbody tr th {\n",
       "        vertical-align: top;\n",
       "    }\n",
       "\n",
       "    .dataframe thead th {\n",
       "        text-align: right;\n",
       "    }\n",
       "</style>\n",
       "<table border=\"1\" class=\"dataframe\">\n",
       "  <thead>\n",
       "    <tr style=\"text-align: right;\">\n",
       "      <th></th>\n",
       "      <th>id</th>\n",
       "      <th>summoner_spell</th>\n",
       "    </tr>\n",
       "  </thead>\n",
       "  <tbody>\n",
       "    <tr>\n",
       "      <th>0</th>\n",
       "      <td>1</td>\n",
       "      <td>Cleanse</td>\n",
       "    </tr>\n",
       "    <tr>\n",
       "      <th>1</th>\n",
       "      <td>11</td>\n",
       "      <td>Smite</td>\n",
       "    </tr>\n",
       "    <tr>\n",
       "      <th>2</th>\n",
       "      <td>12</td>\n",
       "      <td>Teleport</td>\n",
       "    </tr>\n",
       "    <tr>\n",
       "      <th>3</th>\n",
       "      <td>13</td>\n",
       "      <td>Clarity</td>\n",
       "    </tr>\n",
       "    <tr>\n",
       "      <th>4</th>\n",
       "      <td>14</td>\n",
       "      <td>Ignite</td>\n",
       "    </tr>\n",
       "  </tbody>\n",
       "</table>\n",
       "</div>"
      ],
      "text/plain": [
       "   id summoner_spell\n",
       "0   1        Cleanse\n",
       "1  11          Smite\n",
       "2  12       Teleport\n",
       "3  13        Clarity\n",
       "4  14         Ignite"
      ]
     },
     "execution_count": 84,
     "metadata": {},
     "output_type": "execute_result"
    }
   ],
   "source": [
    "summoner_spell = pd.DataFrame(columns=['data']) # Prepare Dataframe from JSON\n",
    "for row in summoner_spell_df.data:\n",
    "    summoner_spell = summoner_spell.append(json_normalize(row))\n",
    "summoner_spell.reset_index(inplace = True, drop = True)\n",
    "\n",
    "summoner_spell = summoner_spell[['id','name']] # Select only neccessary columns\n",
    "\n",
    "summoner_spell.id = summoner_spell.id.astype(int) # Convert id to whole numbers\n",
    "\n",
    "summoner_spell = summoner_spell.rename(index = str, columns = {\"name\":'summoner_spell'}) # Rename column\n",
    "\n",
    "summoner_spell.head(5) # Confirm changes"
   ]
  },
  {
   "cell_type": "markdown",
   "metadata": {},
   "source": [
    "### Prepare Duration Dataframe"
   ]
  },
  {
   "cell_type": "code",
   "execution_count": 85,
   "metadata": {},
   "outputs": [
    {
     "data": {
      "text/html": [
       "<div>\n",
       "<style scoped>\n",
       "    .dataframe tbody tr th:only-of-type {\n",
       "        vertical-align: middle;\n",
       "    }\n",
       "\n",
       "    .dataframe tbody tr th {\n",
       "        vertical-align: top;\n",
       "    }\n",
       "\n",
       "    .dataframe thead th {\n",
       "        text-align: right;\n",
       "    }\n",
       "</style>\n",
       "<table border=\"1\" class=\"dataframe\">\n",
       "  <thead>\n",
       "    <tr style=\"text-align: right;\">\n",
       "      <th></th>\n",
       "      <th>id</th>\n",
       "      <th>gameid</th>\n",
       "      <th>platformid</th>\n",
       "      <th>queueid</th>\n",
       "      <th>seasonid</th>\n",
       "      <th>duration</th>\n",
       "      <th>creation</th>\n",
       "      <th>version</th>\n",
       "    </tr>\n",
       "  </thead>\n",
       "  <tbody>\n",
       "    <tr>\n",
       "      <th>0</th>\n",
       "      <td>10</td>\n",
       "      <td>3187427022</td>\n",
       "      <td>EUW1</td>\n",
       "      <td>420</td>\n",
       "      <td>8</td>\n",
       "      <td>1909</td>\n",
       "      <td>1495068946860</td>\n",
       "      <td>7.10.187.9675</td>\n",
       "    </tr>\n",
       "    <tr>\n",
       "      <th>1</th>\n",
       "      <td>11</td>\n",
       "      <td>3187425281</td>\n",
       "      <td>EUW1</td>\n",
       "      <td>420</td>\n",
       "      <td>8</td>\n",
       "      <td>1693</td>\n",
       "      <td>1495066760778</td>\n",
       "      <td>7.10.187.9675</td>\n",
       "    </tr>\n",
       "  </tbody>\n",
       "</table>\n",
       "</div>"
      ],
      "text/plain": [
       "   id      gameid platformid  queueid  seasonid  duration       creation  \\\n",
       "0  10  3187427022       EUW1      420         8      1909  1495068946860   \n",
       "1  11  3187425281       EUW1      420         8      1693  1495066760778   \n",
       "\n",
       "         version  \n",
       "0  7.10.187.9675  \n",
       "1  7.10.187.9675  "
      ]
     },
     "execution_count": 85,
     "metadata": {},
     "output_type": "execute_result"
    }
   ],
   "source": [
    "duration_df.head(2)"
   ]
  },
  {
   "cell_type": "code",
   "execution_count": 87,
   "metadata": {},
   "outputs": [],
   "source": [
    "duration_df.duration = duration_df.duration * .01  # Convert duration to minutes"
   ]
  },
  {
   "cell_type": "code",
   "execution_count": 88,
   "metadata": {},
   "outputs": [],
   "source": [
    "conditions = [ # Create list of current values\n",
    "        duration_df.platformid == 'EUN1',\n",
    "        duration_df.platformid == 'EUW1',\n",
    "        duration_df.platformid == 'NA1',\n",
    "        duration_df.platformid == 'TR1']\n",
    "choices = ['Europe North', 'Europe West', 'North America', 'Turkey'] # Create list of new values\n",
    "\n",
    "duration = duration_df[['platformid', 'seasonid', 'duration']].copy()"
   ]
  },
  {
   "cell_type": "code",
   "execution_count": 90,
   "metadata": {},
   "outputs": [],
   "source": [
    "duration.platformid = np.select(conditions, choices) # Map conditions with choices\n",
    "duration = duration.rename(index = str, columns = {\"platformid\": \"Region\",\"duration\":\"Duration\",\"seasonid\":'Season'}) #Rename columns"
   ]
  },
  {
   "cell_type": "code",
   "execution_count": 91,
   "metadata": {
    "scrolled": false
   },
   "outputs": [
    {
     "data": {
      "text/html": [
       "<div>\n",
       "<style scoped>\n",
       "    .dataframe tbody tr th:only-of-type {\n",
       "        vertical-align: middle;\n",
       "    }\n",
       "\n",
       "    .dataframe tbody tr th {\n",
       "        vertical-align: top;\n",
       "    }\n",
       "\n",
       "    .dataframe thead th {\n",
       "        text-align: right;\n",
       "    }\n",
       "</style>\n",
       "<table border=\"1\" class=\"dataframe\">\n",
       "  <thead>\n",
       "    <tr style=\"text-align: right;\">\n",
       "      <th></th>\n",
       "      <th>Region</th>\n",
       "      <th>Season</th>\n",
       "      <th>Duration</th>\n",
       "    </tr>\n",
       "  </thead>\n",
       "  <tbody>\n",
       "    <tr>\n",
       "      <th>0</th>\n",
       "      <td>Europe West</td>\n",
       "      <td>8</td>\n",
       "      <td>19.09</td>\n",
       "    </tr>\n",
       "    <tr>\n",
       "      <th>1</th>\n",
       "      <td>Europe West</td>\n",
       "      <td>8</td>\n",
       "      <td>16.93</td>\n",
       "    </tr>\n",
       "  </tbody>\n",
       "</table>\n",
       "</div>"
      ],
      "text/plain": [
       "        Region  Season  Duration\n",
       "0  Europe West       8     19.09\n",
       "1  Europe West       8     16.93"
      ]
     },
     "execution_count": 91,
     "metadata": {},
     "output_type": "execute_result"
    }
   ],
   "source": [
    "duration.head(2) # Confirm changes made"
   ]
  },
  {
   "cell_type": "code",
   "execution_count": 92,
   "metadata": {},
   "outputs": [],
   "source": [
    "path=r'/Users/Henry/Desktop/Springboard/Capstone Project/EDA' \n",
    "matches.to_csv(os.path.join(path,r'duration.csv')) # Export file to EDA folder"
   ]
  },
  {
   "cell_type": "markdown",
   "metadata": {},
   "source": [
    "### Preparing Participants Dataframe"
   ]
  },
  {
   "cell_type": "code",
   "execution_count": 10,
   "metadata": {
    "scrolled": true
   },
   "outputs": [
    {
     "data": {
      "text/html": [
       "<div>\n",
       "<style scoped>\n",
       "    .dataframe tbody tr th:only-of-type {\n",
       "        vertical-align: middle;\n",
       "    }\n",
       "\n",
       "    .dataframe tbody tr th {\n",
       "        vertical-align: top;\n",
       "    }\n",
       "\n",
       "    .dataframe thead th {\n",
       "        text-align: right;\n",
       "    }\n",
       "</style>\n",
       "<table border=\"1\" class=\"dataframe\">\n",
       "  <thead>\n",
       "    <tr style=\"text-align: right;\">\n",
       "      <th></th>\n",
       "      <th>id</th>\n",
       "      <th>matchid</th>\n",
       "      <th>player</th>\n",
       "      <th>championid</th>\n",
       "      <th>ss1</th>\n",
       "      <th>ss2</th>\n",
       "      <th>role</th>\n",
       "      <th>position</th>\n",
       "    </tr>\n",
       "  </thead>\n",
       "  <tbody>\n",
       "    <tr>\n",
       "      <th>0</th>\n",
       "      <td>9</td>\n",
       "      <td>10</td>\n",
       "      <td>1</td>\n",
       "      <td>19</td>\n",
       "      <td>4</td>\n",
       "      <td>11</td>\n",
       "      <td>NONE</td>\n",
       "      <td>JUNGLE</td>\n",
       "    </tr>\n",
       "    <tr>\n",
       "      <th>1</th>\n",
       "      <td>10</td>\n",
       "      <td>10</td>\n",
       "      <td>2</td>\n",
       "      <td>267</td>\n",
       "      <td>3</td>\n",
       "      <td>4</td>\n",
       "      <td>DUO_SUPPORT</td>\n",
       "      <td>BOT</td>\n",
       "    </tr>\n",
       "  </tbody>\n",
       "</table>\n",
       "</div>"
      ],
      "text/plain": [
       "   id  matchid  player  championid  ss1  ss2         role position\n",
       "0   9       10       1          19    4   11         NONE   JUNGLE\n",
       "1  10       10       2         267    3    4  DUO_SUPPORT      BOT"
      ]
     },
     "execution_count": 10,
     "metadata": {},
     "output_type": "execute_result"
    }
   ],
   "source": [
    "participants_df.head(2) # Explore dataframe"
   ]
  },
  {
   "cell_type": "code",
   "execution_count": 80,
   "metadata": {},
   "outputs": [],
   "source": [
    "participants_merged = pd.merge(participants_df, # Merge champions dataframe with participants dataframe\n",
    "                               champs_df,how='inner', left_on='championid'\n",
    "                               , right_on='id').sort_values(by =['matchid'])\n",
    "\n",
    "participants_columns = participants_merged[['matchid', # Select columns\n",
    "                                            'player',\n",
    "                                            'ss1',\n",
    "                                            'ss2',\n",
    "                                            'name']] \n",
    "\n",
    "participants = participants_columns.rename(index = str, #Rename columns\n",
    "                                           columns = {\"matchid\": \"Match ID\",\n",
    "                                                      \"player\":\"Player\",\n",
    "                                                      \"name\": 'Champion'}) \n",
    "\n",
    "participants_merged = pd.merge(participants, # Merge participants dataframe with summoner_spells dataframe\n",
    "                               summoner_spell,how='inner', left_on='ss1'\n",
    "                               , right_on='id').sort_values(by =['Match ID'])\n",
    "\n",
    "participants_merged2 = pd.merge(participants_merged, # Merge participants dataframe with summoner_spells dataframe\n",
    "                               summoner_spell,how='inner', left_on='ss2'\n",
    "                               , right_on='id').sort_values(by =['Match ID'])\n",
    "\n",
    "participants = participants.reset_index() # Reset index\n",
    "\n",
    "participants = participants_merged2[['Match ID', 'Champion', 'summoner_spell_x', 'summoner_spell_y']] # Select columns\n",
    "\n",
    "participants = participants.rename(index = str, #Rename columns\n",
    "                                           columns = {\"summoner_spell_x\": \"SS1\",\n",
    "                                                      \"summoner_spell_y\":\"SS2\"}) \n",
    "\n"
   ]
  },
  {
   "cell_type": "code",
   "execution_count": 82,
   "metadata": {
    "scrolled": true
   },
   "outputs": [
    {
     "data": {
      "text/html": [
       "<div>\n",
       "<style scoped>\n",
       "    .dataframe tbody tr th:only-of-type {\n",
       "        vertical-align: middle;\n",
       "    }\n",
       "\n",
       "    .dataframe tbody tr th {\n",
       "        vertical-align: top;\n",
       "    }\n",
       "\n",
       "    .dataframe thead th {\n",
       "        text-align: right;\n",
       "    }\n",
       "</style>\n",
       "<table border=\"1\" class=\"dataframe\">\n",
       "  <thead>\n",
       "    <tr style=\"text-align: right;\">\n",
       "      <th></th>\n",
       "      <th>Match ID</th>\n",
       "      <th>Champion</th>\n",
       "      <th>SS1</th>\n",
       "      <th>SS2</th>\n",
       "    </tr>\n",
       "  </thead>\n",
       "  <tbody>\n",
       "    <tr>\n",
       "      <th>0</th>\n",
       "      <td>10</td>\n",
       "      <td>Warwick</td>\n",
       "      <td>Flash</td>\n",
       "      <td>Smite</td>\n",
       "    </tr>\n",
       "    <tr>\n",
       "      <th>981535</th>\n",
       "      <td>10</td>\n",
       "      <td>Viktor</td>\n",
       "      <td>Flash</td>\n",
       "      <td>Exhaust</td>\n",
       "    </tr>\n",
       "    <tr>\n",
       "      <th>1155620</th>\n",
       "      <td>10</td>\n",
       "      <td>Galio</td>\n",
       "      <td>Flash</td>\n",
       "      <td>Teleport</td>\n",
       "    </tr>\n",
       "    <tr>\n",
       "      <th>199705</th>\n",
       "      <td>10</td>\n",
       "      <td>Draven</td>\n",
       "      <td>Heal</td>\n",
       "      <td>Flash</td>\n",
       "    </tr>\n",
       "    <tr>\n",
       "      <th>199706</th>\n",
       "      <td>10</td>\n",
       "      <td>Jinx</td>\n",
       "      <td>Heal</td>\n",
       "      <td>Flash</td>\n",
       "    </tr>\n",
       "    <tr>\n",
       "      <th>199707</th>\n",
       "      <td>10</td>\n",
       "      <td>Fiora</td>\n",
       "      <td>Teleport</td>\n",
       "      <td>Flash</td>\n",
       "    </tr>\n",
       "    <tr>\n",
       "      <th>199708</th>\n",
       "      <td>10</td>\n",
       "      <td>Nami</td>\n",
       "      <td>Exhaust</td>\n",
       "      <td>Flash</td>\n",
       "    </tr>\n",
       "    <tr>\n",
       "      <th>199709</th>\n",
       "      <td>10</td>\n",
       "      <td>Ahri</td>\n",
       "      <td>Ignite</td>\n",
       "      <td>Flash</td>\n",
       "    </tr>\n",
       "    <tr>\n",
       "      <th>199710</th>\n",
       "      <td>10</td>\n",
       "      <td>VelKoz</td>\n",
       "      <td>Ignite</td>\n",
       "      <td>Flash</td>\n",
       "    </tr>\n",
       "    <tr>\n",
       "      <th>199704</th>\n",
       "      <td>10</td>\n",
       "      <td>Skarner</td>\n",
       "      <td>Smite</td>\n",
       "      <td>Flash</td>\n",
       "    </tr>\n",
       "  </tbody>\n",
       "</table>\n",
       "</div>"
      ],
      "text/plain": [
       "         Match ID Champion       SS1       SS2\n",
       "0              10  Warwick     Flash     Smite\n",
       "981535         10   Viktor     Flash   Exhaust\n",
       "1155620        10    Galio     Flash  Teleport\n",
       "199705         10   Draven      Heal     Flash\n",
       "199706         10     Jinx      Heal     Flash\n",
       "199707         10    Fiora  Teleport     Flash\n",
       "199708         10     Nami   Exhaust     Flash\n",
       "199709         10     Ahri    Ignite     Flash\n",
       "199710         10   VelKoz    Ignite     Flash\n",
       "199704         10  Skarner     Smite     Flash"
      ]
     },
     "execution_count": 82,
     "metadata": {},
     "output_type": "execute_result"
    }
   ],
   "source": [
    "participants.head(10) # Confirm preparation"
   ]
  },
  {
   "cell_type": "code",
   "execution_count": 93,
   "metadata": {},
   "outputs": [],
   "source": [
    "path=r'/Users/Henry/Desktop/Springboard/Capstone Project/EDA' \n",
    "participants.to_csv(os.path.join(path,r'participants_SS.csv')) # Export file to EDA folder"
   ]
  },
  {
   "cell_type": "markdown",
   "metadata": {},
   "source": [
    "### Preparing Team Bans"
   ]
  },
  {
   "cell_type": "code",
   "execution_count": 13,
   "metadata": {
    "scrolled": false
   },
   "outputs": [
    {
     "data": {
      "text/html": [
       "<div>\n",
       "<style scoped>\n",
       "    .dataframe tbody tr th:only-of-type {\n",
       "        vertical-align: middle;\n",
       "    }\n",
       "\n",
       "    .dataframe tbody tr th {\n",
       "        vertical-align: top;\n",
       "    }\n",
       "\n",
       "    .dataframe thead th {\n",
       "        text-align: right;\n",
       "    }\n",
       "</style>\n",
       "<table border=\"1\" class=\"dataframe\">\n",
       "  <thead>\n",
       "    <tr style=\"text-align: right;\">\n",
       "      <th></th>\n",
       "      <th>matchid</th>\n",
       "      <th>teamid</th>\n",
       "      <th>championid</th>\n",
       "      <th>banturn</th>\n",
       "    </tr>\n",
       "  </thead>\n",
       "  <tbody>\n",
       "    <tr>\n",
       "      <th>0</th>\n",
       "      <td>10</td>\n",
       "      <td>100</td>\n",
       "      <td>11</td>\n",
       "      <td>1</td>\n",
       "    </tr>\n",
       "    <tr>\n",
       "      <th>1</th>\n",
       "      <td>10</td>\n",
       "      <td>100</td>\n",
       "      <td>117</td>\n",
       "      <td>3</td>\n",
       "    </tr>\n",
       "  </tbody>\n",
       "</table>\n",
       "</div>"
      ],
      "text/plain": [
       "   matchid  teamid  championid  banturn\n",
       "0       10     100          11        1\n",
       "1       10     100         117        3"
      ]
     },
     "execution_count": 13,
     "metadata": {},
     "output_type": "execute_result"
    }
   ],
   "source": [
    "bans_df.head(2)"
   ]
  },
  {
   "cell_type": "code",
   "execution_count": 14,
   "metadata": {},
   "outputs": [],
   "source": [
    "bans_merged = pd.merge(bans_df, # Merge champions dataframe with bans dataframe\n",
    "                               champs_df,how='inner', left_on='championid'\n",
    "                               , right_on='id').sort_values(by =['matchid'])\n",
    "bans_columns = bans_merged[['matchid', # Select columns\n",
    "                                            'banturn',\n",
    "                                            'name']] \n",
    "bans = bans_columns.rename(index = str, #Rename columns\n",
    "                                           columns = {\"matchid\": \"Match ID\",\n",
    "                                                      \"banturn\":\"Ban Turn\",\n",
    "                                                      \"name\": 'Champion'})"
   ]
  },
  {
   "cell_type": "code",
   "execution_count": 15,
   "metadata": {},
   "outputs": [],
   "source": [
    "bans = bans.reset_index() # Reset index\n",
    "bans = bans[['Match ID', 'Ban Turn', 'Champion']] # Reselect columns after resetting index"
   ]
  },
  {
   "cell_type": "code",
   "execution_count": 16,
   "metadata": {},
   "outputs": [
    {
     "data": {
      "text/html": [
       "<div>\n",
       "<style scoped>\n",
       "    .dataframe tbody tr th:only-of-type {\n",
       "        vertical-align: middle;\n",
       "    }\n",
       "\n",
       "    .dataframe tbody tr th {\n",
       "        vertical-align: top;\n",
       "    }\n",
       "\n",
       "    .dataframe thead th {\n",
       "        text-align: right;\n",
       "    }\n",
       "</style>\n",
       "<table border=\"1\" class=\"dataframe\">\n",
       "  <thead>\n",
       "    <tr style=\"text-align: right;\">\n",
       "      <th></th>\n",
       "      <th>Match ID</th>\n",
       "      <th>Ban Turn</th>\n",
       "      <th>Champion</th>\n",
       "    </tr>\n",
       "  </thead>\n",
       "  <tbody>\n",
       "    <tr>\n",
       "      <th>0</th>\n",
       "      <td>10</td>\n",
       "      <td>1</td>\n",
       "      <td>Master Yi</td>\n",
       "    </tr>\n",
       "    <tr>\n",
       "      <th>1</th>\n",
       "      <td>10</td>\n",
       "      <td>6</td>\n",
       "      <td>Fizz</td>\n",
       "    </tr>\n",
       "  </tbody>\n",
       "</table>\n",
       "</div>"
      ],
      "text/plain": [
       "   Match ID  Ban Turn   Champion\n",
       "0        10         1  Master Yi\n",
       "1        10         6       Fizz"
      ]
     },
     "execution_count": 16,
     "metadata": {},
     "output_type": "execute_result"
    }
   ],
   "source": [
    "bans.head(2)"
   ]
  },
  {
   "cell_type": "code",
   "execution_count": 29,
   "metadata": {},
   "outputs": [],
   "source": [
    "path=r'/Users/Henry/Desktop/Springboard/Capstone Project/EDA' \n",
    "bans.to_csv(os.path.join(path,r'bans.csv')) # Export file to EDA folder"
   ]
  },
  {
   "cell_type": "markdown",
   "metadata": {},
   "source": [
    "### Preparing Micro Stats"
   ]
  },
  {
   "cell_type": "code",
   "execution_count": 17,
   "metadata": {},
   "outputs": [
    {
     "data": {
      "text/html": [
       "<div>\n",
       "<style scoped>\n",
       "    .dataframe tbody tr th:only-of-type {\n",
       "        vertical-align: middle;\n",
       "    }\n",
       "\n",
       "    .dataframe tbody tr th {\n",
       "        vertical-align: top;\n",
       "    }\n",
       "\n",
       "    .dataframe thead th {\n",
       "        text-align: right;\n",
       "    }\n",
       "</style>\n",
       "<table border=\"1\" class=\"dataframe\">\n",
       "  <thead>\n",
       "    <tr style=\"text-align: right;\">\n",
       "      <th></th>\n",
       "      <th>id</th>\n",
       "      <th>win</th>\n",
       "      <th>item1</th>\n",
       "      <th>item2</th>\n",
       "      <th>item3</th>\n",
       "      <th>item4</th>\n",
       "      <th>item5</th>\n",
       "      <th>item6</th>\n",
       "      <th>trinket</th>\n",
       "      <th>kills</th>\n",
       "      <th>...</th>\n",
       "      <th>neutralminionskilled</th>\n",
       "      <th>ownjunglekills</th>\n",
       "      <th>enemyjunglekills</th>\n",
       "      <th>totcctimedealt</th>\n",
       "      <th>champlvl</th>\n",
       "      <th>pinksbought</th>\n",
       "      <th>wardsbought</th>\n",
       "      <th>wardsplaced</th>\n",
       "      <th>wardskilled</th>\n",
       "      <th>firstblood</th>\n",
       "    </tr>\n",
       "  </thead>\n",
       "  <tbody>\n",
       "    <tr>\n",
       "      <th>0</th>\n",
       "      <td>9</td>\n",
       "      <td>0</td>\n",
       "      <td>3748</td>\n",
       "      <td>2003</td>\n",
       "      <td>3111</td>\n",
       "      <td>3053</td>\n",
       "      <td>1419</td>\n",
       "      <td>1042</td>\n",
       "      <td>3340</td>\n",
       "      <td>6</td>\n",
       "      <td>...</td>\n",
       "      <td>69</td>\n",
       "      <td>42</td>\n",
       "      <td>27</td>\n",
       "      <td>610</td>\n",
       "      <td>13</td>\n",
       "      <td>0</td>\n",
       "      <td>0</td>\n",
       "      <td>10</td>\n",
       "      <td>0</td>\n",
       "      <td>0</td>\n",
       "    </tr>\n",
       "    <tr>\n",
       "      <th>1</th>\n",
       "      <td>10</td>\n",
       "      <td>0</td>\n",
       "      <td>2301</td>\n",
       "      <td>3111</td>\n",
       "      <td>3190</td>\n",
       "      <td>3107</td>\n",
       "      <td>0</td>\n",
       "      <td>0</td>\n",
       "      <td>3364</td>\n",
       "      <td>0</td>\n",
       "      <td>...</td>\n",
       "      <td>1</td>\n",
       "      <td>1</td>\n",
       "      <td>0</td>\n",
       "      <td>211</td>\n",
       "      <td>14</td>\n",
       "      <td>1</td>\n",
       "      <td>0</td>\n",
       "      <td>17</td>\n",
       "      <td>3</td>\n",
       "      <td>0</td>\n",
       "    </tr>\n",
       "  </tbody>\n",
       "</table>\n",
       "<p>2 rows × 56 columns</p>\n",
       "</div>"
      ],
      "text/plain": [
       "   id  win  item1  item2  item3  item4  item5  item6  trinket  kills  \\\n",
       "0   9    0   3748   2003   3111   3053   1419   1042     3340      6   \n",
       "1  10    0   2301   3111   3190   3107      0      0     3364      0   \n",
       "\n",
       "      ...      neutralminionskilled  ownjunglekills  enemyjunglekills  \\\n",
       "0     ...                        69              42                27   \n",
       "1     ...                         1               1                 0   \n",
       "\n",
       "   totcctimedealt  champlvl  pinksbought  wardsbought  wardsplaced  \\\n",
       "0             610        13            0            0           10   \n",
       "1             211        14            1            0           17   \n",
       "\n",
       "   wardskilled  firstblood  \n",
       "0            0           0  \n",
       "1            3           0  \n",
       "\n",
       "[2 rows x 56 columns]"
      ]
     },
     "execution_count": 17,
     "metadata": {},
     "output_type": "execute_result"
    }
   ],
   "source": [
    "stats1_df.head(2) # Explore stats1 dataframe"
   ]
  },
  {
   "cell_type": "code",
   "execution_count": 18,
   "metadata": {},
   "outputs": [
    {
     "data": {
      "text/html": [
       "<div>\n",
       "<style scoped>\n",
       "    .dataframe tbody tr th:only-of-type {\n",
       "        vertical-align: middle;\n",
       "    }\n",
       "\n",
       "    .dataframe tbody tr th {\n",
       "        vertical-align: top;\n",
       "    }\n",
       "\n",
       "    .dataframe thead th {\n",
       "        text-align: right;\n",
       "    }\n",
       "</style>\n",
       "<table border=\"1\" class=\"dataframe\">\n",
       "  <thead>\n",
       "    <tr style=\"text-align: right;\">\n",
       "      <th></th>\n",
       "      <th>id</th>\n",
       "      <th>win</th>\n",
       "      <th>item1</th>\n",
       "      <th>item2</th>\n",
       "      <th>item3</th>\n",
       "      <th>item4</th>\n",
       "      <th>item5</th>\n",
       "      <th>item6</th>\n",
       "      <th>trinket</th>\n",
       "      <th>kills</th>\n",
       "      <th>...</th>\n",
       "      <th>neutralminionskilled</th>\n",
       "      <th>ownjunglekills</th>\n",
       "      <th>enemyjunglekills</th>\n",
       "      <th>totcctimedealt</th>\n",
       "      <th>champlvl</th>\n",
       "      <th>pinksbought</th>\n",
       "      <th>wardsbought</th>\n",
       "      <th>wardsplaced</th>\n",
       "      <th>wardskilled</th>\n",
       "      <th>firstblood</th>\n",
       "    </tr>\n",
       "  </thead>\n",
       "  <tbody>\n",
       "    <tr>\n",
       "      <th>0</th>\n",
       "      <td>1028382</td>\n",
       "      <td>0</td>\n",
       "      <td>1056</td>\n",
       "      <td>3001</td>\n",
       "      <td>1052</td>\n",
       "      <td>3020</td>\n",
       "      <td>1058</td>\n",
       "      <td>1026</td>\n",
       "      <td>3340</td>\n",
       "      <td>7</td>\n",
       "      <td>...</td>\n",
       "      <td>0</td>\n",
       "      <td>0</td>\n",
       "      <td>0</td>\n",
       "      <td>50</td>\n",
       "      <td>12</td>\n",
       "      <td>0</td>\n",
       "      <td>0</td>\n",
       "      <td>6</td>\n",
       "      <td>0</td>\n",
       "      <td>0</td>\n",
       "    </tr>\n",
       "    <tr>\n",
       "      <th>1</th>\n",
       "      <td>1028383</td>\n",
       "      <td>0</td>\n",
       "      <td>1041</td>\n",
       "      <td>2003</td>\n",
       "      <td>0</td>\n",
       "      <td>0</td>\n",
       "      <td>0</td>\n",
       "      <td>0</td>\n",
       "      <td>3340</td>\n",
       "      <td>0</td>\n",
       "      <td>...</td>\n",
       "      <td>11</td>\n",
       "      <td>11</td>\n",
       "      <td>0</td>\n",
       "      <td>114</td>\n",
       "      <td>3</td>\n",
       "      <td>0</td>\n",
       "      <td>0</td>\n",
       "      <td>0</td>\n",
       "      <td>0</td>\n",
       "      <td>0</td>\n",
       "    </tr>\n",
       "  </tbody>\n",
       "</table>\n",
       "<p>2 rows × 56 columns</p>\n",
       "</div>"
      ],
      "text/plain": [
       "        id  win  item1  item2  item3  item4  item5  item6  trinket  kills  \\\n",
       "0  1028382    0   1056   3001   1052   3020   1058   1026     3340      7   \n",
       "1  1028383    0   1041   2003      0      0      0      0     3340      0   \n",
       "\n",
       "      ...      neutralminionskilled  ownjunglekills  enemyjunglekills  \\\n",
       "0     ...                         0               0                 0   \n",
       "1     ...                        11              11                 0   \n",
       "\n",
       "   totcctimedealt  champlvl  pinksbought  wardsbought  wardsplaced  \\\n",
       "0              50        12            0            0            6   \n",
       "1             114         3            0            0            0   \n",
       "\n",
       "   wardskilled  firstblood  \n",
       "0            0           0  \n",
       "1            0           0  \n",
       "\n",
       "[2 rows x 56 columns]"
      ]
     },
     "execution_count": 18,
     "metadata": {},
     "output_type": "execute_result"
    }
   ],
   "source": [
    "stats2_df.head(2) # Explore stats2 dataframe"
   ]
  },
  {
   "cell_type": "code",
   "execution_count": 19,
   "metadata": {},
   "outputs": [
    {
     "data": {
      "text/plain": [
       "(1834517, 56)"
      ]
     },
     "execution_count": 19,
     "metadata": {},
     "output_type": "execute_result"
    }
   ],
   "source": [
    "stats = stats1_df.append([stats2_df]) # Union stats dataframes\n",
    "stats.shape # Confirm union"
   ]
  },
  {
   "cell_type": "code",
   "execution_count": 20,
   "metadata": {},
   "outputs": [],
   "source": [
    "stats = stats[['id', 'win', 'kills', # Select Columns\n",
    "               'neutralminionskilled','ownjunglekills','enemyjunglekills',\n",
    "               'totcctimedealt', 'champlvl', 'pinksbought','wardsbought','wardsplaced','wardskilled','firstblood']]"
   ]
  },
  {
   "cell_type": "code",
   "execution_count": 30,
   "metadata": {
    "scrolled": true
   },
   "outputs": [
    {
     "data": {
      "text/html": [
       "<div>\n",
       "<style scoped>\n",
       "    .dataframe tbody tr th:only-of-type {\n",
       "        vertical-align: middle;\n",
       "    }\n",
       "\n",
       "    .dataframe tbody tr th {\n",
       "        vertical-align: top;\n",
       "    }\n",
       "\n",
       "    .dataframe thead th {\n",
       "        text-align: right;\n",
       "    }\n",
       "</style>\n",
       "<table border=\"1\" class=\"dataframe\">\n",
       "  <thead>\n",
       "    <tr style=\"text-align: right;\">\n",
       "      <th></th>\n",
       "      <th>id</th>\n",
       "      <th>win</th>\n",
       "      <th>kills</th>\n",
       "      <th>neutralminionskilled</th>\n",
       "      <th>ownjunglekills</th>\n",
       "      <th>enemyjunglekills</th>\n",
       "      <th>totcctimedealt</th>\n",
       "      <th>champlvl</th>\n",
       "      <th>pinksbought</th>\n",
       "      <th>wardsbought</th>\n",
       "      <th>wardsplaced</th>\n",
       "      <th>wardskilled</th>\n",
       "      <th>firstblood</th>\n",
       "    </tr>\n",
       "  </thead>\n",
       "  <tbody>\n",
       "    <tr>\n",
       "      <th>0</th>\n",
       "      <td>9</td>\n",
       "      <td>0</td>\n",
       "      <td>6</td>\n",
       "      <td>69</td>\n",
       "      <td>42</td>\n",
       "      <td>27</td>\n",
       "      <td>610</td>\n",
       "      <td>13</td>\n",
       "      <td>0</td>\n",
       "      <td>0</td>\n",
       "      <td>10</td>\n",
       "      <td>0</td>\n",
       "      <td>0</td>\n",
       "    </tr>\n",
       "    <tr>\n",
       "      <th>1</th>\n",
       "      <td>10</td>\n",
       "      <td>0</td>\n",
       "      <td>0</td>\n",
       "      <td>1</td>\n",
       "      <td>1</td>\n",
       "      <td>0</td>\n",
       "      <td>211</td>\n",
       "      <td>14</td>\n",
       "      <td>1</td>\n",
       "      <td>0</td>\n",
       "      <td>17</td>\n",
       "      <td>3</td>\n",
       "      <td>0</td>\n",
       "    </tr>\n",
       "  </tbody>\n",
       "</table>\n",
       "</div>"
      ],
      "text/plain": [
       "   id  win  kills  neutralminionskilled  ownjunglekills  enemyjunglekills  \\\n",
       "0   9    0      6                    69              42                27   \n",
       "1  10    0      0                     1               1                 0   \n",
       "\n",
       "   totcctimedealt  champlvl  pinksbought wardsbought  wardsplaced  \\\n",
       "0             610        13            0           0           10   \n",
       "1             211        14            1           0           17   \n",
       "\n",
       "   wardskilled  firstblood  \n",
       "0            0           0  \n",
       "1            3           0  "
      ]
     },
     "execution_count": 30,
     "metadata": {},
     "output_type": "execute_result"
    }
   ],
   "source": [
    "stats.head(2)"
   ]
  },
  {
   "cell_type": "code",
   "execution_count": 94,
   "metadata": {},
   "outputs": [],
   "source": [
    "path=r'/Users/Henry/Desktop/Springboard/Capstone Project/EDA' \n",
    "stats.to_csv(os.path.join(path,r'micro_stats.csv')) # Export file to EDA folder"
   ]
  },
  {
   "cell_type": "markdown",
   "metadata": {},
   "source": [
    "### Preparing Macro Stats"
   ]
  },
  {
   "cell_type": "code",
   "execution_count": 105,
   "metadata": {
    "scrolled": false
   },
   "outputs": [
    {
     "data": {
      "text/plain": [
       "Index(['gameId', 'creationTime', 'gameDuration', 'seasonId', 'winner',\n",
       "       'firstBlood', 'firstTower', 'firstInhibitor', 'firstBaron',\n",
       "       'firstDragon', 'firstRiftHerald', 't1_champ1id', 't1_champ1_sum1',\n",
       "       't1_champ1_sum2', 't1_champ2id', 't1_champ2_sum1', 't1_champ2_sum2',\n",
       "       't1_champ3id', 't1_champ3_sum1', 't1_champ3_sum2', 't1_champ4id',\n",
       "       't1_champ4_sum1', 't1_champ4_sum2', 't1_champ5id', 't1_champ5_sum1',\n",
       "       't1_champ5_sum2', 't1_towerKills', 't1_inhibitorKills', 't1_baronKills',\n",
       "       't1_dragonKills', 't1_riftHeraldKills', 't1_ban1', 't1_ban2', 't1_ban3',\n",
       "       't1_ban4', 't1_ban5', 't2_champ1id', 't2_champ1_sum1', 't2_champ1_sum2',\n",
       "       't2_champ2id', 't2_champ2_sum1', 't2_champ2_sum2', 't2_champ3id',\n",
       "       't2_champ3_sum1', 't2_champ3_sum2', 't2_champ4id', 't2_champ4_sum1',\n",
       "       't2_champ4_sum2', 't2_champ5id', 't2_champ5_sum1', 't2_champ5_sum2',\n",
       "       't2_towerKills', 't2_inhibitorKills', 't2_baronKills', 't2_dragonKills',\n",
       "       't2_riftHeraldKills', 't2_ban1', 't2_ban2', 't2_ban3', 't2_ban4',\n",
       "       't2_ban5'],\n",
       "      dtype='object')"
      ]
     },
     "execution_count": 105,
     "metadata": {},
     "output_type": "execute_result"
    }
   ],
   "source": [
    "macro_stats_df.columns # Explore Dataframe"
   ]
  },
  {
   "cell_type": "code",
   "execution_count": 106,
   "metadata": {},
   "outputs": [],
   "source": [
    "columns = ['t1_towerKills','t1_inhibitorKills','t1_dragonKills','t1_baronKills', # Select potential variables that can predict the outcome of a game\n",
    "                  't2_towerKills','t2_inhibitorKills','t2_dragonKills','t2_baronKills',\n",
    "                       'firstBlood', 'firstTower', 'firstInhibitor', \n",
    "                           'firstBaron','firstDragon', 'firstRiftHerald',\n",
    "                              'winner'] "
   ]
  },
  {
   "cell_type": "code",
   "execution_count": 108,
   "metadata": {},
   "outputs": [
    {
     "data": {
      "text/html": [
       "<div>\n",
       "<style scoped>\n",
       "    .dataframe tbody tr th:only-of-type {\n",
       "        vertical-align: middle;\n",
       "    }\n",
       "\n",
       "    .dataframe tbody tr th {\n",
       "        vertical-align: top;\n",
       "    }\n",
       "\n",
       "    .dataframe thead th {\n",
       "        text-align: right;\n",
       "    }\n",
       "</style>\n",
       "<table border=\"1\" class=\"dataframe\">\n",
       "  <thead>\n",
       "    <tr style=\"text-align: right;\">\n",
       "      <th></th>\n",
       "      <th>t1_towerKills</th>\n",
       "      <th>t1_inhibitorKills</th>\n",
       "      <th>t1_dragonKills</th>\n",
       "      <th>t1_baronKills</th>\n",
       "      <th>t2_towerKills</th>\n",
       "      <th>t2_inhibitorKills</th>\n",
       "      <th>t2_dragonKills</th>\n",
       "      <th>t2_baronKills</th>\n",
       "      <th>firstBlood</th>\n",
       "      <th>firstTower</th>\n",
       "      <th>firstInhibitor</th>\n",
       "      <th>firstBaron</th>\n",
       "      <th>firstDragon</th>\n",
       "      <th>firstRiftHerald</th>\n",
       "      <th>winner</th>\n",
       "    </tr>\n",
       "  </thead>\n",
       "  <tbody>\n",
       "    <tr>\n",
       "      <th>0</th>\n",
       "      <td>11</td>\n",
       "      <td>1</td>\n",
       "      <td>3</td>\n",
       "      <td>2</td>\n",
       "      <td>5</td>\n",
       "      <td>0</td>\n",
       "      <td>1</td>\n",
       "      <td>0</td>\n",
       "      <td>2</td>\n",
       "      <td>1</td>\n",
       "      <td>1</td>\n",
       "      <td>1</td>\n",
       "      <td>1</td>\n",
       "      <td>2</td>\n",
       "      <td>1</td>\n",
       "    </tr>\n",
       "    <tr>\n",
       "      <th>1</th>\n",
       "      <td>10</td>\n",
       "      <td>4</td>\n",
       "      <td>2</td>\n",
       "      <td>0</td>\n",
       "      <td>2</td>\n",
       "      <td>0</td>\n",
       "      <td>0</td>\n",
       "      <td>0</td>\n",
       "      <td>1</td>\n",
       "      <td>1</td>\n",
       "      <td>1</td>\n",
       "      <td>0</td>\n",
       "      <td>1</td>\n",
       "      <td>1</td>\n",
       "      <td>1</td>\n",
       "    </tr>\n",
       "    <tr>\n",
       "      <th>2</th>\n",
       "      <td>8</td>\n",
       "      <td>1</td>\n",
       "      <td>1</td>\n",
       "      <td>1</td>\n",
       "      <td>2</td>\n",
       "      <td>0</td>\n",
       "      <td>1</td>\n",
       "      <td>0</td>\n",
       "      <td>2</td>\n",
       "      <td>1</td>\n",
       "      <td>1</td>\n",
       "      <td>1</td>\n",
       "      <td>2</td>\n",
       "      <td>0</td>\n",
       "      <td>1</td>\n",
       "    </tr>\n",
       "    <tr>\n",
       "      <th>3</th>\n",
       "      <td>9</td>\n",
       "      <td>2</td>\n",
       "      <td>2</td>\n",
       "      <td>1</td>\n",
       "      <td>0</td>\n",
       "      <td>0</td>\n",
       "      <td>0</td>\n",
       "      <td>0</td>\n",
       "      <td>1</td>\n",
       "      <td>1</td>\n",
       "      <td>1</td>\n",
       "      <td>1</td>\n",
       "      <td>1</td>\n",
       "      <td>0</td>\n",
       "      <td>1</td>\n",
       "    </tr>\n",
       "    <tr>\n",
       "      <th>4</th>\n",
       "      <td>9</td>\n",
       "      <td>2</td>\n",
       "      <td>3</td>\n",
       "      <td>1</td>\n",
       "      <td>3</td>\n",
       "      <td>0</td>\n",
       "      <td>1</td>\n",
       "      <td>0</td>\n",
       "      <td>2</td>\n",
       "      <td>1</td>\n",
       "      <td>1</td>\n",
       "      <td>1</td>\n",
       "      <td>1</td>\n",
       "      <td>0</td>\n",
       "      <td>1</td>\n",
       "    </tr>\n",
       "  </tbody>\n",
       "</table>\n",
       "</div>"
      ],
      "text/plain": [
       "   t1_towerKills  t1_inhibitorKills  t1_dragonKills  t1_baronKills  \\\n",
       "0             11                  1               3              2   \n",
       "1             10                  4               2              0   \n",
       "2              8                  1               1              1   \n",
       "3              9                  2               2              1   \n",
       "4              9                  2               3              1   \n",
       "\n",
       "   t2_towerKills  t2_inhibitorKills  t2_dragonKills  t2_baronKills  \\\n",
       "0              5                  0               1              0   \n",
       "1              2                  0               0              0   \n",
       "2              2                  0               1              0   \n",
       "3              0                  0               0              0   \n",
       "4              3                  0               1              0   \n",
       "\n",
       "   firstBlood  firstTower  firstInhibitor  firstBaron  firstDragon  \\\n",
       "0           2           1               1           1            1   \n",
       "1           1           1               1           0            1   \n",
       "2           2           1               1           1            2   \n",
       "3           1           1               1           1            1   \n",
       "4           2           1               1           1            1   \n",
       "\n",
       "   firstRiftHerald  winner  \n",
       "0                2       1  \n",
       "1                1       1  \n",
       "2                0       1  \n",
       "3                0       1  \n",
       "4                0       1  "
      ]
     },
     "execution_count": 108,
     "metadata": {},
     "output_type": "execute_result"
    }
   ],
   "source": [
    "macro_stats_df = macro_stats_df[columns] # Select columns\n",
    "macro_stats_df.head() # Confirm changes"
   ]
  },
  {
   "cell_type": "code",
   "execution_count": 109,
   "metadata": {},
   "outputs": [],
   "source": [
    "path=r'/Users/Henry/Desktop/Springboard/Capstone Project/EDA' \n",
    "teamstats_df.to_csv(os.path.join(path,r'macro_stats.csv')) # Export file to EDA folder"
   ]
  }
 ],
 "metadata": {
  "kernelspec": {
   "display_name": "Python 3",
   "language": "python",
   "name": "python3"
  },
  "language_info": {
   "codemirror_mode": {
    "name": "ipython",
    "version": 3
   },
   "file_extension": ".py",
   "mimetype": "text/x-python",
   "name": "python",
   "nbconvert_exporter": "python",
   "pygments_lexer": "ipython3",
   "version": "3.6.4"
  }
 },
 "nbformat": 4,
 "nbformat_minor": 2
}
