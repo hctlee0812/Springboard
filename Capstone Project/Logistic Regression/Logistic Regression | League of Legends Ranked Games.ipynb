{
 "cells": [
  {
   "cell_type": "markdown",
   "metadata": {},
   "source": [
    "# Overview of Logistic Regression | League of Legends Ranked Games"
   ]
  },
  {
   "cell_type": "markdown",
   "metadata": {},
   "source": [
    "**Game Objective:** Destroy the other team's Nexus. There will be a winning and losing team."
   ]
  },
  {
   "cell_type": "markdown",
   "metadata": {},
   "source": [
    "**Background:** Within the two types of games, I will focus on ranked games. It is a **ladder system** and players within each region compete to climb to the top. With that said, this analysis will focus on using a **logistic regression model** and statistical analysis to see which aspects of the game affect the outcome."
   ]
  },
  {
   "cell_type": "markdown",
   "metadata": {},
   "source": [
    "**Analysis Objective:** Guide players to **prioritize** and **strategize** around very specific aspects of the game to **maximize the chances of winning**."
   ]
  },
  {
   "cell_type": "markdown",
   "metadata": {},
   "source": [
    "**Focus:** There are **numerous factors** that contribute to wins and losses from the **micro aspects** from generating gold, creep scoring, denying experience/gold to enemy laners/junglers to the **macro aspects** from prioritizing first tower for the significant increase in gold, valuable buffs from dragon/baron to name a few. \n",
    "\n",
    "This analysis will focus on the **macro aspects** simply because with zero micro skills, complete knowledge of what to focus on in the macro aspects will be useless."
   ]
  },
  {
   "cell_type": "markdown",
   "metadata": {},
   "source": [
    "### Import modules"
   ]
  },
  {
   "cell_type": "code",
   "execution_count": 5,
   "metadata": {},
   "outputs": [],
   "source": [
    "%matplotlib inline\n",
    "import pandas as pd\n",
    "import numpy as np\n",
    "import matplotlib.pyplot as plt\n",
    "import seaborn as sns\n",
    "import sys\n",
    "import os"
   ]
  },
  {
   "cell_type": "code",
   "execution_count": 6,
   "metadata": {
    "scrolled": true
   },
   "outputs": [
    {
     "data": {
      "text/html": [
       "<div>\n",
       "<style scoped>\n",
       "    .dataframe tbody tr th:only-of-type {\n",
       "        vertical-align: middle;\n",
       "    }\n",
       "\n",
       "    .dataframe tbody tr th {\n",
       "        vertical-align: top;\n",
       "    }\n",
       "\n",
       "    .dataframe thead th {\n",
       "        text-align: right;\n",
       "    }\n",
       "</style>\n",
       "<table border=\"1\" class=\"dataframe\">\n",
       "  <thead>\n",
       "    <tr style=\"text-align: right;\">\n",
       "      <th></th>\n",
       "      <th>t1_inhibitorKills</th>\n",
       "      <th>t1_dragonKills</th>\n",
       "      <th>t1_baronKills</th>\n",
       "      <th>t2_inhibitorKills</th>\n",
       "      <th>t2_dragonKills</th>\n",
       "      <th>t2_baronKills</th>\n",
       "      <th>firstBlood</th>\n",
       "      <th>firstTower</th>\n",
       "      <th>firstInhibitor</th>\n",
       "      <th>firstBaron</th>\n",
       "      <th>firstDragon</th>\n",
       "      <th>firstRiftHerald</th>\n",
       "      <th>winner</th>\n",
       "    </tr>\n",
       "  </thead>\n",
       "  <tbody>\n",
       "    <tr>\n",
       "      <th>0</th>\n",
       "      <td>1</td>\n",
       "      <td>3</td>\n",
       "      <td>2</td>\n",
       "      <td>0</td>\n",
       "      <td>1</td>\n",
       "      <td>0</td>\n",
       "      <td>2</td>\n",
       "      <td>1</td>\n",
       "      <td>1</td>\n",
       "      <td>1</td>\n",
       "      <td>1</td>\n",
       "      <td>2</td>\n",
       "      <td>1</td>\n",
       "    </tr>\n",
       "    <tr>\n",
       "      <th>1</th>\n",
       "      <td>4</td>\n",
       "      <td>2</td>\n",
       "      <td>0</td>\n",
       "      <td>0</td>\n",
       "      <td>0</td>\n",
       "      <td>0</td>\n",
       "      <td>1</td>\n",
       "      <td>1</td>\n",
       "      <td>1</td>\n",
       "      <td>0</td>\n",
       "      <td>1</td>\n",
       "      <td>1</td>\n",
       "      <td>1</td>\n",
       "    </tr>\n",
       "    <tr>\n",
       "      <th>2</th>\n",
       "      <td>1</td>\n",
       "      <td>1</td>\n",
       "      <td>1</td>\n",
       "      <td>0</td>\n",
       "      <td>1</td>\n",
       "      <td>0</td>\n",
       "      <td>2</td>\n",
       "      <td>1</td>\n",
       "      <td>1</td>\n",
       "      <td>1</td>\n",
       "      <td>2</td>\n",
       "      <td>0</td>\n",
       "      <td>1</td>\n",
       "    </tr>\n",
       "    <tr>\n",
       "      <th>3</th>\n",
       "      <td>2</td>\n",
       "      <td>2</td>\n",
       "      <td>1</td>\n",
       "      <td>0</td>\n",
       "      <td>0</td>\n",
       "      <td>0</td>\n",
       "      <td>1</td>\n",
       "      <td>1</td>\n",
       "      <td>1</td>\n",
       "      <td>1</td>\n",
       "      <td>1</td>\n",
       "      <td>0</td>\n",
       "      <td>1</td>\n",
       "    </tr>\n",
       "    <tr>\n",
       "      <th>4</th>\n",
       "      <td>2</td>\n",
       "      <td>3</td>\n",
       "      <td>1</td>\n",
       "      <td>0</td>\n",
       "      <td>1</td>\n",
       "      <td>0</td>\n",
       "      <td>2</td>\n",
       "      <td>1</td>\n",
       "      <td>1</td>\n",
       "      <td>1</td>\n",
       "      <td>1</td>\n",
       "      <td>0</td>\n",
       "      <td>1</td>\n",
       "    </tr>\n",
       "  </tbody>\n",
       "</table>\n",
       "</div>"
      ],
      "text/plain": [
       "   t1_inhibitorKills  t1_dragonKills  t1_baronKills  t2_inhibitorKills  \\\n",
       "0                  1               3              2                  0   \n",
       "1                  4               2              0                  0   \n",
       "2                  1               1              1                  0   \n",
       "3                  2               2              1                  0   \n",
       "4                  2               3              1                  0   \n",
       "\n",
       "   t2_dragonKills  t2_baronKills  firstBlood  firstTower  firstInhibitor  \\\n",
       "0               1              0           2           1               1   \n",
       "1               0              0           1           1               1   \n",
       "2               1              0           2           1               1   \n",
       "3               0              0           1           1               1   \n",
       "4               1              0           2           1               1   \n",
       "\n",
       "   firstBaron  firstDragon  firstRiftHerald  winner  \n",
       "0           1            1                2       1  \n",
       "1           0            1                1       1  \n",
       "2           1            2                0       1  \n",
       "3           1            1                0       1  \n",
       "4           1            1                0       1  "
      ]
     },
     "execution_count": 6,
     "metadata": {},
     "output_type": "execute_result"
    }
   ],
   "source": [
    "macro_stats = 'macro_stats.csv' # import data\n",
    "df = pd.read_csv(macro_stats)\n",
    "df = df.iloc[:, 1:]\n",
    "\n",
    "df.head()"
   ]
  },
  {
   "cell_type": "markdown",
   "metadata": {},
   "source": [
    "## Choosing Predictor Variables"
   ]
  },
  {
   "cell_type": "markdown",
   "metadata": {},
   "source": [
    "### 1. Remove fields unrelated to the focus"
   ]
  },
  {
   "cell_type": "markdown",
   "metadata": {},
   "source": [
    "From the previous data wrangling portion of my analysis, I **removed all fields related to micro/miniscual/complex aspects** of the game such as summoner spells, game duration, champion picks and bans."
   ]
  },
  {
   "cell_type": "code",
   "execution_count": 7,
   "metadata": {},
   "outputs": [],
   "source": [
    "fields = ['t1_inhibitorKills','t1_dragonKills','t1_baronKills', \n",
    "                  't2_inhibitorKills','t2_dragonKills','t2_baronKills', 't2_towerKills',\n",
    "                    'firstBlood', 'firstTower', 'firstInhibitor', 'firstBaron',\n",
    "                        'firstDragon', 'firstRiftHerald', 'winner']"
   ]
  },
  {
   "cell_type": "markdown",
   "metadata": {},
   "source": [
    "### 2. Remove lurking variables"
   ]
  },
  {
   "cell_type": "markdown",
   "metadata": {},
   "source": [
    "From the remaining fields, tower kills is **directly** related wins. A team needs to destroy **ALL** towers in order to destroy the enemy team's nexus. Thus, I removed 'tower kills' field within our data set."
   ]
  },
  {
   "cell_type": "code",
   "execution_count": 8,
   "metadata": {},
   "outputs": [],
   "source": [
    "fields = ['t1_inhibitorKills','t1_dragonKills','t1_baronKills',\n",
    "                  't2_inhibitorKills','t2_dragonKills','t2_baronKills',\n",
    "                    'firstBlood', 'firstTower', 'firstInhibitor', 'firstBaron',\n",
    "                        'firstDragon', 'firstRiftHerald', 'winner']"
   ]
  },
  {
   "cell_type": "markdown",
   "metadata": {},
   "source": [
    "### 3. Remove duplicate variables"
   ]
  },
  {
   "cell_type": "markdown",
   "metadata": {},
   "source": [
    "In our dataset, team 1 and 2 inhibitor, dragon and baron kills are shown on each record. Thus, **we don't need both** since using one team's features and labels will give our regression model enough to fit and predict current and future data set (*avoiding overfitting*)."
   ]
  },
  {
   "cell_type": "code",
   "execution_count": 9,
   "metadata": {},
   "outputs": [],
   "source": [
    "fields = ['t2_inhibitorKills','t2_dragonKills','t2_baronKills',\n",
    "                    'firstBlood', 'firstTower', 'firstInhibitor', 'firstBaron',\n",
    "                        'firstDragon', 'firstRiftHerald', 'winner']"
   ]
  },
  {
   "cell_type": "markdown",
   "metadata": {},
   "source": [
    "## Inspect Correlation Between Reduced Predictor Variables & Target Variable"
   ]
  },
  {
   "cell_type": "code",
   "execution_count": 11,
   "metadata": {
    "scrolled": true
   },
   "outputs": [
    {
     "data": {
      "text/plain": [
       "<matplotlib.axes._subplots.AxesSubplot at 0x1a16728400>"
      ]
     },
     "execution_count": 11,
     "metadata": {},
     "output_type": "execute_result"
    },
    {
     "data": {
      "image/png": "[encoded data removed]",
      "text/plain": [
       "<matplotlib.figure.Figure at 0x1a1689b7f0>"
      ]
     },
     "metadata": {},
     "output_type": "display_data"
    }
   ],
   "source": [
    "# set up seaborn\n",
    "sns.set_style('darkgrid')\n",
    "fig = plt.figure(figsize=(10,10))\n",
    "\n",
    "sns.heatmap(df[fields].corr(),annot=True,square=True) # heatmap of reduced predictor variables and wins"
   ]
  },
  {
   "cell_type": "markdown",
   "metadata": {},
   "source": [
    "We can speculate the following correlations w/ winning:\n",
    "\n",
    "    1. Inhibitor Kills | 0.66\n",
    "    2. Dragon Kills | 0.5\n",
    "    3. Baron Kills | 0.4\n",
    "    4. First Blood | 0.17\n",
    "    5. First Tower | 0.38\n",
    "    6. First Inhibitor | 0.54\n",
    "    7. First Baron | 0.26\n",
    "    8. First Dragon | 0.31\n",
    "    9. First Rift Herald | 0.12\n",
    "    "
   ]
  },
  {
   "cell_type": "markdown",
   "metadata": {},
   "source": [
    "Although there is **high correlation** between Inhibitor Kills, Dragon Kills and Baron Kills with winning, there is a relatively **high occurence of multicollinearity** with its first occurances. "
   ]
  },
  {
   "cell_type": "markdown",
   "metadata": {},
   "source": [
    "## Multicollinearity"
   ]
  },
  {
   "cell_type": "markdown",
   "metadata": {},
   "source": [
    "### Inhibitor Kills"
   ]
  },
  {
   "cell_type": "markdown",
   "metadata": {},
   "source": [
    "Inhibitor Kills have a 0.7 correlation w/ First Inhibitor Kills which **makes sense** since there are three inhibitors on each team's side and once a team destroys the first inhibitor, **lots of advantages open up** for them such as spawning superminions, side lane pressure, etc. and thus, makes it easier for the team to destroy the other two inhibitors. "
   ]
  },
  {
   "cell_type": "markdown",
   "metadata": {},
   "source": [
    "### Dragon Kills"
   ]
  },
  {
   "cell_type": "markdown",
   "metadata": {},
   "source": [
    "Dragon Kills have a 0.63 correlation w/ First Dragon kills which **is expected** since dragon spawns at two minutes and thirty seconds into the game and respawns every seven minutes and thus, w/ a mean duration of 25 minutes per game (*as explored through our EDA*), the **expected value of dragon kills will be lower** and thus, relatively correlated w/ First Dragon Kills."
   ]
  },
  {
   "cell_type": "markdown",
   "metadata": {},
   "source": [
    "### Baron Kills"
   ]
  },
  {
   "cell_type": "markdown",
   "metadata": {},
   "source": [
    "*As explored through our EDA portion of duration analysis*, the mean and median of duration of ranked games is **roughly 25 minutes**. Baron spawns at 20 minutes and respawns every seven minutes once slain. Furthermore, teams are *usually* not strong enough to slay Baron at 20 minutes. With this assumption, the maximum number of barons killed a game is approximately 2 and thus, explains the  0.79 correlation w/ first baron kills."
   ]
  },
  {
   "cell_type": "markdown",
   "metadata": {},
   "source": [
    "##### Conclusion: Muticollinearity"
   ]
  },
  {
   "cell_type": "markdown",
   "metadata": {},
   "source": [
    "Thus, we will want to **exclude** the first occurances of inhibitor, dragon and baron kills within our regression model because the **total number of kills of each objective has a stronger correlation w/ winning** and **we want each predictor variable to explain the variance of the data from different directions**. Furthermore, we want to **remove the First Rift Herald and First Blood Kill** from the predictor variables because they both have a **relatively weak correlation w/ winning**."
   ]
  },
  {
   "cell_type": "code",
   "execution_count": 34,
   "metadata": {},
   "outputs": [],
   "source": [
    "fields = ['t2_inhibitorKills','t2_dragonKills', # Update fields\n",
    "          't2_baronKills', 'firstTower']"
   ]
  },
  {
   "cell_type": "markdown",
   "metadata": {},
   "source": [
    "## Train Logistic Regression Model w/ GridSearch"
   ]
  },
  {
   "cell_type": "code",
   "execution_count": 69,
   "metadata": {
    "scrolled": true
   },
   "outputs": [],
   "source": [
    "# import SciKit Learn Modules\n",
    "from sklearn.grid_search import GridSearchCV\n",
    "from sklearn.model_selection import train_test_split\n",
    "from sklearn.linear_model import LogisticRegression\n",
    "from sklearn.metrics import accuracy_score\n",
    "\n",
    "# Specify predictor and target variables\n",
    "predict_v = df[fields]\n",
    "target_v = df[['winner']]\n",
    "\n",
    "# Split the data into a training and test set.\n",
    "Xlr, Xtestlr, ylr, ytestlr = train_test_split(predict_v.values, target_v.values,\n",
    "                                                  test_size=0.2, random_state=5)\n",
    "\n",
    "# Reshape ylr and ytestlr\n",
    "c, r = ylr.shape\n",
    "ylr = ylr.reshape(c,)\n",
    "c, r = ytestlr.shape\n",
    "ytestlr = ytestlr.reshape(c,)"
   ]
  },
  {
   "cell_type": "code",
   "execution_count": 70,
   "metadata": {},
   "outputs": [
    {
     "data": {
      "text/plain": [
       "LogisticRegression(C=0.005, class_weight=None, dual=False, fit_intercept=True,\n",
       "          intercept_scaling=1, max_iter=100, multi_class='ovr', n_jobs=1,\n",
       "          penalty='l2', random_state=None, solver='liblinear', tol=0.0001,\n",
       "          verbose=0, warm_start=False)"
      ]
     },
     "execution_count": 70,
     "metadata": {},
     "output_type": "execute_result"
    }
   ],
   "source": [
    "# Implement GridSearch to our classfier w/ the best parameter\n",
    "clf = LogisticRegression()\n",
    "parameters = {\"C\": [0.0001, 0.001, .005, 0.1, 1, 10, 100]}\n",
    "model = GridSearchCV(clf, param_grid=parameters, cv=5, scoring=\"accuracy\")\n",
    "model.fit(Xlr, ylr)\n",
    "model.best_estimator_"
   ]
  },
  {
   "cell_type": "code",
   "execution_count": 65,
   "metadata": {
    "scrolled": false
   },
   "outputs": [
    {
     "data": {
      "text/plain": [
       "0.8888133618178287"
      ]
     },
     "execution_count": 65,
     "metadata": {},
     "output_type": "execute_result"
    }
   ],
   "source": [
    "# Tune Classifier w/ Best Classifier, Fit Model, Predict, and Evaluate\n",
    "clf = LogisticRegression(C=0.005)\n",
    "clf.fit(Xlr, ylr)\n",
    "ypred = clf.predict(Xtestlr)\n",
    "accuracy_score(ypred, ytestlr)"
   ]
  },
  {
   "cell_type": "markdown",
   "metadata": {},
   "source": [
    "#### Implementing our model w/ the test data resulted in 88.88% accuracy which is quite strong."
   ]
  },
  {
   "cell_type": "markdown",
   "metadata": {},
   "source": [
    "## Evaluating Scores"
   ]
  },
  {
   "cell_type": "code",
   "execution_count": 73,
   "metadata": {},
   "outputs": [
    {
     "name": "stdout",
     "output_type": "stream",
     "text": [
      "             precision    recall  f1-score   support\n",
      "\n",
      "          1       0.88      0.90      0.89      5183\n",
      "          2       0.90      0.88      0.89      5115\n",
      "\n",
      "avg / total       0.89      0.89      0.89     10298\n",
      "\n"
     ]
    }
   ],
   "source": [
    "from sklearn.metrics import classification_report\n",
    "print(classification_report(ytestlr, ypred))"
   ]
  },
  {
   "cell_type": "markdown",
   "metadata": {},
   "source": [
    "Our model's **precision and recall** are *both* relatively high at an average of .89 which is quite strong which means that our model is not only correclty classifies the data points in terms of all records *(recall)*, but is accurate in each prediction *(precision)*.\n",
    "\n",
    "The **harmonic mean (F1-score)** is also at .89 since it is the weighted average of both precision and recall."
   ]
  },
  {
   "cell_type": "markdown",
   "metadata": {},
   "source": [
    "## Conclusion"
   ]
  },
  {
   "cell_type": "markdown",
   "metadata": {},
   "source": [
    "In conclusion, inhibitor, dragon, baron and first tower kills are **relatively strong indicators** for the winning team. Strategies and team compositions that focus on these objectives open up hidden advantages not captured within the data that statistically increase the chances of winning the game. \n",
    "\n",
    "With **first tower** kills being extremely significant, Azubu Blaze back in 2012 focused on **not only pressuring and destroying first towers**, but capitalizing on this advantage by **splitting open the map, aiding the mid lane if behind and opening up the entire jungle on the bot side** -- leaving it completely vulnerable to vision and invades. During this time, North America and Europe were focused on **leaving the first towers** up to take advantage of lane leads but at the MLG 2012, Azubu Blaze took first with this strategy.\n",
    "\n",
    "As for **dragon kills** and **baron kills**, creating a team composition of choosing champions in ranked games that have **consistent damage** to take down these large health monsters OR strong abilities that **secure dragon and barons** such as Chogath or Nunu can be advantageous to master as champs to bring to the ranked games.\n",
    "\n",
    "Lastly, with **inhibitor kills**, it's known that superminions spawn but even further, the **map splits open** and the enemy team needs to continue to defend their base while the enemy team might be **contesting baron or elder drake** which is also quite significant as mentioned above. With three inhibitors down, it's extremely difficult to defend objectives and your base all while fighting the enemy team. \n",
    "\n",
    "With this said, there are numerous of factors **as well as** hidden effects of these objectives being destroyed that dramatically can increase the chances of winning. It's **very difficult to capture the data** but it's quite apparent from exploring the data, applying inferential statistics and implementing this model, that there are adjustments and tweaks that you can implement into your practice and strategy going into the ranked ladders to increase your chances of winning.\n",
    "\n",
    "And as mentioned in the very beginning of exploring the data, Riot Games is constantly changing the game to balance champions/items, to increase the pace so that it's more entertaining for viewers, etc. Thus, this is a **VERY** general assumption and model that can be grouped by each season and region to get more in depth insights. There is a plethora of perspectives, angles and aspects of the game to analyze and I'm extremely excited for the journey.\n"
   ]
  },
  {
   "cell_type": "code",
   "execution_count": null,
   "metadata": {},
   "outputs": [],
   "source": []
  }
 ],
 "metadata": {
  "kernelspec": {
   "display_name": "Python 3",
   "language": "python",
   "name": "python3"
  },
  "language_info": {
   "codemirror_mode": {
    "name": "ipython",
    "version": 3
   },
   "file_extension": ".py",
   "mimetype": "text/x-python",
   "name": "python",
   "nbconvert_exporter": "python",
   "pygments_lexer": "ipython3",
   "version": "3.6.4"
  }
 },
 "nbformat": 4,
 "nbformat_minor": 2
}
