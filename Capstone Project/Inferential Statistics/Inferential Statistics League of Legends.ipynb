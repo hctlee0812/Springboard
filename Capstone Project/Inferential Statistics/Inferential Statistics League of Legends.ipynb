{
 "cells": [
  {
   "cell_type": "markdown",
   "metadata": {},
   "source": [
    "## Inferential Statistics: League of League Ranked Games"
   ]
  },
  {
   "cell_type": "markdown",
   "metadata": {},
   "source": [
    "### Overview"
   ]
  },
  {
   "cell_type": "markdown",
   "metadata": {},
   "source": [
    "Each game in League of Legends has a *blue* and *red* side. Although each side is **randomly assigned** for each game, each side has it's differences which may or may not be leading to advantages before the game even starts.\n",
    "\n",
    "Blue side has it's red buff on the **bottom side** (near their duo lane) whereas red side has it's red buff on the **top side** (near their top lane). Certain junglers who heavily rely on their mana in the jungle tend to start their blue buff first and getting randomly assigned to a red/blue side will **dictate** where the jungler finishes their early game jungle route (there will always be variations depending on jungler/strategy). \n",
    "\n",
    "This is noteworthy because not only will respective **lanes** be affected, but also **objectives** (towers, dragons, scuttle crab, rift herald, etc.) will be closer in proximity / on route for certain sides and junglers."
   ]
  },
  {
   "cell_type": "markdown",
   "metadata": {},
   "source": [
    "### With lanes and objectives impacted solely on randomly assigned sides for teams, I am curious and even doubt if the proportion of wins on the blue side is **equal** to the proportion of wins on the red side.\n"
   ]
  },
  {
   "cell_type": "code",
   "execution_count": 1,
   "metadata": {},
   "outputs": [],
   "source": [
    "# Import modules/packages\n",
    "\n",
    "import pandas as pd\n",
    "import numpy as np\n",
    "import matplotlib.pyplot as plt\n",
    "import seaborn as sns\n",
    "from scipy import stats\n",
    "import math\n",
    "import sys"
   ]
  },
  {
   "cell_type": "code",
   "execution_count": 2,
   "metadata": {},
   "outputs": [],
   "source": [
    "df = pd.read_csv('macro_stats.csv') # Import csv\n",
    "winner = df[['winner']].copy() # Make a copy of only neccessary column"
   ]
  },
  {
   "cell_type": "markdown",
   "metadata": {},
   "source": [
    "### Sample Proportion Calculation for Blue / Red Side Wins"
   ]
  },
  {
   "cell_type": "code",
   "execution_count": 3,
   "metadata": {},
   "outputs": [],
   "source": [
    "conditions = [ # Create list of current values\n",
    "        winner.winner == 1,\n",
    "        winner.winner == 2\n",
    "        ]\n",
    "choices = ['Blue', 'Red'] # Create list of new values\n",
    "\n",
    "winner['side'] = np.select(conditions, choices) # Map choices to conditions"
   ]
  },
  {
   "cell_type": "code",
   "execution_count": 4,
   "metadata": {},
   "outputs": [],
   "source": [
    "wins_b = winner[winner.side=='Blue']['winner'].count() # number of wins on blue side\n",
    "\n",
    "wins_r = winner[winner.side=='Red']['winner'].count() # number of wins on red side"
   ]
  },
  {
   "cell_type": "code",
   "execution_count": 10,
   "metadata": {},
   "outputs": [],
   "source": [
    "n = len(winner)# number of games"
   ]
  },
  {
   "cell_type": "code",
   "execution_count": 6,
   "metadata": {
    "scrolled": true
   },
   "outputs": [
    {
     "name": "stdout",
     "output_type": "stream",
     "text": [
      "The sample proportion of wins for blue side is 0.506\n",
      "The sample proportion of wins for red side is 0.494\n"
     ]
    }
   ],
   "source": [
    "prop_b = wins_b/n # win proportion for blue side\n",
    "\n",
    "prop_r = wins_r/n # win proportion for blue side\n",
    "\n",
    "print(\"The sample proportion of wins for blue side is \"+str(round(prop_b,3)))\n",
    "print(\"The sample proportion of wins for red side is \"+str(round(prop_r,3)))"
   ]
  },
  {
   "cell_type": "markdown",
   "metadata": {},
   "source": [
    "### Central Limit Theorem Conditions"
   ]
  },
  {
   "cell_type": "markdown",
   "metadata": {},
   "source": [
    "**Random Condition:** As mentioned above, teams are **randomly** assigned blue and red side. Thus, our sample **meets** the random condition of the Central Limit Theorem."
   ]
  },
  {
   "cell_type": "markdown",
   "metadata": {},
   "source": [
    "**Normal  Condition:** Both sample proportions of blue and red side wins, when multiplied by sample size, are **greater than 10**. Their proportions are both in the **middle of 0 and 1** as well as have a **large number of records**. Thus, this sampling distribution for both sample proportions **meet** the normal condition."
   ]
  },
  {
   "cell_type": "markdown",
   "metadata": {},
   "source": [
    "**Independence Condition:** Both samples have sample sizes that are **less than 10%** of the number of games played overall. Thus, this our sample distribution for both sample proportions **meet** the independent condition.\n"
   ]
  },
  {
   "cell_type": "markdown",
   "metadata": {},
   "source": [
    "### Null & Alternative Hypothesis"
   ]
  },
  {
   "cell_type": "markdown",
   "metadata": {},
   "source": [
    "*Null Hypothesis:* In terms of winning, there is **no difference** for teams assigned to either blue or red side.\n",
    "\n",
    "*Alternative Hypothesis:* In terms of winning, there **is a difference** for teams assigned to either blue or red side."
   ]
  },
  {
   "cell_type": "markdown",
   "metadata": {},
   "source": [
    "### Significance Level & Power"
   ]
  },
  {
   "cell_type": "markdown",
   "metadata": {},
   "source": [
    "**Significance Level**: α = 0.01 \n",
    "\n",
    "**Power**: We are worried of making a **Type I error** because if there is no difference between the sample proportion of wins on either blue or red side and reject this, players will leave games before the game starts if they're on an unfavorable side --- as a result they will be **wasting time** and **losing unneccessary  LP** (ranking points)."
   ]
  },
  {
   "cell_type": "markdown",
   "metadata": {},
   "source": [
    "### Margin of Error & Confidence Interval"
   ]
  },
  {
   "cell_type": "code",
   "execution_count": 7,
   "metadata": {
    "scrolled": false
   },
   "outputs": [
    {
     "name": "stdout",
     "output_type": "stream",
     "text": [
      "The difference between the sample proportions of the blue and red side is 0.013\n"
     ]
    }
   ],
   "source": [
    "prop_diff = prop_b - prop_r # sample statistic\n",
    "\n",
    "std_error = math.sqrt((prop_b * (1-prop_b) / n) + (prop_r * (1-prop_r)/n)) # standard error\n",
    "\n",
    "z_score = round(stats.norm.ppf(.995),3) # Z-score of 99% confidence interval\n",
    "\n",
    "print(\"The difference between the sample proportions of the blue and red side is\", round(prop_diff,3))"
   ]
  },
  {
   "cell_type": "code",
   "execution_count": 8,
   "metadata": {},
   "outputs": [
    {
     "name": "stdout",
     "output_type": "stream",
     "text": [
      "Margin of Error: 0.008\n",
      "Confidence Interval: [0.005, 0.021]\n"
     ]
    }
   ],
   "source": [
    "moe = z_score*std_error # margin of error\n",
    "\n",
    "lower = prop_diff - moe # lower level of confidence interval\n",
    "upper = prop_diff + moe # upper level of confidence interval\n",
    "\n",
    "print(\"Margin of Error:\", round(moe,3))\n",
    "print(\"Confidence Interval:\", [round(lower,3),round(upper,3)])"
   ]
  },
  {
   "cell_type": "markdown",
   "metadata": {},
   "source": [
    "The is a **99% chance** that the true difference between blue and red side winning percentages is between *.005 and .021.*\n",
    "\n",
    "This means we are **99% confident** that there exists a difference between blue and red side winning percentages in which players assigned to blue side are more favorable to win.\n",
    "\n"
   ]
  },
  {
   "cell_type": "markdown",
   "metadata": {},
   "source": [
    "### Z-Score & P-Value"
   ]
  },
  {
   "cell_type": "code",
   "execution_count": 9,
   "metadata": {},
   "outputs": [
    {
     "name": "stdout",
     "output_type": "stream",
     "text": [
      "Z-score: 4.14\n",
      "P-Value: 0.0\n"
     ]
    }
   ],
   "source": [
    "p = prop_b = prop_r # assuming null hypothesis is true\n",
    "\n",
    "p_hat = (wins_b + wins_r) / (n + n) # new proportion assuming null-hypothesis is true\n",
    "\n",
    "std_error = math.sqrt((2 * p_hat * (1-p_hat))/n) # standard error of sampling proportion assuming null-hypothesis is true\n",
    "\n",
    "z_score = (prop_diff - 0)/std_error # calculate z score\n",
    "\n",
    "p_value = stats.norm.sf(abs(z_score)) #calculate p-value\n",
    "\n",
    "print('Z-score:', round(z_score,2))\n",
    "print('P-Value:', round(p_value,4))"
   ]
  },
  {
   "cell_type": "markdown",
   "metadata": {},
   "source": [
    "The probability of getting a Z-score **as extreme or more extreme*** than 4.14 is 0% (p-value = 0.0), *assuming the null-hypothesis is true*. \n",
    "\n",
    "Since our p-value is **less than** our predetermined significance level of 0.01, we **reject** the null hypothesis and assume **statistical significance** in the difference between proportions of blue and red side win percentages."
   ]
  },
  {
   "cell_type": "markdown",
   "metadata": {},
   "source": [
    "### Conclusion"
   ]
  },
  {
   "cell_type": "markdown",
   "metadata": {},
   "source": [
    "Firstly, our statistical analysis says that we are *confident* that the true difference between winning percentages on blue and red side is between 0.005 and 0.021, 99% of the time. Thus, we are quite confident that the true difference is between 0.005 and 0.021 **BUT** that percentage is **AT MOST** less than 2%. \n",
    "\n",
    "Furthermore, our analysis **ONLY** looked at the relationship between assigned sides and winning percentages. There are a couple more variables to look and to uncover the correlation between such as win percentages of certain champions and even looking at success rate of all the combinations of champions (which may get quite complex).\n",
    "\n",
    "Thus, if I were making suggestions to a player seeking to rise up the ranking ladder, I would not advise him to leave a game if randomly sorted to a specific side based on statistical **AND** practical significance. "
   ]
  }
 ],
 "metadata": {
  "kernelspec": {
   "display_name": "Python 3",
   "language": "python",
   "name": "python3"
  },
  "language_info": {
   "codemirror_mode": {
    "name": "ipython",
    "version": 3
   },
   "file_extension": ".py",
   "mimetype": "text/x-python",
   "name": "python",
   "nbconvert_exporter": "python",
   "pygments_lexer": "ipython3",
   "version": "3.6.4"
  }
 },
 "nbformat": 4,
 "nbformat_minor": 2
}
