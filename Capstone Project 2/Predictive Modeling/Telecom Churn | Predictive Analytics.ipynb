{
 "cells": [
  {
   "cell_type": "markdown",
   "metadata": {},
   "source": [
    "# Telecom Churn | Predictive Analytics"
   ]
  },
  {
   "cell_type": "markdown",
   "metadata": {},
   "source": [
    "**Background:** There are many variables in this dataset so the most important part of this process is to reduce the number of variables **to avoid overfitting** and **to avoid the curse of dimensionality**. We will compare 3 algorithms (Random Forest, Gradient Boosting, SVM) and use the most appropriate model to predict churn as well as use the most important features to take actionable steps."
   ]
  },
  {
   "cell_type": "markdown",
   "metadata": {},
   "source": [
    "**Analysis Objective:** After creating, training, cross validating our model, we want our client to be able to **take action on current customers** (ex: sending specific promotional, gratituous offers etc) **to reduce churn rate**."
   ]
  },
  {
   "cell_type": "markdown",
   "metadata": {},
   "source": [
    "### Import modules"
   ]
  },
  {
   "cell_type": "code",
   "execution_count": 1,
   "metadata": {},
   "outputs": [],
   "source": [
    "%matplotlib inline\n",
    "import pandas as pd\n",
    "import numpy as np\n",
    "import matplotlib.pyplot as plt\n",
    "import sys\n",
    "import os\n",
    "import seaborn as sns"
   ]
  },
  {
   "cell_type": "code",
   "execution_count": 2,
   "metadata": {
    "scrolled": false
   },
   "outputs": [
    {
     "data": {
      "text/html": [
       "<div>\n",
       "<style scoped>\n",
       "    .dataframe tbody tr th:only-of-type {\n",
       "        vertical-align: middle;\n",
       "    }\n",
       "\n",
       "    .dataframe tbody tr th {\n",
       "        vertical-align: top;\n",
       "    }\n",
       "\n",
       "    .dataframe thead th {\n",
       "        text-align: right;\n",
       "    }\n",
       "</style>\n",
       "<table border=\"1\" class=\"dataframe\">\n",
       "  <thead>\n",
       "    <tr style=\"text-align: right;\">\n",
       "      <th></th>\n",
       "      <th>gender</th>\n",
       "      <th>SeniorCitizen</th>\n",
       "      <th>Partner</th>\n",
       "      <th>Dependents</th>\n",
       "      <th>tenure</th>\n",
       "      <th>PhoneService</th>\n",
       "      <th>MultipleLines</th>\n",
       "      <th>InternetService</th>\n",
       "      <th>OnlineSecurity</th>\n",
       "      <th>OnlineBackup</th>\n",
       "      <th>DeviceProtection</th>\n",
       "      <th>TechSupport</th>\n",
       "      <th>StreamingTV</th>\n",
       "      <th>StreamingMovies</th>\n",
       "      <th>Contract</th>\n",
       "      <th>PaperlessBilling</th>\n",
       "      <th>PaymentMethod</th>\n",
       "      <th>MonthlyCharges</th>\n",
       "      <th>TotalCharges</th>\n",
       "      <th>Churn</th>\n",
       "    </tr>\n",
       "  </thead>\n",
       "  <tbody>\n",
       "    <tr>\n",
       "      <th>0</th>\n",
       "      <td>0</td>\n",
       "      <td>0</td>\n",
       "      <td>1</td>\n",
       "      <td>0</td>\n",
       "      <td>1</td>\n",
       "      <td>0</td>\n",
       "      <td>1</td>\n",
       "      <td>0</td>\n",
       "      <td>0</td>\n",
       "      <td>2</td>\n",
       "      <td>0</td>\n",
       "      <td>0</td>\n",
       "      <td>0</td>\n",
       "      <td>0</td>\n",
       "      <td>0</td>\n",
       "      <td>1</td>\n",
       "      <td>2</td>\n",
       "      <td>142</td>\n",
       "      <td>2505</td>\n",
       "      <td>0</td>\n",
       "    </tr>\n",
       "    <tr>\n",
       "      <th>1</th>\n",
       "      <td>1</td>\n",
       "      <td>0</td>\n",
       "      <td>0</td>\n",
       "      <td>0</td>\n",
       "      <td>34</td>\n",
       "      <td>1</td>\n",
       "      <td>0</td>\n",
       "      <td>0</td>\n",
       "      <td>2</td>\n",
       "      <td>0</td>\n",
       "      <td>2</td>\n",
       "      <td>0</td>\n",
       "      <td>0</td>\n",
       "      <td>0</td>\n",
       "      <td>1</td>\n",
       "      <td>0</td>\n",
       "      <td>3</td>\n",
       "      <td>498</td>\n",
       "      <td>1466</td>\n",
       "      <td>0</td>\n",
       "    </tr>\n",
       "    <tr>\n",
       "      <th>2</th>\n",
       "      <td>1</td>\n",
       "      <td>0</td>\n",
       "      <td>0</td>\n",
       "      <td>0</td>\n",
       "      <td>2</td>\n",
       "      <td>1</td>\n",
       "      <td>0</td>\n",
       "      <td>0</td>\n",
       "      <td>2</td>\n",
       "      <td>2</td>\n",
       "      <td>0</td>\n",
       "      <td>0</td>\n",
       "      <td>0</td>\n",
       "      <td>0</td>\n",
       "      <td>0</td>\n",
       "      <td>1</td>\n",
       "      <td>3</td>\n",
       "      <td>436</td>\n",
       "      <td>157</td>\n",
       "      <td>1</td>\n",
       "    </tr>\n",
       "    <tr>\n",
       "      <th>3</th>\n",
       "      <td>1</td>\n",
       "      <td>0</td>\n",
       "      <td>0</td>\n",
       "      <td>0</td>\n",
       "      <td>45</td>\n",
       "      <td>0</td>\n",
       "      <td>1</td>\n",
       "      <td>0</td>\n",
       "      <td>2</td>\n",
       "      <td>0</td>\n",
       "      <td>2</td>\n",
       "      <td>2</td>\n",
       "      <td>0</td>\n",
       "      <td>0</td>\n",
       "      <td>1</td>\n",
       "      <td>0</td>\n",
       "      <td>0</td>\n",
       "      <td>266</td>\n",
       "      <td>1400</td>\n",
       "      <td>0</td>\n",
       "    </tr>\n",
       "    <tr>\n",
       "      <th>4</th>\n",
       "      <td>0</td>\n",
       "      <td>0</td>\n",
       "      <td>0</td>\n",
       "      <td>0</td>\n",
       "      <td>2</td>\n",
       "      <td>1</td>\n",
       "      <td>0</td>\n",
       "      <td>1</td>\n",
       "      <td>0</td>\n",
       "      <td>0</td>\n",
       "      <td>0</td>\n",
       "      <td>0</td>\n",
       "      <td>0</td>\n",
       "      <td>0</td>\n",
       "      <td>0</td>\n",
       "      <td>1</td>\n",
       "      <td>2</td>\n",
       "      <td>729</td>\n",
       "      <td>925</td>\n",
       "      <td>1</td>\n",
       "    </tr>\n",
       "  </tbody>\n",
       "</table>\n",
       "</div>"
      ],
      "text/plain": [
       "   gender  SeniorCitizen  Partner  Dependents  tenure  PhoneService  \\\n",
       "0       0              0        1           0       1             0   \n",
       "1       1              0        0           0      34             1   \n",
       "2       1              0        0           0       2             1   \n",
       "3       1              0        0           0      45             0   \n",
       "4       0              0        0           0       2             1   \n",
       "\n",
       "   MultipleLines  InternetService  OnlineSecurity  OnlineBackup  \\\n",
       "0              1                0               0             2   \n",
       "1              0                0               2             0   \n",
       "2              0                0               2             2   \n",
       "3              1                0               2             0   \n",
       "4              0                1               0             0   \n",
       "\n",
       "   DeviceProtection  TechSupport  StreamingTV  StreamingMovies  Contract  \\\n",
       "0                 0            0            0                0         0   \n",
       "1                 2            0            0                0         1   \n",
       "2                 0            0            0                0         0   \n",
       "3                 2            2            0                0         1   \n",
       "4                 0            0            0                0         0   \n",
       "\n",
       "   PaperlessBilling  PaymentMethod  MonthlyCharges  TotalCharges  Churn  \n",
       "0                 1              2             142          2505      0  \n",
       "1                 0              3             498          1466      0  \n",
       "2                 1              3             436           157      1  \n",
       "3                 0              0             266          1400      0  \n",
       "4                 1              2             729           925      1  "
      ]
     },
     "execution_count": 2,
     "metadata": {},
     "output_type": "execute_result"
    }
   ],
   "source": [
    "churn = 'churn.csv' # import data\n",
    "df = pd.read_csv(churn)\n",
    "df = df.iloc[:, 1:]\n",
    "df = df.drop(['customerID'],axis=1)\n",
    "df.head()"
   ]
  },
  {
   "cell_type": "markdown",
   "metadata": {},
   "source": [
    "## Normalize Features"
   ]
  },
  {
   "cell_type": "code",
   "execution_count": 3,
   "metadata": {
    "scrolled": true
   },
   "outputs": [
    {
     "name": "stderr",
     "output_type": "stream",
     "text": [
      "/anaconda3/lib/python3.6/site-packages/sklearn/utils/validation.py:475: DataConversionWarning: Data with input dtype int64 was converted to float64 by StandardScaler.\n",
      "  warnings.warn(msg, DataConversionWarning)\n"
     ]
    }
   ],
   "source": [
    "# prep for normalizing\n",
    "X = df.iloc[:,0:19].values\n",
    "y = df.iloc[:,19].values\n",
    "\n",
    "# normalize so prediction on features will be on same scale\n",
    "from sklearn.preprocessing import StandardScaler\n",
    "X_std = StandardScaler().fit_transform(X)\n",
    "dfNorm = pd.DataFrame(X_std, index=df.index, columns=df.columns[0:19])\n",
    "\n",
    "# add target variable to dataframe\n",
    "dfNorm['churn'] = df['Churn']\n",
    "\n",
    "# prep X and y arrays\n",
    "X = dfNorm.iloc[:,0:19].values\n",
    "y = dfNorm.iloc[:,19].values"
   ]
  },
  {
   "cell_type": "markdown",
   "metadata": {},
   "source": [
    "## Create Training and Test Data"
   ]
  },
  {
   "cell_type": "code",
   "execution_count": 4,
   "metadata": {},
   "outputs": [
    {
     "data": {
      "text/plain": [
       "((5634, 19), (5634,), (1409, 19), (1409,))"
      ]
     },
     "execution_count": 4,
     "metadata": {},
     "output_type": "execute_result"
    }
   ],
   "source": [
    "# create training data to tune model and test data to validate/test w/ unseen data\n",
    "from sklearn.model_selection import train_test_split\n",
    "\n",
    "X_train, X_test, y_train, y_test = train_test_split(X, y, test_size=0.2, random_state=0)\n",
    "\n",
    "X_train.shape, y_train.shape, X_test.shape , y_test.shape"
   ]
  },
  {
   "cell_type": "markdown",
   "metadata": {},
   "source": [
    "## Create Model Functions"
   ]
  },
  {
   "cell_type": "code",
   "execution_count": 5,
   "metadata": {},
   "outputs": [
    {
     "name": "stderr",
     "output_type": "stream",
     "text": [
      "/anaconda3/lib/python3.6/site-packages/sklearn/cross_validation.py:41: DeprecationWarning: This module was deprecated in version 0.18 in favor of the model_selection module into which all the refactored classes and functions are moved. Also note that the interface of the new CV iterators are different from that of this module. This module will be removed in 0.20.\n",
      "  \"This module will be removed in 0.20.\", DeprecationWarning)\n"
     ]
    }
   ],
   "source": [
    "from sklearn import cross_validation, metrics # Additional scklearn functions\n",
    "\n",
    "def modelfit(alg, dtrain, predictors, performCV=True, printFeatureImportance=True, cv_folds=5):\n",
    "    #Fit the algorithm on the data\n",
    "    alg.fit(dfNorm[predictors], dfNorm['churn'])\n",
    "        \n",
    "    #Predict training set:\n",
    "    dtrain_predictions = alg.predict(dfNorm[predictors])\n",
    "    dtrain_predprob = alg.predict_proba(dfNorm[predictors])[:,1]\n",
    "    \n",
    "    #Perform cross-validation:\n",
    "    if performCV:\n",
    "        cv_score = cross_validation.cross_val_score(alg, dfNorm[predictors], dfNorm['churn'], cv=cv_folds, scoring='roc_auc')\n",
    "    \n",
    "    #Print model report:\n",
    "    print(\"\\nModel Report\")\n",
    "    print(\"Accuracy : %.4g\" % metrics.accuracy_score(dfNorm['churn'].values, dtrain_predictions))\n",
    "    print(\"AUC Score (Train): %f\" % metrics.roc_auc_score(dfNorm['churn'], dtrain_predprob))\n",
    "    \n",
    "    if performCV:\n",
    "        print(\"CV Score : Mean - %.7g | Std - %.7g | Min - %.7g | Max - %.7g\" % (np.mean(cv_score),np.std(cv_score),np.min(cv_score),np.max(cv_score)))\n",
    "        \n",
    "    #Print Feature Importance:\n",
    "    if printFeatureImportance:\n",
    "        feat_imp = pd.Series(alg.feature_importances_, predictors).sort_values(ascending=False)\n",
    "        feat_imp.plot(kind='bar', title='Feature Importances')\n",
    "        plt.ylabel('Feature Importance Score')"
   ]
  },
  {
   "cell_type": "markdown",
   "metadata": {},
   "source": [
    "## 1. Random Forest Classifier"
   ]
  },
  {
   "cell_type": "markdown",
   "metadata": {},
   "source": [
    "**Model Explanation:** The Random Forest is an ensemble method of the decision tree. The goal of a decision tree is to determine branches that reduce the residual sums of squares the most, and provide the most predictive leaves as possible -- growing branches that reduce classification error.\n",
    "\n",
    "We look across all trees to see how many times that observation was predicted. A class is then assigned to that observation if it is predicted from the majority of bagged trees. This works to decorrelate trees used in random forest, and is useful in automatically combating multi-collinearity.\n",
    "\n",
    "We take an entropy-like measure, and try to reduce the amount of entropy at each branch to provide the best branch split. The Gini Index is a commonly used metric."
   ]
  },
  {
   "cell_type": "markdown",
   "metadata": {},
   "source": [
    "#### Random Hyperparameter Tuning"
   ]
  },
  {
   "cell_type": "markdown",
   "metadata": {},
   "source": [
    "We are not trying every combination, but selecting at random to sample a wide range of values."
   ]
  },
  {
   "cell_type": "code",
   "execution_count": 6,
   "metadata": {
    "scrolled": true
   },
   "outputs": [],
   "source": [
    "from sklearn.ensemble import RandomForestClassifier\n",
    "from sklearn.model_selection import RandomizedSearchCV\n",
    "predictors = ['gender','SeniorCitizen','Partner','Dependents','tenure','PhoneService','MultipleLines','InternetService',\n",
    "              'OnlineSecurity','OnlineBackup','DeviceProtection','TechSupport','StreamingTV','StreamingMovies','Contract',\n",
    "             'PaperlessBilling','PaymentMethod','MonthlyCharges','TotalCharges']\n",
    "\n",
    "# Number of trees in random forest\n",
    "n_estimators = list(range(200,2000,10))\n",
    "# Gini or Entropy to measure quality of split\n",
    "# Gini(better for continuous attributes) /Entropy (log based function, more computationally expensive, better for discrete attributes)\n",
    "criterion = ['gini','entropy']\n",
    "# Number of features to consider at every split \n",
    "# improves performance w/ more choices at each leaf but also decreases diversity of each tree.\n",
    "max_features = ['auto', 'sqrt','log2']\n",
    "# Maximum number of levels in tree\n",
    "max_depth = list(range(10,110,10))\n",
    "max_depth.append(None)\n",
    "# Minimum number of samples required to split a node\n",
    "min_samples_split = [2, 5, 10]\n",
    "# Minimum number of samples required at each leaf node\n",
    "# smaller leaf makes the model more prone to capturing noise in train data\n",
    "min_samples_leaf = [1, 2, 4]\n",
    "# Method of selecting samples for training each tree\n",
    "bootstrap = [True, False]\n",
    "\n",
    "\n",
    "\n",
    "# Create the random grid\n",
    "random_grid = {'n_estimators': n_estimators,\n",
    "               'max_features': max_features,\n",
    "               'criterion': criterion,\n",
    "               'max_depth': max_depth,\n",
    "               'min_samples_split': min_samples_split,\n",
    "               'min_samples_leaf': min_samples_leaf,\n",
    "               'bootstrap': bootstrap}"
   ]
  },
  {
   "cell_type": "code",
   "execution_count": 7,
   "metadata": {
    "scrolled": true
   },
   "outputs": [
    {
     "name": "stdout",
     "output_type": "stream",
     "text": [
      "Fitting 3 folds for each of 100 candidates, totalling 300 fits\n",
      "[CV] n_estimators=1180, min_samples_split=10, min_samples_leaf=1, max_features=auto, max_depth=40, criterion=gini, bootstrap=False \n",
      "[CV] n_estimators=1180, min_samples_split=10, min_samples_leaf=1, max_features=auto, max_depth=40, criterion=gini, bootstrap=False \n",
      "[CV] n_estimators=1180, min_samples_split=10, min_samples_leaf=1, max_features=auto, max_depth=40, criterion=gini, bootstrap=False \n",
      "[CV] n_estimators=1870, min_samples_split=10, min_samples_leaf=2, max_features=auto, max_depth=90, criterion=gini, bootstrap=False \n",
      "[CV]  n_estimators=1180, min_samples_split=10, min_samples_leaf=1, max_features=auto, max_depth=40, criterion=gini, bootstrap=False, total=  17.3s\n",
      "[CV] n_estimators=1870, min_samples_split=10, min_samples_leaf=2, max_features=auto, max_depth=90, criterion=gini, bootstrap=False \n",
      "[CV]  n_estimators=1180, min_samples_split=10, min_samples_leaf=1, max_features=auto, max_depth=40, criterion=gini, bootstrap=False, total=  17.4s\n",
      "[CV] n_estimators=1870, min_samples_split=10, min_samples_leaf=2, max_features=auto, max_depth=90, criterion=gini, bootstrap=False \n",
      "[CV]  n_estimators=1180, min_samples_split=10, min_samples_leaf=1, max_features=auto, max_depth=40, criterion=gini, bootstrap=False, total=  17.5s\n",
      "[CV] n_estimators=1920, min_samples_split=2, min_samples_leaf=2, max_features=auto, max_depth=60, criterion=gini, bootstrap=False \n",
      "[CV]  n_estimators=1870, min_samples_split=10, min_samples_leaf=2, max_features=auto, max_depth=90, criterion=gini, bootstrap=False, total=  30.5s\n",
      "[CV] n_estimators=1920, min_samples_split=2, min_samples_leaf=2, max_features=auto, max_depth=60, criterion=gini, bootstrap=False \n",
      "[CV]  n_estimators=1870, min_samples_split=10, min_samples_leaf=2, max_features=auto, max_depth=90, criterion=gini, bootstrap=False, total=  29.0s\n",
      "[CV] n_estimators=1920, min_samples_split=2, min_samples_leaf=2, max_features=auto, max_depth=60, criterion=gini, bootstrap=False \n",
      "[CV]  n_estimators=1870, min_samples_split=10, min_samples_leaf=2, max_features=auto, max_depth=90, criterion=gini, bootstrap=False, total=  28.9s\n",
      "[CV] n_estimators=340, min_samples_split=2, min_samples_leaf=1, max_features=sqrt, max_depth=None, criterion=entropy, bootstrap=True \n",
      "[CV]  n_estimators=1920, min_samples_split=2, min_samples_leaf=2, max_features=auto, max_depth=60, criterion=gini, bootstrap=False, total=  30.9s\n",
      "[CV] n_estimators=340, min_samples_split=2, min_samples_leaf=1, max_features=sqrt, max_depth=None, criterion=entropy, bootstrap=True \n",
      "[CV]  n_estimators=340, min_samples_split=2, min_samples_leaf=1, max_features=sqrt, max_depth=None, criterion=entropy, bootstrap=True, total=   3.7s\n",
      "[CV] n_estimators=340, min_samples_split=2, min_samples_leaf=1, max_features=sqrt, max_depth=None, criterion=entropy, bootstrap=True \n",
      "[CV]  n_estimators=340, min_samples_split=2, min_samples_leaf=1, max_features=sqrt, max_depth=None, criterion=entropy, bootstrap=True, total=   3.6s\n",
      "[CV] n_estimators=1990, min_samples_split=10, min_samples_leaf=4, max_features=sqrt, max_depth=30, criterion=gini, bootstrap=False \n",
      "[CV]  n_estimators=340, min_samples_split=2, min_samples_leaf=1, max_features=sqrt, max_depth=None, criterion=entropy, bootstrap=True, total=   3.6s\n",
      "[CV] n_estimators=1990, min_samples_split=10, min_samples_leaf=4, max_features=sqrt, max_depth=30, criterion=gini, bootstrap=False \n",
      "[CV]  n_estimators=1920, min_samples_split=2, min_samples_leaf=2, max_features=auto, max_depth=60, criterion=gini, bootstrap=False, total=  22.9s\n",
      "[CV] n_estimators=1990, min_samples_split=10, min_samples_leaf=4, max_features=sqrt, max_depth=30, criterion=gini, bootstrap=False \n",
      "[CV]  n_estimators=1920, min_samples_split=2, min_samples_leaf=2, max_features=auto, max_depth=60, criterion=gini, bootstrap=False, total=  20.8s\n",
      "[CV] n_estimators=1280, min_samples_split=2, min_samples_leaf=1, max_features=log2, max_depth=10, criterion=gini, bootstrap=False \n",
      "[CV]  n_estimators=1990, min_samples_split=10, min_samples_leaf=4, max_features=sqrt, max_depth=30, criterion=gini, bootstrap=False, total=  19.5s\n",
      "[CV] n_estimators=1280, min_samples_split=2, min_samples_leaf=1, max_features=log2, max_depth=10, criterion=gini, bootstrap=False \n",
      "[CV]  n_estimators=1990, min_samples_split=10, min_samples_leaf=4, max_features=sqrt, max_depth=30, criterion=gini, bootstrap=False, total=  19.4s\n",
      "[CV] n_estimators=1280, min_samples_split=2, min_samples_leaf=1, max_features=log2, max_depth=10, criterion=gini, bootstrap=False \n",
      "[CV]  n_estimators=1990, min_samples_split=10, min_samples_leaf=4, max_features=sqrt, max_depth=30, criterion=gini, bootstrap=False, total=  19.3s\n",
      "[CV] n_estimators=1920, min_samples_split=10, min_samples_leaf=1, max_features=log2, max_depth=100, criterion=entropy, bootstrap=False \n",
      "[CV]  n_estimators=1280, min_samples_split=2, min_samples_leaf=1, max_features=log2, max_depth=10, criterion=gini, bootstrap=False, total=  12.0s\n",
      "[CV] n_estimators=1920, min_samples_split=10, min_samples_leaf=1, max_features=log2, max_depth=100, criterion=entropy, bootstrap=False \n",
      "[CV]  n_estimators=1280, min_samples_split=2, min_samples_leaf=1, max_features=log2, max_depth=10, criterion=gini, bootstrap=False, total=  12.1s\n",
      "[CV] n_estimators=1920, min_samples_split=10, min_samples_leaf=1, max_features=log2, max_depth=100, criterion=entropy, bootstrap=False \n",
      "[CV]  n_estimators=1280, min_samples_split=2, min_samples_leaf=1, max_features=log2, max_depth=10, criterion=gini, bootstrap=False, total=  12.1s\n",
      "[CV] n_estimators=1860, min_samples_split=5, min_samples_leaf=4, max_features=auto, max_depth=10, criterion=entropy, bootstrap=True \n",
      "[CV]  n_estimators=1920, min_samples_split=10, min_samples_leaf=1, max_features=log2, max_depth=100, criterion=entropy, bootstrap=False, total=  24.8s\n",
      "[CV] n_estimators=1860, min_samples_split=5, min_samples_leaf=4, max_features=auto, max_depth=10, criterion=entropy, bootstrap=True \n",
      "[CV]  n_estimators=1860, min_samples_split=5, min_samples_leaf=4, max_features=auto, max_depth=10, criterion=entropy, bootstrap=True, total=  15.6s\n",
      "[CV] n_estimators=1860, min_samples_split=5, min_samples_leaf=4, max_features=auto, max_depth=10, criterion=entropy, bootstrap=True \n",
      "[CV]  n_estimators=1920, min_samples_split=10, min_samples_leaf=1, max_features=log2, max_depth=100, criterion=entropy, bootstrap=False, total=  24.6s\n",
      "[CV] n_estimators=1970, min_samples_split=2, min_samples_leaf=4, max_features=auto, max_depth=70, criterion=gini, bootstrap=False \n",
      "[CV]  n_estimators=1920, min_samples_split=10, min_samples_leaf=1, max_features=log2, max_depth=100, criterion=entropy, bootstrap=False, total=  24.5s\n",
      "[CV] n_estimators=1970, min_samples_split=2, min_samples_leaf=4, max_features=auto, max_depth=70, criterion=gini, bootstrap=False \n",
      "[CV]  n_estimators=1860, min_samples_split=5, min_samples_leaf=4, max_features=auto, max_depth=10, criterion=entropy, bootstrap=True, total=  16.0s\n",
      "[CV] n_estimators=1970, min_samples_split=2, min_samples_leaf=4, max_features=auto, max_depth=70, criterion=gini, bootstrap=False \n",
      "[CV]  n_estimators=1860, min_samples_split=5, min_samples_leaf=4, max_features=auto, max_depth=10, criterion=entropy, bootstrap=True, total=  15.9s\n",
      "[CV] n_estimators=1780, min_samples_split=2, min_samples_leaf=4, max_features=log2, max_depth=None, criterion=entropy, bootstrap=False \n",
      "[CV]  n_estimators=1970, min_samples_split=2, min_samples_leaf=4, max_features=auto, max_depth=70, criterion=gini, bootstrap=False, total=  22.0s\n",
      "[CV] n_estimators=1780, min_samples_split=2, min_samples_leaf=4, max_features=log2, max_depth=None, criterion=entropy, bootstrap=False \n",
      "[CV]  n_estimators=1970, min_samples_split=2, min_samples_leaf=4, max_features=auto, max_depth=70, criterion=gini, bootstrap=False, total=  27.3s\n",
      "[CV] n_estimators=1780, min_samples_split=2, min_samples_leaf=4, max_features=log2, max_depth=None, criterion=entropy, bootstrap=False \n",
      "[CV]  n_estimators=1970, min_samples_split=2, min_samples_leaf=4, max_features=auto, max_depth=70, criterion=gini, bootstrap=False, total=  32.1s\n",
      "[CV] n_estimators=1660, min_samples_split=5, min_samples_leaf=4, max_features=sqrt, max_depth=20, criterion=entropy, bootstrap=False \n",
      "[CV]  n_estimators=1780, min_samples_split=2, min_samples_leaf=4, max_features=log2, max_depth=None, criterion=entropy, bootstrap=False, total=  35.9s\n"
     ]
    },
    {
     "name": "stdout",
     "output_type": "stream",
     "text": [
      "[CV] n_estimators=1660, min_samples_split=5, min_samples_leaf=4, max_features=sqrt, max_depth=20, criterion=entropy, bootstrap=False \n",
      "[CV]  n_estimators=1780, min_samples_split=2, min_samples_leaf=4, max_features=log2, max_depth=None, criterion=entropy, bootstrap=False, total=  35.3s\n",
      "[CV] n_estimators=1660, min_samples_split=5, min_samples_leaf=4, max_features=sqrt, max_depth=20, criterion=entropy, bootstrap=False \n",
      "[CV]  n_estimators=1780, min_samples_split=2, min_samples_leaf=4, max_features=log2, max_depth=None, criterion=entropy, bootstrap=False, total=  31.6s\n",
      "[CV] n_estimators=380, min_samples_split=2, min_samples_leaf=1, max_features=auto, max_depth=80, criterion=entropy, bootstrap=True \n",
      "[CV]  n_estimators=380, min_samples_split=2, min_samples_leaf=1, max_features=auto, max_depth=80, criterion=entropy, bootstrap=True, total=   5.3s\n",
      "[CV] n_estimators=380, min_samples_split=2, min_samples_leaf=1, max_features=auto, max_depth=80, criterion=entropy, bootstrap=True \n",
      "[CV]  n_estimators=1660, min_samples_split=5, min_samples_leaf=4, max_features=sqrt, max_depth=20, criterion=entropy, bootstrap=False, total=  27.8s\n",
      "[CV] n_estimators=380, min_samples_split=2, min_samples_leaf=1, max_features=auto, max_depth=80, criterion=entropy, bootstrap=True \n",
      "[CV]  n_estimators=380, min_samples_split=2, min_samples_leaf=1, max_features=auto, max_depth=80, criterion=entropy, bootstrap=True, total=   5.4s\n",
      "[CV] n_estimators=670, min_samples_split=10, min_samples_leaf=2, max_features=auto, max_depth=20, criterion=gini, bootstrap=False \n"
     ]
    },
    {
     "name": "stderr",
     "output_type": "stream",
     "text": [
      "[Parallel(n_jobs=-1)]: Done  33 tasks      | elapsed:  3.3min\n"
     ]
    },
    {
     "name": "stdout",
     "output_type": "stream",
     "text": [
      "[CV]  n_estimators=1660, min_samples_split=5, min_samples_leaf=4, max_features=sqrt, max_depth=20, criterion=entropy, bootstrap=False, total=  27.9s\n",
      "[CV] n_estimators=670, min_samples_split=10, min_samples_leaf=2, max_features=auto, max_depth=20, criterion=gini, bootstrap=False \n",
      "[CV]  n_estimators=380, min_samples_split=2, min_samples_leaf=1, max_features=auto, max_depth=80, criterion=entropy, bootstrap=True, total=   5.7s\n",
      "[CV] n_estimators=670, min_samples_split=10, min_samples_leaf=2, max_features=auto, max_depth=20, criterion=gini, bootstrap=False \n",
      "[CV]  n_estimators=1660, min_samples_split=5, min_samples_leaf=4, max_features=sqrt, max_depth=20, criterion=entropy, bootstrap=False, total=  27.4s\n",
      "[CV] n_estimators=1640, min_samples_split=10, min_samples_leaf=4, max_features=log2, max_depth=40, criterion=gini, bootstrap=False \n",
      "[CV]  n_estimators=670, min_samples_split=10, min_samples_leaf=2, max_features=auto, max_depth=20, criterion=gini, bootstrap=False, total=   9.6s\n",
      "[CV] n_estimators=1640, min_samples_split=10, min_samples_leaf=4, max_features=log2, max_depth=40, criterion=gini, bootstrap=False \n",
      "[CV]  n_estimators=670, min_samples_split=10, min_samples_leaf=2, max_features=auto, max_depth=20, criterion=gini, bootstrap=False, total=   9.6s\n",
      "[CV] n_estimators=1640, min_samples_split=10, min_samples_leaf=4, max_features=log2, max_depth=40, criterion=gini, bootstrap=False \n",
      "[CV]  n_estimators=670, min_samples_split=10, min_samples_leaf=2, max_features=auto, max_depth=20, criterion=gini, bootstrap=False, total=   9.9s\n",
      "[CV] n_estimators=830, min_samples_split=5, min_samples_leaf=1, max_features=auto, max_depth=40, criterion=entropy, bootstrap=False \n",
      "[CV]  n_estimators=830, min_samples_split=5, min_samples_leaf=1, max_features=auto, max_depth=40, criterion=entropy, bootstrap=False, total=  15.8s\n",
      "[CV] n_estimators=830, min_samples_split=5, min_samples_leaf=1, max_features=auto, max_depth=40, criterion=entropy, bootstrap=False \n",
      "[CV]  n_estimators=1640, min_samples_split=10, min_samples_leaf=4, max_features=log2, max_depth=40, criterion=gini, bootstrap=False, total=  22.4s\n",
      "[CV]  n_estimators=1640, min_samples_split=10, min_samples_leaf=4, max_features=log2, max_depth=40, criterion=gini, bootstrap=False, total=  22.5s\n",
      "[CV] n_estimators=830, min_samples_split=5, min_samples_leaf=1, max_features=auto, max_depth=40, criterion=entropy, bootstrap=False \n",
      "[CV] n_estimators=1950, min_samples_split=2, min_samples_leaf=1, max_features=sqrt, max_depth=70, criterion=entropy, bootstrap=False \n",
      "[CV]  n_estimators=1640, min_samples_split=10, min_samples_leaf=4, max_features=log2, max_depth=40, criterion=gini, bootstrap=False, total=  23.2s\n",
      "[CV] n_estimators=1950, min_samples_split=2, min_samples_leaf=1, max_features=sqrt, max_depth=70, criterion=entropy, bootstrap=False \n",
      "[CV]  n_estimators=830, min_samples_split=5, min_samples_leaf=1, max_features=auto, max_depth=40, criterion=entropy, bootstrap=False, total=  17.8s\n",
      "[CV] n_estimators=1950, min_samples_split=2, min_samples_leaf=1, max_features=sqrt, max_depth=70, criterion=entropy, bootstrap=False \n",
      "[CV]  n_estimators=830, min_samples_split=5, min_samples_leaf=1, max_features=auto, max_depth=40, criterion=entropy, bootstrap=False, total=  17.1s\n",
      "[CV] n_estimators=230, min_samples_split=10, min_samples_leaf=4, max_features=auto, max_depth=40, criterion=gini, bootstrap=True \n",
      "[CV]  n_estimators=230, min_samples_split=10, min_samples_leaf=4, max_features=auto, max_depth=40, criterion=gini, bootstrap=True, total=   2.6s\n",
      "[CV] n_estimators=230, min_samples_split=10, min_samples_leaf=4, max_features=auto, max_depth=40, criterion=gini, bootstrap=True \n",
      "[CV]  n_estimators=230, min_samples_split=10, min_samples_leaf=4, max_features=auto, max_depth=40, criterion=gini, bootstrap=True, total=   2.6s\n",
      "[CV] n_estimators=230, min_samples_split=10, min_samples_leaf=4, max_features=auto, max_depth=40, criterion=gini, bootstrap=True \n",
      "[CV]  n_estimators=230, min_samples_split=10, min_samples_leaf=4, max_features=auto, max_depth=40, criterion=gini, bootstrap=True, total=   2.8s\n",
      "[CV] n_estimators=700, min_samples_split=2, min_samples_leaf=2, max_features=sqrt, max_depth=90, criterion=gini, bootstrap=True \n",
      "[CV]  n_estimators=700, min_samples_split=2, min_samples_leaf=2, max_features=sqrt, max_depth=90, criterion=gini, bootstrap=True, total=   8.7s\n",
      "[CV] n_estimators=700, min_samples_split=2, min_samples_leaf=2, max_features=sqrt, max_depth=90, criterion=gini, bootstrap=True \n",
      "[CV]  n_estimators=700, min_samples_split=2, min_samples_leaf=2, max_features=sqrt, max_depth=90, criterion=gini, bootstrap=True, total=  10.0s\n",
      "[CV] n_estimators=700, min_samples_split=2, min_samples_leaf=2, max_features=sqrt, max_depth=90, criterion=gini, bootstrap=True \n",
      "[CV]  n_estimators=1950, min_samples_split=2, min_samples_leaf=1, max_features=sqrt, max_depth=70, criterion=entropy, bootstrap=False, total=  43.5s\n",
      "[CV] n_estimators=1010, min_samples_split=5, min_samples_leaf=2, max_features=log2, max_depth=30, criterion=entropy, bootstrap=True \n",
      "[CV]  n_estimators=1950, min_samples_split=2, min_samples_leaf=1, max_features=sqrt, max_depth=70, criterion=entropy, bootstrap=False, total=  43.6s\n",
      "[CV] n_estimators=1010, min_samples_split=5, min_samples_leaf=2, max_features=log2, max_depth=30, criterion=entropy, bootstrap=True \n",
      "[CV]  n_estimators=700, min_samples_split=2, min_samples_leaf=2, max_features=sqrt, max_depth=90, criterion=gini, bootstrap=True, total=   9.1s\n",
      "[CV] n_estimators=1010, min_samples_split=5, min_samples_leaf=2, max_features=log2, max_depth=30, criterion=entropy, bootstrap=True \n",
      "[CV]  n_estimators=1950, min_samples_split=2, min_samples_leaf=1, max_features=sqrt, max_depth=70, criterion=entropy, bootstrap=False, total=  43.6s\n",
      "[CV] n_estimators=400, min_samples_split=2, min_samples_leaf=1, max_features=sqrt, max_depth=30, criterion=entropy, bootstrap=True \n",
      "[CV]  n_estimators=1010, min_samples_split=5, min_samples_leaf=2, max_features=log2, max_depth=30, criterion=entropy, bootstrap=True, total=  15.7s\n",
      "[CV] n_estimators=400, min_samples_split=2, min_samples_leaf=1, max_features=sqrt, max_depth=30, criterion=entropy, bootstrap=True \n",
      "[CV]  n_estimators=1010, min_samples_split=5, min_samples_leaf=2, max_features=log2, max_depth=30, criterion=entropy, bootstrap=True, total=  15.8s\n",
      "[CV] n_estimators=400, min_samples_split=2, min_samples_leaf=1, max_features=sqrt, max_depth=30, criterion=entropy, bootstrap=True \n",
      "[CV]  n_estimators=400, min_samples_split=2, min_samples_leaf=1, max_features=sqrt, max_depth=30, criterion=entropy, bootstrap=True, total=   6.8s\n",
      "[CV] n_estimators=690, min_samples_split=5, min_samples_leaf=2, max_features=auto, max_depth=10, criterion=gini, bootstrap=True \n",
      "[CV]  n_estimators=400, min_samples_split=2, min_samples_leaf=1, max_features=sqrt, max_depth=30, criterion=entropy, bootstrap=True, total=   6.4s\n",
      "[CV] n_estimators=690, min_samples_split=5, min_samples_leaf=2, max_features=auto, max_depth=10, criterion=gini, bootstrap=True \n",
      "[CV]  n_estimators=400, min_samples_split=2, min_samples_leaf=1, max_features=sqrt, max_depth=30, criterion=entropy, bootstrap=True, total=   6.4s\n",
      "[CV] n_estimators=690, min_samples_split=5, min_samples_leaf=2, max_features=auto, max_depth=10, criterion=gini, bootstrap=True \n",
      "[CV]  n_estimators=1010, min_samples_split=5, min_samples_leaf=2, max_features=log2, max_depth=30, criterion=entropy, bootstrap=True, total=  15.5s\n",
      "[CV] n_estimators=1750, min_samples_split=5, min_samples_leaf=4, max_features=auto, max_depth=20, criterion=entropy, bootstrap=True \n",
      "[CV]  n_estimators=690, min_samples_split=5, min_samples_leaf=2, max_features=auto, max_depth=10, criterion=gini, bootstrap=True, total=   8.0s\n",
      "[CV] n_estimators=1750, min_samples_split=5, min_samples_leaf=4, max_features=auto, max_depth=20, criterion=entropy, bootstrap=True \n",
      "[CV]  n_estimators=690, min_samples_split=5, min_samples_leaf=2, max_features=auto, max_depth=10, criterion=gini, bootstrap=True, total=   7.9s\n",
      "[CV] n_estimators=1750, min_samples_split=5, min_samples_leaf=4, max_features=auto, max_depth=20, criterion=entropy, bootstrap=True \n",
      "[CV]  n_estimators=690, min_samples_split=5, min_samples_leaf=2, max_features=auto, max_depth=10, criterion=gini, bootstrap=True, total=   7.9s\n"
     ]
    },
    {
     "name": "stdout",
     "output_type": "stream",
     "text": [
      "[CV] n_estimators=1870, min_samples_split=2, min_samples_leaf=4, max_features=log2, max_depth=70, criterion=entropy, bootstrap=False \n",
      "[CV]  n_estimators=1750, min_samples_split=5, min_samples_leaf=4, max_features=auto, max_depth=20, criterion=entropy, bootstrap=True, total=  23.9s\n",
      "[CV] n_estimators=1870, min_samples_split=2, min_samples_leaf=4, max_features=log2, max_depth=70, criterion=entropy, bootstrap=False \n",
      "[CV]  n_estimators=1750, min_samples_split=5, min_samples_leaf=4, max_features=auto, max_depth=20, criterion=entropy, bootstrap=True, total=  23.7s\n",
      "[CV] n_estimators=1870, min_samples_split=2, min_samples_leaf=4, max_features=log2, max_depth=70, criterion=entropy, bootstrap=False \n",
      "[CV]  n_estimators=1750, min_samples_split=5, min_samples_leaf=4, max_features=auto, max_depth=20, criterion=entropy, bootstrap=True, total=  23.7s\n",
      "[CV] n_estimators=1450, min_samples_split=2, min_samples_leaf=1, max_features=sqrt, max_depth=30, criterion=entropy, bootstrap=True \n",
      "[CV]  n_estimators=1870, min_samples_split=2, min_samples_leaf=4, max_features=log2, max_depth=70, criterion=entropy, bootstrap=False, total=  33.7s\n",
      "[CV] n_estimators=1450, min_samples_split=2, min_samples_leaf=1, max_features=sqrt, max_depth=30, criterion=entropy, bootstrap=True \n",
      "[CV]  n_estimators=1450, min_samples_split=2, min_samples_leaf=1, max_features=sqrt, max_depth=30, criterion=entropy, bootstrap=True, total=  23.5s\n",
      "[CV] n_estimators=1450, min_samples_split=2, min_samples_leaf=1, max_features=sqrt, max_depth=30, criterion=entropy, bootstrap=True \n",
      "[CV]  n_estimators=1870, min_samples_split=2, min_samples_leaf=4, max_features=log2, max_depth=70, criterion=entropy, bootstrap=False, total=  33.3s\n",
      "[CV] n_estimators=1610, min_samples_split=5, min_samples_leaf=4, max_features=log2, max_depth=80, criterion=entropy, bootstrap=False \n",
      "[CV]  n_estimators=1870, min_samples_split=2, min_samples_leaf=4, max_features=log2, max_depth=70, criterion=entropy, bootstrap=False, total=  33.2s\n",
      "[CV] n_estimators=1610, min_samples_split=5, min_samples_leaf=4, max_features=log2, max_depth=80, criterion=entropy, bootstrap=False \n",
      "[CV]  n_estimators=1450, min_samples_split=2, min_samples_leaf=1, max_features=sqrt, max_depth=30, criterion=entropy, bootstrap=True, total=  23.1s\n",
      "[CV] n_estimators=1610, min_samples_split=5, min_samples_leaf=4, max_features=log2, max_depth=80, criterion=entropy, bootstrap=False \n",
      "[CV]  n_estimators=1450, min_samples_split=2, min_samples_leaf=1, max_features=sqrt, max_depth=30, criterion=entropy, bootstrap=True, total=  23.0s\n",
      "[CV] n_estimators=1110, min_samples_split=10, min_samples_leaf=1, max_features=auto, max_depth=20, criterion=gini, bootstrap=True \n",
      "[CV]  n_estimators=1610, min_samples_split=5, min_samples_leaf=4, max_features=log2, max_depth=80, criterion=entropy, bootstrap=False, total=  30.3s\n",
      "[CV] n_estimators=1110, min_samples_split=10, min_samples_leaf=1, max_features=auto, max_depth=20, criterion=gini, bootstrap=True \n",
      "[CV]  n_estimators=1610, min_samples_split=5, min_samples_leaf=4, max_features=log2, max_depth=80, criterion=entropy, bootstrap=False, total=  30.4s\n",
      "[CV] n_estimators=1110, min_samples_split=10, min_samples_leaf=1, max_features=auto, max_depth=20, criterion=gini, bootstrap=True \n",
      "[CV]  n_estimators=1110, min_samples_split=10, min_samples_leaf=1, max_features=auto, max_depth=20, criterion=gini, bootstrap=True, total=  15.9s\n",
      "[CV] n_estimators=550, min_samples_split=5, min_samples_leaf=4, max_features=auto, max_depth=None, criterion=entropy, bootstrap=True \n",
      "[CV]  n_estimators=1610, min_samples_split=5, min_samples_leaf=4, max_features=log2, max_depth=80, criterion=entropy, bootstrap=False, total=  30.6s\n",
      "[CV] n_estimators=550, min_samples_split=5, min_samples_leaf=4, max_features=auto, max_depth=None, criterion=entropy, bootstrap=True \n",
      "[CV]  n_estimators=550, min_samples_split=5, min_samples_leaf=4, max_features=auto, max_depth=None, criterion=entropy, bootstrap=True, total=   7.6s\n",
      "[CV] n_estimators=550, min_samples_split=5, min_samples_leaf=4, max_features=auto, max_depth=None, criterion=entropy, bootstrap=True \n",
      "[CV]  n_estimators=550, min_samples_split=5, min_samples_leaf=4, max_features=auto, max_depth=None, criterion=entropy, bootstrap=True, total=   7.5s\n",
      "[CV] n_estimators=1190, min_samples_split=2, min_samples_leaf=1, max_features=auto, max_depth=60, criterion=entropy, bootstrap=False \n",
      "[CV]  n_estimators=1110, min_samples_split=10, min_samples_leaf=1, max_features=auto, max_depth=20, criterion=gini, bootstrap=True, total=  13.8s\n",
      "[CV] n_estimators=1190, min_samples_split=2, min_samples_leaf=1, max_features=auto, max_depth=60, criterion=entropy, bootstrap=False \n",
      "[CV]  n_estimators=1110, min_samples_split=10, min_samples_leaf=1, max_features=auto, max_depth=20, criterion=gini, bootstrap=True, total=  13.8s\n",
      "[CV] n_estimators=1190, min_samples_split=2, min_samples_leaf=1, max_features=auto, max_depth=60, criterion=entropy, bootstrap=False \n",
      "[CV]  n_estimators=550, min_samples_split=5, min_samples_leaf=4, max_features=auto, max_depth=None, criterion=entropy, bootstrap=True, total=   7.6s\n",
      "[CV] n_estimators=1850, min_samples_split=10, min_samples_leaf=2, max_features=sqrt, max_depth=70, criterion=entropy, bootstrap=True \n",
      "[CV]  n_estimators=1190, min_samples_split=2, min_samples_leaf=1, max_features=auto, max_depth=60, criterion=entropy, bootstrap=False, total=  26.0s\n",
      "[CV] n_estimators=1850, min_samples_split=10, min_samples_leaf=2, max_features=sqrt, max_depth=70, criterion=entropy, bootstrap=True \n",
      "[CV]  n_estimators=1190, min_samples_split=2, min_samples_leaf=1, max_features=auto, max_depth=60, criterion=entropy, bootstrap=False, total=  25.5s\n",
      "[CV] n_estimators=1850, min_samples_split=10, min_samples_leaf=2, max_features=sqrt, max_depth=70, criterion=entropy, bootstrap=True \n",
      "[CV]  n_estimators=1190, min_samples_split=2, min_samples_leaf=1, max_features=auto, max_depth=60, criterion=entropy, bootstrap=False, total=  25.8s\n",
      "[CV] n_estimators=1250, min_samples_split=10, min_samples_leaf=2, max_features=log2, max_depth=None, criterion=gini, bootstrap=False \n",
      "[CV]  n_estimators=1850, min_samples_split=10, min_samples_leaf=2, max_features=sqrt, max_depth=70, criterion=entropy, bootstrap=True, total=  26.4s\n",
      "[CV] n_estimators=1250, min_samples_split=10, min_samples_leaf=2, max_features=log2, max_depth=None, criterion=gini, bootstrap=False \n",
      "[CV]  n_estimators=1250, min_samples_split=10, min_samples_leaf=2, max_features=log2, max_depth=None, criterion=gini, bootstrap=False, total=  19.3s\n",
      "[CV] n_estimators=1250, min_samples_split=10, min_samples_leaf=2, max_features=log2, max_depth=None, criterion=gini, bootstrap=False \n",
      "[CV]  n_estimators=1850, min_samples_split=10, min_samples_leaf=2, max_features=sqrt, max_depth=70, criterion=entropy, bootstrap=True, total=  25.9s\n",
      "[CV] n_estimators=1640, min_samples_split=10, min_samples_leaf=1, max_features=log2, max_depth=90, criterion=entropy, bootstrap=False \n",
      "[CV]  n_estimators=1850, min_samples_split=10, min_samples_leaf=2, max_features=sqrt, max_depth=70, criterion=entropy, bootstrap=True, total=  26.0s\n",
      "[CV] n_estimators=1640, min_samples_split=10, min_samples_leaf=1, max_features=log2, max_depth=90, criterion=entropy, bootstrap=False \n",
      "[CV]  n_estimators=1250, min_samples_split=10, min_samples_leaf=2, max_features=log2, max_depth=None, criterion=gini, bootstrap=False, total=  19.0s\n",
      "[CV] n_estimators=1640, min_samples_split=10, min_samples_leaf=1, max_features=log2, max_depth=90, criterion=entropy, bootstrap=False \n",
      "[CV]  n_estimators=1250, min_samples_split=10, min_samples_leaf=2, max_features=log2, max_depth=None, criterion=gini, bootstrap=False, total=  19.0s\n",
      "[CV] n_estimators=1280, min_samples_split=10, min_samples_leaf=2, max_features=log2, max_depth=50, criterion=gini, bootstrap=False \n",
      "[CV]  n_estimators=1640, min_samples_split=10, min_samples_leaf=1, max_features=log2, max_depth=90, criterion=entropy, bootstrap=False, total=  31.2s\n",
      "[CV] n_estimators=1280, min_samples_split=10, min_samples_leaf=2, max_features=log2, max_depth=50, criterion=gini, bootstrap=False \n",
      "[CV]  n_estimators=1640, min_samples_split=10, min_samples_leaf=1, max_features=log2, max_depth=90, criterion=entropy, bootstrap=False, total=  30.9s\n",
      "[CV] n_estimators=1280, min_samples_split=10, min_samples_leaf=2, max_features=log2, max_depth=50, criterion=gini, bootstrap=False \n"
     ]
    },
    {
     "name": "stdout",
     "output_type": "stream",
     "text": [
      "[CV]  n_estimators=1640, min_samples_split=10, min_samples_leaf=1, max_features=log2, max_depth=90, criterion=entropy, bootstrap=False, total=  30.8s\n",
      "[CV] n_estimators=1500, min_samples_split=2, min_samples_leaf=4, max_features=auto, max_depth=None, criterion=gini, bootstrap=False \n",
      "[CV]  n_estimators=1280, min_samples_split=10, min_samples_leaf=2, max_features=log2, max_depth=50, criterion=gini, bootstrap=False, total=  19.5s\n",
      "[CV] n_estimators=1500, min_samples_split=2, min_samples_leaf=4, max_features=auto, max_depth=None, criterion=gini, bootstrap=False \n",
      "[CV]  n_estimators=1280, min_samples_split=10, min_samples_leaf=2, max_features=log2, max_depth=50, criterion=gini, bootstrap=False, total=  20.4s\n",
      "[CV] n_estimators=1500, min_samples_split=2, min_samples_leaf=4, max_features=auto, max_depth=None, criterion=gini, bootstrap=False \n",
      "[CV]  n_estimators=1280, min_samples_split=10, min_samples_leaf=2, max_features=log2, max_depth=50, criterion=gini, bootstrap=False, total=  20.5s\n",
      "[CV] n_estimators=780, min_samples_split=5, min_samples_leaf=1, max_features=sqrt, max_depth=70, criterion=entropy, bootstrap=True \n",
      "[CV]  n_estimators=1500, min_samples_split=2, min_samples_leaf=4, max_features=auto, max_depth=None, criterion=gini, bootstrap=False, total=  23.6s\n",
      "[CV] n_estimators=780, min_samples_split=5, min_samples_leaf=1, max_features=sqrt, max_depth=70, criterion=entropy, bootstrap=True \n",
      "[CV]  n_estimators=1500, min_samples_split=2, min_samples_leaf=4, max_features=auto, max_depth=None, criterion=gini, bootstrap=False, total=  22.9s\n",
      "[CV] n_estimators=780, min_samples_split=5, min_samples_leaf=1, max_features=sqrt, max_depth=70, criterion=entropy, bootstrap=True \n",
      "[CV]  n_estimators=780, min_samples_split=5, min_samples_leaf=1, max_features=sqrt, max_depth=70, criterion=entropy, bootstrap=True, total=  12.5s\n",
      "[CV] n_estimators=1570, min_samples_split=10, min_samples_leaf=2, max_features=auto, max_depth=40, criterion=gini, bootstrap=False \n",
      "[CV]  n_estimators=780, min_samples_split=5, min_samples_leaf=1, max_features=sqrt, max_depth=70, criterion=entropy, bootstrap=True, total=  12.3s\n",
      "[CV] n_estimators=1570, min_samples_split=10, min_samples_leaf=2, max_features=auto, max_depth=40, criterion=gini, bootstrap=False \n",
      "[CV]  n_estimators=780, min_samples_split=5, min_samples_leaf=1, max_features=sqrt, max_depth=70, criterion=entropy, bootstrap=True, total=  12.4s\n",
      "[CV] n_estimators=1570, min_samples_split=10, min_samples_leaf=2, max_features=auto, max_depth=40, criterion=gini, bootstrap=False \n",
      "[CV]  n_estimators=1500, min_samples_split=2, min_samples_leaf=4, max_features=auto, max_depth=None, criterion=gini, bootstrap=False, total=  22.9s\n",
      "[CV] n_estimators=1230, min_samples_split=10, min_samples_leaf=1, max_features=log2, max_depth=90, criterion=gini, bootstrap=False \n",
      "[CV]  n_estimators=1570, min_samples_split=10, min_samples_leaf=2, max_features=auto, max_depth=40, criterion=gini, bootstrap=False, total=  24.6s\n",
      "[CV] n_estimators=1230, min_samples_split=10, min_samples_leaf=1, max_features=log2, max_depth=90, criterion=gini, bootstrap=False \n",
      "[CV]  n_estimators=1570, min_samples_split=10, min_samples_leaf=2, max_features=auto, max_depth=40, criterion=gini, bootstrap=False, total=  24.3s\n",
      "[CV] n_estimators=1230, min_samples_split=10, min_samples_leaf=1, max_features=log2, max_depth=90, criterion=gini, bootstrap=False \n",
      "[CV]  n_estimators=1230, min_samples_split=10, min_samples_leaf=1, max_features=log2, max_depth=90, criterion=gini, bootstrap=False, total=  20.0s\n",
      "[CV] n_estimators=430, min_samples_split=10, min_samples_leaf=2, max_features=log2, max_depth=50, criterion=gini, bootstrap=False \n",
      "[CV]  n_estimators=1570, min_samples_split=10, min_samples_leaf=2, max_features=auto, max_depth=40, criterion=gini, bootstrap=False, total=  24.5s\n",
      "[CV] n_estimators=430, min_samples_split=10, min_samples_leaf=2, max_features=log2, max_depth=50, criterion=gini, bootstrap=False \n",
      "[CV]  n_estimators=430, min_samples_split=10, min_samples_leaf=2, max_features=log2, max_depth=50, criterion=gini, bootstrap=False, total=   6.5s\n",
      "[CV] n_estimators=430, min_samples_split=10, min_samples_leaf=2, max_features=log2, max_depth=50, criterion=gini, bootstrap=False \n",
      "[CV]  n_estimators=430, min_samples_split=10, min_samples_leaf=2, max_features=log2, max_depth=50, criterion=gini, bootstrap=False, total=   6.4s\n",
      "[CV] n_estimators=670, min_samples_split=2, min_samples_leaf=4, max_features=sqrt, max_depth=10, criterion=gini, bootstrap=True \n",
      "[CV]  n_estimators=430, min_samples_split=10, min_samples_leaf=2, max_features=log2, max_depth=50, criterion=gini, bootstrap=False, total=   6.4s\n",
      "[CV] n_estimators=670, min_samples_split=2, min_samples_leaf=4, max_features=sqrt, max_depth=10, criterion=gini, bootstrap=True \n",
      "[CV]  n_estimators=1230, min_samples_split=10, min_samples_leaf=1, max_features=log2, max_depth=90, criterion=gini, bootstrap=False, total=  19.1s\n",
      "[CV] n_estimators=670, min_samples_split=2, min_samples_leaf=4, max_features=sqrt, max_depth=10, criterion=gini, bootstrap=True \n",
      "[CV]  n_estimators=670, min_samples_split=2, min_samples_leaf=4, max_features=sqrt, max_depth=10, criterion=gini, bootstrap=True, total=   7.4s\n",
      "[CV] n_estimators=350, min_samples_split=5, min_samples_leaf=2, max_features=sqrt, max_depth=40, criterion=gini, bootstrap=False \n",
      "[CV]  n_estimators=1230, min_samples_split=10, min_samples_leaf=1, max_features=log2, max_depth=90, criterion=gini, bootstrap=False, total=  19.4s\n",
      "[CV] n_estimators=350, min_samples_split=5, min_samples_leaf=2, max_features=sqrt, max_depth=40, criterion=gini, bootstrap=False \n",
      "[CV]  n_estimators=350, min_samples_split=5, min_samples_leaf=2, max_features=sqrt, max_depth=40, criterion=gini, bootstrap=False, total=   5.5s\n",
      "[CV] n_estimators=350, min_samples_split=5, min_samples_leaf=2, max_features=sqrt, max_depth=40, criterion=gini, bootstrap=False \n",
      "[CV]  n_estimators=670, min_samples_split=2, min_samples_leaf=4, max_features=sqrt, max_depth=10, criterion=gini, bootstrap=True, total=   7.3s\n",
      "[CV] n_estimators=1620, min_samples_split=2, min_samples_leaf=2, max_features=auto, max_depth=70, criterion=entropy, bootstrap=False \n",
      "[CV]  n_estimators=670, min_samples_split=2, min_samples_leaf=4, max_features=sqrt, max_depth=10, criterion=gini, bootstrap=True, total=   7.3s\n",
      "[CV] n_estimators=1620, min_samples_split=2, min_samples_leaf=2, max_features=auto, max_depth=70, criterion=entropy, bootstrap=False \n",
      "[CV]  n_estimators=350, min_samples_split=5, min_samples_leaf=2, max_features=sqrt, max_depth=40, criterion=gini, bootstrap=False, total=   5.5s\n",
      "[CV] n_estimators=1620, min_samples_split=2, min_samples_leaf=2, max_features=auto, max_depth=70, criterion=entropy, bootstrap=False \n",
      "[CV]  n_estimators=350, min_samples_split=5, min_samples_leaf=2, max_features=sqrt, max_depth=40, criterion=gini, bootstrap=False, total=   5.7s\n",
      "[CV] n_estimators=450, min_samples_split=10, min_samples_leaf=2, max_features=sqrt, max_depth=30, criterion=entropy, bootstrap=True \n",
      "[CV]  n_estimators=450, min_samples_split=10, min_samples_leaf=2, max_features=sqrt, max_depth=30, criterion=entropy, bootstrap=True, total=   7.0s\n",
      "[CV] n_estimators=450, min_samples_split=10, min_samples_leaf=2, max_features=sqrt, max_depth=30, criterion=entropy, bootstrap=True \n",
      "[CV]  n_estimators=450, min_samples_split=10, min_samples_leaf=2, max_features=sqrt, max_depth=30, criterion=entropy, bootstrap=True, total=   6.2s\n",
      "[CV] n_estimators=450, min_samples_split=10, min_samples_leaf=2, max_features=sqrt, max_depth=30, criterion=entropy, bootstrap=True \n",
      "[CV]  n_estimators=450, min_samples_split=10, min_samples_leaf=2, max_features=sqrt, max_depth=30, criterion=entropy, bootstrap=True, total=   6.2s\n",
      "[CV] n_estimators=410, min_samples_split=10, min_samples_leaf=1, max_features=log2, max_depth=50, criterion=gini, bootstrap=False \n",
      "[CV]  n_estimators=410, min_samples_split=10, min_samples_leaf=1, max_features=log2, max_depth=50, criterion=gini, bootstrap=False, total=   6.4s\n",
      "[CV] n_estimators=410, min_samples_split=10, min_samples_leaf=1, max_features=log2, max_depth=50, criterion=gini, bootstrap=False \n",
      "[CV]  n_estimators=1620, min_samples_split=2, min_samples_leaf=2, max_features=auto, max_depth=70, criterion=entropy, bootstrap=False, total=  32.6s\n"
     ]
    },
    {
     "name": "stdout",
     "output_type": "stream",
     "text": [
      "[CV] n_estimators=410, min_samples_split=10, min_samples_leaf=1, max_features=log2, max_depth=50, criterion=gini, bootstrap=False \n",
      "[CV]  n_estimators=1620, min_samples_split=2, min_samples_leaf=2, max_features=auto, max_depth=70, criterion=entropy, bootstrap=False, total=  32.4s\n",
      "[CV] n_estimators=740, min_samples_split=10, min_samples_leaf=1, max_features=sqrt, max_depth=70, criterion=entropy, bootstrap=True \n",
      "[CV]  n_estimators=1620, min_samples_split=2, min_samples_leaf=2, max_features=auto, max_depth=70, criterion=entropy, bootstrap=False, total=  32.6s\n",
      "[CV] n_estimators=740, min_samples_split=10, min_samples_leaf=1, max_features=sqrt, max_depth=70, criterion=entropy, bootstrap=True \n",
      "[CV]  n_estimators=410, min_samples_split=10, min_samples_leaf=1, max_features=log2, max_depth=50, criterion=gini, bootstrap=False, total=   6.3s\n",
      "[CV] n_estimators=740, min_samples_split=10, min_samples_leaf=1, max_features=sqrt, max_depth=70, criterion=entropy, bootstrap=True \n",
      "[CV]  n_estimators=410, min_samples_split=10, min_samples_leaf=1, max_features=log2, max_depth=50, criterion=gini, bootstrap=False, total=   6.4s\n",
      "[CV] n_estimators=1850, min_samples_split=10, min_samples_leaf=4, max_features=auto, max_depth=20, criterion=entropy, bootstrap=False \n",
      "[CV]  n_estimators=740, min_samples_split=10, min_samples_leaf=1, max_features=sqrt, max_depth=70, criterion=entropy, bootstrap=True, total=  10.6s\n",
      "[CV] n_estimators=1850, min_samples_split=10, min_samples_leaf=4, max_features=auto, max_depth=20, criterion=entropy, bootstrap=False \n",
      "[CV]  n_estimators=740, min_samples_split=10, min_samples_leaf=1, max_features=sqrt, max_depth=70, criterion=entropy, bootstrap=True, total=  10.5s\n",
      "[CV] n_estimators=1850, min_samples_split=10, min_samples_leaf=4, max_features=auto, max_depth=20, criterion=entropy, bootstrap=False \n",
      "[CV]  n_estimators=740, min_samples_split=10, min_samples_leaf=1, max_features=sqrt, max_depth=70, criterion=entropy, bootstrap=True, total=  10.7s\n",
      "[CV] n_estimators=260, min_samples_split=2, min_samples_leaf=4, max_features=sqrt, max_depth=30, criterion=gini, bootstrap=False \n",
      "[CV]  n_estimators=260, min_samples_split=2, min_samples_leaf=4, max_features=sqrt, max_depth=30, criterion=gini, bootstrap=False, total=   3.9s\n",
      "[CV] n_estimators=260, min_samples_split=2, min_samples_leaf=4, max_features=sqrt, max_depth=30, criterion=gini, bootstrap=False \n",
      "[CV]  n_estimators=260, min_samples_split=2, min_samples_leaf=4, max_features=sqrt, max_depth=30, criterion=gini, bootstrap=False, total=   3.9s\n",
      "[CV] n_estimators=260, min_samples_split=2, min_samples_leaf=4, max_features=sqrt, max_depth=30, criterion=gini, bootstrap=False \n",
      "[CV]  n_estimators=260, min_samples_split=2, min_samples_leaf=4, max_features=sqrt, max_depth=30, criterion=gini, bootstrap=False, total=   3.7s\n",
      "[CV] n_estimators=1350, min_samples_split=10, min_samples_leaf=2, max_features=log2, max_depth=30, criterion=entropy, bootstrap=True \n",
      "[CV]  n_estimators=1850, min_samples_split=10, min_samples_leaf=4, max_features=auto, max_depth=20, criterion=entropy, bootstrap=False, total=  32.7s\n",
      "[CV] n_estimators=1350, min_samples_split=10, min_samples_leaf=2, max_features=log2, max_depth=30, criterion=entropy, bootstrap=True \n",
      "[CV]  n_estimators=1850, min_samples_split=10, min_samples_leaf=4, max_features=auto, max_depth=20, criterion=entropy, bootstrap=False, total=  32.5s\n",
      "[CV] n_estimators=1350, min_samples_split=10, min_samples_leaf=2, max_features=log2, max_depth=30, criterion=entropy, bootstrap=True \n",
      "[CV]  n_estimators=1850, min_samples_split=10, min_samples_leaf=4, max_features=auto, max_depth=20, criterion=entropy, bootstrap=False, total=  32.2s\n",
      "[CV] n_estimators=260, min_samples_split=5, min_samples_leaf=1, max_features=log2, max_depth=10, criterion=entropy, bootstrap=True \n",
      "[CV]  n_estimators=1350, min_samples_split=10, min_samples_leaf=2, max_features=log2, max_depth=30, criterion=entropy, bootstrap=True, total=  19.0s\n",
      "[CV] n_estimators=260, min_samples_split=5, min_samples_leaf=1, max_features=log2, max_depth=10, criterion=entropy, bootstrap=True \n",
      "[CV]  n_estimators=260, min_samples_split=5, min_samples_leaf=1, max_features=log2, max_depth=10, criterion=entropy, bootstrap=True, total=   3.5s\n",
      "[CV] n_estimators=260, min_samples_split=5, min_samples_leaf=1, max_features=log2, max_depth=10, criterion=entropy, bootstrap=True \n",
      "[CV]  n_estimators=260, min_samples_split=5, min_samples_leaf=1, max_features=log2, max_depth=10, criterion=entropy, bootstrap=True, total=   3.4s\n",
      "[CV] n_estimators=430, min_samples_split=10, min_samples_leaf=1, max_features=log2, max_depth=30, criterion=entropy, bootstrap=True \n",
      "[CV]  n_estimators=260, min_samples_split=5, min_samples_leaf=1, max_features=log2, max_depth=10, criterion=entropy, bootstrap=True, total=   3.3s\n",
      "[CV] n_estimators=430, min_samples_split=10, min_samples_leaf=1, max_features=log2, max_depth=30, criterion=entropy, bootstrap=True \n",
      "[CV]  n_estimators=430, min_samples_split=10, min_samples_leaf=1, max_features=log2, max_depth=30, criterion=entropy, bootstrap=True, total=   6.2s\n",
      "[CV] n_estimators=430, min_samples_split=10, min_samples_leaf=1, max_features=log2, max_depth=30, criterion=entropy, bootstrap=True \n",
      "[CV]  n_estimators=430, min_samples_split=10, min_samples_leaf=1, max_features=log2, max_depth=30, criterion=entropy, bootstrap=True, total=   6.3s\n",
      "[CV] n_estimators=710, min_samples_split=5, min_samples_leaf=2, max_features=sqrt, max_depth=70, criterion=gini, bootstrap=True \n",
      "[CV]  n_estimators=1350, min_samples_split=10, min_samples_leaf=2, max_features=log2, max_depth=30, criterion=entropy, bootstrap=True, total=  18.8s\n",
      "[CV] n_estimators=710, min_samples_split=5, min_samples_leaf=2, max_features=sqrt, max_depth=70, criterion=gini, bootstrap=True \n",
      "[CV]  n_estimators=1350, min_samples_split=10, min_samples_leaf=2, max_features=log2, max_depth=30, criterion=entropy, bootstrap=True, total=  18.9s\n",
      "[CV] n_estimators=710, min_samples_split=5, min_samples_leaf=2, max_features=sqrt, max_depth=70, criterion=gini, bootstrap=True \n",
      "[CV]  n_estimators=430, min_samples_split=10, min_samples_leaf=1, max_features=log2, max_depth=30, criterion=entropy, bootstrap=True, total=   6.0s\n",
      "[CV] n_estimators=1360, min_samples_split=2, min_samples_leaf=4, max_features=log2, max_depth=20, criterion=gini, bootstrap=False \n",
      "[CV]  n_estimators=710, min_samples_split=5, min_samples_leaf=2, max_features=sqrt, max_depth=70, criterion=gini, bootstrap=True, total=   8.8s\n",
      "[CV] n_estimators=1360, min_samples_split=2, min_samples_leaf=4, max_features=log2, max_depth=20, criterion=gini, bootstrap=False \n",
      "[CV]  n_estimators=710, min_samples_split=5, min_samples_leaf=2, max_features=sqrt, max_depth=70, criterion=gini, bootstrap=True, total=   8.8s\n",
      "[CV] n_estimators=1360, min_samples_split=2, min_samples_leaf=4, max_features=log2, max_depth=20, criterion=gini, bootstrap=False \n",
      "[CV]  n_estimators=710, min_samples_split=5, min_samples_leaf=2, max_features=sqrt, max_depth=70, criterion=gini, bootstrap=True, total=   8.8s\n",
      "[CV] n_estimators=740, min_samples_split=2, min_samples_leaf=1, max_features=sqrt, max_depth=30, criterion=gini, bootstrap=True \n",
      "[CV]  n_estimators=740, min_samples_split=2, min_samples_leaf=1, max_features=sqrt, max_depth=30, criterion=gini, bootstrap=True, total=   9.9s\n",
      "[CV] n_estimators=740, min_samples_split=2, min_samples_leaf=1, max_features=sqrt, max_depth=30, criterion=gini, bootstrap=True \n",
      "[CV]  n_estimators=1360, min_samples_split=2, min_samples_leaf=4, max_features=log2, max_depth=20, criterion=gini, bootstrap=False, total=  20.3s\n",
      "[CV] n_estimators=740, min_samples_split=2, min_samples_leaf=1, max_features=sqrt, max_depth=30, criterion=gini, bootstrap=True \n",
      "[CV]  n_estimators=1360, min_samples_split=2, min_samples_leaf=4, max_features=log2, max_depth=20, criterion=gini, bootstrap=False, total=  20.2s\n",
      "[CV] n_estimators=1720, min_samples_split=10, min_samples_leaf=2, max_features=auto, max_depth=40, criterion=entropy, bootstrap=True \n",
      "[CV]  n_estimators=1360, min_samples_split=2, min_samples_leaf=4, max_features=log2, max_depth=20, criterion=gini, bootstrap=False, total=  20.3s\n",
      "[CV] n_estimators=1720, min_samples_split=10, min_samples_leaf=2, max_features=auto, max_depth=40, criterion=entropy, bootstrap=True \n"
     ]
    },
    {
     "name": "stdout",
     "output_type": "stream",
     "text": [
      "[CV]  n_estimators=740, min_samples_split=2, min_samples_leaf=1, max_features=sqrt, max_depth=30, criterion=gini, bootstrap=True, total=  10.2s\n",
      "[CV] n_estimators=1720, min_samples_split=10, min_samples_leaf=2, max_features=auto, max_depth=40, criterion=entropy, bootstrap=True \n",
      "[CV]  n_estimators=740, min_samples_split=2, min_samples_leaf=1, max_features=sqrt, max_depth=30, criterion=gini, bootstrap=True, total=  10.3s\n",
      "[CV] n_estimators=1300, min_samples_split=2, min_samples_leaf=2, max_features=log2, max_depth=10, criterion=gini, bootstrap=True \n",
      "[CV]  n_estimators=1300, min_samples_split=2, min_samples_leaf=2, max_features=log2, max_depth=10, criterion=gini, bootstrap=True, total=  14.7s\n",
      "[CV] n_estimators=1300, min_samples_split=2, min_samples_leaf=2, max_features=log2, max_depth=10, criterion=gini, bootstrap=True \n"
     ]
    },
    {
     "name": "stderr",
     "output_type": "stream",
     "text": [
      "[Parallel(n_jobs=-1)]: Done 154 tasks      | elapsed: 12.8min\n"
     ]
    },
    {
     "name": "stdout",
     "output_type": "stream",
     "text": [
      "[CV]  n_estimators=1720, min_samples_split=10, min_samples_leaf=2, max_features=auto, max_depth=40, criterion=entropy, bootstrap=True, total=  24.0s\n",
      "[CV] n_estimators=1300, min_samples_split=2, min_samples_leaf=2, max_features=log2, max_depth=10, criterion=gini, bootstrap=True \n",
      "[CV]  n_estimators=1720, min_samples_split=10, min_samples_leaf=2, max_features=auto, max_depth=40, criterion=entropy, bootstrap=True, total=  24.3s\n",
      "[CV] n_estimators=460, min_samples_split=2, min_samples_leaf=4, max_features=sqrt, max_depth=90, criterion=gini, bootstrap=True \n",
      "[CV]  n_estimators=1720, min_samples_split=10, min_samples_leaf=2, max_features=auto, max_depth=40, criterion=entropy, bootstrap=True, total=  23.9s\n",
      "[CV] n_estimators=460, min_samples_split=2, min_samples_leaf=4, max_features=sqrt, max_depth=90, criterion=gini, bootstrap=True \n",
      "[CV]  n_estimators=460, min_samples_split=2, min_samples_leaf=4, max_features=sqrt, max_depth=90, criterion=gini, bootstrap=True, total=   5.4s\n",
      "[CV] n_estimators=460, min_samples_split=2, min_samples_leaf=4, max_features=sqrt, max_depth=90, criterion=gini, bootstrap=True \n",
      "[CV]  n_estimators=460, min_samples_split=2, min_samples_leaf=4, max_features=sqrt, max_depth=90, criterion=gini, bootstrap=True, total=   5.6s\n",
      "[CV] n_estimators=1700, min_samples_split=10, min_samples_leaf=1, max_features=sqrt, max_depth=None, criterion=entropy, bootstrap=False \n",
      "[CV]  n_estimators=460, min_samples_split=2, min_samples_leaf=4, max_features=sqrt, max_depth=90, criterion=gini, bootstrap=True, total=   5.4s\n",
      "[CV] n_estimators=1700, min_samples_split=10, min_samples_leaf=1, max_features=sqrt, max_depth=None, criterion=entropy, bootstrap=False \n",
      "[CV]  n_estimators=1300, min_samples_split=2, min_samples_leaf=2, max_features=log2, max_depth=10, criterion=gini, bootstrap=True, total=  15.1s\n",
      "[CV] n_estimators=1700, min_samples_split=10, min_samples_leaf=1, max_features=sqrt, max_depth=None, criterion=entropy, bootstrap=False \n",
      "[CV]  n_estimators=1300, min_samples_split=2, min_samples_leaf=2, max_features=log2, max_depth=10, criterion=gini, bootstrap=True, total=  15.1s\n",
      "[CV] n_estimators=330, min_samples_split=10, min_samples_leaf=4, max_features=log2, max_depth=70, criterion=entropy, bootstrap=True \n",
      "[CV]  n_estimators=330, min_samples_split=10, min_samples_leaf=4, max_features=log2, max_depth=70, criterion=entropy, bootstrap=True, total=   4.3s\n",
      "[CV] n_estimators=330, min_samples_split=10, min_samples_leaf=4, max_features=log2, max_depth=70, criterion=entropy, bootstrap=True \n",
      "[CV]  n_estimators=330, min_samples_split=10, min_samples_leaf=4, max_features=log2, max_depth=70, criterion=entropy, bootstrap=True, total=   4.1s\n",
      "[CV] n_estimators=330, min_samples_split=10, min_samples_leaf=4, max_features=log2, max_depth=70, criterion=entropy, bootstrap=True \n",
      "[CV]  n_estimators=330, min_samples_split=10, min_samples_leaf=4, max_features=log2, max_depth=70, criterion=entropy, bootstrap=True, total=   3.4s\n",
      "[CV] n_estimators=590, min_samples_split=5, min_samples_leaf=2, max_features=auto, max_depth=80, criterion=gini, bootstrap=False \n",
      "[CV]  n_estimators=590, min_samples_split=5, min_samples_leaf=2, max_features=auto, max_depth=80, criterion=gini, bootstrap=False, total=   7.6s\n",
      "[CV] n_estimators=590, min_samples_split=5, min_samples_leaf=2, max_features=auto, max_depth=80, criterion=gini, bootstrap=False \n",
      "[CV]  n_estimators=1700, min_samples_split=10, min_samples_leaf=1, max_features=sqrt, max_depth=None, criterion=entropy, bootstrap=False, total=  29.4s\n",
      "[CV] n_estimators=590, min_samples_split=5, min_samples_leaf=2, max_features=auto, max_depth=80, criterion=gini, bootstrap=False \n",
      "[CV]  n_estimators=1700, min_samples_split=10, min_samples_leaf=1, max_features=sqrt, max_depth=None, criterion=entropy, bootstrap=False, total=  28.5s\n",
      "[CV] n_estimators=1720, min_samples_split=2, min_samples_leaf=2, max_features=log2, max_depth=20, criterion=gini, bootstrap=True \n",
      "[CV]  n_estimators=1700, min_samples_split=10, min_samples_leaf=1, max_features=sqrt, max_depth=None, criterion=entropy, bootstrap=False, total=  28.6s\n",
      "[CV] n_estimators=1720, min_samples_split=2, min_samples_leaf=2, max_features=log2, max_depth=20, criterion=gini, bootstrap=True \n",
      "[CV]  n_estimators=590, min_samples_split=5, min_samples_leaf=2, max_features=auto, max_depth=80, criterion=gini, bootstrap=False, total=   8.2s\n",
      "[CV] n_estimators=1720, min_samples_split=2, min_samples_leaf=2, max_features=log2, max_depth=20, criterion=gini, bootstrap=True \n",
      "[CV]  n_estimators=590, min_samples_split=5, min_samples_leaf=2, max_features=auto, max_depth=80, criterion=gini, bootstrap=False, total=   7.9s\n",
      "[CV] n_estimators=410, min_samples_split=10, min_samples_leaf=2, max_features=auto, max_depth=100, criterion=entropy, bootstrap=False \n",
      "[CV]  n_estimators=410, min_samples_split=10, min_samples_leaf=2, max_features=auto, max_depth=100, criterion=entropy, bootstrap=False, total=   6.4s\n",
      "[CV] n_estimators=410, min_samples_split=10, min_samples_leaf=2, max_features=auto, max_depth=100, criterion=entropy, bootstrap=False \n",
      "[CV]  n_estimators=1720, min_samples_split=2, min_samples_leaf=2, max_features=log2, max_depth=20, criterion=gini, bootstrap=True, total=  18.7s\n",
      "[CV] n_estimators=410, min_samples_split=10, min_samples_leaf=2, max_features=auto, max_depth=100, criterion=entropy, bootstrap=False \n",
      "[CV]  n_estimators=1720, min_samples_split=2, min_samples_leaf=2, max_features=log2, max_depth=20, criterion=gini, bootstrap=True, total=  18.7s\n",
      "[CV] n_estimators=330, min_samples_split=5, min_samples_leaf=2, max_features=log2, max_depth=30, criterion=entropy, bootstrap=False \n",
      "[CV]  n_estimators=410, min_samples_split=10, min_samples_leaf=2, max_features=auto, max_depth=100, criterion=entropy, bootstrap=False, total=   7.0s\n",
      "[CV] n_estimators=330, min_samples_split=5, min_samples_leaf=2, max_features=log2, max_depth=30, criterion=entropy, bootstrap=False \n",
      "[CV]  n_estimators=1720, min_samples_split=2, min_samples_leaf=2, max_features=log2, max_depth=20, criterion=gini, bootstrap=True, total=  19.1s\n",
      "[CV] n_estimators=330, min_samples_split=5, min_samples_leaf=2, max_features=log2, max_depth=30, criterion=entropy, bootstrap=False \n",
      "[CV]  n_estimators=410, min_samples_split=10, min_samples_leaf=2, max_features=auto, max_depth=100, criterion=entropy, bootstrap=False, total=   6.6s\n",
      "[CV] n_estimators=1040, min_samples_split=5, min_samples_leaf=1, max_features=log2, max_depth=100, criterion=entropy, bootstrap=False \n",
      "[CV]  n_estimators=330, min_samples_split=5, min_samples_leaf=2, max_features=log2, max_depth=30, criterion=entropy, bootstrap=False, total=   5.5s\n",
      "[CV] n_estimators=1040, min_samples_split=5, min_samples_leaf=1, max_features=log2, max_depth=100, criterion=entropy, bootstrap=False \n",
      "[CV]  n_estimators=330, min_samples_split=5, min_samples_leaf=2, max_features=log2, max_depth=30, criterion=entropy, bootstrap=False, total=   5.4s\n",
      "[CV] n_estimators=1040, min_samples_split=5, min_samples_leaf=1, max_features=log2, max_depth=100, criterion=entropy, bootstrap=False \n",
      "[CV]  n_estimators=330, min_samples_split=5, min_samples_leaf=2, max_features=log2, max_depth=30, criterion=entropy, bootstrap=False, total=   5.5s\n",
      "[CV] n_estimators=1890, min_samples_split=10, min_samples_leaf=2, max_features=log2, max_depth=100, criterion=gini, bootstrap=False \n",
      "[CV]  n_estimators=1040, min_samples_split=5, min_samples_leaf=1, max_features=log2, max_depth=100, criterion=entropy, bootstrap=False, total=  17.4s\n",
      "[CV] n_estimators=1890, min_samples_split=10, min_samples_leaf=2, max_features=log2, max_depth=100, criterion=gini, bootstrap=False \n",
      "[CV]  n_estimators=1040, min_samples_split=5, min_samples_leaf=1, max_features=log2, max_depth=100, criterion=entropy, bootstrap=False, total=  17.9s\n",
      "[CV] n_estimators=1890, min_samples_split=10, min_samples_leaf=2, max_features=log2, max_depth=100, criterion=gini, bootstrap=False \n",
      "[CV]  n_estimators=1040, min_samples_split=5, min_samples_leaf=1, max_features=log2, max_depth=100, criterion=entropy, bootstrap=False, total=  17.6s\n",
      "[CV] n_estimators=1280, min_samples_split=2, min_samples_leaf=1, max_features=auto, max_depth=40, criterion=entropy, bootstrap=True \n",
      "[CV]  n_estimators=1890, min_samples_split=10, min_samples_leaf=2, max_features=log2, max_depth=100, criterion=gini, bootstrap=False, total=  24.1s\n"
     ]
    },
    {
     "name": "stdout",
     "output_type": "stream",
     "text": [
      "[CV] n_estimators=1280, min_samples_split=2, min_samples_leaf=1, max_features=auto, max_depth=40, criterion=entropy, bootstrap=True \n",
      "[CV]  n_estimators=1280, min_samples_split=2, min_samples_leaf=1, max_features=auto, max_depth=40, criterion=entropy, bootstrap=True, total=  18.3s\n",
      "[CV] n_estimators=1280, min_samples_split=2, min_samples_leaf=1, max_features=auto, max_depth=40, criterion=entropy, bootstrap=True \n",
      "[CV]  n_estimators=1890, min_samples_split=10, min_samples_leaf=2, max_features=log2, max_depth=100, criterion=gini, bootstrap=False, total=  25.3s\n",
      "[CV]  n_estimators=1890, min_samples_split=10, min_samples_leaf=2, max_features=log2, max_depth=100, criterion=gini, bootstrap=False, total=  25.4s\n",
      "[CV] n_estimators=630, min_samples_split=2, min_samples_leaf=4, max_features=sqrt, max_depth=40, criterion=gini, bootstrap=False \n",
      "[CV] n_estimators=630, min_samples_split=2, min_samples_leaf=4, max_features=sqrt, max_depth=40, criterion=gini, bootstrap=False \n",
      "[CV]  n_estimators=1280, min_samples_split=2, min_samples_leaf=1, max_features=auto, max_depth=40, criterion=entropy, bootstrap=True, total=  19.2s\n",
      "[CV] n_estimators=630, min_samples_split=2, min_samples_leaf=4, max_features=sqrt, max_depth=40, criterion=gini, bootstrap=False \n",
      "[CV]  n_estimators=630, min_samples_split=2, min_samples_leaf=4, max_features=sqrt, max_depth=40, criterion=gini, bootstrap=False, total=   8.1s\n",
      "[CV] n_estimators=1340, min_samples_split=5, min_samples_leaf=1, max_features=log2, max_depth=30, criterion=gini, bootstrap=False \n",
      "[CV]  n_estimators=630, min_samples_split=2, min_samples_leaf=4, max_features=sqrt, max_depth=40, criterion=gini, bootstrap=False, total=   8.3s\n",
      "[CV] n_estimators=1340, min_samples_split=5, min_samples_leaf=1, max_features=log2, max_depth=30, criterion=gini, bootstrap=False \n",
      "[CV]  n_estimators=1280, min_samples_split=2, min_samples_leaf=1, max_features=auto, max_depth=40, criterion=entropy, bootstrap=True, total=  18.0s\n",
      "[CV] n_estimators=1340, min_samples_split=5, min_samples_leaf=1, max_features=log2, max_depth=30, criterion=gini, bootstrap=False \n",
      "[CV]  n_estimators=630, min_samples_split=2, min_samples_leaf=4, max_features=sqrt, max_depth=40, criterion=gini, bootstrap=False, total=   8.0s\n",
      "[CV] n_estimators=1350, min_samples_split=2, min_samples_leaf=2, max_features=log2, max_depth=100, criterion=gini, bootstrap=False \n",
      "[CV]  n_estimators=1340, min_samples_split=5, min_samples_leaf=1, max_features=log2, max_depth=30, criterion=gini, bootstrap=False, total=  18.6s\n",
      "[CV]  n_estimators=1340, min_samples_split=5, min_samples_leaf=1, max_features=log2, max_depth=30, criterion=gini, bootstrap=False, total=  18.4s\n",
      "[CV] n_estimators=1350, min_samples_split=2, min_samples_leaf=2, max_features=log2, max_depth=100, criterion=gini, bootstrap=False \n",
      "[CV] n_estimators=1350, min_samples_split=2, min_samples_leaf=2, max_features=log2, max_depth=100, criterion=gini, bootstrap=False \n",
      "[CV]  n_estimators=1340, min_samples_split=5, min_samples_leaf=1, max_features=log2, max_depth=30, criterion=gini, bootstrap=False, total=  18.3s\n",
      "[CV] n_estimators=1780, min_samples_split=2, min_samples_leaf=4, max_features=sqrt, max_depth=40, criterion=gini, bootstrap=False \n",
      "[CV]  n_estimators=1350, min_samples_split=2, min_samples_leaf=2, max_features=log2, max_depth=100, criterion=gini, bootstrap=False, total=  18.3s\n",
      "[CV] n_estimators=1780, min_samples_split=2, min_samples_leaf=4, max_features=sqrt, max_depth=40, criterion=gini, bootstrap=False \n",
      "[CV]  n_estimators=1350, min_samples_split=2, min_samples_leaf=2, max_features=log2, max_depth=100, criterion=gini, bootstrap=False, total=  18.4s\n",
      "[CV] n_estimators=1780, min_samples_split=2, min_samples_leaf=4, max_features=sqrt, max_depth=40, criterion=gini, bootstrap=False \n",
      "[CV]  n_estimators=1350, min_samples_split=2, min_samples_leaf=2, max_features=log2, max_depth=100, criterion=gini, bootstrap=False, total=  18.7s\n",
      "[CV] n_estimators=1550, min_samples_split=10, min_samples_leaf=4, max_features=log2, max_depth=100, criterion=gini, bootstrap=True \n",
      "[CV]  n_estimators=1780, min_samples_split=2, min_samples_leaf=4, max_features=sqrt, max_depth=40, criterion=gini, bootstrap=False, total=  23.0s\n",
      "[CV] n_estimators=1550, min_samples_split=10, min_samples_leaf=4, max_features=log2, max_depth=100, criterion=gini, bootstrap=True \n",
      "[CV]  n_estimators=1780, min_samples_split=2, min_samples_leaf=4, max_features=sqrt, max_depth=40, criterion=gini, bootstrap=False, total=  23.1s\n",
      "[CV] n_estimators=1550, min_samples_split=10, min_samples_leaf=4, max_features=log2, max_depth=100, criterion=gini, bootstrap=True \n",
      "[CV]  n_estimators=1550, min_samples_split=10, min_samples_leaf=4, max_features=log2, max_depth=100, criterion=gini, bootstrap=True, total=  15.3s\n",
      "[CV] n_estimators=790, min_samples_split=10, min_samples_leaf=2, max_features=sqrt, max_depth=40, criterion=gini, bootstrap=True \n",
      "[CV]  n_estimators=1780, min_samples_split=2, min_samples_leaf=4, max_features=sqrt, max_depth=40, criterion=gini, bootstrap=False, total=  22.3s\n",
      "[CV]  n_estimators=1550, min_samples_split=10, min_samples_leaf=4, max_features=log2, max_depth=100, criterion=gini, bootstrap=True, total=  14.8s\n",
      "[CV] n_estimators=790, min_samples_split=10, min_samples_leaf=2, max_features=sqrt, max_depth=40, criterion=gini, bootstrap=True \n",
      "[CV] n_estimators=790, min_samples_split=10, min_samples_leaf=2, max_features=sqrt, max_depth=40, criterion=gini, bootstrap=True \n",
      "[CV]  n_estimators=1550, min_samples_split=10, min_samples_leaf=4, max_features=log2, max_depth=100, criterion=gini, bootstrap=True, total=  15.0s\n",
      "[CV] n_estimators=1900, min_samples_split=5, min_samples_leaf=1, max_features=log2, max_depth=10, criterion=gini, bootstrap=False \n",
      "[CV]  n_estimators=790, min_samples_split=10, min_samples_leaf=2, max_features=sqrt, max_depth=40, criterion=gini, bootstrap=True, total=   8.0s\n",
      "[CV] n_estimators=1900, min_samples_split=5, min_samples_leaf=1, max_features=log2, max_depth=10, criterion=gini, bootstrap=False \n",
      "[CV]  n_estimators=790, min_samples_split=10, min_samples_leaf=2, max_features=sqrt, max_depth=40, criterion=gini, bootstrap=True, total=   7.7s\n",
      "[CV] n_estimators=1900, min_samples_split=5, min_samples_leaf=1, max_features=log2, max_depth=10, criterion=gini, bootstrap=False \n",
      "[CV]  n_estimators=790, min_samples_split=10, min_samples_leaf=2, max_features=sqrt, max_depth=40, criterion=gini, bootstrap=True, total=   7.8s\n",
      "[CV] n_estimators=1700, min_samples_split=2, min_samples_leaf=4, max_features=log2, max_depth=None, criterion=entropy, bootstrap=True \n",
      "[CV]  n_estimators=1900, min_samples_split=5, min_samples_leaf=1, max_features=log2, max_depth=10, criterion=gini, bootstrap=False, total=  22.2s\n",
      "[CV] n_estimators=1700, min_samples_split=2, min_samples_leaf=4, max_features=log2, max_depth=None, criterion=entropy, bootstrap=True \n",
      "[CV]  n_estimators=1900, min_samples_split=5, min_samples_leaf=1, max_features=log2, max_depth=10, criterion=gini, bootstrap=False, total=  22.5s\n",
      "[CV] n_estimators=1700, min_samples_split=2, min_samples_leaf=4, max_features=log2, max_depth=None, criterion=entropy, bootstrap=True \n",
      "[CV]  n_estimators=1700, min_samples_split=2, min_samples_leaf=4, max_features=log2, max_depth=None, criterion=entropy, bootstrap=True, total=  19.4s\n",
      "[CV] n_estimators=1770, min_samples_split=2, min_samples_leaf=2, max_features=sqrt, max_depth=60, criterion=entropy, bootstrap=True \n",
      "[CV]  n_estimators=1900, min_samples_split=5, min_samples_leaf=1, max_features=log2, max_depth=10, criterion=gini, bootstrap=False, total=  22.2s\n",
      "[CV] n_estimators=1770, min_samples_split=2, min_samples_leaf=2, max_features=sqrt, max_depth=60, criterion=entropy, bootstrap=True \n",
      "[CV]  n_estimators=1700, min_samples_split=2, min_samples_leaf=4, max_features=log2, max_depth=None, criterion=entropy, bootstrap=True, total=  20.7s\n",
      "[CV] n_estimators=1770, min_samples_split=2, min_samples_leaf=2, max_features=sqrt, max_depth=60, criterion=entropy, bootstrap=True \n",
      "[CV]  n_estimators=1700, min_samples_split=2, min_samples_leaf=4, max_features=log2, max_depth=None, criterion=entropy, bootstrap=True, total=  20.6s\n",
      "[CV] n_estimators=1200, min_samples_split=5, min_samples_leaf=1, max_features=sqrt, max_depth=80, criterion=gini, bootstrap=True \n"
     ]
    },
    {
     "name": "stdout",
     "output_type": "stream",
     "text": [
      "[CV]  n_estimators=1770, min_samples_split=2, min_samples_leaf=2, max_features=sqrt, max_depth=60, criterion=entropy, bootstrap=True, total=  23.6s\n",
      "[CV] n_estimators=1200, min_samples_split=5, min_samples_leaf=1, max_features=sqrt, max_depth=80, criterion=gini, bootstrap=True \n",
      "[CV]  n_estimators=1770, min_samples_split=2, min_samples_leaf=2, max_features=sqrt, max_depth=60, criterion=entropy, bootstrap=True, total=  23.2s\n",
      "[CV] n_estimators=1200, min_samples_split=5, min_samples_leaf=1, max_features=sqrt, max_depth=80, criterion=gini, bootstrap=True \n",
      "[CV]  n_estimators=1200, min_samples_split=5, min_samples_leaf=1, max_features=sqrt, max_depth=80, criterion=gini, bootstrap=True, total=  13.3s\n",
      "[CV] n_estimators=330, min_samples_split=2, min_samples_leaf=2, max_features=log2, max_depth=80, criterion=entropy, bootstrap=False \n",
      "[CV]  n_estimators=330, min_samples_split=2, min_samples_leaf=2, max_features=log2, max_depth=80, criterion=entropy, bootstrap=False, total=   5.4s\n",
      "[CV] n_estimators=330, min_samples_split=2, min_samples_leaf=2, max_features=log2, max_depth=80, criterion=entropy, bootstrap=False \n",
      "[CV]  n_estimators=1200, min_samples_split=5, min_samples_leaf=1, max_features=sqrt, max_depth=80, criterion=gini, bootstrap=True, total=  12.5s\n",
      "[CV] n_estimators=330, min_samples_split=2, min_samples_leaf=2, max_features=log2, max_depth=80, criterion=entropy, bootstrap=False \n",
      "[CV]  n_estimators=1770, min_samples_split=2, min_samples_leaf=2, max_features=sqrt, max_depth=60, criterion=entropy, bootstrap=True, total=  21.6s\n",
      "[CV] n_estimators=510, min_samples_split=5, min_samples_leaf=4, max_features=auto, max_depth=90, criterion=entropy, bootstrap=False \n",
      "[CV]  n_estimators=1200, min_samples_split=5, min_samples_leaf=1, max_features=sqrt, max_depth=80, criterion=gini, bootstrap=True, total=  12.3s\n",
      "[CV] n_estimators=510, min_samples_split=5, min_samples_leaf=4, max_features=auto, max_depth=90, criterion=entropy, bootstrap=False \n",
      "[CV]  n_estimators=330, min_samples_split=2, min_samples_leaf=2, max_features=log2, max_depth=80, criterion=entropy, bootstrap=False, total=   5.3s\n",
      "[CV] n_estimators=510, min_samples_split=5, min_samples_leaf=4, max_features=auto, max_depth=90, criterion=entropy, bootstrap=False \n",
      "[CV]  n_estimators=330, min_samples_split=2, min_samples_leaf=2, max_features=log2, max_depth=80, criterion=entropy, bootstrap=False, total=   5.5s\n",
      "[CV] n_estimators=370, min_samples_split=2, min_samples_leaf=1, max_features=auto, max_depth=50, criterion=gini, bootstrap=True \n",
      "[CV]  n_estimators=510, min_samples_split=5, min_samples_leaf=4, max_features=auto, max_depth=90, criterion=entropy, bootstrap=False, total=   7.7s\n",
      "[CV] n_estimators=370, min_samples_split=2, min_samples_leaf=1, max_features=auto, max_depth=50, criterion=gini, bootstrap=True \n",
      "[CV]  n_estimators=370, min_samples_split=2, min_samples_leaf=1, max_features=auto, max_depth=50, criterion=gini, bootstrap=True, total=   4.3s\n",
      "[CV] n_estimators=370, min_samples_split=2, min_samples_leaf=1, max_features=auto, max_depth=50, criterion=gini, bootstrap=True \n",
      "[CV]  n_estimators=510, min_samples_split=5, min_samples_leaf=4, max_features=auto, max_depth=90, criterion=entropy, bootstrap=False, total=   7.8s\n",
      "[CV] n_estimators=1890, min_samples_split=10, min_samples_leaf=4, max_features=sqrt, max_depth=80, criterion=entropy, bootstrap=False \n",
      "[CV]  n_estimators=510, min_samples_split=5, min_samples_leaf=4, max_features=auto, max_depth=90, criterion=entropy, bootstrap=False, total=   7.9s\n",
      "[CV] n_estimators=1890, min_samples_split=10, min_samples_leaf=4, max_features=sqrt, max_depth=80, criterion=entropy, bootstrap=False \n",
      "[CV]  n_estimators=370, min_samples_split=2, min_samples_leaf=1, max_features=auto, max_depth=50, criterion=gini, bootstrap=True, total=   4.5s\n",
      "[CV] n_estimators=1890, min_samples_split=10, min_samples_leaf=4, max_features=sqrt, max_depth=80, criterion=entropy, bootstrap=False \n",
      "[CV]  n_estimators=370, min_samples_split=2, min_samples_leaf=1, max_features=auto, max_depth=50, criterion=gini, bootstrap=True, total=   4.4s\n",
      "[CV] n_estimators=210, min_samples_split=10, min_samples_leaf=2, max_features=log2, max_depth=100, criterion=entropy, bootstrap=False \n",
      "[CV]  n_estimators=210, min_samples_split=10, min_samples_leaf=2, max_features=log2, max_depth=100, criterion=entropy, bootstrap=False, total=   3.4s\n",
      "[CV] n_estimators=210, min_samples_split=10, min_samples_leaf=2, max_features=log2, max_depth=100, criterion=entropy, bootstrap=False \n",
      "[CV]  n_estimators=210, min_samples_split=10, min_samples_leaf=2, max_features=log2, max_depth=100, criterion=entropy, bootstrap=False, total=   3.3s\n",
      "[CV] n_estimators=210, min_samples_split=10, min_samples_leaf=2, max_features=log2, max_depth=100, criterion=entropy, bootstrap=False \n",
      "[CV]  n_estimators=210, min_samples_split=10, min_samples_leaf=2, max_features=log2, max_depth=100, criterion=entropy, bootstrap=False, total=   3.2s\n",
      "[CV] n_estimators=1330, min_samples_split=2, min_samples_leaf=4, max_features=auto, max_depth=60, criterion=entropy, bootstrap=True \n",
      "[CV]  n_estimators=1890, min_samples_split=10, min_samples_leaf=4, max_features=sqrt, max_depth=80, criterion=entropy, bootstrap=False, total=  32.1s\n",
      "[CV] n_estimators=1330, min_samples_split=2, min_samples_leaf=4, max_features=auto, max_depth=60, criterion=entropy, bootstrap=True \n",
      "[CV]  n_estimators=1330, min_samples_split=2, min_samples_leaf=4, max_features=auto, max_depth=60, criterion=entropy, bootstrap=True, total=  19.2s\n",
      "[CV] n_estimators=1330, min_samples_split=2, min_samples_leaf=4, max_features=auto, max_depth=60, criterion=entropy, bootstrap=True \n",
      "[CV]  n_estimators=1890, min_samples_split=10, min_samples_leaf=4, max_features=sqrt, max_depth=80, criterion=entropy, bootstrap=False, total=  31.9s\n",
      "[CV] n_estimators=950, min_samples_split=2, min_samples_leaf=4, max_features=log2, max_depth=None, criterion=gini, bootstrap=True \n",
      "[CV]  n_estimators=1890, min_samples_split=10, min_samples_leaf=4, max_features=sqrt, max_depth=80, criterion=entropy, bootstrap=False, total=  32.0s\n",
      "[CV] n_estimators=950, min_samples_split=2, min_samples_leaf=4, max_features=log2, max_depth=None, criterion=gini, bootstrap=True \n",
      "[CV]  n_estimators=950, min_samples_split=2, min_samples_leaf=4, max_features=log2, max_depth=None, criterion=gini, bootstrap=True, total=   9.5s\n",
      "[CV] n_estimators=950, min_samples_split=2, min_samples_leaf=4, max_features=log2, max_depth=None, criterion=gini, bootstrap=True \n",
      "[CV]  n_estimators=950, min_samples_split=2, min_samples_leaf=4, max_features=log2, max_depth=None, criterion=gini, bootstrap=True, total=   9.5s\n",
      "[CV] n_estimators=1290, min_samples_split=2, min_samples_leaf=1, max_features=sqrt, max_depth=30, criterion=entropy, bootstrap=False \n",
      "[CV]  n_estimators=1330, min_samples_split=2, min_samples_leaf=4, max_features=auto, max_depth=60, criterion=entropy, bootstrap=True, total=  15.5s\n",
      "[CV] n_estimators=1290, min_samples_split=2, min_samples_leaf=1, max_features=sqrt, max_depth=30, criterion=entropy, bootstrap=False \n",
      "[CV]  n_estimators=1330, min_samples_split=2, min_samples_leaf=4, max_features=auto, max_depth=60, criterion=entropy, bootstrap=True, total=  15.6s\n",
      "[CV] n_estimators=1290, min_samples_split=2, min_samples_leaf=1, max_features=sqrt, max_depth=30, criterion=entropy, bootstrap=False \n",
      "[CV]  n_estimators=950, min_samples_split=2, min_samples_leaf=4, max_features=log2, max_depth=None, criterion=gini, bootstrap=True, total=   9.6s\n",
      "[CV] n_estimators=1720, min_samples_split=10, min_samples_leaf=4, max_features=log2, max_depth=20, criterion=gini, bootstrap=True \n",
      "[CV]  n_estimators=1290, min_samples_split=2, min_samples_leaf=1, max_features=sqrt, max_depth=30, criterion=entropy, bootstrap=False, total=  23.7s\n",
      "[CV] n_estimators=1720, min_samples_split=10, min_samples_leaf=4, max_features=log2, max_depth=20, criterion=gini, bootstrap=True \n",
      "[CV]  n_estimators=1290, min_samples_split=2, min_samples_leaf=1, max_features=sqrt, max_depth=30, criterion=entropy, bootstrap=False, total=  22.7s\n",
      "[CV] n_estimators=1720, min_samples_split=10, min_samples_leaf=4, max_features=log2, max_depth=20, criterion=gini, bootstrap=True \n",
      "[CV]  n_estimators=1720, min_samples_split=10, min_samples_leaf=4, max_features=log2, max_depth=20, criterion=gini, bootstrap=True, total=  16.3s\n"
     ]
    },
    {
     "name": "stdout",
     "output_type": "stream",
     "text": [
      "[CV] n_estimators=900, min_samples_split=5, min_samples_leaf=1, max_features=sqrt, max_depth=40, criterion=entropy, bootstrap=False \n",
      "[CV]  n_estimators=1290, min_samples_split=2, min_samples_leaf=1, max_features=sqrt, max_depth=30, criterion=entropy, bootstrap=False, total=  23.2s\n",
      "[CV] n_estimators=900, min_samples_split=5, min_samples_leaf=1, max_features=sqrt, max_depth=40, criterion=entropy, bootstrap=False \n",
      "[CV]  n_estimators=1720, min_samples_split=10, min_samples_leaf=4, max_features=log2, max_depth=20, criterion=gini, bootstrap=True, total=  18.7s\n",
      "[CV] n_estimators=900, min_samples_split=5, min_samples_leaf=1, max_features=sqrt, max_depth=40, criterion=entropy, bootstrap=False \n",
      "[CV]  n_estimators=900, min_samples_split=5, min_samples_leaf=1, max_features=sqrt, max_depth=40, criterion=entropy, bootstrap=False, total=  17.3s\n",
      "[CV] n_estimators=1010, min_samples_split=10, min_samples_leaf=2, max_features=log2, max_depth=90, criterion=entropy, bootstrap=False \n",
      "[CV]  n_estimators=900, min_samples_split=5, min_samples_leaf=1, max_features=sqrt, max_depth=40, criterion=entropy, bootstrap=False, total=  16.9s\n",
      "[CV] n_estimators=1010, min_samples_split=10, min_samples_leaf=2, max_features=log2, max_depth=90, criterion=entropy, bootstrap=False \n",
      "[CV]  n_estimators=1720, min_samples_split=10, min_samples_leaf=4, max_features=log2, max_depth=20, criterion=gini, bootstrap=True, total=  19.0s\n",
      "[CV] n_estimators=1010, min_samples_split=10, min_samples_leaf=2, max_features=log2, max_depth=90, criterion=entropy, bootstrap=False \n",
      "[CV]  n_estimators=900, min_samples_split=5, min_samples_leaf=1, max_features=sqrt, max_depth=40, criterion=entropy, bootstrap=False, total=  15.5s\n",
      "[CV] n_estimators=1630, min_samples_split=5, min_samples_leaf=4, max_features=sqrt, max_depth=90, criterion=entropy, bootstrap=False \n",
      "[CV]  n_estimators=1010, min_samples_split=10, min_samples_leaf=2, max_features=log2, max_depth=90, criterion=entropy, bootstrap=False, total=  16.2s\n",
      "[CV] n_estimators=1630, min_samples_split=5, min_samples_leaf=4, max_features=sqrt, max_depth=90, criterion=entropy, bootstrap=False \n",
      "[CV]  n_estimators=1010, min_samples_split=10, min_samples_leaf=2, max_features=log2, max_depth=90, criterion=entropy, bootstrap=False, total=  15.8s\n",
      "[CV] n_estimators=1630, min_samples_split=5, min_samples_leaf=4, max_features=sqrt, max_depth=90, criterion=entropy, bootstrap=False \n",
      "[CV]  n_estimators=1010, min_samples_split=10, min_samples_leaf=2, max_features=log2, max_depth=90, criterion=entropy, bootstrap=False, total=  16.3s\n",
      "[CV] n_estimators=490, min_samples_split=5, min_samples_leaf=2, max_features=sqrt, max_depth=80, criterion=entropy, bootstrap=False \n",
      "[CV]  n_estimators=490, min_samples_split=5, min_samples_leaf=2, max_features=sqrt, max_depth=80, criterion=entropy, bootstrap=False, total=   8.0s\n",
      "[CV] n_estimators=490, min_samples_split=5, min_samples_leaf=2, max_features=sqrt, max_depth=80, criterion=entropy, bootstrap=False \n",
      "[CV]  n_estimators=490, min_samples_split=5, min_samples_leaf=2, max_features=sqrt, max_depth=80, criterion=entropy, bootstrap=False, total=   8.8s\n",
      "[CV] n_estimators=490, min_samples_split=5, min_samples_leaf=2, max_features=sqrt, max_depth=80, criterion=entropy, bootstrap=False \n",
      "[CV]  n_estimators=1630, min_samples_split=5, min_samples_leaf=4, max_features=sqrt, max_depth=90, criterion=entropy, bootstrap=False, total=  25.5s\n",
      "[CV] n_estimators=1850, min_samples_split=5, min_samples_leaf=4, max_features=sqrt, max_depth=80, criterion=gini, bootstrap=True \n",
      "[CV]  n_estimators=1630, min_samples_split=5, min_samples_leaf=4, max_features=sqrt, max_depth=90, criterion=entropy, bootstrap=False, total=  25.3s\n",
      "[CV] n_estimators=1850, min_samples_split=5, min_samples_leaf=4, max_features=sqrt, max_depth=80, criterion=gini, bootstrap=True \n",
      "[CV]  n_estimators=1630, min_samples_split=5, min_samples_leaf=4, max_features=sqrt, max_depth=90, criterion=entropy, bootstrap=False, total=  25.3s\n",
      "[CV] n_estimators=1850, min_samples_split=5, min_samples_leaf=4, max_features=sqrt, max_depth=80, criterion=gini, bootstrap=True \n",
      "[CV]  n_estimators=490, min_samples_split=5, min_samples_leaf=2, max_features=sqrt, max_depth=80, criterion=entropy, bootstrap=False, total=   8.1s\n",
      "[CV] n_estimators=1390, min_samples_split=10, min_samples_leaf=1, max_features=sqrt, max_depth=100, criterion=entropy, bootstrap=True \n",
      "[CV]  n_estimators=1850, min_samples_split=5, min_samples_leaf=4, max_features=sqrt, max_depth=80, criterion=gini, bootstrap=True, total=  18.4s\n",
      "[CV] n_estimators=1390, min_samples_split=10, min_samples_leaf=1, max_features=sqrt, max_depth=100, criterion=entropy, bootstrap=True \n",
      "[CV]  n_estimators=1390, min_samples_split=10, min_samples_leaf=1, max_features=sqrt, max_depth=100, criterion=entropy, bootstrap=True, total=  16.6s\n",
      "[CV] n_estimators=1390, min_samples_split=10, min_samples_leaf=1, max_features=sqrt, max_depth=100, criterion=entropy, bootstrap=True \n",
      "[CV]  n_estimators=1850, min_samples_split=5, min_samples_leaf=4, max_features=sqrt, max_depth=80, criterion=gini, bootstrap=True, total=  18.3s\n",
      "[CV] n_estimators=780, min_samples_split=2, min_samples_leaf=1, max_features=log2, max_depth=10, criterion=entropy, bootstrap=False \n",
      "[CV]  n_estimators=1850, min_samples_split=5, min_samples_leaf=4, max_features=sqrt, max_depth=80, criterion=gini, bootstrap=True, total=  18.4s\n",
      "[CV] n_estimators=780, min_samples_split=2, min_samples_leaf=1, max_features=log2, max_depth=10, criterion=entropy, bootstrap=False \n",
      "[CV]  n_estimators=780, min_samples_split=2, min_samples_leaf=1, max_features=log2, max_depth=10, criterion=entropy, bootstrap=False, total=  11.0s\n",
      "[CV] n_estimators=780, min_samples_split=2, min_samples_leaf=1, max_features=log2, max_depth=10, criterion=entropy, bootstrap=False \n",
      "[CV]  n_estimators=780, min_samples_split=2, min_samples_leaf=1, max_features=log2, max_depth=10, criterion=entropy, bootstrap=False, total=  11.0s\n",
      "[CV] n_estimators=340, min_samples_split=5, min_samples_leaf=1, max_features=sqrt, max_depth=30, criterion=gini, bootstrap=True \n",
      "[CV]  n_estimators=340, min_samples_split=5, min_samples_leaf=1, max_features=sqrt, max_depth=30, criterion=gini, bootstrap=True, total=   3.8s\n",
      "[CV] n_estimators=340, min_samples_split=5, min_samples_leaf=1, max_features=sqrt, max_depth=30, criterion=gini, bootstrap=True \n",
      "[CV]  n_estimators=1390, min_samples_split=10, min_samples_leaf=1, max_features=sqrt, max_depth=100, criterion=entropy, bootstrap=True, total=  17.1s\n",
      "[CV] n_estimators=340, min_samples_split=5, min_samples_leaf=1, max_features=sqrt, max_depth=30, criterion=gini, bootstrap=True \n",
      "[CV]  n_estimators=1390, min_samples_split=10, min_samples_leaf=1, max_features=sqrt, max_depth=100, criterion=entropy, bootstrap=True, total=  17.1s\n",
      "[CV] n_estimators=970, min_samples_split=10, min_samples_leaf=4, max_features=auto, max_depth=90, criterion=gini, bootstrap=True \n",
      "[CV]  n_estimators=340, min_samples_split=5, min_samples_leaf=1, max_features=sqrt, max_depth=30, criterion=gini, bootstrap=True, total=   3.9s\n",
      "[CV] n_estimators=970, min_samples_split=10, min_samples_leaf=4, max_features=auto, max_depth=90, criterion=gini, bootstrap=True \n",
      "[CV]  n_estimators=340, min_samples_split=5, min_samples_leaf=1, max_features=sqrt, max_depth=30, criterion=gini, bootstrap=True, total=   3.8s\n",
      "[CV] n_estimators=970, min_samples_split=10, min_samples_leaf=4, max_features=auto, max_depth=90, criterion=gini, bootstrap=True \n",
      "[CV]  n_estimators=780, min_samples_split=2, min_samples_leaf=1, max_features=log2, max_depth=10, criterion=entropy, bootstrap=False, total=  11.8s\n",
      "[CV] n_estimators=1470, min_samples_split=2, min_samples_leaf=2, max_features=log2, max_depth=80, criterion=entropy, bootstrap=True \n",
      "[CV]  n_estimators=970, min_samples_split=10, min_samples_leaf=4, max_features=auto, max_depth=90, criterion=gini, bootstrap=True, total=  10.4s\n",
      "[CV] n_estimators=1470, min_samples_split=2, min_samples_leaf=2, max_features=log2, max_depth=80, criterion=entropy, bootstrap=True \n",
      "[CV]  n_estimators=970, min_samples_split=10, min_samples_leaf=4, max_features=auto, max_depth=90, criterion=gini, bootstrap=True, total=   9.9s\n",
      "[CV] n_estimators=1470, min_samples_split=2, min_samples_leaf=2, max_features=log2, max_depth=80, criterion=entropy, bootstrap=True \n"
     ]
    },
    {
     "name": "stdout",
     "output_type": "stream",
     "text": [
      "[CV]  n_estimators=970, min_samples_split=10, min_samples_leaf=4, max_features=auto, max_depth=90, criterion=gini, bootstrap=True, total=   9.9s\n",
      "[CV] n_estimators=1360, min_samples_split=10, min_samples_leaf=2, max_features=auto, max_depth=10, criterion=gini, bootstrap=True \n",
      "[CV]  n_estimators=1470, min_samples_split=2, min_samples_leaf=2, max_features=log2, max_depth=80, criterion=entropy, bootstrap=True, total=  19.0s\n",
      "[CV] n_estimators=1360, min_samples_split=10, min_samples_leaf=2, max_features=auto, max_depth=10, criterion=gini, bootstrap=True \n",
      "[CV]  n_estimators=1360, min_samples_split=10, min_samples_leaf=2, max_features=auto, max_depth=10, criterion=gini, bootstrap=True, total=  13.1s\n",
      "[CV] n_estimators=1360, min_samples_split=10, min_samples_leaf=2, max_features=auto, max_depth=10, criterion=gini, bootstrap=True \n",
      "[CV]  n_estimators=1470, min_samples_split=2, min_samples_leaf=2, max_features=log2, max_depth=80, criterion=entropy, bootstrap=True, total=  18.7s\n",
      "[CV] n_estimators=1710, min_samples_split=10, min_samples_leaf=1, max_features=sqrt, max_depth=10, criterion=entropy, bootstrap=True \n",
      "[CV]  n_estimators=1470, min_samples_split=2, min_samples_leaf=2, max_features=log2, max_depth=80, criterion=entropy, bootstrap=True, total=  19.0s\n",
      "[CV] n_estimators=1710, min_samples_split=10, min_samples_leaf=1, max_features=sqrt, max_depth=10, criterion=entropy, bootstrap=True \n",
      "[CV]  n_estimators=1360, min_samples_split=10, min_samples_leaf=2, max_features=auto, max_depth=10, criterion=gini, bootstrap=True, total=  13.6s\n",
      "[CV] n_estimators=1710, min_samples_split=10, min_samples_leaf=1, max_features=sqrt, max_depth=10, criterion=entropy, bootstrap=True \n",
      "[CV]  n_estimators=1360, min_samples_split=10, min_samples_leaf=2, max_features=auto, max_depth=10, criterion=gini, bootstrap=True, total=  13.5s\n",
      "[CV] n_estimators=470, min_samples_split=2, min_samples_leaf=2, max_features=log2, max_depth=50, criterion=gini, bootstrap=True \n",
      "[CV]  n_estimators=470, min_samples_split=2, min_samples_leaf=2, max_features=log2, max_depth=50, criterion=gini, bootstrap=True, total=   5.2s\n",
      "[CV] n_estimators=470, min_samples_split=2, min_samples_leaf=2, max_features=log2, max_depth=50, criterion=gini, bootstrap=True \n",
      "[CV]  n_estimators=1710, min_samples_split=10, min_samples_leaf=1, max_features=sqrt, max_depth=10, criterion=entropy, bootstrap=True, total=  19.7s\n",
      "[CV] n_estimators=470, min_samples_split=2, min_samples_leaf=2, max_features=log2, max_depth=50, criterion=gini, bootstrap=True \n",
      "[CV]  n_estimators=470, min_samples_split=2, min_samples_leaf=2, max_features=log2, max_depth=50, criterion=gini, bootstrap=True, total=   5.3s\n",
      "[CV] n_estimators=200, min_samples_split=2, min_samples_leaf=1, max_features=auto, max_depth=60, criterion=gini, bootstrap=True \n",
      "[CV]  n_estimators=1710, min_samples_split=10, min_samples_leaf=1, max_features=sqrt, max_depth=10, criterion=entropy, bootstrap=True, total=  19.4s\n",
      "[CV] n_estimators=200, min_samples_split=2, min_samples_leaf=1, max_features=auto, max_depth=60, criterion=gini, bootstrap=True \n",
      "[CV]  n_estimators=200, min_samples_split=2, min_samples_leaf=1, max_features=auto, max_depth=60, criterion=gini, bootstrap=True, total=   2.4s\n",
      "[CV] n_estimators=200, min_samples_split=2, min_samples_leaf=1, max_features=auto, max_depth=60, criterion=gini, bootstrap=True \n",
      "[CV]  n_estimators=470, min_samples_split=2, min_samples_leaf=2, max_features=log2, max_depth=50, criterion=gini, bootstrap=True, total=   5.0s\n",
      "[CV] n_estimators=1370, min_samples_split=10, min_samples_leaf=2, max_features=auto, max_depth=100, criterion=entropy, bootstrap=False \n",
      "[CV]  n_estimators=200, min_samples_split=2, min_samples_leaf=1, max_features=auto, max_depth=60, criterion=gini, bootstrap=True, total=   2.4s\n",
      "[CV] n_estimators=1370, min_samples_split=10, min_samples_leaf=2, max_features=auto, max_depth=100, criterion=entropy, bootstrap=False \n",
      "[CV]  n_estimators=200, min_samples_split=2, min_samples_leaf=1, max_features=auto, max_depth=60, criterion=gini, bootstrap=True, total=   2.3s\n",
      "[CV] n_estimators=1370, min_samples_split=10, min_samples_leaf=2, max_features=auto, max_depth=100, criterion=entropy, bootstrap=False \n",
      "[CV]  n_estimators=1710, min_samples_split=10, min_samples_leaf=1, max_features=sqrt, max_depth=10, criterion=entropy, bootstrap=True, total=  19.3s\n",
      "[CV] n_estimators=1980, min_samples_split=2, min_samples_leaf=1, max_features=auto, max_depth=70, criterion=entropy, bootstrap=True \n",
      "[CV]  n_estimators=1370, min_samples_split=10, min_samples_leaf=2, max_features=auto, max_depth=100, criterion=entropy, bootstrap=False, total=  21.3s\n",
      "[CV] n_estimators=1980, min_samples_split=2, min_samples_leaf=1, max_features=auto, max_depth=70, criterion=entropy, bootstrap=True \n",
      "[CV]  n_estimators=1370, min_samples_split=10, min_samples_leaf=2, max_features=auto, max_depth=100, criterion=entropy, bootstrap=False, total=  21.4s\n",
      "[CV] n_estimators=1980, min_samples_split=2, min_samples_leaf=1, max_features=auto, max_depth=70, criterion=entropy, bootstrap=True \n",
      "[CV]  n_estimators=1370, min_samples_split=10, min_samples_leaf=2, max_features=auto, max_depth=100, criterion=entropy, bootstrap=False, total=  22.7s\n",
      "[CV] n_estimators=1080, min_samples_split=2, min_samples_leaf=4, max_features=log2, max_depth=20, criterion=gini, bootstrap=True \n",
      "[CV]  n_estimators=1980, min_samples_split=2, min_samples_leaf=1, max_features=auto, max_depth=70, criterion=entropy, bootstrap=True, total=  31.1s\n",
      "[CV] n_estimators=1080, min_samples_split=2, min_samples_leaf=4, max_features=log2, max_depth=20, criterion=gini, bootstrap=True \n",
      "[CV]  n_estimators=1080, min_samples_split=2, min_samples_leaf=4, max_features=log2, max_depth=20, criterion=gini, bootstrap=True, total=  13.1s\n",
      "[CV] n_estimators=1080, min_samples_split=2, min_samples_leaf=4, max_features=log2, max_depth=20, criterion=gini, bootstrap=True \n",
      "[CV]  n_estimators=1080, min_samples_split=2, min_samples_leaf=4, max_features=log2, max_depth=20, criterion=gini, bootstrap=True, total=  11.6s\n",
      "[CV] n_estimators=670, min_samples_split=10, min_samples_leaf=2, max_features=log2, max_depth=70, criterion=entropy, bootstrap=True \n",
      "[CV]  n_estimators=1080, min_samples_split=2, min_samples_leaf=4, max_features=log2, max_depth=20, criterion=gini, bootstrap=True, total=  10.0s\n",
      "[CV] n_estimators=670, min_samples_split=10, min_samples_leaf=2, max_features=log2, max_depth=70, criterion=entropy, bootstrap=True \n",
      "[CV]  n_estimators=1980, min_samples_split=2, min_samples_leaf=1, max_features=auto, max_depth=70, criterion=entropy, bootstrap=True, total=  33.1s\n",
      "[CV] n_estimators=670, min_samples_split=10, min_samples_leaf=2, max_features=log2, max_depth=70, criterion=entropy, bootstrap=True \n",
      "[CV]  n_estimators=1980, min_samples_split=2, min_samples_leaf=1, max_features=auto, max_depth=70, criterion=entropy, bootstrap=True, total=  33.2s\n",
      "[CV]  n_estimators=670, min_samples_split=10, min_samples_leaf=2, max_features=log2, max_depth=70, criterion=entropy, bootstrap=True, total=  12.3s\n",
      "[CV]  n_estimators=670, min_samples_split=10, min_samples_leaf=2, max_features=log2, max_depth=70, criterion=entropy, bootstrap=True, total=  10.7s\n",
      "[CV]  n_estimators=670, min_samples_split=10, min_samples_leaf=2, max_features=log2, max_depth=70, criterion=entropy, bootstrap=True, total=   5.8s\n"
     ]
    },
    {
     "name": "stderr",
     "output_type": "stream",
     "text": [
      "[Parallel(n_jobs=-1)]: Done 300 out of 300 | elapsed: 22.7min finished\n"
     ]
    },
    {
     "data": {
      "text/plain": [
       "RandomizedSearchCV(cv=3, error_score='raise',\n",
       "          estimator=RandomForestClassifier(bootstrap=True, class_weight=None, criterion='gini',\n",
       "            max_depth=None, max_features='auto', max_leaf_nodes=None,\n",
       "            min_impurity_decrease=0.0, min_impurity_split=None,\n",
       "            min_samples_leaf=1, min_samples_split=2,\n",
       "            min_weight_fraction_leaf=0.0, n_estimators=10, n_jobs=1,\n",
       "            oob_score=False, random_state=None, verbose=0,\n",
       "            warm_start=False),\n",
       "          fit_params=None, iid=True, n_iter=100, n_jobs=-1,\n",
       "          param_distributions={'n_estimators': [200, 210, 220, 230, 240, 250, 260, 270, 280, 290, 300, 310, 320, 330, 340, 350, 360, 370, 380, 390, 400, 410, 420, 430, 440, 450, 460, 470, 480, 490, 500, 510, 520, 530, 540, 550, 560, 570, 580, 590, 600, 610, 620, 630, 640, 650, 660, 670, 680, 690, 700, 710, 72..., None], 'min_samples_split': [2, 5, 10], 'min_samples_leaf': [1, 2, 4], 'bootstrap': [True, False]},\n",
       "          pre_dispatch='2*n_jobs', random_state=42, refit=True,\n",
       "          return_train_score='warn', scoring=None, verbose=2)"
      ]
     },
     "execution_count": 7,
     "metadata": {},
     "output_type": "execute_result"
    }
   ],
   "source": [
    "# Use the random grid to search for best hyperparameters\n",
    "# First create the base model to tune\n",
    "rf = RandomForestClassifier()\n",
    "# Random search of parameters, using 5 fold cross validation, \n",
    "# search across 100 different combinations, and use all available cores\n",
    "rf_random = RandomizedSearchCV(estimator = rf, param_distributions = random_grid, n_iter = 100, cv = 3, verbose=2, random_state=42, n_jobs = -1)\n",
    "# Fit the random search model\n",
    "rf_random.fit(dfNorm[predictors], dfNorm['churn'])"
   ]
  },
  {
   "cell_type": "markdown",
   "metadata": {},
   "source": [
    "#### Best Parameters"
   ]
  },
  {
   "cell_type": "code",
   "execution_count": 8,
   "metadata": {},
   "outputs": [
    {
     "data": {
      "text/plain": [
       "{'bootstrap': True,\n",
       " 'criterion': 'gini',\n",
       " 'max_depth': 10,\n",
       " 'max_features': 'sqrt',\n",
       " 'min_samples_leaf': 4,\n",
       " 'min_samples_split': 2,\n",
       " 'n_estimators': 670}"
      ]
     },
     "execution_count": 8,
     "metadata": {},
     "output_type": "execute_result"
    }
   ],
   "source": [
    "rf_random.best_params_"
   ]
  },
  {
   "cell_type": "markdown",
   "metadata": {},
   "source": [
    "#### Evaluate Random Search"
   ]
  },
  {
   "cell_type": "markdown",
   "metadata": {},
   "source": [
    "To determine if random search yielded a better model, we compare the base model with the best random search model."
   ]
  },
  {
   "cell_type": "code",
   "execution_count": 9,
   "metadata": {},
   "outputs": [
    {
     "name": "stdout",
     "output_type": "stream",
     "text": [
      "\n",
      "Model Report\n",
      "Accuracy : 0.9804\n",
      "AUC Score (Train): 0.998728\n",
      "CV Score : Mean - 0.7912972 | Std - 0.01312693 | Min - 0.7697667 | Max - 0.8091917\n"
     ]
    },
    {
     "data": {
      "image/png": "[encoded data removed]",
      "text/plain": [
       "<matplotlib.figure.Figure at 0x1a12b68be0>"
      ]
     },
     "metadata": {},
     "output_type": "display_data"
    }
   ],
   "source": [
    "base_model = RandomForestClassifier(n_estimators = 10, random_state = 42)\n",
    "modelfit(base_model, dfNorm, predictors)"
   ]
  },
  {
   "cell_type": "code",
   "execution_count": 10,
   "metadata": {
    "scrolled": false
   },
   "outputs": [
    {
     "name": "stdout",
     "output_type": "stream",
     "text": [
      "\n",
      "Model Report\n",
      "Accuracy : 0.854\n",
      "AUC Score (Train): 0.927192\n",
      "CV Score : Mean - 0.8443983 | Std - 0.01223308 | Min - 0.8280917 | Max - 0.8583818\n"
     ]
    },
    {
     "data": {
      "image/png": "[encoded data removed]",
      "text/plain": [
       "<matplotlib.figure.Figure at 0x1a12d07d30>"
      ]
     },
     "metadata": {},
     "output_type": "display_data"
    }
   ],
   "source": [
    "best_random = rf_random.best_estimator_\n",
    "modelfit(best_random, dfNorm, predictors)"
   ]
  },
  {
   "cell_type": "markdown",
   "metadata": {},
   "source": [
    "Our model improved 3% which is awesome. Now we can further tune our model using cross validation over a grid search."
   ]
  },
  {
   "cell_type": "markdown",
   "metadata": {},
   "source": [
    "#### Grid Search w/ Cross Validation"
   ]
  },
  {
   "cell_type": "markdown",
   "metadata": {},
   "source": [
    "Since our parameters are narrowed down, we can concentrate our search w/ Cross Validation"
   ]
  },
  {
   "cell_type": "code",
   "execution_count": 11,
   "metadata": {},
   "outputs": [
    {
     "name": "stdout",
     "output_type": "stream",
     "text": [
      "Fitting 3 folds for each of 108 candidates, totalling 324 fits\n",
      "[CV] bootstrap=True, criterion=entropy, max_depth=70, max_features=log2, min_samples_leaf=3, min_samples_split=8, n_estimators=550 \n",
      "[CV] bootstrap=True, criterion=entropy, max_depth=70, max_features=log2, min_samples_leaf=3, min_samples_split=8, n_estimators=550 \n",
      "[CV] bootstrap=True, criterion=entropy, max_depth=70, max_features=log2, min_samples_leaf=3, min_samples_split=8, n_estimators=550 \n",
      "[CV] bootstrap=True, criterion=entropy, max_depth=70, max_features=log2, min_samples_leaf=3, min_samples_split=8, n_estimators=650 \n",
      "[CV]  bootstrap=True, criterion=entropy, max_depth=70, max_features=log2, min_samples_leaf=3, min_samples_split=8, n_estimators=550, total=   5.5s\n",
      "[CV] bootstrap=True, criterion=entropy, max_depth=70, max_features=log2, min_samples_leaf=3, min_samples_split=8, n_estimators=650 \n",
      "[CV]  bootstrap=True, criterion=entropy, max_depth=70, max_features=log2, min_samples_leaf=3, min_samples_split=8, n_estimators=550, total=   5.5s\n",
      "[CV] bootstrap=True, criterion=entropy, max_depth=70, max_features=log2, min_samples_leaf=3, min_samples_split=8, n_estimators=650 \n",
      "[CV]  bootstrap=True, criterion=entropy, max_depth=70, max_features=log2, min_samples_leaf=3, min_samples_split=8, n_estimators=550, total=   5.7s\n",
      "[CV] bootstrap=True, criterion=entropy, max_depth=70, max_features=log2, min_samples_leaf=3, min_samples_split=8, n_estimators=750 \n",
      "[CV]  bootstrap=True, criterion=entropy, max_depth=70, max_features=log2, min_samples_leaf=3, min_samples_split=8, n_estimators=650, total=   6.6s\n",
      "[CV] bootstrap=True, criterion=entropy, max_depth=70, max_features=log2, min_samples_leaf=3, min_samples_split=8, n_estimators=750 \n",
      "[CV]  bootstrap=True, criterion=entropy, max_depth=70, max_features=log2, min_samples_leaf=3, min_samples_split=8, n_estimators=650, total=   6.6s\n",
      "[CV] bootstrap=True, criterion=entropy, max_depth=70, max_features=log2, min_samples_leaf=3, min_samples_split=8, n_estimators=750 \n",
      "[CV]  bootstrap=True, criterion=entropy, max_depth=70, max_features=log2, min_samples_leaf=3, min_samples_split=8, n_estimators=650, total=   6.6s\n",
      "[CV] bootstrap=True, criterion=entropy, max_depth=70, max_features=log2, min_samples_leaf=3, min_samples_split=8, n_estimators=800 \n",
      "[CV]  bootstrap=True, criterion=entropy, max_depth=70, max_features=log2, min_samples_leaf=3, min_samples_split=8, n_estimators=750, total=   7.6s\n",
      "[CV] bootstrap=True, criterion=entropy, max_depth=70, max_features=log2, min_samples_leaf=3, min_samples_split=8, n_estimators=800 \n",
      "[CV]  bootstrap=True, criterion=entropy, max_depth=70, max_features=log2, min_samples_leaf=3, min_samples_split=8, n_estimators=750, total=   7.4s\n",
      "[CV] bootstrap=True, criterion=entropy, max_depth=70, max_features=log2, min_samples_leaf=3, min_samples_split=8, n_estimators=800 \n",
      "[CV]  bootstrap=True, criterion=entropy, max_depth=70, max_features=log2, min_samples_leaf=3, min_samples_split=8, n_estimators=750, total=   7.2s\n",
      "[CV] bootstrap=True, criterion=entropy, max_depth=70, max_features=log2, min_samples_leaf=3, min_samples_split=9, n_estimators=550 \n",
      "[CV]  bootstrap=True, criterion=entropy, max_depth=70, max_features=log2, min_samples_leaf=3, min_samples_split=8, n_estimators=800, total=   7.8s\n",
      "[CV] bootstrap=True, criterion=entropy, max_depth=70, max_features=log2, min_samples_leaf=3, min_samples_split=9, n_estimators=550 \n",
      "[CV]  bootstrap=True, criterion=entropy, max_depth=70, max_features=log2, min_samples_leaf=3, min_samples_split=8, n_estimators=800, total=   7.4s\n",
      "[CV] bootstrap=True, criterion=entropy, max_depth=70, max_features=log2, min_samples_leaf=3, min_samples_split=9, n_estimators=550 \n",
      "[CV]  bootstrap=True, criterion=entropy, max_depth=70, max_features=log2, min_samples_leaf=3, min_samples_split=8, n_estimators=800, total=   7.7s\n",
      "[CV] bootstrap=True, criterion=entropy, max_depth=70, max_features=log2, min_samples_leaf=3, min_samples_split=9, n_estimators=650 \n",
      "[CV]  bootstrap=True, criterion=entropy, max_depth=70, max_features=log2, min_samples_leaf=3, min_samples_split=9, n_estimators=550, total=   5.6s\n",
      "[CV] bootstrap=True, criterion=entropy, max_depth=70, max_features=log2, min_samples_leaf=3, min_samples_split=9, n_estimators=650 \n",
      "[CV]  bootstrap=True, criterion=entropy, max_depth=70, max_features=log2, min_samples_leaf=3, min_samples_split=9, n_estimators=550, total=   5.7s\n",
      "[CV] bootstrap=True, criterion=entropy, max_depth=70, max_features=log2, min_samples_leaf=3, min_samples_split=9, n_estimators=650 \n",
      "[CV]  bootstrap=True, criterion=entropy, max_depth=70, max_features=log2, min_samples_leaf=3, min_samples_split=9, n_estimators=550, total=   5.5s\n",
      "[CV] bootstrap=True, criterion=entropy, max_depth=70, max_features=log2, min_samples_leaf=3, min_samples_split=9, n_estimators=750 \n",
      "[CV]  bootstrap=True, criterion=entropy, max_depth=70, max_features=log2, min_samples_leaf=3, min_samples_split=9, n_estimators=650, total=   6.1s\n",
      "[CV] bootstrap=True, criterion=entropy, max_depth=70, max_features=log2, min_samples_leaf=3, min_samples_split=9, n_estimators=750 \n",
      "[CV]  bootstrap=True, criterion=entropy, max_depth=70, max_features=log2, min_samples_leaf=3, min_samples_split=9, n_estimators=650, total=   5.9s\n",
      "[CV] bootstrap=True, criterion=entropy, max_depth=70, max_features=log2, min_samples_leaf=3, min_samples_split=9, n_estimators=750 \n",
      "[CV]  bootstrap=True, criterion=entropy, max_depth=70, max_features=log2, min_samples_leaf=3, min_samples_split=9, n_estimators=650, total=   6.1s\n",
      "[CV] bootstrap=True, criterion=entropy, max_depth=70, max_features=log2, min_samples_leaf=3, min_samples_split=9, n_estimators=800 \n",
      "[CV]  bootstrap=True, criterion=entropy, max_depth=70, max_features=log2, min_samples_leaf=3, min_samples_split=9, n_estimators=750, total=   7.2s\n",
      "[CV] bootstrap=True, criterion=entropy, max_depth=70, max_features=log2, min_samples_leaf=3, min_samples_split=9, n_estimators=800 \n",
      "[CV]  bootstrap=True, criterion=entropy, max_depth=70, max_features=log2, min_samples_leaf=3, min_samples_split=9, n_estimators=750, total=   7.2s\n",
      "[CV] bootstrap=True, criterion=entropy, max_depth=70, max_features=log2, min_samples_leaf=3, min_samples_split=9, n_estimators=800 \n",
      "[CV]  bootstrap=True, criterion=entropy, max_depth=70, max_features=log2, min_samples_leaf=3, min_samples_split=9, n_estimators=750, total=   7.5s\n",
      "[CV] bootstrap=True, criterion=entropy, max_depth=70, max_features=log2, min_samples_leaf=3, min_samples_split=10, n_estimators=550 \n",
      "[CV]  bootstrap=True, criterion=entropy, max_depth=70, max_features=log2, min_samples_leaf=3, min_samples_split=9, n_estimators=800, total=   7.9s\n",
      "[CV] bootstrap=True, criterion=entropy, max_depth=70, max_features=log2, min_samples_leaf=3, min_samples_split=10, n_estimators=550 \n",
      "[CV]  bootstrap=True, criterion=entropy, max_depth=70, max_features=log2, min_samples_leaf=3, min_samples_split=9, n_estimators=800, total=   7.9s\n",
      "[CV] bootstrap=True, criterion=entropy, max_depth=70, max_features=log2, min_samples_leaf=3, min_samples_split=10, n_estimators=550 \n",
      "[CV]  bootstrap=True, criterion=entropy, max_depth=70, max_features=log2, min_samples_leaf=3, min_samples_split=9, n_estimators=800, total=   7.8s\n",
      "[CV] bootstrap=True, criterion=entropy, max_depth=70, max_features=log2, min_samples_leaf=3, min_samples_split=10, n_estimators=650 \n",
      "[CV]  bootstrap=True, criterion=entropy, max_depth=70, max_features=log2, min_samples_leaf=3, min_samples_split=10, n_estimators=550, total=   5.3s\n",
      "[CV] bootstrap=True, criterion=entropy, max_depth=70, max_features=log2, min_samples_leaf=3, min_samples_split=10, n_estimators=650 \n",
      "[CV]  bootstrap=True, criterion=entropy, max_depth=70, max_features=log2, min_samples_leaf=3, min_samples_split=10, n_estimators=550, total=   5.1s\n",
      "[CV] bootstrap=True, criterion=entropy, max_depth=70, max_features=log2, min_samples_leaf=3, min_samples_split=10, n_estimators=650 \n",
      "[CV]  bootstrap=True, criterion=entropy, max_depth=70, max_features=log2, min_samples_leaf=3, min_samples_split=10, n_estimators=550, total=   5.5s\n",
      "[CV] bootstrap=True, criterion=entropy, max_depth=70, max_features=log2, min_samples_leaf=3, min_samples_split=10, n_estimators=750 \n",
      "[CV]  bootstrap=True, criterion=entropy, max_depth=70, max_features=log2, min_samples_leaf=3, min_samples_split=10, n_estimators=650, total=   6.5s\n"
     ]
    },
    {
     "name": "stdout",
     "output_type": "stream",
     "text": [
      "[CV] bootstrap=True, criterion=entropy, max_depth=70, max_features=log2, min_samples_leaf=3, min_samples_split=10, n_estimators=750 \n",
      "[CV]  bootstrap=True, criterion=entropy, max_depth=70, max_features=log2, min_samples_leaf=3, min_samples_split=10, n_estimators=650, total=   6.5s\n",
      "[CV] bootstrap=True, criterion=entropy, max_depth=70, max_features=log2, min_samples_leaf=3, min_samples_split=10, n_estimators=750 \n",
      "[CV]  bootstrap=True, criterion=entropy, max_depth=70, max_features=log2, min_samples_leaf=3, min_samples_split=10, n_estimators=650, total=   6.7s\n",
      "[CV] bootstrap=True, criterion=entropy, max_depth=70, max_features=log2, min_samples_leaf=3, min_samples_split=10, n_estimators=800 \n",
      "[CV]  bootstrap=True, criterion=entropy, max_depth=70, max_features=log2, min_samples_leaf=3, min_samples_split=10, n_estimators=750, total=   7.7s\n",
      "[CV] bootstrap=True, criterion=entropy, max_depth=70, max_features=log2, min_samples_leaf=3, min_samples_split=10, n_estimators=800 \n",
      "[CV]  bootstrap=True, criterion=entropy, max_depth=70, max_features=log2, min_samples_leaf=3, min_samples_split=10, n_estimators=750, total=   8.1s\n",
      "[CV] bootstrap=True, criterion=entropy, max_depth=70, max_features=log2, min_samples_leaf=3, min_samples_split=10, n_estimators=800 \n",
      "[CV]  bootstrap=True, criterion=entropy, max_depth=70, max_features=log2, min_samples_leaf=3, min_samples_split=10, n_estimators=750, total=   7.7s\n",
      "[CV] bootstrap=True, criterion=entropy, max_depth=70, max_features=log2, min_samples_leaf=4, min_samples_split=8, n_estimators=550 \n"
     ]
    },
    {
     "name": "stderr",
     "output_type": "stream",
     "text": [
      "[Parallel(n_jobs=-1)]: Done  33 tasks      | elapsed:  1.1min\n"
     ]
    },
    {
     "name": "stdout",
     "output_type": "stream",
     "text": [
      "[CV]  bootstrap=True, criterion=entropy, max_depth=70, max_features=log2, min_samples_leaf=3, min_samples_split=10, n_estimators=800, total=   8.3s\n",
      "[CV] bootstrap=True, criterion=entropy, max_depth=70, max_features=log2, min_samples_leaf=4, min_samples_split=8, n_estimators=550 \n",
      "[CV]  bootstrap=True, criterion=entropy, max_depth=70, max_features=log2, min_samples_leaf=3, min_samples_split=10, n_estimators=800, total=   8.4s\n",
      "[CV] bootstrap=True, criterion=entropy, max_depth=70, max_features=log2, min_samples_leaf=4, min_samples_split=8, n_estimators=550 \n",
      "[CV]  bootstrap=True, criterion=entropy, max_depth=70, max_features=log2, min_samples_leaf=4, min_samples_split=8, n_estimators=550, total=   5.6s\n",
      "[CV] bootstrap=True, criterion=entropy, max_depth=70, max_features=log2, min_samples_leaf=4, min_samples_split=8, n_estimators=650 \n",
      "[CV]  bootstrap=True, criterion=entropy, max_depth=70, max_features=log2, min_samples_leaf=4, min_samples_split=8, n_estimators=550, total=   5.7s\n",
      "[CV] bootstrap=True, criterion=entropy, max_depth=70, max_features=log2, min_samples_leaf=4, min_samples_split=8, n_estimators=650 \n",
      "[CV]  bootstrap=True, criterion=entropy, max_depth=70, max_features=log2, min_samples_leaf=3, min_samples_split=10, n_estimators=800, total=   8.1s\n",
      "[CV] bootstrap=True, criterion=entropy, max_depth=70, max_features=log2, min_samples_leaf=4, min_samples_split=8, n_estimators=650 \n",
      "[CV]  bootstrap=True, criterion=entropy, max_depth=70, max_features=log2, min_samples_leaf=4, min_samples_split=8, n_estimators=550, total=   5.4s\n",
      "[CV] bootstrap=True, criterion=entropy, max_depth=70, max_features=log2, min_samples_leaf=4, min_samples_split=8, n_estimators=750 \n",
      "[CV]  bootstrap=True, criterion=entropy, max_depth=70, max_features=log2, min_samples_leaf=4, min_samples_split=8, n_estimators=650, total=   6.7s\n",
      "[CV] bootstrap=True, criterion=entropy, max_depth=70, max_features=log2, min_samples_leaf=4, min_samples_split=8, n_estimators=750 \n",
      "[CV]  bootstrap=True, criterion=entropy, max_depth=70, max_features=log2, min_samples_leaf=4, min_samples_split=8, n_estimators=650, total=   6.8s\n",
      "[CV] bootstrap=True, criterion=entropy, max_depth=70, max_features=log2, min_samples_leaf=4, min_samples_split=8, n_estimators=750 \n",
      "[CV]  bootstrap=True, criterion=entropy, max_depth=70, max_features=log2, min_samples_leaf=4, min_samples_split=8, n_estimators=650, total=   6.6s\n",
      "[CV] bootstrap=True, criterion=entropy, max_depth=70, max_features=log2, min_samples_leaf=4, min_samples_split=8, n_estimators=800 \n",
      "[CV]  bootstrap=True, criterion=entropy, max_depth=70, max_features=log2, min_samples_leaf=4, min_samples_split=8, n_estimators=750, total=   7.4s\n",
      "[CV] bootstrap=True, criterion=entropy, max_depth=70, max_features=log2, min_samples_leaf=4, min_samples_split=8, n_estimators=800 \n",
      "[CV]  bootstrap=True, criterion=entropy, max_depth=70, max_features=log2, min_samples_leaf=4, min_samples_split=8, n_estimators=750, total=   7.9s\n",
      "[CV] bootstrap=True, criterion=entropy, max_depth=70, max_features=log2, min_samples_leaf=4, min_samples_split=8, n_estimators=800 \n",
      "[CV]  bootstrap=True, criterion=entropy, max_depth=70, max_features=log2, min_samples_leaf=4, min_samples_split=8, n_estimators=750, total=   8.0s\n",
      "[CV] bootstrap=True, criterion=entropy, max_depth=70, max_features=log2, min_samples_leaf=4, min_samples_split=9, n_estimators=550 \n",
      "[CV]  bootstrap=True, criterion=entropy, max_depth=70, max_features=log2, min_samples_leaf=4, min_samples_split=8, n_estimators=800, total=   8.3s\n",
      "[CV] bootstrap=True, criterion=entropy, max_depth=70, max_features=log2, min_samples_leaf=4, min_samples_split=9, n_estimators=550 \n",
      "[CV]  bootstrap=True, criterion=entropy, max_depth=70, max_features=log2, min_samples_leaf=4, min_samples_split=8, n_estimators=800, total=   8.3s\n",
      "[CV] bootstrap=True, criterion=entropy, max_depth=70, max_features=log2, min_samples_leaf=4, min_samples_split=9, n_estimators=550 \n",
      "[CV]  bootstrap=True, criterion=entropy, max_depth=70, max_features=log2, min_samples_leaf=4, min_samples_split=9, n_estimators=550, total=   5.4s\n",
      "[CV] bootstrap=True, criterion=entropy, max_depth=70, max_features=log2, min_samples_leaf=4, min_samples_split=9, n_estimators=650 \n",
      "[CV]  bootstrap=True, criterion=entropy, max_depth=70, max_features=log2, min_samples_leaf=4, min_samples_split=9, n_estimators=550, total=   5.5s\n",
      "[CV] bootstrap=True, criterion=entropy, max_depth=70, max_features=log2, min_samples_leaf=4, min_samples_split=9, n_estimators=650 \n",
      "[CV]  bootstrap=True, criterion=entropy, max_depth=70, max_features=log2, min_samples_leaf=4, min_samples_split=8, n_estimators=800, total=   8.0s\n",
      "[CV] bootstrap=True, criterion=entropy, max_depth=70, max_features=log2, min_samples_leaf=4, min_samples_split=9, n_estimators=650 \n",
      "[CV]  bootstrap=True, criterion=entropy, max_depth=70, max_features=log2, min_samples_leaf=4, min_samples_split=9, n_estimators=550, total=   5.4s\n",
      "[CV] bootstrap=True, criterion=entropy, max_depth=70, max_features=log2, min_samples_leaf=4, min_samples_split=9, n_estimators=750 \n",
      "[CV]  bootstrap=True, criterion=entropy, max_depth=70, max_features=log2, min_samples_leaf=4, min_samples_split=9, n_estimators=650, total=   6.1s\n",
      "[CV] bootstrap=True, criterion=entropy, max_depth=70, max_features=log2, min_samples_leaf=4, min_samples_split=9, n_estimators=750 \n",
      "[CV]  bootstrap=True, criterion=entropy, max_depth=70, max_features=log2, min_samples_leaf=4, min_samples_split=9, n_estimators=650, total=   6.0s\n",
      "[CV] bootstrap=True, criterion=entropy, max_depth=70, max_features=log2, min_samples_leaf=4, min_samples_split=9, n_estimators=750 \n",
      "[CV]  bootstrap=True, criterion=entropy, max_depth=70, max_features=log2, min_samples_leaf=4, min_samples_split=9, n_estimators=650, total=   6.0s\n",
      "[CV] bootstrap=True, criterion=entropy, max_depth=70, max_features=log2, min_samples_leaf=4, min_samples_split=9, n_estimators=800 \n",
      "[CV]  bootstrap=True, criterion=entropy, max_depth=70, max_features=log2, min_samples_leaf=4, min_samples_split=9, n_estimators=750, total=   7.0s\n",
      "[CV] bootstrap=True, criterion=entropy, max_depth=70, max_features=log2, min_samples_leaf=4, min_samples_split=9, n_estimators=800 \n",
      "[CV]  bootstrap=True, criterion=entropy, max_depth=70, max_features=log2, min_samples_leaf=4, min_samples_split=9, n_estimators=750, total=   7.2s\n",
      "[CV] bootstrap=True, criterion=entropy, max_depth=70, max_features=log2, min_samples_leaf=4, min_samples_split=9, n_estimators=800 \n",
      "[CV]  bootstrap=True, criterion=entropy, max_depth=70, max_features=log2, min_samples_leaf=4, min_samples_split=9, n_estimators=750, total=   7.3s\n",
      "[CV] bootstrap=True, criterion=entropy, max_depth=70, max_features=log2, min_samples_leaf=4, min_samples_split=10, n_estimators=550 \n",
      "[CV]  bootstrap=True, criterion=entropy, max_depth=70, max_features=log2, min_samples_leaf=4, min_samples_split=9, n_estimators=800, total=   7.7s\n",
      "[CV] bootstrap=True, criterion=entropy, max_depth=70, max_features=log2, min_samples_leaf=4, min_samples_split=10, n_estimators=550 \n",
      "[CV]  bootstrap=True, criterion=entropy, max_depth=70, max_features=log2, min_samples_leaf=4, min_samples_split=9, n_estimators=800, total=   7.8s\n",
      "[CV] bootstrap=True, criterion=entropy, max_depth=70, max_features=log2, min_samples_leaf=4, min_samples_split=10, n_estimators=550 \n",
      "[CV]  bootstrap=True, criterion=entropy, max_depth=70, max_features=log2, min_samples_leaf=4, min_samples_split=10, n_estimators=550, total=   5.1s\n",
      "[CV] bootstrap=True, criterion=entropy, max_depth=70, max_features=log2, min_samples_leaf=4, min_samples_split=10, n_estimators=650 \n",
      "[CV]  bootstrap=True, criterion=entropy, max_depth=70, max_features=log2, min_samples_leaf=4, min_samples_split=10, n_estimators=550, total=   5.2s\n",
      "[CV] bootstrap=True, criterion=entropy, max_depth=70, max_features=log2, min_samples_leaf=4, min_samples_split=10, n_estimators=650 \n",
      "[CV]  bootstrap=True, criterion=entropy, max_depth=70, max_features=log2, min_samples_leaf=4, min_samples_split=9, n_estimators=800, total=   7.6s\n",
      "[CV] bootstrap=True, criterion=entropy, max_depth=70, max_features=log2, min_samples_leaf=4, min_samples_split=10, n_estimators=650 \n",
      "[CV]  bootstrap=True, criterion=entropy, max_depth=70, max_features=log2, min_samples_leaf=4, min_samples_split=10, n_estimators=550, total=   5.2s\n"
     ]
    },
    {
     "name": "stdout",
     "output_type": "stream",
     "text": [
      "[CV] bootstrap=True, criterion=entropy, max_depth=70, max_features=log2, min_samples_leaf=4, min_samples_split=10, n_estimators=750 \n",
      "[CV]  bootstrap=True, criterion=entropy, max_depth=70, max_features=log2, min_samples_leaf=4, min_samples_split=10, n_estimators=650, total=   6.3s\n",
      "[CV] bootstrap=True, criterion=entropy, max_depth=70, max_features=log2, min_samples_leaf=4, min_samples_split=10, n_estimators=750 \n",
      "[CV]  bootstrap=True, criterion=entropy, max_depth=70, max_features=log2, min_samples_leaf=4, min_samples_split=10, n_estimators=650, total=   6.1s\n",
      "[CV] bootstrap=True, criterion=entropy, max_depth=70, max_features=log2, min_samples_leaf=4, min_samples_split=10, n_estimators=750 \n",
      "[CV]  bootstrap=True, criterion=entropy, max_depth=70, max_features=log2, min_samples_leaf=4, min_samples_split=10, n_estimators=650, total=   6.2s\n",
      "[CV] bootstrap=True, criterion=entropy, max_depth=70, max_features=log2, min_samples_leaf=4, min_samples_split=10, n_estimators=800 \n",
      "[CV]  bootstrap=True, criterion=entropy, max_depth=70, max_features=log2, min_samples_leaf=4, min_samples_split=10, n_estimators=750, total=   6.8s\n",
      "[CV] bootstrap=True, criterion=entropy, max_depth=70, max_features=log2, min_samples_leaf=4, min_samples_split=10, n_estimators=800 \n",
      "[CV]  bootstrap=True, criterion=entropy, max_depth=70, max_features=log2, min_samples_leaf=4, min_samples_split=10, n_estimators=750, total=   6.6s\n",
      "[CV] bootstrap=True, criterion=entropy, max_depth=70, max_features=log2, min_samples_leaf=4, min_samples_split=10, n_estimators=800 \n",
      "[CV]  bootstrap=True, criterion=entropy, max_depth=70, max_features=log2, min_samples_leaf=4, min_samples_split=10, n_estimators=750, total=   6.9s\n",
      "[CV] bootstrap=True, criterion=entropy, max_depth=70, max_features=log2, min_samples_leaf=5, min_samples_split=8, n_estimators=550 \n",
      "[CV]  bootstrap=True, criterion=entropy, max_depth=70, max_features=log2, min_samples_leaf=4, min_samples_split=10, n_estimators=800, total=   7.6s\n",
      "[CV] bootstrap=True, criterion=entropy, max_depth=70, max_features=log2, min_samples_leaf=5, min_samples_split=8, n_estimators=550 \n",
      "[CV]  bootstrap=True, criterion=entropy, max_depth=70, max_features=log2, min_samples_leaf=5, min_samples_split=8, n_estimators=550, total=   4.6s\n",
      "[CV] bootstrap=True, criterion=entropy, max_depth=70, max_features=log2, min_samples_leaf=5, min_samples_split=8, n_estimators=550 \n",
      "[CV]  bootstrap=True, criterion=entropy, max_depth=70, max_features=log2, min_samples_leaf=4, min_samples_split=10, n_estimators=800, total=   6.8s\n",
      "[CV] bootstrap=True, criterion=entropy, max_depth=70, max_features=log2, min_samples_leaf=5, min_samples_split=8, n_estimators=650 \n",
      "[CV]  bootstrap=True, criterion=entropy, max_depth=70, max_features=log2, min_samples_leaf=4, min_samples_split=10, n_estimators=800, total=   7.0s\n",
      "[CV] bootstrap=True, criterion=entropy, max_depth=70, max_features=log2, min_samples_leaf=5, min_samples_split=8, n_estimators=650 \n",
      "[CV]  bootstrap=True, criterion=entropy, max_depth=70, max_features=log2, min_samples_leaf=5, min_samples_split=8, n_estimators=550, total=   4.9s\n",
      "[CV] bootstrap=True, criterion=entropy, max_depth=70, max_features=log2, min_samples_leaf=5, min_samples_split=8, n_estimators=650 \n",
      "[CV]  bootstrap=True, criterion=entropy, max_depth=70, max_features=log2, min_samples_leaf=5, min_samples_split=8, n_estimators=550, total=   5.4s\n",
      "[CV] bootstrap=True, criterion=entropy, max_depth=70, max_features=log2, min_samples_leaf=5, min_samples_split=8, n_estimators=750 \n",
      "[CV]  bootstrap=True, criterion=entropy, max_depth=70, max_features=log2, min_samples_leaf=5, min_samples_split=8, n_estimators=650, total=   6.3s\n",
      "[CV] bootstrap=True, criterion=entropy, max_depth=70, max_features=log2, min_samples_leaf=5, min_samples_split=8, n_estimators=750 \n",
      "[CV]  bootstrap=True, criterion=entropy, max_depth=70, max_features=log2, min_samples_leaf=5, min_samples_split=8, n_estimators=650, total=   5.9s\n",
      "[CV] bootstrap=True, criterion=entropy, max_depth=70, max_features=log2, min_samples_leaf=5, min_samples_split=8, n_estimators=750 \n",
      "[CV]  bootstrap=True, criterion=entropy, max_depth=70, max_features=log2, min_samples_leaf=5, min_samples_split=8, n_estimators=650, total=   5.8s\n",
      "[CV] bootstrap=True, criterion=entropy, max_depth=70, max_features=log2, min_samples_leaf=5, min_samples_split=8, n_estimators=800 \n",
      "[CV]  bootstrap=True, criterion=entropy, max_depth=70, max_features=log2, min_samples_leaf=5, min_samples_split=8, n_estimators=750, total=   7.1s\n",
      "[CV] bootstrap=True, criterion=entropy, max_depth=70, max_features=log2, min_samples_leaf=5, min_samples_split=8, n_estimators=800 \n",
      "[CV]  bootstrap=True, criterion=entropy, max_depth=70, max_features=log2, min_samples_leaf=5, min_samples_split=8, n_estimators=750, total=   6.8s\n",
      "[CV] bootstrap=True, criterion=entropy, max_depth=70, max_features=log2, min_samples_leaf=5, min_samples_split=8, n_estimators=800 \n",
      "[CV]  bootstrap=True, criterion=entropy, max_depth=70, max_features=log2, min_samples_leaf=5, min_samples_split=8, n_estimators=750, total=   6.7s\n",
      "[CV] bootstrap=True, criterion=entropy, max_depth=70, max_features=log2, min_samples_leaf=5, min_samples_split=9, n_estimators=550 \n",
      "[CV]  bootstrap=True, criterion=entropy, max_depth=70, max_features=log2, min_samples_leaf=5, min_samples_split=8, n_estimators=800, total=   7.4s\n",
      "[CV] bootstrap=True, criterion=entropy, max_depth=70, max_features=log2, min_samples_leaf=5, min_samples_split=9, n_estimators=550 \n",
      "[CV]  bootstrap=True, criterion=entropy, max_depth=70, max_features=log2, min_samples_leaf=5, min_samples_split=8, n_estimators=800, total=   7.6s\n",
      "[CV] bootstrap=True, criterion=entropy, max_depth=70, max_features=log2, min_samples_leaf=5, min_samples_split=9, n_estimators=550 \n",
      "[CV]  bootstrap=True, criterion=entropy, max_depth=70, max_features=log2, min_samples_leaf=5, min_samples_split=9, n_estimators=550, total=   5.6s\n",
      "[CV] bootstrap=True, criterion=entropy, max_depth=70, max_features=log2, min_samples_leaf=5, min_samples_split=9, n_estimators=650 \n",
      "[CV]  bootstrap=True, criterion=entropy, max_depth=70, max_features=log2, min_samples_leaf=5, min_samples_split=9, n_estimators=550, total=   5.5s\n",
      "[CV] bootstrap=True, criterion=entropy, max_depth=70, max_features=log2, min_samples_leaf=5, min_samples_split=9, n_estimators=650 \n",
      "[CV]  bootstrap=True, criterion=entropy, max_depth=70, max_features=log2, min_samples_leaf=5, min_samples_split=8, n_estimators=800, total=   8.0s\n",
      "[CV] bootstrap=True, criterion=entropy, max_depth=70, max_features=log2, min_samples_leaf=5, min_samples_split=9, n_estimators=650 \n",
      "[CV]  bootstrap=True, criterion=entropy, max_depth=70, max_features=log2, min_samples_leaf=5, min_samples_split=9, n_estimators=550, total=   5.4s\n",
      "[CV] bootstrap=True, criterion=entropy, max_depth=70, max_features=log2, min_samples_leaf=5, min_samples_split=9, n_estimators=750 \n",
      "[CV]  bootstrap=True, criterion=entropy, max_depth=70, max_features=log2, min_samples_leaf=5, min_samples_split=9, n_estimators=650, total=   6.3s\n",
      "[CV] bootstrap=True, criterion=entropy, max_depth=70, max_features=log2, min_samples_leaf=5, min_samples_split=9, n_estimators=750 \n",
      "[CV]  bootstrap=True, criterion=entropy, max_depth=70, max_features=log2, min_samples_leaf=5, min_samples_split=9, n_estimators=650, total=   6.2s\n",
      "[CV] bootstrap=True, criterion=entropy, max_depth=70, max_features=log2, min_samples_leaf=5, min_samples_split=9, n_estimators=750 \n",
      "[CV]  bootstrap=True, criterion=entropy, max_depth=70, max_features=log2, min_samples_leaf=5, min_samples_split=9, n_estimators=650, total=   6.2s\n",
      "[CV] bootstrap=True, criterion=entropy, max_depth=70, max_features=log2, min_samples_leaf=5, min_samples_split=9, n_estimators=800 \n",
      "[CV]  bootstrap=True, criterion=entropy, max_depth=70, max_features=log2, min_samples_leaf=5, min_samples_split=9, n_estimators=750, total=   7.3s\n",
      "[CV] bootstrap=True, criterion=entropy, max_depth=70, max_features=log2, min_samples_leaf=5, min_samples_split=9, n_estimators=800 \n",
      "[CV]  bootstrap=True, criterion=entropy, max_depth=70, max_features=log2, min_samples_leaf=5, min_samples_split=9, n_estimators=750, total=   7.5s\n",
      "[CV] bootstrap=True, criterion=entropy, max_depth=70, max_features=log2, min_samples_leaf=5, min_samples_split=9, n_estimators=800 \n"
     ]
    },
    {
     "name": "stdout",
     "output_type": "stream",
     "text": [
      "[CV]  bootstrap=True, criterion=entropy, max_depth=70, max_features=log2, min_samples_leaf=5, min_samples_split=9, n_estimators=750, total=   7.7s\n",
      "[CV] bootstrap=True, criterion=entropy, max_depth=70, max_features=log2, min_samples_leaf=5, min_samples_split=10, n_estimators=550 \n",
      "[CV]  bootstrap=True, criterion=entropy, max_depth=70, max_features=log2, min_samples_leaf=5, min_samples_split=9, n_estimators=800, total=   8.3s\n",
      "[CV] bootstrap=True, criterion=entropy, max_depth=70, max_features=log2, min_samples_leaf=5, min_samples_split=10, n_estimators=550 \n",
      "[CV]  bootstrap=True, criterion=entropy, max_depth=70, max_features=log2, min_samples_leaf=5, min_samples_split=10, n_estimators=550, total=   6.5s\n",
      "[CV] bootstrap=True, criterion=entropy, max_depth=70, max_features=log2, min_samples_leaf=5, min_samples_split=10, n_estimators=550 \n",
      "[CV]  bootstrap=True, criterion=entropy, max_depth=70, max_features=log2, min_samples_leaf=5, min_samples_split=9, n_estimators=800, total=   9.5s\n",
      "[CV] bootstrap=True, criterion=entropy, max_depth=70, max_features=log2, min_samples_leaf=5, min_samples_split=10, n_estimators=650 \n",
      "[CV]  bootstrap=True, criterion=entropy, max_depth=70, max_features=log2, min_samples_leaf=5, min_samples_split=10, n_estimators=550, total=   6.6s\n",
      "[CV] bootstrap=True, criterion=entropy, max_depth=70, max_features=log2, min_samples_leaf=5, min_samples_split=10, n_estimators=650 \n",
      "[CV]  bootstrap=True, criterion=entropy, max_depth=70, max_features=log2, min_samples_leaf=5, min_samples_split=9, n_estimators=800, total=   9.4s\n",
      "[CV] bootstrap=True, criterion=entropy, max_depth=70, max_features=log2, min_samples_leaf=5, min_samples_split=10, n_estimators=650 \n",
      "[CV]  bootstrap=True, criterion=entropy, max_depth=70, max_features=log2, min_samples_leaf=5, min_samples_split=10, n_estimators=550, total=   6.5s\n",
      "[CV] bootstrap=True, criterion=entropy, max_depth=70, max_features=log2, min_samples_leaf=5, min_samples_split=10, n_estimators=750 \n",
      "[CV]  bootstrap=True, criterion=entropy, max_depth=70, max_features=log2, min_samples_leaf=5, min_samples_split=10, n_estimators=650, total=   7.7s\n",
      "[CV] bootstrap=True, criterion=entropy, max_depth=70, max_features=log2, min_samples_leaf=5, min_samples_split=10, n_estimators=750 \n",
      "[CV]  bootstrap=True, criterion=entropy, max_depth=70, max_features=log2, min_samples_leaf=5, min_samples_split=10, n_estimators=650, total=   7.5s\n",
      "[CV] bootstrap=True, criterion=entropy, max_depth=70, max_features=log2, min_samples_leaf=5, min_samples_split=10, n_estimators=750 \n",
      "[CV]  bootstrap=True, criterion=entropy, max_depth=70, max_features=log2, min_samples_leaf=5, min_samples_split=10, n_estimators=650, total=   7.6s\n",
      "[CV] bootstrap=True, criterion=entropy, max_depth=70, max_features=log2, min_samples_leaf=5, min_samples_split=10, n_estimators=800 \n",
      "[CV]  bootstrap=True, criterion=entropy, max_depth=70, max_features=log2, min_samples_leaf=5, min_samples_split=10, n_estimators=750, total=   8.7s\n",
      "[CV] bootstrap=True, criterion=entropy, max_depth=70, max_features=log2, min_samples_leaf=5, min_samples_split=10, n_estimators=800 \n",
      "[CV]  bootstrap=True, criterion=entropy, max_depth=70, max_features=log2, min_samples_leaf=5, min_samples_split=10, n_estimators=750, total=   8.7s\n",
      "[CV] bootstrap=True, criterion=entropy, max_depth=70, max_features=log2, min_samples_leaf=5, min_samples_split=10, n_estimators=800 \n",
      "[CV]  bootstrap=True, criterion=entropy, max_depth=70, max_features=log2, min_samples_leaf=5, min_samples_split=10, n_estimators=750, total=   8.9s\n",
      "[CV] bootstrap=True, criterion=entropy, max_depth=75, max_features=log2, min_samples_leaf=3, min_samples_split=8, n_estimators=550 \n",
      "[CV]  bootstrap=True, criterion=entropy, max_depth=70, max_features=log2, min_samples_leaf=5, min_samples_split=10, n_estimators=800, total=   9.4s\n",
      "[CV] bootstrap=True, criterion=entropy, max_depth=75, max_features=log2, min_samples_leaf=3, min_samples_split=8, n_estimators=550 \n",
      "[CV]  bootstrap=True, criterion=entropy, max_depth=75, max_features=log2, min_samples_leaf=3, min_samples_split=8, n_estimators=550, total=   7.1s\n",
      "[CV] bootstrap=True, criterion=entropy, max_depth=75, max_features=log2, min_samples_leaf=3, min_samples_split=8, n_estimators=550 \n",
      "[CV]  bootstrap=True, criterion=entropy, max_depth=70, max_features=log2, min_samples_leaf=5, min_samples_split=10, n_estimators=800, total=   9.7s\n",
      "[CV] bootstrap=True, criterion=entropy, max_depth=75, max_features=log2, min_samples_leaf=3, min_samples_split=8, n_estimators=650 \n",
      "[CV]  bootstrap=True, criterion=entropy, max_depth=75, max_features=log2, min_samples_leaf=3, min_samples_split=8, n_estimators=550, total=   7.1s\n",
      "[CV] bootstrap=True, criterion=entropy, max_depth=75, max_features=log2, min_samples_leaf=3, min_samples_split=8, n_estimators=650 \n",
      "[CV]  bootstrap=True, criterion=entropy, max_depth=70, max_features=log2, min_samples_leaf=5, min_samples_split=10, n_estimators=800, total=   9.7s\n",
      "[CV] bootstrap=True, criterion=entropy, max_depth=75, max_features=log2, min_samples_leaf=3, min_samples_split=8, n_estimators=650 \n",
      "[CV]  bootstrap=True, criterion=entropy, max_depth=75, max_features=log2, min_samples_leaf=3, min_samples_split=8, n_estimators=550, total=   6.8s\n",
      "[CV] bootstrap=True, criterion=entropy, max_depth=75, max_features=log2, min_samples_leaf=3, min_samples_split=8, n_estimators=750 \n",
      "[CV]  bootstrap=True, criterion=entropy, max_depth=75, max_features=log2, min_samples_leaf=3, min_samples_split=8, n_estimators=650, total=   7.9s\n",
      "[CV] bootstrap=True, criterion=entropy, max_depth=75, max_features=log2, min_samples_leaf=3, min_samples_split=8, n_estimators=750 \n",
      "[CV]  bootstrap=True, criterion=entropy, max_depth=75, max_features=log2, min_samples_leaf=3, min_samples_split=8, n_estimators=650, total=   7.8s\n",
      "[CV] bootstrap=True, criterion=entropy, max_depth=75, max_features=log2, min_samples_leaf=3, min_samples_split=8, n_estimators=750 \n",
      "[CV]  bootstrap=True, criterion=entropy, max_depth=75, max_features=log2, min_samples_leaf=3, min_samples_split=8, n_estimators=650, total=   7.6s\n",
      "[CV] bootstrap=True, criterion=entropy, max_depth=75, max_features=log2, min_samples_leaf=3, min_samples_split=8, n_estimators=800 \n",
      "[CV]  bootstrap=True, criterion=entropy, max_depth=75, max_features=log2, min_samples_leaf=3, min_samples_split=8, n_estimators=750, total=   7.5s\n",
      "[CV] bootstrap=True, criterion=entropy, max_depth=75, max_features=log2, min_samples_leaf=3, min_samples_split=8, n_estimators=800 \n",
      "[CV]  bootstrap=True, criterion=entropy, max_depth=75, max_features=log2, min_samples_leaf=3, min_samples_split=8, n_estimators=750, total=   7.3s\n",
      "[CV] bootstrap=True, criterion=entropy, max_depth=75, max_features=log2, min_samples_leaf=3, min_samples_split=8, n_estimators=800 \n",
      "[CV]  bootstrap=True, criterion=entropy, max_depth=75, max_features=log2, min_samples_leaf=3, min_samples_split=8, n_estimators=750, total=   7.3s\n",
      "[CV] bootstrap=True, criterion=entropy, max_depth=75, max_features=log2, min_samples_leaf=3, min_samples_split=9, n_estimators=550 \n",
      "[CV]  bootstrap=True, criterion=entropy, max_depth=75, max_features=log2, min_samples_leaf=3, min_samples_split=8, n_estimators=800, total=   7.6s\n",
      "[CV] bootstrap=True, criterion=entropy, max_depth=75, max_features=log2, min_samples_leaf=3, min_samples_split=9, n_estimators=550 \n",
      "[CV]  bootstrap=True, criterion=entropy, max_depth=75, max_features=log2, min_samples_leaf=3, min_samples_split=9, n_estimators=550, total=   4.9s\n",
      "[CV] bootstrap=True, criterion=entropy, max_depth=75, max_features=log2, min_samples_leaf=3, min_samples_split=9, n_estimators=550 \n",
      "[CV]  bootstrap=True, criterion=entropy, max_depth=75, max_features=log2, min_samples_leaf=3, min_samples_split=8, n_estimators=800, total=   7.2s\n",
      "[CV] bootstrap=True, criterion=entropy, max_depth=75, max_features=log2, min_samples_leaf=3, min_samples_split=9, n_estimators=650 \n",
      "[CV]  bootstrap=True, criterion=entropy, max_depth=75, max_features=log2, min_samples_leaf=3, min_samples_split=9, n_estimators=550, total=   4.9s\n",
      "[CV] bootstrap=True, criterion=entropy, max_depth=75, max_features=log2, min_samples_leaf=3, min_samples_split=9, n_estimators=650 \n",
      "[CV]  bootstrap=True, criterion=entropy, max_depth=75, max_features=log2, min_samples_leaf=3, min_samples_split=8, n_estimators=800, total=   7.3s\n"
     ]
    },
    {
     "name": "stdout",
     "output_type": "stream",
     "text": [
      "[CV] bootstrap=True, criterion=entropy, max_depth=75, max_features=log2, min_samples_leaf=3, min_samples_split=9, n_estimators=650 \n",
      "[CV]  bootstrap=True, criterion=entropy, max_depth=75, max_features=log2, min_samples_leaf=3, min_samples_split=9, n_estimators=550, total=   5.1s\n",
      "[CV] bootstrap=True, criterion=entropy, max_depth=75, max_features=log2, min_samples_leaf=3, min_samples_split=9, n_estimators=750 \n",
      "[CV]  bootstrap=True, criterion=entropy, max_depth=75, max_features=log2, min_samples_leaf=3, min_samples_split=9, n_estimators=650, total=   6.1s\n",
      "[CV] bootstrap=True, criterion=entropy, max_depth=75, max_features=log2, min_samples_leaf=3, min_samples_split=9, n_estimators=750 \n",
      "[CV]  bootstrap=True, criterion=entropy, max_depth=75, max_features=log2, min_samples_leaf=3, min_samples_split=9, n_estimators=650, total=   6.1s\n",
      "[CV] bootstrap=True, criterion=entropy, max_depth=75, max_features=log2, min_samples_leaf=3, min_samples_split=9, n_estimators=750 \n",
      "[CV]  bootstrap=True, criterion=entropy, max_depth=75, max_features=log2, min_samples_leaf=3, min_samples_split=9, n_estimators=650, total=   6.3s\n",
      "[CV] bootstrap=True, criterion=entropy, max_depth=75, max_features=log2, min_samples_leaf=3, min_samples_split=9, n_estimators=800 \n",
      "[CV]  bootstrap=True, criterion=entropy, max_depth=75, max_features=log2, min_samples_leaf=3, min_samples_split=9, n_estimators=750, total=   7.7s\n",
      "[CV] bootstrap=True, criterion=entropy, max_depth=75, max_features=log2, min_samples_leaf=3, min_samples_split=9, n_estimators=800 \n",
      "[CV]  bootstrap=True, criterion=entropy, max_depth=75, max_features=log2, min_samples_leaf=3, min_samples_split=9, n_estimators=750, total=   7.5s\n",
      "[CV] bootstrap=True, criterion=entropy, max_depth=75, max_features=log2, min_samples_leaf=3, min_samples_split=9, n_estimators=800 \n",
      "[CV]  bootstrap=True, criterion=entropy, max_depth=75, max_features=log2, min_samples_leaf=3, min_samples_split=9, n_estimators=750, total=   7.5s\n",
      "[CV] bootstrap=True, criterion=entropy, max_depth=75, max_features=log2, min_samples_leaf=3, min_samples_split=10, n_estimators=550 \n",
      "[CV]  bootstrap=True, criterion=entropy, max_depth=75, max_features=log2, min_samples_leaf=3, min_samples_split=9, n_estimators=800, total=   7.8s\n",
      "[CV] bootstrap=True, criterion=entropy, max_depth=75, max_features=log2, min_samples_leaf=3, min_samples_split=10, n_estimators=550 \n",
      "[CV]  bootstrap=True, criterion=entropy, max_depth=75, max_features=log2, min_samples_leaf=3, min_samples_split=10, n_estimators=550, total=   5.0s\n",
      "[CV] bootstrap=True, criterion=entropy, max_depth=75, max_features=log2, min_samples_leaf=3, min_samples_split=10, n_estimators=550 \n",
      "[CV]  bootstrap=True, criterion=entropy, max_depth=75, max_features=log2, min_samples_leaf=3, min_samples_split=9, n_estimators=800, total=   7.3s\n",
      "[CV] bootstrap=True, criterion=entropy, max_depth=75, max_features=log2, min_samples_leaf=3, min_samples_split=10, n_estimators=650 \n",
      "[CV]  bootstrap=True, criterion=entropy, max_depth=75, max_features=log2, min_samples_leaf=3, min_samples_split=10, n_estimators=550, total=   5.2s\n",
      "[CV] bootstrap=True, criterion=entropy, max_depth=75, max_features=log2, min_samples_leaf=3, min_samples_split=10, n_estimators=650 \n",
      "[CV]  bootstrap=True, criterion=entropy, max_depth=75, max_features=log2, min_samples_leaf=3, min_samples_split=9, n_estimators=800, total=   7.4s\n",
      "[CV] bootstrap=True, criterion=entropy, max_depth=75, max_features=log2, min_samples_leaf=3, min_samples_split=10, n_estimators=650 \n",
      "[CV]  bootstrap=True, criterion=entropy, max_depth=75, max_features=log2, min_samples_leaf=3, min_samples_split=10, n_estimators=550, total=   5.4s\n",
      "[CV] bootstrap=True, criterion=entropy, max_depth=75, max_features=log2, min_samples_leaf=3, min_samples_split=10, n_estimators=750 \n",
      "[CV]  bootstrap=True, criterion=entropy, max_depth=75, max_features=log2, min_samples_leaf=3, min_samples_split=10, n_estimators=650, total=   6.0s\n",
      "[CV] bootstrap=True, criterion=entropy, max_depth=75, max_features=log2, min_samples_leaf=3, min_samples_split=10, n_estimators=750 \n",
      "[CV]  bootstrap=True, criterion=entropy, max_depth=75, max_features=log2, min_samples_leaf=3, min_samples_split=10, n_estimators=650, total=   5.9s\n",
      "[CV] bootstrap=True, criterion=entropy, max_depth=75, max_features=log2, min_samples_leaf=3, min_samples_split=10, n_estimators=750 \n",
      "[CV]  bootstrap=True, criterion=entropy, max_depth=75, max_features=log2, min_samples_leaf=3, min_samples_split=10, n_estimators=650, total=   5.9s\n",
      "[CV] bootstrap=True, criterion=entropy, max_depth=75, max_features=log2, min_samples_leaf=3, min_samples_split=10, n_estimators=800 \n",
      "[CV]  bootstrap=True, criterion=entropy, max_depth=75, max_features=log2, min_samples_leaf=3, min_samples_split=10, n_estimators=750, total=   6.7s\n",
      "[CV] bootstrap=True, criterion=entropy, max_depth=75, max_features=log2, min_samples_leaf=3, min_samples_split=10, n_estimators=800 \n",
      "[CV]  bootstrap=True, criterion=entropy, max_depth=75, max_features=log2, min_samples_leaf=3, min_samples_split=10, n_estimators=750, total=   6.8s\n",
      "[CV] bootstrap=True, criterion=entropy, max_depth=75, max_features=log2, min_samples_leaf=3, min_samples_split=10, n_estimators=800 \n",
      "[CV]  bootstrap=True, criterion=entropy, max_depth=75, max_features=log2, min_samples_leaf=3, min_samples_split=10, n_estimators=750, total=   7.1s\n",
      "[CV] bootstrap=True, criterion=entropy, max_depth=75, max_features=log2, min_samples_leaf=4, min_samples_split=8, n_estimators=550 \n",
      "[CV]  bootstrap=True, criterion=entropy, max_depth=75, max_features=log2, min_samples_leaf=3, min_samples_split=10, n_estimators=800, total=   7.6s\n",
      "[CV] bootstrap=True, criterion=entropy, max_depth=75, max_features=log2, min_samples_leaf=4, min_samples_split=8, n_estimators=550 \n",
      "[CV]  bootstrap=True, criterion=entropy, max_depth=75, max_features=log2, min_samples_leaf=4, min_samples_split=8, n_estimators=550, total=   5.0s\n",
      "[CV] bootstrap=True, criterion=entropy, max_depth=75, max_features=log2, min_samples_leaf=4, min_samples_split=8, n_estimators=550 \n",
      "[CV]  bootstrap=True, criterion=entropy, max_depth=75, max_features=log2, min_samples_leaf=3, min_samples_split=10, n_estimators=800, total=   8.0s\n",
      "[CV] bootstrap=True, criterion=entropy, max_depth=75, max_features=log2, min_samples_leaf=4, min_samples_split=8, n_estimators=650 \n",
      "[CV]  bootstrap=True, criterion=entropy, max_depth=75, max_features=log2, min_samples_leaf=4, min_samples_split=8, n_estimators=550, total=   5.0s\n",
      "[CV] bootstrap=True, criterion=entropy, max_depth=75, max_features=log2, min_samples_leaf=4, min_samples_split=8, n_estimators=650 \n",
      "[CV]  bootstrap=True, criterion=entropy, max_depth=75, max_features=log2, min_samples_leaf=3, min_samples_split=10, n_estimators=800, total=   7.6s\n",
      "[CV] bootstrap=True, criterion=entropy, max_depth=75, max_features=log2, min_samples_leaf=4, min_samples_split=8, n_estimators=650 \n",
      "[CV]  bootstrap=True, criterion=entropy, max_depth=75, max_features=log2, min_samples_leaf=4, min_samples_split=8, n_estimators=550, total=   5.1s\n",
      "[CV] bootstrap=True, criterion=entropy, max_depth=75, max_features=log2, min_samples_leaf=4, min_samples_split=8, n_estimators=750 \n",
      "[CV]  bootstrap=True, criterion=entropy, max_depth=75, max_features=log2, min_samples_leaf=4, min_samples_split=8, n_estimators=650, total=   6.2s\n",
      "[CV] bootstrap=True, criterion=entropy, max_depth=75, max_features=log2, min_samples_leaf=4, min_samples_split=8, n_estimators=750 \n",
      "[CV]  bootstrap=True, criterion=entropy, max_depth=75, max_features=log2, min_samples_leaf=4, min_samples_split=8, n_estimators=650, total=   6.2s\n",
      "[CV] bootstrap=True, criterion=entropy, max_depth=75, max_features=log2, min_samples_leaf=4, min_samples_split=8, n_estimators=750 \n",
      "[CV]  bootstrap=True, criterion=entropy, max_depth=75, max_features=log2, min_samples_leaf=4, min_samples_split=8, n_estimators=650, total=   6.3s\n",
      "[CV] bootstrap=True, criterion=entropy, max_depth=75, max_features=log2, min_samples_leaf=4, min_samples_split=8, n_estimators=800 \n",
      "[CV]  bootstrap=True, criterion=entropy, max_depth=75, max_features=log2, min_samples_leaf=4, min_samples_split=8, n_estimators=750, total=   7.4s\n",
      "[CV] bootstrap=True, criterion=entropy, max_depth=75, max_features=log2, min_samples_leaf=4, min_samples_split=8, n_estimators=800 \n"
     ]
    },
    {
     "name": "stdout",
     "output_type": "stream",
     "text": [
      "[CV]  bootstrap=True, criterion=entropy, max_depth=75, max_features=log2, min_samples_leaf=4, min_samples_split=8, n_estimators=750, total=   7.2s\n",
      "[CV] bootstrap=True, criterion=entropy, max_depth=75, max_features=log2, min_samples_leaf=4, min_samples_split=8, n_estimators=800 \n",
      "[CV]  bootstrap=True, criterion=entropy, max_depth=75, max_features=log2, min_samples_leaf=4, min_samples_split=8, n_estimators=750, total=   7.1s\n",
      "[CV] bootstrap=True, criterion=entropy, max_depth=75, max_features=log2, min_samples_leaf=4, min_samples_split=9, n_estimators=550 \n",
      "[CV]  bootstrap=True, criterion=entropy, max_depth=75, max_features=log2, min_samples_leaf=4, min_samples_split=8, n_estimators=800, total=   7.4s\n",
      "[CV] bootstrap=True, criterion=entropy, max_depth=75, max_features=log2, min_samples_leaf=4, min_samples_split=9, n_estimators=550 \n"
     ]
    },
    {
     "name": "stderr",
     "output_type": "stream",
     "text": [
      "[Parallel(n_jobs=-1)]: Done 154 tasks      | elapsed:  4.8min\n"
     ]
    },
    {
     "name": "stdout",
     "output_type": "stream",
     "text": [
      "[CV]  bootstrap=True, criterion=entropy, max_depth=75, max_features=log2, min_samples_leaf=4, min_samples_split=9, n_estimators=550, total=   5.2s\n",
      "[CV] bootstrap=True, criterion=entropy, max_depth=75, max_features=log2, min_samples_leaf=4, min_samples_split=9, n_estimators=550 \n",
      "[CV]  bootstrap=True, criterion=entropy, max_depth=75, max_features=log2, min_samples_leaf=4, min_samples_split=8, n_estimators=800, total=   7.8s\n",
      "[CV] bootstrap=True, criterion=entropy, max_depth=75, max_features=log2, min_samples_leaf=4, min_samples_split=9, n_estimators=650 \n",
      "[CV]  bootstrap=True, criterion=entropy, max_depth=75, max_features=log2, min_samples_leaf=4, min_samples_split=9, n_estimators=550, total=   5.3s\n",
      "[CV] bootstrap=True, criterion=entropy, max_depth=75, max_features=log2, min_samples_leaf=4, min_samples_split=9, n_estimators=650 \n",
      "[CV]  bootstrap=True, criterion=entropy, max_depth=75, max_features=log2, min_samples_leaf=4, min_samples_split=8, n_estimators=800, total=   7.6s\n",
      "[CV] bootstrap=True, criterion=entropy, max_depth=75, max_features=log2, min_samples_leaf=4, min_samples_split=9, n_estimators=650 \n",
      "[CV]  bootstrap=True, criterion=entropy, max_depth=75, max_features=log2, min_samples_leaf=4, min_samples_split=9, n_estimators=550, total=   5.7s\n",
      "[CV] bootstrap=True, criterion=entropy, max_depth=75, max_features=log2, min_samples_leaf=4, min_samples_split=9, n_estimators=750 \n",
      "[CV]  bootstrap=True, criterion=entropy, max_depth=75, max_features=log2, min_samples_leaf=4, min_samples_split=9, n_estimators=650, total=   6.7s\n",
      "[CV] bootstrap=True, criterion=entropy, max_depth=75, max_features=log2, min_samples_leaf=4, min_samples_split=9, n_estimators=750 \n",
      "[CV]  bootstrap=True, criterion=entropy, max_depth=75, max_features=log2, min_samples_leaf=4, min_samples_split=9, n_estimators=650, total=   6.6s\n",
      "[CV] bootstrap=True, criterion=entropy, max_depth=75, max_features=log2, min_samples_leaf=4, min_samples_split=9, n_estimators=750 \n",
      "[CV]  bootstrap=True, criterion=entropy, max_depth=75, max_features=log2, min_samples_leaf=4, min_samples_split=9, n_estimators=650, total=   6.7s\n",
      "[CV] bootstrap=True, criterion=entropy, max_depth=75, max_features=log2, min_samples_leaf=4, min_samples_split=9, n_estimators=800 \n",
      "[CV]  bootstrap=True, criterion=entropy, max_depth=75, max_features=log2, min_samples_leaf=4, min_samples_split=9, n_estimators=750, total=   7.6s\n",
      "[CV] bootstrap=True, criterion=entropy, max_depth=75, max_features=log2, min_samples_leaf=4, min_samples_split=9, n_estimators=800 \n",
      "[CV]  bootstrap=True, criterion=entropy, max_depth=75, max_features=log2, min_samples_leaf=4, min_samples_split=9, n_estimators=750, total=   7.5s\n",
      "[CV] bootstrap=True, criterion=entropy, max_depth=75, max_features=log2, min_samples_leaf=4, min_samples_split=9, n_estimators=800 \n",
      "[CV]  bootstrap=True, criterion=entropy, max_depth=75, max_features=log2, min_samples_leaf=4, min_samples_split=9, n_estimators=750, total=   7.7s\n",
      "[CV] bootstrap=True, criterion=entropy, max_depth=75, max_features=log2, min_samples_leaf=4, min_samples_split=10, n_estimators=550 \n",
      "[CV]  bootstrap=True, criterion=entropy, max_depth=75, max_features=log2, min_samples_leaf=4, min_samples_split=9, n_estimators=800, total=   8.4s\n",
      "[CV] bootstrap=True, criterion=entropy, max_depth=75, max_features=log2, min_samples_leaf=4, min_samples_split=10, n_estimators=550 \n",
      "[CV]  bootstrap=True, criterion=entropy, max_depth=75, max_features=log2, min_samples_leaf=4, min_samples_split=10, n_estimators=550, total=   7.7s\n",
      "[CV] bootstrap=True, criterion=entropy, max_depth=75, max_features=log2, min_samples_leaf=4, min_samples_split=10, n_estimators=550 \n",
      "[CV]  bootstrap=True, criterion=entropy, max_depth=75, max_features=log2, min_samples_leaf=4, min_samples_split=9, n_estimators=800, total=  11.1s\n",
      "[CV] bootstrap=True, criterion=entropy, max_depth=75, max_features=log2, min_samples_leaf=4, min_samples_split=10, n_estimators=650 \n",
      "[CV]  bootstrap=True, criterion=entropy, max_depth=75, max_features=log2, min_samples_leaf=4, min_samples_split=10, n_estimators=550, total=   8.6s\n",
      "[CV] bootstrap=True, criterion=entropy, max_depth=75, max_features=log2, min_samples_leaf=4, min_samples_split=10, n_estimators=650 \n",
      "[CV]  bootstrap=True, criterion=entropy, max_depth=75, max_features=log2, min_samples_leaf=4, min_samples_split=9, n_estimators=800, total=  12.1s\n",
      "[CV] bootstrap=True, criterion=entropy, max_depth=75, max_features=log2, min_samples_leaf=4, min_samples_split=10, n_estimators=650 \n",
      "[CV]  bootstrap=True, criterion=entropy, max_depth=75, max_features=log2, min_samples_leaf=4, min_samples_split=10, n_estimators=550, total=   7.9s\n",
      "[CV] bootstrap=True, criterion=entropy, max_depth=75, max_features=log2, min_samples_leaf=4, min_samples_split=10, n_estimators=750 \n",
      "[CV]  bootstrap=True, criterion=entropy, max_depth=75, max_features=log2, min_samples_leaf=4, min_samples_split=10, n_estimators=650, total=   8.3s\n",
      "[CV] bootstrap=True, criterion=entropy, max_depth=75, max_features=log2, min_samples_leaf=4, min_samples_split=10, n_estimators=750 \n",
      "[CV]  bootstrap=True, criterion=entropy, max_depth=75, max_features=log2, min_samples_leaf=4, min_samples_split=10, n_estimators=650, total=   7.7s\n",
      "[CV] bootstrap=True, criterion=entropy, max_depth=75, max_features=log2, min_samples_leaf=4, min_samples_split=10, n_estimators=750 \n",
      "[CV]  bootstrap=True, criterion=entropy, max_depth=75, max_features=log2, min_samples_leaf=4, min_samples_split=10, n_estimators=650, total=   7.8s\n",
      "[CV] bootstrap=True, criterion=entropy, max_depth=75, max_features=log2, min_samples_leaf=4, min_samples_split=10, n_estimators=800 \n",
      "[CV]  bootstrap=True, criterion=entropy, max_depth=75, max_features=log2, min_samples_leaf=4, min_samples_split=10, n_estimators=750, total=   9.3s\n",
      "[CV] bootstrap=True, criterion=entropy, max_depth=75, max_features=log2, min_samples_leaf=4, min_samples_split=10, n_estimators=800 \n",
      "[CV]  bootstrap=True, criterion=entropy, max_depth=75, max_features=log2, min_samples_leaf=4, min_samples_split=10, n_estimators=750, total=   9.5s\n",
      "[CV] bootstrap=True, criterion=entropy, max_depth=75, max_features=log2, min_samples_leaf=4, min_samples_split=10, n_estimators=800 \n",
      "[CV]  bootstrap=True, criterion=entropy, max_depth=75, max_features=log2, min_samples_leaf=4, min_samples_split=10, n_estimators=750, total=   9.5s\n",
      "[CV] bootstrap=True, criterion=entropy, max_depth=75, max_features=log2, min_samples_leaf=5, min_samples_split=8, n_estimators=550 \n",
      "[CV]  bootstrap=True, criterion=entropy, max_depth=75, max_features=log2, min_samples_leaf=4, min_samples_split=10, n_estimators=800, total=  11.4s\n",
      "[CV] bootstrap=True, criterion=entropy, max_depth=75, max_features=log2, min_samples_leaf=5, min_samples_split=8, n_estimators=550 \n",
      "[CV]  bootstrap=True, criterion=entropy, max_depth=75, max_features=log2, min_samples_leaf=5, min_samples_split=8, n_estimators=550, total=   6.2s\n",
      "[CV] bootstrap=True, criterion=entropy, max_depth=75, max_features=log2, min_samples_leaf=5, min_samples_split=8, n_estimators=550 \n",
      "[CV]  bootstrap=True, criterion=entropy, max_depth=75, max_features=log2, min_samples_leaf=4, min_samples_split=10, n_estimators=800, total=   9.7s\n",
      "[CV] bootstrap=True, criterion=entropy, max_depth=75, max_features=log2, min_samples_leaf=5, min_samples_split=8, n_estimators=650 \n",
      "[CV]  bootstrap=True, criterion=entropy, max_depth=75, max_features=log2, min_samples_leaf=5, min_samples_split=8, n_estimators=550, total=   5.2s\n",
      "[CV] bootstrap=True, criterion=entropy, max_depth=75, max_features=log2, min_samples_leaf=5, min_samples_split=8, n_estimators=650 \n",
      "[CV]  bootstrap=True, criterion=entropy, max_depth=75, max_features=log2, min_samples_leaf=4, min_samples_split=10, n_estimators=800, total=   9.1s\n",
      "[CV] bootstrap=True, criterion=entropy, max_depth=75, max_features=log2, min_samples_leaf=5, min_samples_split=8, n_estimators=650 \n",
      "[CV]  bootstrap=True, criterion=entropy, max_depth=75, max_features=log2, min_samples_leaf=5, min_samples_split=8, n_estimators=550, total=   5.3s\n",
      "[CV] bootstrap=True, criterion=entropy, max_depth=75, max_features=log2, min_samples_leaf=5, min_samples_split=8, n_estimators=750 \n",
      "[CV]  bootstrap=True, criterion=entropy, max_depth=75, max_features=log2, min_samples_leaf=5, min_samples_split=8, n_estimators=650, total=   6.1s\n"
     ]
    },
    {
     "name": "stdout",
     "output_type": "stream",
     "text": [
      "[CV] bootstrap=True, criterion=entropy, max_depth=75, max_features=log2, min_samples_leaf=5, min_samples_split=8, n_estimators=750 \n",
      "[CV]  bootstrap=True, criterion=entropy, max_depth=75, max_features=log2, min_samples_leaf=5, min_samples_split=8, n_estimators=650, total=   6.1s\n",
      "[CV] bootstrap=True, criterion=entropy, max_depth=75, max_features=log2, min_samples_leaf=5, min_samples_split=8, n_estimators=750 \n",
      "[CV]  bootstrap=True, criterion=entropy, max_depth=75, max_features=log2, min_samples_leaf=5, min_samples_split=8, n_estimators=650, total=   6.2s\n",
      "[CV] bootstrap=True, criterion=entropy, max_depth=75, max_features=log2, min_samples_leaf=5, min_samples_split=8, n_estimators=800 \n",
      "[CV]  bootstrap=True, criterion=entropy, max_depth=75, max_features=log2, min_samples_leaf=5, min_samples_split=8, n_estimators=750, total=   6.8s\n",
      "[CV] bootstrap=True, criterion=entropy, max_depth=75, max_features=log2, min_samples_leaf=5, min_samples_split=8, n_estimators=800 \n",
      "[CV]  bootstrap=True, criterion=entropy, max_depth=75, max_features=log2, min_samples_leaf=5, min_samples_split=8, n_estimators=750, total=   7.0s\n",
      "[CV] bootstrap=True, criterion=entropy, max_depth=75, max_features=log2, min_samples_leaf=5, min_samples_split=8, n_estimators=800 \n",
      "[CV]  bootstrap=True, criterion=entropy, max_depth=75, max_features=log2, min_samples_leaf=5, min_samples_split=8, n_estimators=750, total=   7.0s\n",
      "[CV] bootstrap=True, criterion=entropy, max_depth=75, max_features=log2, min_samples_leaf=5, min_samples_split=9, n_estimators=550 \n",
      "[CV]  bootstrap=True, criterion=entropy, max_depth=75, max_features=log2, min_samples_leaf=5, min_samples_split=8, n_estimators=800, total=   7.5s\n",
      "[CV] bootstrap=True, criterion=entropy, max_depth=75, max_features=log2, min_samples_leaf=5, min_samples_split=9, n_estimators=550 \n",
      "[CV]  bootstrap=True, criterion=entropy, max_depth=75, max_features=log2, min_samples_leaf=5, min_samples_split=8, n_estimators=800, total=   7.5s\n",
      "[CV] bootstrap=True, criterion=entropy, max_depth=75, max_features=log2, min_samples_leaf=5, min_samples_split=9, n_estimators=550 \n",
      "[CV]  bootstrap=True, criterion=entropy, max_depth=75, max_features=log2, min_samples_leaf=5, min_samples_split=9, n_estimators=550, total=   5.2s\n",
      "[CV] bootstrap=True, criterion=entropy, max_depth=75, max_features=log2, min_samples_leaf=5, min_samples_split=9, n_estimators=650 \n",
      "[CV]  bootstrap=True, criterion=entropy, max_depth=75, max_features=log2, min_samples_leaf=5, min_samples_split=9, n_estimators=550, total=   5.5s\n",
      "[CV] bootstrap=True, criterion=entropy, max_depth=75, max_features=log2, min_samples_leaf=5, min_samples_split=9, n_estimators=650 \n",
      "[CV]  bootstrap=True, criterion=entropy, max_depth=75, max_features=log2, min_samples_leaf=5, min_samples_split=8, n_estimators=800, total=   7.9s\n",
      "[CV] bootstrap=True, criterion=entropy, max_depth=75, max_features=log2, min_samples_leaf=5, min_samples_split=9, n_estimators=650 \n",
      "[CV]  bootstrap=True, criterion=entropy, max_depth=75, max_features=log2, min_samples_leaf=5, min_samples_split=9, n_estimators=550, total=   6.0s\n",
      "[CV] bootstrap=True, criterion=entropy, max_depth=75, max_features=log2, min_samples_leaf=5, min_samples_split=9, n_estimators=750 \n",
      "[CV]  bootstrap=True, criterion=entropy, max_depth=75, max_features=log2, min_samples_leaf=5, min_samples_split=9, n_estimators=650, total=   6.7s\n",
      "[CV] bootstrap=True, criterion=entropy, max_depth=75, max_features=log2, min_samples_leaf=5, min_samples_split=9, n_estimators=750 \n",
      "[CV]  bootstrap=True, criterion=entropy, max_depth=75, max_features=log2, min_samples_leaf=5, min_samples_split=9, n_estimators=650, total=   6.5s\n",
      "[CV] bootstrap=True, criterion=entropy, max_depth=75, max_features=log2, min_samples_leaf=5, min_samples_split=9, n_estimators=750 \n",
      "[CV]  bootstrap=True, criterion=entropy, max_depth=75, max_features=log2, min_samples_leaf=5, min_samples_split=9, n_estimators=650, total=   6.5s\n",
      "[CV] bootstrap=True, criterion=entropy, max_depth=75, max_features=log2, min_samples_leaf=5, min_samples_split=9, n_estimators=800 \n",
      "[CV]  bootstrap=True, criterion=entropy, max_depth=75, max_features=log2, min_samples_leaf=5, min_samples_split=9, n_estimators=750, total=   9.0s\n",
      "[CV] bootstrap=True, criterion=entropy, max_depth=75, max_features=log2, min_samples_leaf=5, min_samples_split=9, n_estimators=800 \n",
      "[CV]  bootstrap=True, criterion=entropy, max_depth=75, max_features=log2, min_samples_leaf=5, min_samples_split=9, n_estimators=750, total=   9.7s\n",
      "[CV] bootstrap=True, criterion=entropy, max_depth=75, max_features=log2, min_samples_leaf=5, min_samples_split=9, n_estimators=800 \n",
      "[CV]  bootstrap=True, criterion=entropy, max_depth=75, max_features=log2, min_samples_leaf=5, min_samples_split=9, n_estimators=750, total=  10.0s\n",
      "[CV] bootstrap=True, criterion=entropy, max_depth=75, max_features=log2, min_samples_leaf=5, min_samples_split=10, n_estimators=550 \n",
      "[CV]  bootstrap=True, criterion=entropy, max_depth=75, max_features=log2, min_samples_leaf=5, min_samples_split=9, n_estimators=800, total=  10.3s\n",
      "[CV] bootstrap=True, criterion=entropy, max_depth=75, max_features=log2, min_samples_leaf=5, min_samples_split=10, n_estimators=550 \n",
      "[CV]  bootstrap=True, criterion=entropy, max_depth=75, max_features=log2, min_samples_leaf=5, min_samples_split=10, n_estimators=550, total=   5.2s\n",
      "[CV] bootstrap=True, criterion=entropy, max_depth=75, max_features=log2, min_samples_leaf=5, min_samples_split=10, n_estimators=550 \n",
      "[CV]  bootstrap=True, criterion=entropy, max_depth=75, max_features=log2, min_samples_leaf=5, min_samples_split=9, n_estimators=800, total=   8.2s\n",
      "[CV] bootstrap=True, criterion=entropy, max_depth=75, max_features=log2, min_samples_leaf=5, min_samples_split=10, n_estimators=650 \n",
      "[CV]  bootstrap=True, criterion=entropy, max_depth=75, max_features=log2, min_samples_leaf=5, min_samples_split=10, n_estimators=550, total=   5.3s\n",
      "[CV] bootstrap=True, criterion=entropy, max_depth=75, max_features=log2, min_samples_leaf=5, min_samples_split=10, n_estimators=650 \n",
      "[CV]  bootstrap=True, criterion=entropy, max_depth=75, max_features=log2, min_samples_leaf=5, min_samples_split=9, n_estimators=800, total=   7.8s\n",
      "[CV] bootstrap=True, criterion=entropy, max_depth=75, max_features=log2, min_samples_leaf=5, min_samples_split=10, n_estimators=650 \n",
      "[CV]  bootstrap=True, criterion=entropy, max_depth=75, max_features=log2, min_samples_leaf=5, min_samples_split=10, n_estimators=550, total=   5.5s\n",
      "[CV] bootstrap=True, criterion=entropy, max_depth=75, max_features=log2, min_samples_leaf=5, min_samples_split=10, n_estimators=750 \n",
      "[CV]  bootstrap=True, criterion=entropy, max_depth=75, max_features=log2, min_samples_leaf=5, min_samples_split=10, n_estimators=650, total=   6.2s\n",
      "[CV] bootstrap=True, criterion=entropy, max_depth=75, max_features=log2, min_samples_leaf=5, min_samples_split=10, n_estimators=750 \n",
      "[CV]  bootstrap=True, criterion=entropy, max_depth=75, max_features=log2, min_samples_leaf=5, min_samples_split=10, n_estimators=650, total=   6.2s\n",
      "[CV] bootstrap=True, criterion=entropy, max_depth=75, max_features=log2, min_samples_leaf=5, min_samples_split=10, n_estimators=750 \n",
      "[CV]  bootstrap=True, criterion=entropy, max_depth=75, max_features=log2, min_samples_leaf=5, min_samples_split=10, n_estimators=650, total=   6.1s\n",
      "[CV] bootstrap=True, criterion=entropy, max_depth=75, max_features=log2, min_samples_leaf=5, min_samples_split=10, n_estimators=800 \n",
      "[CV]  bootstrap=True, criterion=entropy, max_depth=75, max_features=log2, min_samples_leaf=5, min_samples_split=10, n_estimators=750, total=   7.0s\n",
      "[CV] bootstrap=True, criterion=entropy, max_depth=75, max_features=log2, min_samples_leaf=5, min_samples_split=10, n_estimators=800 \n",
      "[CV]  bootstrap=True, criterion=entropy, max_depth=75, max_features=log2, min_samples_leaf=5, min_samples_split=10, n_estimators=750, total=   7.1s\n",
      "[CV] bootstrap=True, criterion=entropy, max_depth=75, max_features=log2, min_samples_leaf=5, min_samples_split=10, n_estimators=800 \n",
      "[CV]  bootstrap=True, criterion=entropy, max_depth=75, max_features=log2, min_samples_leaf=5, min_samples_split=10, n_estimators=750, total=   7.4s\n",
      "[CV] bootstrap=True, criterion=entropy, max_depth=80, max_features=log2, min_samples_leaf=3, min_samples_split=8, n_estimators=550 \n"
     ]
    },
    {
     "name": "stdout",
     "output_type": "stream",
     "text": [
      "[CV]  bootstrap=True, criterion=entropy, max_depth=75, max_features=log2, min_samples_leaf=5, min_samples_split=10, n_estimators=800, total=   7.8s\n",
      "[CV] bootstrap=True, criterion=entropy, max_depth=80, max_features=log2, min_samples_leaf=3, min_samples_split=8, n_estimators=550 \n",
      "[CV]  bootstrap=True, criterion=entropy, max_depth=80, max_features=log2, min_samples_leaf=3, min_samples_split=8, n_estimators=550, total=   5.0s\n",
      "[CV] bootstrap=True, criterion=entropy, max_depth=80, max_features=log2, min_samples_leaf=3, min_samples_split=8, n_estimators=550 \n",
      "[CV]  bootstrap=True, criterion=entropy, max_depth=75, max_features=log2, min_samples_leaf=5, min_samples_split=10, n_estimators=800, total=   7.2s\n",
      "[CV] bootstrap=True, criterion=entropy, max_depth=80, max_features=log2, min_samples_leaf=3, min_samples_split=8, n_estimators=650 \n",
      "[CV]  bootstrap=True, criterion=entropy, max_depth=80, max_features=log2, min_samples_leaf=3, min_samples_split=8, n_estimators=550, total=   5.1s\n",
      "[CV] bootstrap=True, criterion=entropy, max_depth=80, max_features=log2, min_samples_leaf=3, min_samples_split=8, n_estimators=650 \n",
      "[CV]  bootstrap=True, criterion=entropy, max_depth=75, max_features=log2, min_samples_leaf=5, min_samples_split=10, n_estimators=800, total=   7.0s\n",
      "[CV] bootstrap=True, criterion=entropy, max_depth=80, max_features=log2, min_samples_leaf=3, min_samples_split=8, n_estimators=650 \n",
      "[CV]  bootstrap=True, criterion=entropy, max_depth=80, max_features=log2, min_samples_leaf=3, min_samples_split=8, n_estimators=550, total=   5.2s\n",
      "[CV] bootstrap=True, criterion=entropy, max_depth=80, max_features=log2, min_samples_leaf=3, min_samples_split=8, n_estimators=750 \n",
      "[CV]  bootstrap=True, criterion=entropy, max_depth=80, max_features=log2, min_samples_leaf=3, min_samples_split=8, n_estimators=650, total=   6.3s\n",
      "[CV] bootstrap=True, criterion=entropy, max_depth=80, max_features=log2, min_samples_leaf=3, min_samples_split=8, n_estimators=750 \n",
      "[CV]  bootstrap=True, criterion=entropy, max_depth=80, max_features=log2, min_samples_leaf=3, min_samples_split=8, n_estimators=650, total=   6.4s\n",
      "[CV] bootstrap=True, criterion=entropy, max_depth=80, max_features=log2, min_samples_leaf=3, min_samples_split=8, n_estimators=750 \n",
      "[CV]  bootstrap=True, criterion=entropy, max_depth=80, max_features=log2, min_samples_leaf=3, min_samples_split=8, n_estimators=650, total=   6.5s\n",
      "[CV] bootstrap=True, criterion=entropy, max_depth=80, max_features=log2, min_samples_leaf=3, min_samples_split=8, n_estimators=800 \n",
      "[CV]  bootstrap=True, criterion=entropy, max_depth=80, max_features=log2, min_samples_leaf=3, min_samples_split=8, n_estimators=750, total=   7.5s\n",
      "[CV] bootstrap=True, criterion=entropy, max_depth=80, max_features=log2, min_samples_leaf=3, min_samples_split=8, n_estimators=800 \n",
      "[CV]  bootstrap=True, criterion=entropy, max_depth=80, max_features=log2, min_samples_leaf=3, min_samples_split=8, n_estimators=750, total=   7.6s\n",
      "[CV] bootstrap=True, criterion=entropy, max_depth=80, max_features=log2, min_samples_leaf=3, min_samples_split=8, n_estimators=800 \n",
      "[CV]  bootstrap=True, criterion=entropy, max_depth=80, max_features=log2, min_samples_leaf=3, min_samples_split=8, n_estimators=750, total=   7.4s\n",
      "[CV] bootstrap=True, criterion=entropy, max_depth=80, max_features=log2, min_samples_leaf=3, min_samples_split=9, n_estimators=550 \n",
      "[CV]  bootstrap=True, criterion=entropy, max_depth=80, max_features=log2, min_samples_leaf=3, min_samples_split=8, n_estimators=800, total=   8.1s\n",
      "[CV] bootstrap=True, criterion=entropy, max_depth=80, max_features=log2, min_samples_leaf=3, min_samples_split=9, n_estimators=550 \n",
      "[CV]  bootstrap=True, criterion=entropy, max_depth=80, max_features=log2, min_samples_leaf=3, min_samples_split=9, n_estimators=550, total=   5.5s\n",
      "[CV] bootstrap=True, criterion=entropy, max_depth=80, max_features=log2, min_samples_leaf=3, min_samples_split=9, n_estimators=550 \n",
      "[CV]  bootstrap=True, criterion=entropy, max_depth=80, max_features=log2, min_samples_leaf=3, min_samples_split=8, n_estimators=800, total=   8.4s\n",
      "[CV] bootstrap=True, criterion=entropy, max_depth=80, max_features=log2, min_samples_leaf=3, min_samples_split=9, n_estimators=650 \n",
      "[CV]  bootstrap=True, criterion=entropy, max_depth=80, max_features=log2, min_samples_leaf=3, min_samples_split=9, n_estimators=550, total=   5.6s\n",
      "[CV] bootstrap=True, criterion=entropy, max_depth=80, max_features=log2, min_samples_leaf=3, min_samples_split=9, n_estimators=650 \n",
      "[CV]  bootstrap=True, criterion=entropy, max_depth=80, max_features=log2, min_samples_leaf=3, min_samples_split=8, n_estimators=800, total=   8.4s\n",
      "[CV] bootstrap=True, criterion=entropy, max_depth=80, max_features=log2, min_samples_leaf=3, min_samples_split=9, n_estimators=650 \n",
      "[CV]  bootstrap=True, criterion=entropy, max_depth=80, max_features=log2, min_samples_leaf=3, min_samples_split=9, n_estimators=550, total=   6.0s\n",
      "[CV] bootstrap=True, criterion=entropy, max_depth=80, max_features=log2, min_samples_leaf=3, min_samples_split=9, n_estimators=750 \n",
      "[CV]  bootstrap=True, criterion=entropy, max_depth=80, max_features=log2, min_samples_leaf=3, min_samples_split=9, n_estimators=650, total=   7.3s\n",
      "[CV] bootstrap=True, criterion=entropy, max_depth=80, max_features=log2, min_samples_leaf=3, min_samples_split=9, n_estimators=750 \n",
      "[CV]  bootstrap=True, criterion=entropy, max_depth=80, max_features=log2, min_samples_leaf=3, min_samples_split=9, n_estimators=650, total=   7.4s\n",
      "[CV] bootstrap=True, criterion=entropy, max_depth=80, max_features=log2, min_samples_leaf=3, min_samples_split=9, n_estimators=750 \n",
      "[CV]  bootstrap=True, criterion=entropy, max_depth=80, max_features=log2, min_samples_leaf=3, min_samples_split=9, n_estimators=650, total=   8.1s\n",
      "[CV] bootstrap=True, criterion=entropy, max_depth=80, max_features=log2, min_samples_leaf=3, min_samples_split=9, n_estimators=800 \n",
      "[CV]  bootstrap=True, criterion=entropy, max_depth=80, max_features=log2, min_samples_leaf=3, min_samples_split=9, n_estimators=750, total=  10.8s\n",
      "[CV] bootstrap=True, criterion=entropy, max_depth=80, max_features=log2, min_samples_leaf=3, min_samples_split=9, n_estimators=800 \n",
      "[CV]  bootstrap=True, criterion=entropy, max_depth=80, max_features=log2, min_samples_leaf=3, min_samples_split=9, n_estimators=750, total=  10.1s\n",
      "[CV] bootstrap=True, criterion=entropy, max_depth=80, max_features=log2, min_samples_leaf=3, min_samples_split=9, n_estimators=800 \n",
      "[CV]  bootstrap=True, criterion=entropy, max_depth=80, max_features=log2, min_samples_leaf=3, min_samples_split=9, n_estimators=750, total=   9.8s\n",
      "[CV] bootstrap=True, criterion=entropy, max_depth=80, max_features=log2, min_samples_leaf=3, min_samples_split=10, n_estimators=550 \n",
      "[CV]  bootstrap=True, criterion=entropy, max_depth=80, max_features=log2, min_samples_leaf=3, min_samples_split=9, n_estimators=800, total=   9.6s\n",
      "[CV] bootstrap=True, criterion=entropy, max_depth=80, max_features=log2, min_samples_leaf=3, min_samples_split=10, n_estimators=550 \n",
      "[CV]  bootstrap=True, criterion=entropy, max_depth=80, max_features=log2, min_samples_leaf=3, min_samples_split=10, n_estimators=550, total=   5.5s\n",
      "[CV] bootstrap=True, criterion=entropy, max_depth=80, max_features=log2, min_samples_leaf=3, min_samples_split=10, n_estimators=550 \n",
      "[CV]  bootstrap=True, criterion=entropy, max_depth=80, max_features=log2, min_samples_leaf=3, min_samples_split=9, n_estimators=800, total=   8.1s\n",
      "[CV] bootstrap=True, criterion=entropy, max_depth=80, max_features=log2, min_samples_leaf=3, min_samples_split=10, n_estimators=650 \n",
      "[CV]  bootstrap=True, criterion=entropy, max_depth=80, max_features=log2, min_samples_leaf=3, min_samples_split=10, n_estimators=550, total=   5.3s\n",
      "[CV] bootstrap=True, criterion=entropy, max_depth=80, max_features=log2, min_samples_leaf=3, min_samples_split=10, n_estimators=650 \n",
      "[CV]  bootstrap=True, criterion=entropy, max_depth=80, max_features=log2, min_samples_leaf=3, min_samples_split=9, n_estimators=800, total=   7.9s\n",
      "[CV] bootstrap=True, criterion=entropy, max_depth=80, max_features=log2, min_samples_leaf=3, min_samples_split=10, n_estimators=650 \n",
      "[CV]  bootstrap=True, criterion=entropy, max_depth=80, max_features=log2, min_samples_leaf=3, min_samples_split=10, n_estimators=550, total=   5.8s\n"
     ]
    },
    {
     "name": "stdout",
     "output_type": "stream",
     "text": [
      "[CV] bootstrap=True, criterion=entropy, max_depth=80, max_features=log2, min_samples_leaf=3, min_samples_split=10, n_estimators=750 \n",
      "[CV]  bootstrap=True, criterion=entropy, max_depth=80, max_features=log2, min_samples_leaf=3, min_samples_split=10, n_estimators=650, total=   6.9s\n",
      "[CV] bootstrap=True, criterion=entropy, max_depth=80, max_features=log2, min_samples_leaf=3, min_samples_split=10, n_estimators=750 \n",
      "[CV]  bootstrap=True, criterion=entropy, max_depth=80, max_features=log2, min_samples_leaf=3, min_samples_split=10, n_estimators=650, total=   6.9s\n",
      "[CV] bootstrap=True, criterion=entropy, max_depth=80, max_features=log2, min_samples_leaf=3, min_samples_split=10, n_estimators=750 \n",
      "[CV]  bootstrap=True, criterion=entropy, max_depth=80, max_features=log2, min_samples_leaf=3, min_samples_split=10, n_estimators=650, total=   6.8s\n",
      "[CV] bootstrap=True, criterion=entropy, max_depth=80, max_features=log2, min_samples_leaf=3, min_samples_split=10, n_estimators=800 \n",
      "[CV]  bootstrap=True, criterion=entropy, max_depth=80, max_features=log2, min_samples_leaf=3, min_samples_split=10, n_estimators=750, total=   7.3s\n",
      "[CV] bootstrap=True, criterion=entropy, max_depth=80, max_features=log2, min_samples_leaf=3, min_samples_split=10, n_estimators=800 \n",
      "[CV]  bootstrap=True, criterion=entropy, max_depth=80, max_features=log2, min_samples_leaf=3, min_samples_split=10, n_estimators=750, total=   7.3s\n",
      "[CV] bootstrap=True, criterion=entropy, max_depth=80, max_features=log2, min_samples_leaf=3, min_samples_split=10, n_estimators=800 \n",
      "[CV]  bootstrap=True, criterion=entropy, max_depth=80, max_features=log2, min_samples_leaf=3, min_samples_split=10, n_estimators=750, total=   7.2s\n",
      "[CV] bootstrap=True, criterion=entropy, max_depth=80, max_features=log2, min_samples_leaf=4, min_samples_split=8, n_estimators=550 \n",
      "[CV]  bootstrap=True, criterion=entropy, max_depth=80, max_features=log2, min_samples_leaf=3, min_samples_split=10, n_estimators=800, total=   7.8s\n",
      "[CV] bootstrap=True, criterion=entropy, max_depth=80, max_features=log2, min_samples_leaf=4, min_samples_split=8, n_estimators=550 \n",
      "[CV]  bootstrap=True, criterion=entropy, max_depth=80, max_features=log2, min_samples_leaf=3, min_samples_split=10, n_estimators=800, total=   7.8s\n",
      "[CV] bootstrap=True, criterion=entropy, max_depth=80, max_features=log2, min_samples_leaf=4, min_samples_split=8, n_estimators=550 \n",
      "[CV]  bootstrap=True, criterion=entropy, max_depth=80, max_features=log2, min_samples_leaf=4, min_samples_split=8, n_estimators=550, total=   5.5s\n",
      "[CV] bootstrap=True, criterion=entropy, max_depth=80, max_features=log2, min_samples_leaf=4, min_samples_split=8, n_estimators=650 \n",
      "[CV]  bootstrap=True, criterion=entropy, max_depth=80, max_features=log2, min_samples_leaf=4, min_samples_split=8, n_estimators=550, total=   5.2s\n",
      "[CV] bootstrap=True, criterion=entropy, max_depth=80, max_features=log2, min_samples_leaf=4, min_samples_split=8, n_estimators=650 \n",
      "[CV]  bootstrap=True, criterion=entropy, max_depth=80, max_features=log2, min_samples_leaf=3, min_samples_split=10, n_estimators=800, total=   7.7s\n",
      "[CV] bootstrap=True, criterion=entropy, max_depth=80, max_features=log2, min_samples_leaf=4, min_samples_split=8, n_estimators=650 \n",
      "[CV]  bootstrap=True, criterion=entropy, max_depth=80, max_features=log2, min_samples_leaf=4, min_samples_split=8, n_estimators=550, total=   5.4s\n",
      "[CV] bootstrap=True, criterion=entropy, max_depth=80, max_features=log2, min_samples_leaf=4, min_samples_split=8, n_estimators=750 \n",
      "[CV]  bootstrap=True, criterion=entropy, max_depth=80, max_features=log2, min_samples_leaf=4, min_samples_split=8, n_estimators=650, total=   6.6s\n",
      "[CV] bootstrap=True, criterion=entropy, max_depth=80, max_features=log2, min_samples_leaf=4, min_samples_split=8, n_estimators=750 \n",
      "[CV]  bootstrap=True, criterion=entropy, max_depth=80, max_features=log2, min_samples_leaf=4, min_samples_split=8, n_estimators=650, total=   6.4s\n",
      "[CV] bootstrap=True, criterion=entropy, max_depth=80, max_features=log2, min_samples_leaf=4, min_samples_split=8, n_estimators=750 \n",
      "[CV]  bootstrap=True, criterion=entropy, max_depth=80, max_features=log2, min_samples_leaf=4, min_samples_split=8, n_estimators=650, total=   6.6s\n",
      "[CV] bootstrap=True, criterion=entropy, max_depth=80, max_features=log2, min_samples_leaf=4, min_samples_split=8, n_estimators=800 \n",
      "[CV]  bootstrap=True, criterion=entropy, max_depth=80, max_features=log2, min_samples_leaf=4, min_samples_split=8, n_estimators=750, total=   7.5s\n",
      "[CV] bootstrap=True, criterion=entropy, max_depth=80, max_features=log2, min_samples_leaf=4, min_samples_split=8, n_estimators=800 \n",
      "[CV]  bootstrap=True, criterion=entropy, max_depth=80, max_features=log2, min_samples_leaf=4, min_samples_split=8, n_estimators=750, total=   7.3s\n",
      "[CV] bootstrap=True, criterion=entropy, max_depth=80, max_features=log2, min_samples_leaf=4, min_samples_split=8, n_estimators=800 \n",
      "[CV]  bootstrap=True, criterion=entropy, max_depth=80, max_features=log2, min_samples_leaf=4, min_samples_split=8, n_estimators=750, total=   7.4s\n",
      "[CV] bootstrap=True, criterion=entropy, max_depth=80, max_features=log2, min_samples_leaf=4, min_samples_split=9, n_estimators=550 \n",
      "[CV]  bootstrap=True, criterion=entropy, max_depth=80, max_features=log2, min_samples_leaf=4, min_samples_split=8, n_estimators=800, total=   7.7s\n",
      "[CV] bootstrap=True, criterion=entropy, max_depth=80, max_features=log2, min_samples_leaf=4, min_samples_split=9, n_estimators=550 \n",
      "[CV]  bootstrap=True, criterion=entropy, max_depth=80, max_features=log2, min_samples_leaf=4, min_samples_split=9, n_estimators=550, total=   5.2s\n",
      "[CV] bootstrap=True, criterion=entropy, max_depth=80, max_features=log2, min_samples_leaf=4, min_samples_split=9, n_estimators=550 \n",
      "[CV]  bootstrap=True, criterion=entropy, max_depth=80, max_features=log2, min_samples_leaf=4, min_samples_split=8, n_estimators=800, total=   7.7s\n",
      "[CV] bootstrap=True, criterion=entropy, max_depth=80, max_features=log2, min_samples_leaf=4, min_samples_split=9, n_estimators=650 \n",
      "[CV]  bootstrap=True, criterion=entropy, max_depth=80, max_features=log2, min_samples_leaf=4, min_samples_split=9, n_estimators=550, total=   5.2s\n",
      "[CV] bootstrap=True, criterion=entropy, max_depth=80, max_features=log2, min_samples_leaf=4, min_samples_split=9, n_estimators=650 \n",
      "[CV]  bootstrap=True, criterion=entropy, max_depth=80, max_features=log2, min_samples_leaf=4, min_samples_split=8, n_estimators=800, total=   7.8s\n",
      "[CV] bootstrap=True, criterion=entropy, max_depth=80, max_features=log2, min_samples_leaf=4, min_samples_split=9, n_estimators=650 \n",
      "[CV]  bootstrap=True, criterion=entropy, max_depth=80, max_features=log2, min_samples_leaf=4, min_samples_split=9, n_estimators=550, total=   5.2s\n",
      "[CV] bootstrap=True, criterion=entropy, max_depth=80, max_features=log2, min_samples_leaf=4, min_samples_split=9, n_estimators=750 \n",
      "[CV]  bootstrap=True, criterion=entropy, max_depth=80, max_features=log2, min_samples_leaf=4, min_samples_split=9, n_estimators=650, total=   6.1s\n",
      "[CV] bootstrap=True, criterion=entropy, max_depth=80, max_features=log2, min_samples_leaf=4, min_samples_split=9, n_estimators=750 \n",
      "[CV]  bootstrap=True, criterion=entropy, max_depth=80, max_features=log2, min_samples_leaf=4, min_samples_split=9, n_estimators=650, total=   6.0s\n",
      "[CV] bootstrap=True, criterion=entropy, max_depth=80, max_features=log2, min_samples_leaf=4, min_samples_split=9, n_estimators=750 \n",
      "[CV]  bootstrap=True, criterion=entropy, max_depth=80, max_features=log2, min_samples_leaf=4, min_samples_split=9, n_estimators=650, total=   6.2s\n",
      "[CV] bootstrap=True, criterion=entropy, max_depth=80, max_features=log2, min_samples_leaf=4, min_samples_split=9, n_estimators=800 \n",
      "[CV]  bootstrap=True, criterion=entropy, max_depth=80, max_features=log2, min_samples_leaf=4, min_samples_split=9, n_estimators=750, total=   8.9s\n",
      "[CV] bootstrap=True, criterion=entropy, max_depth=80, max_features=log2, min_samples_leaf=4, min_samples_split=9, n_estimators=800 \n",
      "[CV]  bootstrap=True, criterion=entropy, max_depth=80, max_features=log2, min_samples_leaf=4, min_samples_split=9, n_estimators=750, total=  10.7s\n",
      "[CV] bootstrap=True, criterion=entropy, max_depth=80, max_features=log2, min_samples_leaf=4, min_samples_split=9, n_estimators=800 \n"
     ]
    },
    {
     "name": "stdout",
     "output_type": "stream",
     "text": [
      "[CV]  bootstrap=True, criterion=entropy, max_depth=80, max_features=log2, min_samples_leaf=4, min_samples_split=9, n_estimators=750, total=  10.6s\n",
      "[CV] bootstrap=True, criterion=entropy, max_depth=80, max_features=log2, min_samples_leaf=4, min_samples_split=10, n_estimators=550 \n",
      "[CV]  bootstrap=True, criterion=entropy, max_depth=80, max_features=log2, min_samples_leaf=4, min_samples_split=9, n_estimators=800, total=  11.3s\n",
      "[CV] bootstrap=True, criterion=entropy, max_depth=80, max_features=log2, min_samples_leaf=4, min_samples_split=10, n_estimators=550 \n",
      "[CV]  bootstrap=True, criterion=entropy, max_depth=80, max_features=log2, min_samples_leaf=4, min_samples_split=10, n_estimators=550, total=   5.1s\n",
      "[CV] bootstrap=True, criterion=entropy, max_depth=80, max_features=log2, min_samples_leaf=4, min_samples_split=10, n_estimators=550 \n",
      "[CV]  bootstrap=True, criterion=entropy, max_depth=80, max_features=log2, min_samples_leaf=4, min_samples_split=9, n_estimators=800, total=   8.6s\n",
      "[CV] bootstrap=True, criterion=entropy, max_depth=80, max_features=log2, min_samples_leaf=4, min_samples_split=10, n_estimators=650 \n",
      "[CV]  bootstrap=True, criterion=entropy, max_depth=80, max_features=log2, min_samples_leaf=4, min_samples_split=10, n_estimators=550, total=   4.7s\n",
      "[CV] bootstrap=True, criterion=entropy, max_depth=80, max_features=log2, min_samples_leaf=4, min_samples_split=10, n_estimators=650 \n",
      "[CV]  bootstrap=True, criterion=entropy, max_depth=80, max_features=log2, min_samples_leaf=4, min_samples_split=9, n_estimators=800, total=   7.2s\n",
      "[CV] bootstrap=True, criterion=entropy, max_depth=80, max_features=log2, min_samples_leaf=4, min_samples_split=10, n_estimators=650 \n",
      "[CV]  bootstrap=True, criterion=entropy, max_depth=80, max_features=log2, min_samples_leaf=4, min_samples_split=10, n_estimators=550, total=   7.1s\n",
      "[CV] bootstrap=True, criterion=entropy, max_depth=80, max_features=log2, min_samples_leaf=4, min_samples_split=10, n_estimators=750 \n",
      "[CV]  bootstrap=True, criterion=entropy, max_depth=80, max_features=log2, min_samples_leaf=4, min_samples_split=10, n_estimators=650, total=   9.2s\n",
      "[CV] bootstrap=True, criterion=entropy, max_depth=80, max_features=log2, min_samples_leaf=4, min_samples_split=10, n_estimators=750 \n",
      "[CV]  bootstrap=True, criterion=entropy, max_depth=80, max_features=log2, min_samples_leaf=4, min_samples_split=10, n_estimators=650, total=  10.1s\n",
      "[CV] bootstrap=True, criterion=entropy, max_depth=80, max_features=log2, min_samples_leaf=4, min_samples_split=10, n_estimators=750 \n",
      "[CV]  bootstrap=True, criterion=entropy, max_depth=80, max_features=log2, min_samples_leaf=4, min_samples_split=10, n_estimators=650, total=  11.1s\n",
      "[CV] bootstrap=True, criterion=entropy, max_depth=80, max_features=log2, min_samples_leaf=4, min_samples_split=10, n_estimators=800 \n",
      "[CV]  bootstrap=True, criterion=entropy, max_depth=80, max_features=log2, min_samples_leaf=4, min_samples_split=10, n_estimators=750, total=  10.2s\n",
      "[CV] bootstrap=True, criterion=entropy, max_depth=80, max_features=log2, min_samples_leaf=4, min_samples_split=10, n_estimators=800 \n",
      "[CV]  bootstrap=True, criterion=entropy, max_depth=80, max_features=log2, min_samples_leaf=4, min_samples_split=10, n_estimators=750, total=   9.3s\n",
      "[CV] bootstrap=True, criterion=entropy, max_depth=80, max_features=log2, min_samples_leaf=4, min_samples_split=10, n_estimators=800 \n",
      "[CV]  bootstrap=True, criterion=entropy, max_depth=80, max_features=log2, min_samples_leaf=4, min_samples_split=10, n_estimators=750, total=   8.6s\n",
      "[CV] bootstrap=True, criterion=entropy, max_depth=80, max_features=log2, min_samples_leaf=5, min_samples_split=8, n_estimators=550 \n",
      "[CV]  bootstrap=True, criterion=entropy, max_depth=80, max_features=log2, min_samples_leaf=4, min_samples_split=10, n_estimators=800, total=   8.2s\n",
      "[CV] bootstrap=True, criterion=entropy, max_depth=80, max_features=log2, min_samples_leaf=5, min_samples_split=8, n_estimators=550 \n",
      "[CV]  bootstrap=True, criterion=entropy, max_depth=80, max_features=log2, min_samples_leaf=5, min_samples_split=8, n_estimators=550, total=   4.8s\n",
      "[CV] bootstrap=True, criterion=entropy, max_depth=80, max_features=log2, min_samples_leaf=5, min_samples_split=8, n_estimators=550 \n",
      "[CV]  bootstrap=True, criterion=entropy, max_depth=80, max_features=log2, min_samples_leaf=4, min_samples_split=10, n_estimators=800, total=   7.9s\n",
      "[CV] bootstrap=True, criterion=entropy, max_depth=80, max_features=log2, min_samples_leaf=5, min_samples_split=8, n_estimators=650 \n",
      "[CV]  bootstrap=True, criterion=entropy, max_depth=80, max_features=log2, min_samples_leaf=5, min_samples_split=8, n_estimators=550, total=   4.6s\n",
      "[CV] bootstrap=True, criterion=entropy, max_depth=80, max_features=log2, min_samples_leaf=5, min_samples_split=8, n_estimators=650 \n",
      "[CV]  bootstrap=True, criterion=entropy, max_depth=80, max_features=log2, min_samples_leaf=4, min_samples_split=10, n_estimators=800, total=   7.2s\n",
      "[CV] bootstrap=True, criterion=entropy, max_depth=80, max_features=log2, min_samples_leaf=5, min_samples_split=8, n_estimators=650 \n",
      "[CV]  bootstrap=True, criterion=entropy, max_depth=80, max_features=log2, min_samples_leaf=5, min_samples_split=8, n_estimators=550, total=   4.4s\n",
      "[CV] bootstrap=True, criterion=entropy, max_depth=80, max_features=log2, min_samples_leaf=5, min_samples_split=8, n_estimators=750 \n",
      "[CV]  bootstrap=True, criterion=entropy, max_depth=80, max_features=log2, min_samples_leaf=5, min_samples_split=8, n_estimators=650, total=   5.2s\n",
      "[CV] bootstrap=True, criterion=entropy, max_depth=80, max_features=log2, min_samples_leaf=5, min_samples_split=8, n_estimators=750 \n",
      "[CV]  bootstrap=True, criterion=entropy, max_depth=80, max_features=log2, min_samples_leaf=5, min_samples_split=8, n_estimators=650, total=   5.2s\n",
      "[CV] bootstrap=True, criterion=entropy, max_depth=80, max_features=log2, min_samples_leaf=5, min_samples_split=8, n_estimators=750 \n",
      "[CV]  bootstrap=True, criterion=entropy, max_depth=80, max_features=log2, min_samples_leaf=5, min_samples_split=8, n_estimators=650, total=   5.8s\n",
      "[CV] bootstrap=True, criterion=entropy, max_depth=80, max_features=log2, min_samples_leaf=5, min_samples_split=8, n_estimators=800 \n",
      "[CV]  bootstrap=True, criterion=entropy, max_depth=80, max_features=log2, min_samples_leaf=5, min_samples_split=8, n_estimators=750, total=   7.5s\n",
      "[CV] bootstrap=True, criterion=entropy, max_depth=80, max_features=log2, min_samples_leaf=5, min_samples_split=8, n_estimators=800 \n",
      "[CV]  bootstrap=True, criterion=entropy, max_depth=80, max_features=log2, min_samples_leaf=5, min_samples_split=8, n_estimators=750, total=   7.8s\n",
      "[CV] bootstrap=True, criterion=entropy, max_depth=80, max_features=log2, min_samples_leaf=5, min_samples_split=8, n_estimators=800 \n",
      "[CV]  bootstrap=True, criterion=entropy, max_depth=80, max_features=log2, min_samples_leaf=5, min_samples_split=8, n_estimators=750, total=   7.4s\n",
      "[CV] bootstrap=True, criterion=entropy, max_depth=80, max_features=log2, min_samples_leaf=5, min_samples_split=9, n_estimators=550 \n",
      "[CV]  bootstrap=True, criterion=entropy, max_depth=80, max_features=log2, min_samples_leaf=5, min_samples_split=8, n_estimators=800, total=   7.5s\n",
      "[CV] bootstrap=True, criterion=entropy, max_depth=80, max_features=log2, min_samples_leaf=5, min_samples_split=9, n_estimators=550 \n",
      "[CV]  bootstrap=True, criterion=entropy, max_depth=80, max_features=log2, min_samples_leaf=5, min_samples_split=9, n_estimators=550, total=   5.8s\n",
      "[CV] bootstrap=True, criterion=entropy, max_depth=80, max_features=log2, min_samples_leaf=5, min_samples_split=9, n_estimators=550 \n",
      "[CV]  bootstrap=True, criterion=entropy, max_depth=80, max_features=log2, min_samples_leaf=5, min_samples_split=8, n_estimators=800, total=   8.2s\n",
      "[CV] bootstrap=True, criterion=entropy, max_depth=80, max_features=log2, min_samples_leaf=5, min_samples_split=9, n_estimators=650 \n",
      "[CV]  bootstrap=True, criterion=entropy, max_depth=80, max_features=log2, min_samples_leaf=5, min_samples_split=9, n_estimators=550, total=   6.2s\n",
      "[CV] bootstrap=True, criterion=entropy, max_depth=80, max_features=log2, min_samples_leaf=5, min_samples_split=9, n_estimators=650 \n",
      "[CV]  bootstrap=True, criterion=entropy, max_depth=80, max_features=log2, min_samples_leaf=5, min_samples_split=8, n_estimators=800, total=   8.5s\n"
     ]
    },
    {
     "name": "stdout",
     "output_type": "stream",
     "text": [
      "[CV] bootstrap=True, criterion=entropy, max_depth=80, max_features=log2, min_samples_leaf=5, min_samples_split=9, n_estimators=650 \n",
      "[CV]  bootstrap=True, criterion=entropy, max_depth=80, max_features=log2, min_samples_leaf=5, min_samples_split=9, n_estimators=550, total=   5.3s\n",
      "[CV] bootstrap=True, criterion=entropy, max_depth=80, max_features=log2, min_samples_leaf=5, min_samples_split=9, n_estimators=750 \n",
      "[CV]  bootstrap=True, criterion=entropy, max_depth=80, max_features=log2, min_samples_leaf=5, min_samples_split=9, n_estimators=650, total=   6.3s\n",
      "[CV] bootstrap=True, criterion=entropy, max_depth=80, max_features=log2, min_samples_leaf=5, min_samples_split=9, n_estimators=750 \n",
      "[CV]  bootstrap=True, criterion=entropy, max_depth=80, max_features=log2, min_samples_leaf=5, min_samples_split=9, n_estimators=650, total=   6.4s\n",
      "[CV] bootstrap=True, criterion=entropy, max_depth=80, max_features=log2, min_samples_leaf=5, min_samples_split=9, n_estimators=750 \n",
      "[CV]  bootstrap=True, criterion=entropy, max_depth=80, max_features=log2, min_samples_leaf=5, min_samples_split=9, n_estimators=650, total=   6.3s\n",
      "[CV] bootstrap=True, criterion=entropy, max_depth=80, max_features=log2, min_samples_leaf=5, min_samples_split=9, n_estimators=800 \n",
      "[CV]  bootstrap=True, criterion=entropy, max_depth=80, max_features=log2, min_samples_leaf=5, min_samples_split=9, n_estimators=750, total=   7.1s\n",
      "[CV] bootstrap=True, criterion=entropy, max_depth=80, max_features=log2, min_samples_leaf=5, min_samples_split=9, n_estimators=800 \n",
      "[CV]  bootstrap=True, criterion=entropy, max_depth=80, max_features=log2, min_samples_leaf=5, min_samples_split=9, n_estimators=750, total=   6.9s\n",
      "[CV] bootstrap=True, criterion=entropy, max_depth=80, max_features=log2, min_samples_leaf=5, min_samples_split=9, n_estimators=800 \n",
      "[CV]  bootstrap=True, criterion=entropy, max_depth=80, max_features=log2, min_samples_leaf=5, min_samples_split=9, n_estimators=750, total=   6.7s\n",
      "[CV] bootstrap=True, criterion=entropy, max_depth=80, max_features=log2, min_samples_leaf=5, min_samples_split=10, n_estimators=550 \n",
      "[CV]  bootstrap=True, criterion=entropy, max_depth=80, max_features=log2, min_samples_leaf=5, min_samples_split=9, n_estimators=800, total=   7.4s\n",
      "[CV] bootstrap=True, criterion=entropy, max_depth=80, max_features=log2, min_samples_leaf=5, min_samples_split=10, n_estimators=550 \n",
      "[CV]  bootstrap=True, criterion=entropy, max_depth=80, max_features=log2, min_samples_leaf=5, min_samples_split=9, n_estimators=800, total=  11.0s\n",
      "[CV] bootstrap=True, criterion=entropy, max_depth=80, max_features=log2, min_samples_leaf=5, min_samples_split=10, n_estimators=550 \n",
      "[CV]  bootstrap=True, criterion=entropy, max_depth=80, max_features=log2, min_samples_leaf=5, min_samples_split=10, n_estimators=550, total=   8.8s\n",
      "[CV] bootstrap=True, criterion=entropy, max_depth=80, max_features=log2, min_samples_leaf=5, min_samples_split=10, n_estimators=650 \n",
      "[CV]  bootstrap=True, criterion=entropy, max_depth=80, max_features=log2, min_samples_leaf=5, min_samples_split=10, n_estimators=550, total=   8.0s\n",
      "[CV] bootstrap=True, criterion=entropy, max_depth=80, max_features=log2, min_samples_leaf=5, min_samples_split=10, n_estimators=650 \n",
      "[CV]  bootstrap=True, criterion=entropy, max_depth=80, max_features=log2, min_samples_leaf=5, min_samples_split=9, n_estimators=800, total=  11.4s\n",
      "[CV] bootstrap=True, criterion=entropy, max_depth=80, max_features=log2, min_samples_leaf=5, min_samples_split=10, n_estimators=650 \n",
      "[CV]  bootstrap=True, criterion=entropy, max_depth=80, max_features=log2, min_samples_leaf=5, min_samples_split=10, n_estimators=550, total=   6.0s\n",
      "[CV] bootstrap=True, criterion=entropy, max_depth=80, max_features=log2, min_samples_leaf=5, min_samples_split=10, n_estimators=750 \n",
      "[CV]  bootstrap=True, criterion=entropy, max_depth=80, max_features=log2, min_samples_leaf=5, min_samples_split=10, n_estimators=650, total=   7.0s\n",
      "[CV] bootstrap=True, criterion=entropy, max_depth=80, max_features=log2, min_samples_leaf=5, min_samples_split=10, n_estimators=750 \n",
      "[CV]  bootstrap=True, criterion=entropy, max_depth=80, max_features=log2, min_samples_leaf=5, min_samples_split=10, n_estimators=650, total=   7.4s\n",
      "[CV] bootstrap=True, criterion=entropy, max_depth=80, max_features=log2, min_samples_leaf=5, min_samples_split=10, n_estimators=750 \n",
      "[CV]  bootstrap=True, criterion=entropy, max_depth=80, max_features=log2, min_samples_leaf=5, min_samples_split=10, n_estimators=650, total=   7.2s\n",
      "[CV] bootstrap=True, criterion=entropy, max_depth=80, max_features=log2, min_samples_leaf=5, min_samples_split=10, n_estimators=800 \n",
      "[CV]  bootstrap=True, criterion=entropy, max_depth=80, max_features=log2, min_samples_leaf=5, min_samples_split=10, n_estimators=750, total=  11.3s\n",
      "[CV] bootstrap=True, criterion=entropy, max_depth=80, max_features=log2, min_samples_leaf=5, min_samples_split=10, n_estimators=800 \n",
      "[CV]  bootstrap=True, criterion=entropy, max_depth=80, max_features=log2, min_samples_leaf=5, min_samples_split=10, n_estimators=750, total=  11.3s\n",
      "[CV] bootstrap=True, criterion=entropy, max_depth=80, max_features=log2, min_samples_leaf=5, min_samples_split=10, n_estimators=800 \n",
      "[CV]  bootstrap=True, criterion=entropy, max_depth=80, max_features=log2, min_samples_leaf=5, min_samples_split=10, n_estimators=750, total=  10.8s\n",
      "[CV]  bootstrap=True, criterion=entropy, max_depth=80, max_features=log2, min_samples_leaf=5, min_samples_split=10, n_estimators=800, total=  11.5s\n",
      "[CV]  bootstrap=True, criterion=entropy, max_depth=80, max_features=log2, min_samples_leaf=5, min_samples_split=10, n_estimators=800, total=   6.8s\n",
      "[CV]  bootstrap=True, criterion=entropy, max_depth=80, max_features=log2, min_samples_leaf=5, min_samples_split=10, n_estimators=800, total=   6.2s\n"
     ]
    },
    {
     "name": "stderr",
     "output_type": "stream",
     "text": [
      "[Parallel(n_jobs=-1)]: Done 324 out of 324 | elapsed: 10.7min finished\n"
     ]
    },
    {
     "data": {
      "text/plain": [
       "GridSearchCV(cv=3, error_score='raise',\n",
       "       estimator=RandomForestClassifier(bootstrap=True, class_weight=None, criterion='gini',\n",
       "            max_depth=None, max_features='auto', max_leaf_nodes=None,\n",
       "            min_impurity_decrease=0.0, min_impurity_split=None,\n",
       "            min_samples_leaf=1, min_samples_split=2,\n",
       "            min_weight_fraction_leaf=0.0, n_estimators=10, n_jobs=1,\n",
       "            oob_score=False, random_state=None, verbose=0,\n",
       "            warm_start=False),\n",
       "       fit_params=None, iid=True, n_jobs=-1,\n",
       "       param_grid={'bootstrap': [True], 'criterion': ['entropy'], 'max_depth': [70, 75, 80], 'max_features': ['log2'], 'min_samples_leaf': [3, 4, 5], 'min_samples_split': [8, 9, 10], 'n_estimators': [550, 650, 750, 800]},\n",
       "       pre_dispatch='2*n_jobs', refit=True, return_train_score='warn',\n",
       "       scoring=None, verbose=2)"
      ]
     },
     "execution_count": 11,
     "metadata": {},
     "output_type": "execute_result"
    }
   ],
   "source": [
    "from sklearn.model_selection import GridSearchCV\n",
    "# Create the parameter grid based on the results of random search \n",
    "\n",
    "param_grid = {\n",
    "    'bootstrap': [True],\n",
    "    'criterion': ['entropy'],\n",
    "    'max_depth': [70,75, 80],\n",
    "    'max_features': ['log2'],\n",
    "    'min_samples_leaf': [3, 4, 5],\n",
    "    'min_samples_split': [8, 9, 10],\n",
    "    'n_estimators': [550,650,750, 800]\n",
    "}\n",
    "# Create a based model\n",
    "rf = RandomForestClassifier()\n",
    "# Instantiate the grid search model\n",
    "grid_search = GridSearchCV(estimator = rf, param_grid = param_grid, \n",
    "                          cv = 3, n_jobs = -1, verbose = 2)\n",
    "grid_search.fit(X_train, y_train)"
   ]
  },
  {
   "cell_type": "code",
   "execution_count": 12,
   "metadata": {},
   "outputs": [
    {
     "data": {
      "text/plain": [
       "{'bootstrap': True,\n",
       " 'criterion': 'entropy',\n",
       " 'max_depth': 75,\n",
       " 'max_features': 'log2',\n",
       " 'min_samples_leaf': 5,\n",
       " 'min_samples_split': 8,\n",
       " 'n_estimators': 550}"
      ]
     },
     "execution_count": 12,
     "metadata": {},
     "output_type": "execute_result"
    }
   ],
   "source": [
    "grid_search.best_params_ # best parameters"
   ]
  },
  {
   "cell_type": "code",
   "execution_count": 13,
   "metadata": {},
   "outputs": [],
   "source": [
    "best_grid = grid_search.best_estimator_"
   ]
  },
  {
   "cell_type": "code",
   "execution_count": 14,
   "metadata": {},
   "outputs": [
    {
     "name": "stdout",
     "output_type": "stream",
     "text": [
      "\n",
      "Model Report\n",
      "Accuracy : 0.8738\n",
      "AUC Score (Train): 0.944844\n",
      "CV Score : Mean - 0.8436328 | Std - 0.01236438 | Min - 0.8263815 | Max - 0.8575758\n"
     ]
    },
    {
     "data": {
      "image/png": "[encoded data removed]",
      "text/plain": [
       "<matplotlib.figure.Figure at 0x1a12da4f60>"
      ]
     },
     "metadata": {},
     "output_type": "display_data"
    }
   ],
   "source": [
    "modelfit(best_grid, dfNorm, predictors)"
   ]
  },
  {
   "cell_type": "markdown",
   "metadata": {},
   "source": [
    "\n",
    "## 2. Gradient Boosting Classifier"
   ]
  },
  {
   "cell_type": "markdown",
   "metadata": {},
   "source": [
    "**Model Explanation:** Unlike bagging algorithms, which only controls for high variance in a model, boosting controls both the aspects (bias & variance), and is considered to be more effective.\n",
    "\n",
    "**Boosting:** is a sequential technique which works on the principle of ensemble. It combines a set of weak learners and delivers improved prediction accuracy. At any instant t, the model outcomes are weighed based on the outcomes of previous instant t-1. The outcomes predicted correctly are given a lower weight and the ones miss-classified are weighted higher."
   ]
  },
  {
   "cell_type": "code",
   "execution_count": 15,
   "metadata": {},
   "outputs": [
    {
     "name": "stderr",
     "output_type": "stream",
     "text": [
      "/anaconda3/lib/python3.6/site-packages/sklearn/grid_search.py:42: DeprecationWarning: This module was deprecated in version 0.18 in favor of the model_selection module into which all the refactored classes and functions are moved. This module will be removed in 0.20.\n",
      "  DeprecationWarning)\n"
     ]
    }
   ],
   "source": [
    "from sklearn.ensemble import GradientBoostingClassifier\n",
    "from sklearn.grid_search import GridSearchCV # Perforing grid search\n",
    "from matplotlib.pylab import rcParams\n",
    "rcParams['figure.figsize'] = 12, 4"
   ]
  },
  {
   "cell_type": "markdown",
   "metadata": {},
   "source": [
    "### Baseline Model"
   ]
  },
  {
   "cell_type": "code",
   "execution_count": 16,
   "metadata": {},
   "outputs": [
    {
     "name": "stdout",
     "output_type": "stream",
     "text": [
      "\n",
      "Model Report\n",
      "Accuracy : 0.8229\n",
      "AUC Score (Train): 0.876183\n",
      "CV Score : Mean - 0.8453536 | Std - 0.00952831 | Min - 0.8317601 | Max - 0.8569118\n"
     ]
    },
    {
     "data": {
      "image/png": "[encoded data removed]",
      "text/plain": [
       "<matplotlib.figure.Figure at 0x1a11a9dda0>"
      ]
     },
     "metadata": {},
     "output_type": "display_data"
    }
   ],
   "source": [
    "#### Choose all predictors except target & IDcols\n",
    "gbm0 = GradientBoostingClassifier(random_state=10)\n",
    "modelfit(gbm0, dfNorm, predictors)"
   ]
  },
  {
   "cell_type": "markdown",
   "metadata": {},
   "source": [
    "#### Tuning Boosting-Specific Parameters"
   ]
  },
  {
   "cell_type": "markdown",
   "metadata": {},
   "source": [
    "This determines the impact of each tree on the final outcome. Lower values are generally preferred as they make the model robust to the specific characteristics of tree and thus allowing it to generalize well.\n",
    "Lower values would require higher number of trees to model all the relations and will be computationally expensive."
   ]
  },
  {
   "cell_type": "markdown",
   "metadata": {},
   "source": [
    "### look into this"
   ]
  },
  {
   "cell_type": "code",
   "execution_count": null,
   "metadata": {},
   "outputs": [],
   "source": [
    "#Choose all predictors except target & IDcols\n",
    "param_test1 = {'n_estimators': list(range(20,81,10))}\n",
    "\n",
    "#Choosing a moderate learning rate (anything less than 1 is ok) so that we avoid overfitting -- making less corrections for each tree added to the model, min_samples_split = 40 ~.5-1% of total values and since we have imbalanced class we will use .5%\n",
    "#min_samples_leaf to avoid overfitting and small value because of imbalanced class\n",
    "#max_depth usually 5-8 and since we have only 7k records, we'll use 5\n",
    "#max_features general rule of thumb to use sqrt\n",
    "#subsample .8 is a good start / general rule of thumb\n",
    "\n",
    "gsearch1 = GridSearchCV(estimator = GradientBoostingClassifier(learning_rate=0.05, min_samples_split=40,min_samples_leaf=4,max_depth=5,max_features='sqrt',subsample=0.8,random_state=10), \n",
    "param_grid = param_test1, scoring='roc_auc',n_jobs=4,iid=False, cv=5)\n",
    "gsearch1.fit(dfNorm[predictors],dfNorm['churn'])\n"
   ]
  },
  {
   "cell_type": "code",
   "execution_count": 18,
   "metadata": {
    "scrolled": false
   },
   "outputs": [
    {
     "data": {
      "text/plain": [
       "([mean: 0.84540, std: 0.01006, params: {'n_estimators': 20},\n",
       "  mean: 0.84742, std: 0.01096, params: {'n_estimators': 30},\n",
       "  mean: 0.84762, std: 0.01099, params: {'n_estimators': 40},\n",
       "  mean: 0.84761, std: 0.01083, params: {'n_estimators': 50},\n",
       "  mean: 0.84830, std: 0.01080, params: {'n_estimators': 60},\n",
       "  mean: 0.84822, std: 0.01102, params: {'n_estimators': 70},\n",
       "  mean: 0.84795, std: 0.01125, params: {'n_estimators': 80}],\n",
       " {'n_estimators': 60},\n",
       " 0.8482998855661006)"
      ]
     },
     "execution_count": 18,
     "metadata": {},
     "output_type": "execute_result"
    }
   ],
   "source": [
    "gsearch1.grid_scores_, gsearch1.best_params_, gsearch1.best_score_"
   ]
  },
  {
   "cell_type": "markdown",
   "metadata": {},
   "source": [
    "As you can see that here we got 60 as the optimal estimators for 0.05 learning rate. Note that 60 is a reasonable value and can be used as it is."
   ]
  },
  {
   "cell_type": "markdown",
   "metadata": {},
   "source": [
    "#### Tuning Tree-Specific Parameters"
   ]
  },
  {
   "cell_type": "markdown",
   "metadata": {},
   "source": [
    "The order of tuning variables should be decided carefully. You should take the variables with a higher impact on outcome first. For instance, max_depth and min_samples_split have a significant impact and we’re tuning those first."
   ]
  },
  {
   "cell_type": "code",
   "execution_count": 19,
   "metadata": {},
   "outputs": [
    {
     "data": {
      "text/plain": [
       "([mean: 0.84586, std: 0.01071, params: {'max_depth': 3, 'min_samples_split': 50},\n",
       "  mean: 0.84599, std: 0.01081, params: {'max_depth': 3, 'min_samples_split': 100},\n",
       "  mean: 0.84591, std: 0.01076, params: {'max_depth': 3, 'min_samples_split': 150},\n",
       "  mean: 0.84590, std: 0.01075, params: {'max_depth': 3, 'min_samples_split': 200},\n",
       "  mean: 0.84602, std: 0.01069, params: {'max_depth': 3, 'min_samples_split': 250},\n",
       "  mean: 0.84582, std: 0.01114, params: {'max_depth': 3, 'min_samples_split': 300},\n",
       "  mean: 0.84686, std: 0.01026, params: {'max_depth': 5, 'min_samples_split': 50},\n",
       "  mean: 0.84687, std: 0.01028, params: {'max_depth': 5, 'min_samples_split': 100},\n",
       "  mean: 0.84797, std: 0.01020, params: {'max_depth': 5, 'min_samples_split': 150},\n",
       "  mean: 0.84759, std: 0.01073, params: {'max_depth': 5, 'min_samples_split': 200},\n",
       "  mean: 0.84735, std: 0.01044, params: {'max_depth': 5, 'min_samples_split': 250},\n",
       "  mean: 0.84710, std: 0.01090, params: {'max_depth': 5, 'min_samples_split': 300},\n",
       "  mean: 0.84371, std: 0.01046, params: {'max_depth': 7, 'min_samples_split': 50},\n",
       "  mean: 0.84404, std: 0.01220, params: {'max_depth': 7, 'min_samples_split': 100},\n",
       "  mean: 0.84623, std: 0.01067, params: {'max_depth': 7, 'min_samples_split': 150},\n",
       "  mean: 0.84735, std: 0.01007, params: {'max_depth': 7, 'min_samples_split': 200},\n",
       "  mean: 0.84635, std: 0.01050, params: {'max_depth': 7, 'min_samples_split': 250},\n",
       "  mean: 0.84772, std: 0.01100, params: {'max_depth': 7, 'min_samples_split': 300}],\n",
       " {'max_depth': 5, 'min_samples_split': 150},\n",
       " 0.8479651881643939)"
      ]
     },
     "execution_count": 19,
     "metadata": {},
     "output_type": "execute_result"
    }
   ],
   "source": [
    "param_test2 = {'max_depth':list(range(3,9,2)), 'min_samples_split':list(range(50,350,50))}\n",
    "gsearch2 = GridSearchCV(estimator = GradientBoostingClassifier(learning_rate=0.05, n_estimators=60, max_features='sqrt', subsample=0.8, random_state=10), \n",
    "param_grid = param_test2, scoring='roc_auc',n_jobs=4,iid=False, cv=5)\n",
    "gsearch2.fit(dfNorm[predictors],dfNorm['churn'])\n",
    "gsearch2.grid_scores_, gsearch2.best_params_, gsearch2.best_score_"
   ]
  },
  {
   "cell_type": "markdown",
   "metadata": {},
   "source": [
    "We will add max depth of 5 to our parameters and search, by increments of 10, between 100 and 300 to get our min_samples_leaf value."
   ]
  },
  {
   "cell_type": "code",
   "execution_count": 20,
   "metadata": {
    "scrolled": true
   },
   "outputs": [
    {
     "data": {
      "text/plain": [
       "([mean: 0.84802, std: 0.01064, params: {'min_samples_leaf': 40, 'min_samples_split': 100},\n",
       "  mean: 0.84729, std: 0.01083, params: {'min_samples_leaf': 40, 'min_samples_split': 110},\n",
       "  mean: 0.84704, std: 0.01089, params: {'min_samples_leaf': 40, 'min_samples_split': 120},\n",
       "  mean: 0.84719, std: 0.01026, params: {'min_samples_leaf': 40, 'min_samples_split': 130},\n",
       "  mean: 0.84720, std: 0.01111, params: {'min_samples_leaf': 40, 'min_samples_split': 140},\n",
       "  mean: 0.84741, std: 0.01082, params: {'min_samples_leaf': 40, 'min_samples_split': 150},\n",
       "  mean: 0.84662, std: 0.01053, params: {'min_samples_leaf': 40, 'min_samples_split': 160},\n",
       "  mean: 0.84699, std: 0.01036, params: {'min_samples_leaf': 40, 'min_samples_split': 170},\n",
       "  mean: 0.84682, std: 0.00978, params: {'min_samples_leaf': 40, 'min_samples_split': 180},\n",
       "  mean: 0.84674, std: 0.01025, params: {'min_samples_leaf': 40, 'min_samples_split': 190},\n",
       "  mean: 0.84744, std: 0.01051, params: {'min_samples_leaf': 40, 'min_samples_split': 200},\n",
       "  mean: 0.84732, std: 0.01069, params: {'min_samples_leaf': 40, 'min_samples_split': 210},\n",
       "  mean: 0.84812, std: 0.01125, params: {'min_samples_leaf': 40, 'min_samples_split': 220},\n",
       "  mean: 0.84774, std: 0.01110, params: {'min_samples_leaf': 40, 'min_samples_split': 230},\n",
       "  mean: 0.84744, std: 0.01117, params: {'min_samples_leaf': 40, 'min_samples_split': 240},\n",
       "  mean: 0.84722, std: 0.01061, params: {'min_samples_leaf': 40, 'min_samples_split': 250},\n",
       "  mean: 0.84741, std: 0.01055, params: {'min_samples_leaf': 40, 'min_samples_split': 260},\n",
       "  mean: 0.84781, std: 0.01114, params: {'min_samples_leaf': 40, 'min_samples_split': 270},\n",
       "  mean: 0.84725, std: 0.01083, params: {'min_samples_leaf': 40, 'min_samples_split': 280},\n",
       "  mean: 0.84718, std: 0.01034, params: {'min_samples_leaf': 40, 'min_samples_split': 290},\n",
       "  mean: 0.84787, std: 0.01087, params: {'min_samples_leaf': 45, 'min_samples_split': 100},\n",
       "  mean: 0.84732, std: 0.01060, params: {'min_samples_leaf': 45, 'min_samples_split': 110},\n",
       "  mean: 0.84658, std: 0.01077, params: {'min_samples_leaf': 45, 'min_samples_split': 120},\n",
       "  mean: 0.84730, std: 0.01073, params: {'min_samples_leaf': 45, 'min_samples_split': 130},\n",
       "  mean: 0.84715, std: 0.01046, params: {'min_samples_leaf': 45, 'min_samples_split': 140},\n",
       "  mean: 0.84787, std: 0.01043, params: {'min_samples_leaf': 45, 'min_samples_split': 150},\n",
       "  mean: 0.84697, std: 0.01017, params: {'min_samples_leaf': 45, 'min_samples_split': 160},\n",
       "  mean: 0.84674, std: 0.01054, params: {'min_samples_leaf': 45, 'min_samples_split': 170},\n",
       "  mean: 0.84694, std: 0.01034, params: {'min_samples_leaf': 45, 'min_samples_split': 180},\n",
       "  mean: 0.84703, std: 0.01066, params: {'min_samples_leaf': 45, 'min_samples_split': 190},\n",
       "  mean: 0.84724, std: 0.01082, params: {'min_samples_leaf': 45, 'min_samples_split': 200},\n",
       "  mean: 0.84746, std: 0.01125, params: {'min_samples_leaf': 45, 'min_samples_split': 210},\n",
       "  mean: 0.84735, std: 0.01120, params: {'min_samples_leaf': 45, 'min_samples_split': 220},\n",
       "  mean: 0.84802, std: 0.01103, params: {'min_samples_leaf': 45, 'min_samples_split': 230},\n",
       "  mean: 0.84758, std: 0.01116, params: {'min_samples_leaf': 45, 'min_samples_split': 240},\n",
       "  mean: 0.84769, std: 0.01078, params: {'min_samples_leaf': 45, 'min_samples_split': 250},\n",
       "  mean: 0.84765, std: 0.01078, params: {'min_samples_leaf': 45, 'min_samples_split': 260},\n",
       "  mean: 0.84782, std: 0.01082, params: {'min_samples_leaf': 45, 'min_samples_split': 270},\n",
       "  mean: 0.84735, std: 0.01091, params: {'min_samples_leaf': 45, 'min_samples_split': 280},\n",
       "  mean: 0.84745, std: 0.01091, params: {'min_samples_leaf': 45, 'min_samples_split': 290},\n",
       "  mean: 0.84775, std: 0.01056, params: {'min_samples_leaf': 50, 'min_samples_split': 100},\n",
       "  mean: 0.84775, std: 0.01065, params: {'min_samples_leaf': 50, 'min_samples_split': 110},\n",
       "  mean: 0.84711, std: 0.01070, params: {'min_samples_leaf': 50, 'min_samples_split': 120},\n",
       "  mean: 0.84749, std: 0.01076, params: {'min_samples_leaf': 50, 'min_samples_split': 130},\n",
       "  mean: 0.84783, std: 0.01064, params: {'min_samples_leaf': 50, 'min_samples_split': 140},\n",
       "  mean: 0.84701, std: 0.01049, params: {'min_samples_leaf': 50, 'min_samples_split': 150},\n",
       "  mean: 0.84790, std: 0.01033, params: {'min_samples_leaf': 50, 'min_samples_split': 160},\n",
       "  mean: 0.84701, std: 0.01073, params: {'min_samples_leaf': 50, 'min_samples_split': 170},\n",
       "  mean: 0.84762, std: 0.01060, params: {'min_samples_leaf': 50, 'min_samples_split': 180},\n",
       "  mean: 0.84753, std: 0.01035, params: {'min_samples_leaf': 50, 'min_samples_split': 190},\n",
       "  mean: 0.84773, std: 0.01102, params: {'min_samples_leaf': 50, 'min_samples_split': 200},\n",
       "  mean: 0.84736, std: 0.01073, params: {'min_samples_leaf': 50, 'min_samples_split': 210},\n",
       "  mean: 0.84792, std: 0.01120, params: {'min_samples_leaf': 50, 'min_samples_split': 220},\n",
       "  mean: 0.84832, std: 0.01112, params: {'min_samples_leaf': 50, 'min_samples_split': 230},\n",
       "  mean: 0.84770, std: 0.01056, params: {'min_samples_leaf': 50, 'min_samples_split': 240},\n",
       "  mean: 0.84754, std: 0.01077, params: {'min_samples_leaf': 50, 'min_samples_split': 250},\n",
       "  mean: 0.84767, std: 0.01068, params: {'min_samples_leaf': 50, 'min_samples_split': 260},\n",
       "  mean: 0.84751, std: 0.01094, params: {'min_samples_leaf': 50, 'min_samples_split': 270},\n",
       "  mean: 0.84718, std: 0.01122, params: {'min_samples_leaf': 50, 'min_samples_split': 280},\n",
       "  mean: 0.84718, std: 0.01098, params: {'min_samples_leaf': 50, 'min_samples_split': 290}],\n",
       " {'min_samples_leaf': 50, 'min_samples_split': 230},\n",
       " 0.8483242484717737)"
      ]
     },
     "execution_count": 20,
     "metadata": {},
     "output_type": "execute_result"
    }
   ],
   "source": [
    "param_test3 = {'min_samples_split':list(range(100,300,10)), 'min_samples_leaf':list(range(40,55,5))}\n",
    "gsearch3 = GridSearchCV(estimator = GradientBoostingClassifier(learning_rate=0.05, n_estimators=60,max_depth=5,max_features='sqrt', subsample=0.8, random_state=10), \n",
    "param_grid = param_test3, scoring='roc_auc',n_jobs=4,iid=False, cv=5)\n",
    "gsearch3.fit(dfNorm[predictors],dfNorm['churn'])\n",
    "gsearch3.grid_scores_, gsearch3.best_params_, gsearch3.best_score_"
   ]
  },
  {
   "cell_type": "markdown",
   "metadata": {},
   "source": [
    "Our min_samples_leaf is 50 and min_samples_split is now 230. Let's plug this in and take a look at our feature importance plot."
   ]
  },
  {
   "cell_type": "code",
   "execution_count": 21,
   "metadata": {},
   "outputs": [
    {
     "name": "stdout",
     "output_type": "stream",
     "text": [
      "\n",
      "Model Report\n",
      "Accuracy : 0.8149\n",
      "AUC Score (Train): 0.867250\n",
      "CV Score : Mean - 0.8483242 | Std - 0.01111833 | Min - 0.8332778 | Max - 0.8623886\n"
     ]
    },
    {
     "data": {
      "image/png": "[encoded data removed]",
      "text/plain": [
       "<matplotlib.figure.Figure at 0x1a12d15e10>"
      ]
     },
     "metadata": {},
     "output_type": "display_data"
    }
   ],
   "source": [
    "gbm1 = GradientBoostingClassifier(min_samples_split=230, min_samples_leaf=50, learning_rate=0.05, n_estimators=60,max_depth=5,max_features='sqrt', subsample=0.8, random_state=10)\n",
    "modelfit(gbm1, dfNorm, predictors)"
   ]
  },
  {
   "cell_type": "markdown",
   "metadata": {},
   "source": [
    "If you compare the feature importance of this model with the baseline model, you’ll find that now we are able to derive value from many more variables. Also, earlier it placed too much importance on some variables but now it has been fairly distributed."
   ]
  },
  {
   "cell_type": "markdown",
   "metadata": {},
   "source": [
    "Now let's tune the last tree parameter which is our max features."
   ]
  },
  {
   "cell_type": "code",
   "execution_count": 22,
   "metadata": {
    "scrolled": true
   },
   "outputs": [
    {
     "data": {
      "text/plain": [
       "([mean: 0.83765, std: 0.01081, params: {'max_features': 1},\n",
       "  mean: 0.84454, std: 0.01113, params: {'max_features': 2},\n",
       "  mean: 0.84727, std: 0.01129, params: {'max_features': 3},\n",
       "  mean: 0.84832, std: 0.01112, params: {'max_features': 4},\n",
       "  mean: 0.84820, std: 0.01108, params: {'max_features': 5},\n",
       "  mean: 0.84801, std: 0.01092, params: {'max_features': 6},\n",
       "  mean: 0.84802, std: 0.01120, params: {'max_features': 7}],\n",
       " {'max_features': 4},\n",
       " 0.8483242484717737)"
      ]
     },
     "execution_count": 22,
     "metadata": {},
     "output_type": "execute_result"
    }
   ],
   "source": [
    "param_test4 = {'max_features':list(range(1,8,1))}\n",
    "gsearch4 = GridSearchCV(estimator = GradientBoostingClassifier(learning_rate=0.05, n_estimators=60,max_depth=5, min_samples_split=230, min_samples_leaf=50, subsample=0.8, random_state=10),\n",
    "param_grid = param_test4, scoring='roc_auc',n_jobs=4,iid=False, cv=5)\n",
    "gsearch4.fit(dfNorm[predictors],dfNorm['churn'])\n",
    "gsearch4.grid_scores_, gsearch4.best_params_, gsearch4.best_score_"
   ]
  },
  {
   "cell_type": "markdown",
   "metadata": {},
   "source": [
    "#### Tuning Subsample"
   ]
  },
  {
   "cell_type": "code",
   "execution_count": 23,
   "metadata": {
    "scrolled": true
   },
   "outputs": [
    {
     "data": {
      "text/plain": [
       "([mean: 0.84789, std: 0.01083, params: {'subsample': 0.6},\n",
       "  mean: 0.84792, std: 0.01106, params: {'subsample': 0.7},\n",
       "  mean: 0.84737, std: 0.01047, params: {'subsample': 0.75},\n",
       "  mean: 0.84832, std: 0.01112, params: {'subsample': 0.8},\n",
       "  mean: 0.84752, std: 0.01051, params: {'subsample': 0.85},\n",
       "  mean: 0.84760, std: 0.01044, params: {'subsample': 0.9}],\n",
       " {'subsample': 0.8},\n",
       " 0.8483242484717737)"
      ]
     },
     "execution_count": 23,
     "metadata": {},
     "output_type": "execute_result"
    }
   ],
   "source": [
    "param_test5 = {'subsample':[0.6,0.7,0.75,0.8,0.85,0.9]}\n",
    "gsearch5 = GridSearchCV(estimator = GradientBoostingClassifier(max_features = 4, learning_rate=0.05, n_estimators=60,max_depth=5, min_samples_split=230, min_samples_leaf=50, subsample=0.8, random_state=10),\n",
    "param_grid = param_test5, scoring='roc_auc',n_jobs=4,iid=False, cv=5)\n",
    "gsearch5.fit(dfNorm[predictors],dfNorm['churn'])\n",
    "gsearch5.grid_scores_, gsearch5.best_params_, gsearch5.best_score_"
   ]
  },
  {
   "cell_type": "markdown",
   "metadata": {},
   "source": [
    "Here, we found 0.8 as the optimum value. Finally, we have all the parameters needed. Now, we need to lower the learning rate and increase the number of estimators proportionally. Note that these trees might not be the most optimum values but a good benchmark."
   ]
  },
  {
   "cell_type": "markdown",
   "metadata": {},
   "source": [
    "#### Lowering Learning Rates"
   ]
  },
  {
   "cell_type": "markdown",
   "metadata": {},
   "source": [
    "GBM works by starting with an initial estimate which is updated using the output of each tree. The learning parameter controls the magnitude of this change in the estimates."
   ]
  },
  {
   "cell_type": "markdown",
   "metadata": {},
   "source": [
    "As trees increase, it will become increasingly computationally expensive to perform CV and find the optimum values. Lets decrease the learning rate to half, i.e. 0.025 with twice (120) the number of trees."
   ]
  },
  {
   "cell_type": "code",
   "execution_count": 24,
   "metadata": {},
   "outputs": [
    {
     "name": "stdout",
     "output_type": "stream",
     "text": [
      "\n",
      "Model Report\n",
      "Accuracy : 0.8147\n",
      "AUC Score (Train): 0.868251\n",
      "CV Score : Mean - 0.848186 | Std - 0.01178582 | Min - 0.8320636 | Max - 0.8634336\n"
     ]
    },
    {
     "data": {
      "image/png": "[encoded data removed]",
      "text/plain": [
       "<matplotlib.figure.Figure at 0x1a11bb1198>"
      ]
     },
     "metadata": {},
     "output_type": "display_data"
    }
   ],
   "source": [
    "gbm_tuned_1 = GradientBoostingClassifier(max_features = 4, learning_rate=0.025, n_estimators=120,max_depth=5, min_samples_split=230, min_samples_leaf=50, subsample=0.8, random_state=10)\n",
    "modelfit(gbm_tuned_1, dfNorm, predictors)"
   ]
  },
  {
   "cell_type": "markdown",
   "metadata": {},
   "source": [
    "Now lets reduce to one-tenth of the original value, i.e. 0.005 for 600 trees."
   ]
  },
  {
   "cell_type": "code",
   "execution_count": 25,
   "metadata": {},
   "outputs": [
    {
     "name": "stdout",
     "output_type": "stream",
     "text": [
      "\n",
      "Model Report\n",
      "Accuracy : 0.8168\n",
      "AUC Score (Train): 0.869007\n",
      "CV Score : Mean - 0.8484829 | Std - 0.01089786 | Min - 0.8330052 | Max - 0.862572\n"
     ]
    },
    {
     "data": {
      "image/png": "[encoded data removed]",
      "text/plain": [
       "<matplotlib.figure.Figure at 0x1a11f6dd68>"
      ]
     },
     "metadata": {},
     "output_type": "display_data"
    }
   ],
   "source": [
    "gbm_tuned_1 = GradientBoostingClassifier(max_features = 4, learning_rate=0.005, n_estimators=600,max_depth=5, min_samples_split=230, min_samples_leaf=50, subsample=0.8, random_state=10)\n",
    "modelfit(gbm_tuned_1, dfNorm, predictors)"
   ]
  },
  {
   "cell_type": "markdown",
   "metadata": {},
   "source": [
    "Lets decrease to one-twentieth of the original value, i.e. 0.005 for 1200 trees."
   ]
  },
  {
   "cell_type": "code",
   "execution_count": 26,
   "metadata": {
    "scrolled": false
   },
   "outputs": [
    {
     "name": "stdout",
     "output_type": "stream",
     "text": [
      "\n",
      "Model Report\n",
      "Accuracy : 0.8157\n",
      "AUC Score (Train): 0.868876\n",
      "CV Score : Mean - 0.8483917 | Std - 0.01090811 | Min - 0.8332623 | Max - 0.8621793\n"
     ]
    },
    {
     "data": {
      "image/png": "[encoded data removed]",
      "text/plain": [
       "<matplotlib.figure.Figure at 0x1a11d93f28>"
      ]
     },
     "metadata": {},
     "output_type": "display_data"
    }
   ],
   "source": [
    "gbm_tuned_1 = GradientBoostingClassifier(max_features = 4, learning_rate=0.0025, n_estimators=1200,max_depth=5, min_samples_split=230, min_samples_leaf=50, subsample=0.8, random_state=10)\n",
    "modelfit(gbm_tuned_1, dfNorm, predictors)"
   ]
  },
  {
   "cell_type": "markdown",
   "metadata": {},
   "source": [
    "Here we see that the score reduced very slightly. So lets run for 1500 trees."
   ]
  },
  {
   "cell_type": "code",
   "execution_count": 27,
   "metadata": {
    "scrolled": false
   },
   "outputs": [
    {
     "name": "stdout",
     "output_type": "stream",
     "text": [
      "\n",
      "Model Report\n",
      "Accuracy : 0.8191\n",
      "AUC Score (Train): 0.871601\n",
      "CV Score : Mean - 0.8485946 | Std - 0.01112533 | Min - 0.8326991 | Max - 0.8625384\n"
     ]
    },
    {
     "data": {
      "image/png": "[encoded data removed]",
      "text/plain": [
       "<matplotlib.figure.Figure at 0x1a12523e48>"
      ]
     },
     "metadata": {},
     "output_type": "display_data"
    }
   ],
   "source": [
    "gbm_tuned_1 = GradientBoostingClassifier(max_features = 4, learning_rate=0.0025, n_estimators=1500,max_depth=5, min_samples_split=230, min_samples_leaf=50, subsample=0.8, random_state=10)\n",
    "modelfit(gbm_tuned_1, dfNorm, predictors)"
   ]
  },
  {
   "cell_type": "markdown",
   "metadata": {},
   "source": [
    "## 3. Support Vector Machine"
   ]
  },
  {
   "cell_type": "markdown",
   "metadata": {},
   "source": [
    "**Model:** In this algorithm, we plot each data item as a point in n-dimensional space (where n is number of features you have) with the value of each feature being the value of a particular coordinate. Then, we perform classification by finding the hyper-plane that differentiate the two classes very well. Support Vector Machine is a frontier which best segregates the two classes (hyper-plane/ line)."
   ]
  },
  {
   "cell_type": "markdown",
   "metadata": {},
   "source": [
    "**Kernels**: These are functions which takes low dimensional input space and transform it to a higher dimensional space i.e. it converts not separable problem to separable problem, these functions are called kernels. It is mostly useful in non-linear separation problem. Simply put, it does some extremely complex data transformations, then find out the process to separate the data based on the labels or outputs you’ve defined."
   ]
  },
  {
   "cell_type": "markdown",
   "metadata": {},
   "source": [
    "#### Baseline Models"
   ]
  },
  {
   "cell_type": "markdown",
   "metadata": {},
   "source": [
    "First, I will focus on the most impactful parameters to see which kernel is most effective. Then I will use that kernel and fine tune the other parameters using grid search and cross validation."
   ]
  },
  {
   "cell_type": "code",
   "execution_count": 7,
   "metadata": {},
   "outputs": [
    {
     "name": "stdout",
     "output_type": "stream",
     "text": [
      "\n",
      "Model Report\n",
      "Accuracy : 0.8012\n",
      "AUC Score (Train): 0.839814\n",
      "CV Score : Mean - 0.8377413 | Std - 0.01079442 | Min - 0.8263518 | Max - 0.8520809\n"
     ]
    }
   ],
   "source": [
    "from sklearn import svm\n",
    "model = svm.SVC(kernel='linear', C=1, gamma=1,probability=True) \n",
    "modelfit(model, dfNorm, predictors,printFeatureImportance=False)"
   ]
  },
  {
   "cell_type": "code",
   "execution_count": 11,
   "metadata": {
    "scrolled": true
   },
   "outputs": [
    {
     "name": "stdout",
     "output_type": "stream",
     "text": [
      "\n",
      "Model Report\n",
      "Accuracy : 0.9506\n",
      "AUC Score (Train): 0.974431\n",
      "CV Score : Mean - 0.7082278 | Std - 0.01134806 | Min - 0.6922047 | Max - 0.7216539\n"
     ]
    }
   ],
   "source": [
    "model = svm.SVC(kernel='rbf', C=1, gamma=1,probability=True) \n",
    "modelfit(model, dfNorm, predictors,printFeatureImportance=False)"
   ]
  },
  {
   "cell_type": "markdown",
   "metadata": {},
   "source": [
    "#### Tune Parameters"
   ]
  },
  {
   "cell_type": "markdown",
   "metadata": {},
   "source": [
    "##### DISCLAIMER: I did not add ALL of the parameters because my computer takes VERY long to perform the gridsearch w/ just the following parameters."
   ]
  },
  {
   "cell_type": "code",
   "execution_count": 8,
   "metadata": {},
   "outputs": [],
   "source": [
    "# Penalty parameter C of the error term.\n",
    "C = [1,100,1000]\n",
    "# Degree of the polynomial kernel function\n",
    "degree = [2,3,4]\n",
    "# Higher the value of gamma, will try to exact fit the as per training data set i.e. generalization error and cause over-fitting problem.\n",
    "gamma = [0,10,100]\n",
    "# Specify the size of the kernel cache\n",
    "cache_size = [200,500, 1000]\n",
    "# for imbalanced classes\n",
    "class_weight = [None,'balanced']\n",
    "\n",
    "# Create the random grid\n",
    "random_grid = {'C': C,\n",
    "               'gamma': gamma,\n",
    "               'cache_size': cache_size,\n",
    "               'class_weight': class_weight,\n",
    "              }"
   ]
  },
  {
   "cell_type": "markdown",
   "metadata": {},
   "source": [
    "#### Linear Kernel"
   ]
  },
  {
   "cell_type": "code",
   "execution_count": 9,
   "metadata": {},
   "outputs": [],
   "source": [
    "from sklearn.model_selection import GridSearchCV"
   ]
  },
  {
   "cell_type": "code",
   "execution_count": null,
   "metadata": {
    "scrolled": true
   },
   "outputs": [
    {
     "name": "stdout",
     "output_type": "stream",
     "text": [
      "Fitting 3 folds for each of 54 candidates, totalling 162 fits\n",
      "[CV] C=1, cache_size=200, class_weight=None, gamma=0 .................\n",
      "[CV] C=1, cache_size=200, class_weight=None, gamma=0 .................\n",
      "[CV] C=1, cache_size=200, class_weight=None, gamma=0 .................\n",
      "[CV] C=1, cache_size=200, class_weight=None, gamma=10 ................\n",
      "[CV] .. C=1, cache_size=200, class_weight=None, gamma=0, total=   7.2s\n",
      "[CV] C=1, cache_size=200, class_weight=None, gamma=10 ................\n",
      "[CV] .. C=1, cache_size=200, class_weight=None, gamma=0, total=   7.2s\n",
      "[CV] C=1, cache_size=200, class_weight=None, gamma=10 ................\n",
      "[CV] .. C=1, cache_size=200, class_weight=None, gamma=0, total=   7.3s\n",
      "[CV] . C=1, cache_size=200, class_weight=None, gamma=10, total=   7.2s\n",
      "[CV] C=1, cache_size=200, class_weight=None, gamma=100 ...............\n",
      "[CV] C=1, cache_size=200, class_weight=None, gamma=100 ...............\n",
      "[CV] . C=1, cache_size=200, class_weight=None, gamma=10, total=   6.1s\n",
      "[CV] C=1, cache_size=200, class_weight=None, gamma=100 ...............\n",
      "[CV]  C=1, cache_size=200, class_weight=None, gamma=100, total=   6.0s\n",
      "[CV] C=1, cache_size=200, class_weight=balanced, gamma=0 .............\n",
      "[CV] . C=1, cache_size=200, class_weight=None, gamma=10, total=   6.2s\n",
      "[CV] C=1, cache_size=200, class_weight=balanced, gamma=0 .............\n",
      "[CV]  C=1, cache_size=200, class_weight=None, gamma=100, total=   6.1s\n",
      "[CV] C=1, cache_size=200, class_weight=balanced, gamma=0 .............\n",
      "[CV]  C=1, cache_size=200, class_weight=None, gamma=100, total=   8.2s\n",
      "[CV] C=1, cache_size=200, class_weight=balanced, gamma=10 ............\n",
      "[CV]  C=1, cache_size=200, class_weight=balanced, gamma=0, total=   9.0s\n",
      "[CV] C=1, cache_size=200, class_weight=balanced, gamma=10 ............\n",
      "[CV]  C=1, cache_size=200, class_weight=balanced, gamma=0, total=   9.1s\n",
      "[CV] C=1, cache_size=200, class_weight=balanced, gamma=10 ............\n",
      "[CV]  C=1, cache_size=200, class_weight=balanced, gamma=0, total=   9.6s\n",
      "[CV] C=1, cache_size=200, class_weight=balanced, gamma=100 ...........\n",
      "[CV]  C=1, cache_size=200, class_weight=balanced, gamma=10, total=   8.9s\n",
      "[CV] C=1, cache_size=200, class_weight=balanced, gamma=100 ...........\n",
      "[CV]  C=1, cache_size=200, class_weight=balanced, gamma=10, total=   8.2s\n",
      "[CV] C=1, cache_size=200, class_weight=balanced, gamma=100 ...........\n",
      "[CV]  C=1, cache_size=200, class_weight=balanced, gamma=10, total=   8.3s\n",
      "[CV] C=1, cache_size=500, class_weight=None, gamma=0 .................\n",
      "[CV]  C=1, cache_size=200, class_weight=balanced, gamma=100, total=   9.0s\n",
      "[CV] C=1, cache_size=500, class_weight=None, gamma=0 .................\n",
      "[CV] .. C=1, cache_size=500, class_weight=None, gamma=0, total=   6.8s\n",
      "[CV] C=1, cache_size=500, class_weight=None, gamma=0 .................\n",
      "[CV]  C=1, cache_size=200, class_weight=balanced, gamma=100, total=   8.2s\n",
      "[CV] C=1, cache_size=500, class_weight=None, gamma=10 ................\n",
      "[CV]  C=1, cache_size=200, class_weight=balanced, gamma=100, total=   7.9s\n",
      "[CV] C=1, cache_size=500, class_weight=None, gamma=10 ................\n",
      "[CV] .. C=1, cache_size=500, class_weight=None, gamma=0, total=   6.7s\n",
      "[CV] C=1, cache_size=500, class_weight=None, gamma=10 ................\n",
      "[CV] .. C=1, cache_size=500, class_weight=None, gamma=0, total=   5.9s\n",
      "[CV] C=1, cache_size=500, class_weight=None, gamma=100 ...............\n",
      "[CV] . C=1, cache_size=500, class_weight=None, gamma=10, total=   6.5s\n",
      "[CV] C=1, cache_size=500, class_weight=None, gamma=100 ...............\n",
      "[CV] . C=1, cache_size=500, class_weight=None, gamma=10, total=   6.4s\n",
      "[CV] C=1, cache_size=500, class_weight=None, gamma=100 ...............\n",
      "[CV] . C=1, cache_size=500, class_weight=None, gamma=10, total=   6.4s\n",
      "[CV] C=1, cache_size=500, class_weight=balanced, gamma=0 .............\n",
      "[CV]  C=1, cache_size=500, class_weight=None, gamma=100, total=   6.9s\n",
      "[CV] C=1, cache_size=500, class_weight=balanced, gamma=0 .............\n",
      "[CV]  C=1, cache_size=500, class_weight=None, gamma=100, total=   6.6s\n",
      "[CV] C=1, cache_size=500, class_weight=balanced, gamma=0 .............\n",
      "[CV]  C=1, cache_size=500, class_weight=None, gamma=100, total=   6.7s\n",
      "[CV] C=1, cache_size=500, class_weight=balanced, gamma=10 ............\n",
      "[CV]  C=1, cache_size=500, class_weight=balanced, gamma=0, total=   8.4s\n",
      "[CV] C=1, cache_size=500, class_weight=balanced, gamma=10 ............\n",
      "[CV]  C=1, cache_size=500, class_weight=balanced, gamma=0, total=   7.3s\n",
      "[CV] C=1, cache_size=500, class_weight=balanced, gamma=10 ............\n",
      "[CV]  C=1, cache_size=500, class_weight=balanced, gamma=0, total=   7.1s\n",
      "[CV] C=1, cache_size=500, class_weight=balanced, gamma=100 ...........\n",
      "[CV]  C=1, cache_size=500, class_weight=balanced, gamma=10, total=   7.8s\n",
      "[CV] C=1, cache_size=500, class_weight=balanced, gamma=100 ...........\n",
      "[CV]  C=1, cache_size=500, class_weight=balanced, gamma=10, total=   7.7s\n",
      "[CV] C=1, cache_size=500, class_weight=balanced, gamma=100 ...........\n",
      "[CV]  C=1, cache_size=500, class_weight=balanced, gamma=10, total=   8.2s\n",
      "[CV] C=1, cache_size=1000, class_weight=None, gamma=0 ................\n"
     ]
    },
    {
     "name": "stderr",
     "output_type": "stream",
     "text": [
      "[Parallel(n_jobs=-1)]: Done  33 tasks      | elapsed:  1.1min\n"
     ]
    },
    {
     "name": "stdout",
     "output_type": "stream",
     "text": [
      "[CV]  C=1, cache_size=500, class_weight=balanced, gamma=100, total=   9.0s\n",
      "[CV] C=1, cache_size=1000, class_weight=None, gamma=0 ................\n",
      "[CV]  C=1, cache_size=500, class_weight=balanced, gamma=100, total=   8.4s\n",
      "[CV] C=1, cache_size=1000, class_weight=None, gamma=0 ................\n",
      "[CV]  C=1, cache_size=500, class_weight=balanced, gamma=100, total=   9.0s\n",
      "[CV] C=1, cache_size=1000, class_weight=None, gamma=10 ...............\n",
      "[CV] . C=1, cache_size=1000, class_weight=None, gamma=0, total=   7.6s\n",
      "[CV] C=1, cache_size=1000, class_weight=None, gamma=10 ...............\n",
      "[CV] . C=1, cache_size=1000, class_weight=None, gamma=0, total=   7.2s\n",
      "[CV] C=1, cache_size=1000, class_weight=None, gamma=10 ...............\n",
      "[CV] . C=1, cache_size=1000, class_weight=None, gamma=0, total=   7.4s\n",
      "[CV] C=1, cache_size=1000, class_weight=None, gamma=100 ..............\n",
      "[CV]  C=1, cache_size=1000, class_weight=None, gamma=10, total=   8.1s\n",
      "[CV] C=1, cache_size=1000, class_weight=None, gamma=100 ..............\n",
      "[CV]  C=1, cache_size=1000, class_weight=None, gamma=10, total=   7.5s\n",
      "[CV] C=1, cache_size=1000, class_weight=None, gamma=100 ..............\n",
      "[CV]  C=1, cache_size=1000, class_weight=None, gamma=10, total=   7.3s\n",
      "[CV] C=1, cache_size=1000, class_weight=balanced, gamma=0 ............\n",
      "[CV]  C=1, cache_size=1000, class_weight=None, gamma=100, total=   6.9s\n",
      "[CV] C=1, cache_size=1000, class_weight=balanced, gamma=0 ............\n",
      "[CV]  C=1, cache_size=1000, class_weight=None, gamma=100, total=   5.6s\n",
      "[CV] C=1, cache_size=1000, class_weight=balanced, gamma=0 ............\n",
      "[CV]  C=1, cache_size=1000, class_weight=None, gamma=100, total=   5.4s\n",
      "[CV] C=1, cache_size=1000, class_weight=balanced, gamma=10 ...........\n",
      "[CV]  C=1, cache_size=1000, class_weight=balanced, gamma=0, total=   6.4s\n",
      "[CV] C=1, cache_size=1000, class_weight=balanced, gamma=10 ...........\n",
      "[CV]  C=1, cache_size=1000, class_weight=balanced, gamma=0, total=   6.8s\n",
      "[CV] C=1, cache_size=1000, class_weight=balanced, gamma=10 ...........\n",
      "[CV]  C=1, cache_size=1000, class_weight=balanced, gamma=0, total=   6.6s\n",
      "[CV] C=1, cache_size=1000, class_weight=balanced, gamma=100 ..........\n",
      "[CV]  C=1, cache_size=1000, class_weight=balanced, gamma=10, total=   8.1s\n",
      "[CV] C=1, cache_size=1000, class_weight=balanced, gamma=100 ..........\n",
      "[CV]  C=1, cache_size=1000, class_weight=balanced, gamma=10, total=   7.8s\n",
      "[CV]  C=1, cache_size=1000, class_weight=balanced, gamma=10, total=   7.9s\n",
      "[CV] C=1, cache_size=1000, class_weight=balanced, gamma=100 ..........\n",
      "[CV] C=100, cache_size=200, class_weight=None, gamma=0 ...............\n",
      "[CV]  C=1, cache_size=1000, class_weight=balanced, gamma=100, total=   8.4s\n",
      "[CV] C=100, cache_size=200, class_weight=None, gamma=0 ...............\n",
      "[CV]  C=1, cache_size=1000, class_weight=balanced, gamma=100, total=   7.8s\n",
      "[CV] C=100, cache_size=200, class_weight=None, gamma=0 ...............\n",
      "[CV]  C=1, cache_size=1000, class_weight=balanced, gamma=100, total=   7.5s\n",
      "[CV] C=100, cache_size=200, class_weight=None, gamma=10 ..............\n",
      "[CV]  C=100, cache_size=200, class_weight=None, gamma=0, total= 2.2min\n",
      "[CV] C=100, cache_size=200, class_weight=None, gamma=10 ..............\n",
      "[CV]  C=100, cache_size=200, class_weight=None, gamma=0, total= 2.2min\n",
      "[CV] C=100, cache_size=200, class_weight=None, gamma=10 ..............\n",
      "[CV]  C=100, cache_size=200, class_weight=None, gamma=0, total= 2.1min\n",
      "[CV] C=100, cache_size=200, class_weight=None, gamma=100 .............\n",
      "[CV]  C=100, cache_size=200, class_weight=None, gamma=10, total= 2.2min\n",
      "[CV] C=100, cache_size=200, class_weight=None, gamma=100 .............\n",
      "[CV]  C=100, cache_size=200, class_weight=None, gamma=10, total= 2.1min\n",
      "[CV] C=100, cache_size=200, class_weight=None, gamma=100 .............\n",
      "[CV]  C=100, cache_size=200, class_weight=None, gamma=10, total= 2.2min\n",
      "[CV] C=100, cache_size=200, class_weight=balanced, gamma=0 ...........\n",
      "[CV]  C=100, cache_size=200, class_weight=None, gamma=100, total= 2.2min\n",
      "[CV] C=100, cache_size=200, class_weight=balanced, gamma=0 ...........\n",
      "[CV]  C=100, cache_size=200, class_weight=None, gamma=100, total= 2.2min\n",
      "[CV] C=100, cache_size=200, class_weight=balanced, gamma=0 ...........\n",
      "[CV]  C=100, cache_size=200, class_weight=None, gamma=100, total= 2.1min\n",
      "[CV] C=100, cache_size=200, class_weight=balanced, gamma=10 ..........\n",
      "[CV]  C=100, cache_size=200, class_weight=balanced, gamma=0, total= 2.6min\n",
      "[CV] C=100, cache_size=200, class_weight=balanced, gamma=10 ..........\n",
      "[CV]  C=100, cache_size=200, class_weight=balanced, gamma=0, total= 2.6min\n",
      "[CV] C=100, cache_size=200, class_weight=balanced, gamma=10 ..........\n",
      "[CV]  C=100, cache_size=200, class_weight=balanced, gamma=0, total= 3.4min\n",
      "[CV] C=100, cache_size=200, class_weight=balanced, gamma=100 .........\n",
      "[CV]  C=100, cache_size=200, class_weight=balanced, gamma=10, total= 2.7min\n",
      "[CV] C=100, cache_size=200, class_weight=balanced, gamma=100 .........\n",
      "[CV]  C=100, cache_size=200, class_weight=balanced, gamma=10, total= 3.5min\n",
      "[CV] C=100, cache_size=200, class_weight=balanced, gamma=100 .........\n",
      "[CV]  C=100, cache_size=200, class_weight=balanced, gamma=10, total= 2.9min\n",
      "[CV] C=100, cache_size=500, class_weight=None, gamma=0 ...............\n",
      "[CV]  C=100, cache_size=200, class_weight=balanced, gamma=100, total= 3.5min\n",
      "[CV] C=100, cache_size=500, class_weight=None, gamma=0 ...............\n",
      "[CV]  C=100, cache_size=500, class_weight=None, gamma=0, total= 2.2min\n",
      "[CV] C=100, cache_size=500, class_weight=None, gamma=0 ...............\n",
      "[CV]  C=100, cache_size=200, class_weight=balanced, gamma=100, total= 2.5min\n",
      "[CV] C=100, cache_size=500, class_weight=None, gamma=10 ..............\n",
      "[CV]  C=100, cache_size=200, class_weight=balanced, gamma=100, total= 2.6min\n",
      "[CV] C=100, cache_size=500, class_weight=None, gamma=10 ..............\n",
      "[CV]  C=100, cache_size=500, class_weight=None, gamma=0, total= 2.2min\n",
      "[CV] C=100, cache_size=500, class_weight=None, gamma=10 ..............\n",
      "[CV]  C=100, cache_size=500, class_weight=None, gamma=0, total= 2.2min\n",
      "[CV] C=100, cache_size=500, class_weight=None, gamma=100 .............\n",
      "[CV]  C=100, cache_size=500, class_weight=None, gamma=10, total= 2.2min\n",
      "[CV] C=100, cache_size=500, class_weight=None, gamma=100 .............\n",
      "[CV]  C=100, cache_size=500, class_weight=None, gamma=10, total= 2.3min\n",
      "[CV] C=100, cache_size=500, class_weight=None, gamma=100 .............\n",
      "[CV]  C=100, cache_size=500, class_weight=None, gamma=10, total= 2.2min\n",
      "[CV] C=100, cache_size=500, class_weight=balanced, gamma=0 ...........\n",
      "[CV]  C=100, cache_size=500, class_weight=None, gamma=100, total= 2.3min\n",
      "[CV] C=100, cache_size=500, class_weight=balanced, gamma=0 ...........\n",
      "[CV]  C=100, cache_size=500, class_weight=None, gamma=100, total= 2.2min\n",
      "[CV] C=100, cache_size=500, class_weight=balanced, gamma=0 ...........\n",
      "[CV]  C=100, cache_size=500, class_weight=None, gamma=100, total= 2.2min\n",
      "[CV] C=100, cache_size=500, class_weight=balanced, gamma=10 ..........\n",
      "[CV]  C=100, cache_size=500, class_weight=balanced, gamma=0, total= 4.0min\n",
      "[CV] C=100, cache_size=500, class_weight=balanced, gamma=10 ..........\n",
      "[CV]  C=100, cache_size=500, class_weight=balanced, gamma=0, total= 3.3min\n",
      "[CV] C=100, cache_size=500, class_weight=balanced, gamma=10 ..........\n",
      "[CV]  C=100, cache_size=500, class_weight=balanced, gamma=0, total= 3.3min\n",
      "[CV] C=100, cache_size=500, class_weight=balanced, gamma=100 .........\n",
      "[CV]  C=100, cache_size=500, class_weight=balanced, gamma=10, total= 4.2min\n",
      "[CV] C=100, cache_size=500, class_weight=balanced, gamma=100 .........\n",
      "[CV]  C=100, cache_size=500, class_weight=balanced, gamma=10, total= 2.7min\n",
      "[CV] C=100, cache_size=500, class_weight=balanced, gamma=100 .........\n",
      "[CV]  C=100, cache_size=500, class_weight=balanced, gamma=10, total= 2.8min\n",
      "[CV] C=100, cache_size=1000, class_weight=None, gamma=0 ..............\n",
      "[CV]  C=100, cache_size=500, class_weight=balanced, gamma=100, total= 3.6min\n",
      "[CV] C=100, cache_size=1000, class_weight=None, gamma=0 ..............\n",
      "[CV]  C=100, cache_size=500, class_weight=balanced, gamma=100, total= 2.6min\n",
      "[CV] C=100, cache_size=1000, class_weight=None, gamma=0 ..............\n",
      "[CV]  C=100, cache_size=1000, class_weight=None, gamma=0, total= 2.2min\n",
      "[CV] C=100, cache_size=1000, class_weight=None, gamma=10 .............\n"
     ]
    },
    {
     "name": "stdout",
     "output_type": "stream",
     "text": [
      "[CV]  C=100, cache_size=500, class_weight=balanced, gamma=100, total= 2.7min\n",
      "[CV] C=100, cache_size=1000, class_weight=None, gamma=10 .............\n",
      "[CV]  C=100, cache_size=1000, class_weight=None, gamma=0, total= 2.3min\n",
      "[CV] C=100, cache_size=1000, class_weight=None, gamma=10 .............\n",
      "[CV]  C=100, cache_size=1000, class_weight=None, gamma=0, total= 2.4min\n",
      "[CV] C=100, cache_size=1000, class_weight=None, gamma=100 ............\n",
      "[CV]  C=100, cache_size=1000, class_weight=None, gamma=10, total= 2.4min\n",
      "[CV] C=100, cache_size=1000, class_weight=None, gamma=100 ............\n",
      "[CV]  C=100, cache_size=1000, class_weight=None, gamma=10, total= 2.4min\n",
      "[CV] C=100, cache_size=1000, class_weight=None, gamma=100 ............\n",
      "[CV]  C=100, cache_size=1000, class_weight=None, gamma=10, total= 2.2min\n",
      "[CV] C=100, cache_size=1000, class_weight=balanced, gamma=0 ..........\n",
      "[CV]  C=100, cache_size=1000, class_weight=None, gamma=100, total= 2.2min\n",
      "[CV] C=100, cache_size=1000, class_weight=balanced, gamma=0 ..........\n",
      "[CV]  C=100, cache_size=1000, class_weight=None, gamma=100, total= 2.1min\n",
      "[CV] C=100, cache_size=1000, class_weight=balanced, gamma=0 ..........\n",
      "[CV]  C=100, cache_size=1000, class_weight=None, gamma=100, total= 2.1min\n",
      "[CV] C=100, cache_size=1000, class_weight=balanced, gamma=10 .........\n",
      "[CV]  C=100, cache_size=1000, class_weight=balanced, gamma=0, total= 2.5min\n",
      "[CV] C=100, cache_size=1000, class_weight=balanced, gamma=10 .........\n",
      "[CV]  C=100, cache_size=1000, class_weight=balanced, gamma=0, total= 3.4min\n",
      "[CV] C=100, cache_size=1000, class_weight=balanced, gamma=10 .........\n",
      "[CV]  C=100, cache_size=1000, class_weight=balanced, gamma=0, total= 2.6min\n",
      "[CV] C=100, cache_size=1000, class_weight=balanced, gamma=100 ........\n",
      "[CV]  C=100, cache_size=1000, class_weight=balanced, gamma=10, total= 3.6min\n",
      "[CV] C=100, cache_size=1000, class_weight=balanced, gamma=100 ........\n",
      "[CV]  C=100, cache_size=1000, class_weight=balanced, gamma=10, total= 2.9min\n",
      "[CV] C=100, cache_size=1000, class_weight=balanced, gamma=100 ........\n",
      "[CV]  C=100, cache_size=1000, class_weight=balanced, gamma=10, total= 2.6min\n",
      "[CV] C=1000, cache_size=200, class_weight=None, gamma=0 ..............\n",
      "[CV]  C=100, cache_size=1000, class_weight=balanced, gamma=100, total= 3.1min\n",
      "[CV] C=1000, cache_size=200, class_weight=None, gamma=0 ..............\n",
      "[CV]  C=100, cache_size=1000, class_weight=balanced, gamma=100, total= 2.7min\n",
      "[CV] C=1000, cache_size=200, class_weight=None, gamma=0 ..............\n",
      "[CV]  C=100, cache_size=1000, class_weight=balanced, gamma=100, total= 2.5min\n",
      "[CV] C=1000, cache_size=200, class_weight=None, gamma=10 .............\n",
      "[CV]  C=1000, cache_size=200, class_weight=None, gamma=0, total=19.6min\n",
      "[CV] C=1000, cache_size=200, class_weight=None, gamma=10 .............\n",
      "[CV]  C=1000, cache_size=200, class_weight=None, gamma=0, total=20.4min\n",
      "[CV] C=1000, cache_size=200, class_weight=None, gamma=10 .............\n",
      "[CV]  C=1000, cache_size=200, class_weight=None, gamma=0, total=19.6min\n",
      "[CV] C=1000, cache_size=200, class_weight=None, gamma=100 ............\n",
      "[CV]  C=1000, cache_size=200, class_weight=None, gamma=10, total=19.7min\n",
      "[CV] C=1000, cache_size=200, class_weight=None, gamma=100 ............\n",
      "[CV]  C=1000, cache_size=200, class_weight=None, gamma=10, total=19.1min\n",
      "[CV] C=1000, cache_size=200, class_weight=None, gamma=100 ............\n",
      "[CV]  C=1000, cache_size=200, class_weight=None, gamma=100, total=18.4min\n",
      "[CV] C=1000, cache_size=200, class_weight=balanced, gamma=0 ..........\n",
      "[CV]  C=1000, cache_size=200, class_weight=None, gamma=10, total=18.6min\n",
      "[CV] C=1000, cache_size=200, class_weight=balanced, gamma=0 ..........\n",
      "[CV]  C=1000, cache_size=200, class_weight=None, gamma=100, total=18.8min\n",
      "[CV] C=1000, cache_size=200, class_weight=balanced, gamma=0 ..........\n",
      "[CV]  C=1000, cache_size=200, class_weight=None, gamma=100, total=17.3min\n",
      "[CV] C=1000, cache_size=200, class_weight=balanced, gamma=10 .........\n",
      "[CV]  C=1000, cache_size=200, class_weight=balanced, gamma=0, total=23.1min\n",
      "[CV] C=1000, cache_size=200, class_weight=balanced, gamma=10 .........\n",
      "[CV]  C=1000, cache_size=200, class_weight=balanced, gamma=0, total=24.4min\n",
      "[CV] C=1000, cache_size=200, class_weight=balanced, gamma=10 .........\n",
      "[CV]  C=1000, cache_size=200, class_weight=balanced, gamma=0, total=36.5min\n",
      "[CV] C=1000, cache_size=200, class_weight=balanced, gamma=100 ........\n",
      "[CV]  C=1000, cache_size=200, class_weight=balanced, gamma=10, total=24.5min\n",
      "[CV] C=1000, cache_size=200, class_weight=balanced, gamma=100 ........\n",
      "[CV]  C=1000, cache_size=200, class_weight=balanced, gamma=10, total=26.2min\n",
      "[CV] C=1000, cache_size=200, class_weight=balanced, gamma=100 ........\n",
      "[CV]  C=1000, cache_size=200, class_weight=balanced, gamma=10, total=37.9min\n",
      "[CV] C=1000, cache_size=500, class_weight=None, gamma=0 ..............\n",
      "[CV]  C=1000, cache_size=200, class_weight=balanced, gamma=100, total=49.0min\n",
      "[CV] C=1000, cache_size=500, class_weight=None, gamma=0 ..............\n",
      "[CV]  C=1000, cache_size=500, class_weight=None, gamma=0, total=32.8min\n",
      "[CV] C=1000, cache_size=500, class_weight=None, gamma=0 ..............\n",
      "[CV]  C=1000, cache_size=200, class_weight=balanced, gamma=100, total=37.4min\n",
      "[CV] C=1000, cache_size=500, class_weight=None, gamma=10 .............\n",
      "[CV]  C=1000, cache_size=200, class_weight=balanced, gamma=100, total=39.0min\n",
      "[CV] C=1000, cache_size=500, class_weight=None, gamma=10 .............\n",
      "[CV]  C=1000, cache_size=500, class_weight=None, gamma=0, total=74.5min\n",
      "[CV] C=1000, cache_size=500, class_weight=None, gamma=10 .............\n",
      "[CV]  C=1000, cache_size=500, class_weight=None, gamma=0, total=73.5min\n",
      "[CV] C=1000, cache_size=500, class_weight=None, gamma=100 ............\n",
      "[CV]  C=1000, cache_size=500, class_weight=None, gamma=10, total=75.1min\n",
      "[CV] C=1000, cache_size=500, class_weight=None, gamma=100 ............\n",
      "[CV]  C=1000, cache_size=500, class_weight=None, gamma=10, total=75.1min\n",
      "[CV] C=1000, cache_size=500, class_weight=None, gamma=100 ............\n",
      "[CV]  C=1000, cache_size=500, class_weight=None, gamma=10, total=18.4min\n",
      "[CV] C=1000, cache_size=500, class_weight=balanced, gamma=0 ..........\n",
      "[CV]  C=1000, cache_size=500, class_weight=None, gamma=100, total=19.3min\n",
      "[CV] C=1000, cache_size=500, class_weight=balanced, gamma=0 ..........\n",
      "[CV]  C=1000, cache_size=500, class_weight=None, gamma=100, total=18.1min\n",
      "[CV] C=1000, cache_size=500, class_weight=balanced, gamma=0 ..........\n",
      "[CV]  C=1000, cache_size=500, class_weight=None, gamma=100, total=19.5min\n",
      "[CV] C=1000, cache_size=500, class_weight=balanced, gamma=10 .........\n"
     ]
    }
   ],
   "source": [
    "# Use the random grid to search for best hyperparameters\n",
    "# First create the base model to tune\n",
    "svmModel = svm.SVC(kernel = 'linear', probability=True)\n",
    "\n",
    "# Random search of parameters, using 3 fold cross validation, \n",
    "# search across 100 different combinations, and use all available cores\n",
    "svm_grid_search = GridSearchCV(estimator = svmModel,param_grid = random_grid, cv = 3, n_jobs = -1,verbose=2)\n",
    "# Fit the random search model\n",
    "svm_grid_search.fit(X_train, y_train)"
   ]
  },
  {
   "cell_type": "code",
   "execution_count": null,
   "metadata": {},
   "outputs": [],
   "source": [
    "svm_grid_search.best_params_ "
   ]
  },
  {
   "cell_type": "code",
   "execution_count": null,
   "metadata": {},
   "outputs": [],
   "source": [
    "best_grid = svm_grid_search.best_estimator_\n",
    "modelfit(best_grid, dfNorm, predictors)"
   ]
  },
  {
   "cell_type": "markdown",
   "metadata": {},
   "source": [
    "#### RBF Kernel"
   ]
  },
  {
   "cell_type": "code",
   "execution_count": null,
   "metadata": {},
   "outputs": [],
   "source": [
    "# Use the random grid to search for best hyperparameters\n",
    "# First create the base model to tune\n",
    "svmModel = svm.SVC(kernel = 'rbf', probability=True)\n",
    "\n",
    "# Random search of parameters, using 3 fold cross validation, \n",
    "# search across 100 different combinations, and use all available cores\n",
    "svm_grid_search = GridSearchCV(estimator = svmModel,param_grid = random_grid, cv = 3, n_jobs = -1,verbose=2)\n",
    "# Fit the random search model\n",
    "svm_grid_search.fit(X_train, y_train)"
   ]
  },
  {
   "cell_type": "code",
   "execution_count": null,
   "metadata": {},
   "outputs": [],
   "source": [
    "svm_grid_search.best_params_ "
   ]
  },
  {
   "cell_type": "code",
   "execution_count": null,
   "metadata": {},
   "outputs": [],
   "source": [
    "best_grid = svm_grid_search.best_estimator_\n",
    "modelfit(best_grid, dfNorm, predictors)"
   ]
  },
  {
   "cell_type": "markdown",
   "metadata": {},
   "source": [
    "## Conclusion"
   ]
  },
  {
   "cell_type": "markdown",
   "metadata": {},
   "source": [
    "With that said, **Monthly Charges, Tenure, Contract type, Total Chargers** are variables to focus for this Telecom company. \n",
    "\n",
    "Customers **who are paying a lot** may want to switch to another company for their services. With that said, there may be **promotional offers and discounts** that may help with luring and convincing customers to stay a bit longer.\n",
    "\n",
    "Furthermore, customers who have been **loyal for quite sometime** may not need to be a significant focus for this Telecom company. The **energy and effort may be best optimized** on those who have just started using the services provided. Give more reasons for them to stay and once they are hooked, you have maximized your potential.\n",
    "\n",
    "Lastly, Contract types is a good part to focus since Monthly contract types are there for those who want to be mobile when it comes to telecom service and thus, promotions and maybe deals that force them to lead to a yearly contract may be something to implement as well."
   ]
  }
 ],
 "metadata": {
  "kernelspec": {
   "display_name": "Python 3",
   "language": "python",
   "name": "python3"
  },
  "language_info": {
   "codemirror_mode": {
    "name": "ipython",
    "version": 3
   },
   "file_extension": ".py",
   "mimetype": "text/x-python",
   "name": "python",
   "nbconvert_exporter": "python",
   "pygments_lexer": "ipython3",
   "version": "3.6.4"
  }
 },
 "nbformat": 4,
 "nbformat_minor": 2
}
