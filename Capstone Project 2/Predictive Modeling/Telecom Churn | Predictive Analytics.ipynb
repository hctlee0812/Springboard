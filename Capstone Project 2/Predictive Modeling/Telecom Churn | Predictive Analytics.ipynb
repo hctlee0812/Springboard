{
 "cells": [
  {
   "cell_type": "markdown",
   "metadata": {},
   "source": [
    "# Telecom Churn | Predictive Analytics"
   ]
  },
  {
   "cell_type": "markdown",
   "metadata": {},
   "source": [
    "**Objective:** Predict when a customer churns"
   ]
  },
  {
   "cell_type": "markdown",
   "metadata": {},
   "source": [
    "**Background:** There are many variables in this dataset so the most important part of this process is to reduce the number of variables **to avoid overfitting** and **to avoid the curse of dimensionality**."
   ]
  },
  {
   "cell_type": "markdown",
   "metadata": {},
   "source": [
    "**Analysis Objective:** After creating, training, cross validating our model, we want our client to be able to **take action on current customers** (ex: sending specific promotional, gratituous offers etc) **to reduce churn rate**."
   ]
  },
  {
   "cell_type": "markdown",
   "metadata": {},
   "source": [
    "### Import modules"
   ]
  },
  {
   "cell_type": "code",
   "execution_count": 15,
   "metadata": {},
   "outputs": [],
   "source": [
    "%matplotlib inline\n",
    "import pandas as pd\n",
    "import numpy as np\n",
    "import matplotlib.pyplot as plt\n",
    "import sys\n",
    "import os\n",
    "import seaborn as sns"
   ]
  },
  {
   "cell_type": "code",
   "execution_count": 16,
   "metadata": {
    "scrolled": false
   },
   "outputs": [
    {
     "data": {
      "text/html": [
       "<div>\n",
       "<style scoped>\n",
       "    .dataframe tbody tr th:only-of-type {\n",
       "        vertical-align: middle;\n",
       "    }\n",
       "\n",
       "    .dataframe tbody tr th {\n",
       "        vertical-align: top;\n",
       "    }\n",
       "\n",
       "    .dataframe thead th {\n",
       "        text-align: right;\n",
       "    }\n",
       "</style>\n",
       "<table border=\"1\" class=\"dataframe\">\n",
       "  <thead>\n",
       "    <tr style=\"text-align: right;\">\n",
       "      <th></th>\n",
       "      <th>gender</th>\n",
       "      <th>SeniorCitizen</th>\n",
       "      <th>Partner</th>\n",
       "      <th>Dependents</th>\n",
       "      <th>tenure</th>\n",
       "      <th>PhoneService</th>\n",
       "      <th>MultipleLines</th>\n",
       "      <th>InternetService</th>\n",
       "      <th>OnlineSecurity</th>\n",
       "      <th>OnlineBackup</th>\n",
       "      <th>DeviceProtection</th>\n",
       "      <th>TechSupport</th>\n",
       "      <th>StreamingTV</th>\n",
       "      <th>StreamingMovies</th>\n",
       "      <th>Contract</th>\n",
       "      <th>PaperlessBilling</th>\n",
       "      <th>PaymentMethod</th>\n",
       "      <th>MonthlyCharges</th>\n",
       "      <th>TotalCharges</th>\n",
       "      <th>Churn</th>\n",
       "    </tr>\n",
       "  </thead>\n",
       "  <tbody>\n",
       "    <tr>\n",
       "      <th>0</th>\n",
       "      <td>0</td>\n",
       "      <td>0</td>\n",
       "      <td>1</td>\n",
       "      <td>0</td>\n",
       "      <td>1</td>\n",
       "      <td>0</td>\n",
       "      <td>1</td>\n",
       "      <td>0</td>\n",
       "      <td>0</td>\n",
       "      <td>2</td>\n",
       "      <td>0</td>\n",
       "      <td>0</td>\n",
       "      <td>0</td>\n",
       "      <td>0</td>\n",
       "      <td>0</td>\n",
       "      <td>1</td>\n",
       "      <td>2</td>\n",
       "      <td>142</td>\n",
       "      <td>2505</td>\n",
       "      <td>0</td>\n",
       "    </tr>\n",
       "    <tr>\n",
       "      <th>1</th>\n",
       "      <td>1</td>\n",
       "      <td>0</td>\n",
       "      <td>0</td>\n",
       "      <td>0</td>\n",
       "      <td>34</td>\n",
       "      <td>1</td>\n",
       "      <td>0</td>\n",
       "      <td>0</td>\n",
       "      <td>2</td>\n",
       "      <td>0</td>\n",
       "      <td>2</td>\n",
       "      <td>0</td>\n",
       "      <td>0</td>\n",
       "      <td>0</td>\n",
       "      <td>1</td>\n",
       "      <td>0</td>\n",
       "      <td>3</td>\n",
       "      <td>498</td>\n",
       "      <td>1466</td>\n",
       "      <td>0</td>\n",
       "    </tr>\n",
       "    <tr>\n",
       "      <th>2</th>\n",
       "      <td>1</td>\n",
       "      <td>0</td>\n",
       "      <td>0</td>\n",
       "      <td>0</td>\n",
       "      <td>2</td>\n",
       "      <td>1</td>\n",
       "      <td>0</td>\n",
       "      <td>0</td>\n",
       "      <td>2</td>\n",
       "      <td>2</td>\n",
       "      <td>0</td>\n",
       "      <td>0</td>\n",
       "      <td>0</td>\n",
       "      <td>0</td>\n",
       "      <td>0</td>\n",
       "      <td>1</td>\n",
       "      <td>3</td>\n",
       "      <td>436</td>\n",
       "      <td>157</td>\n",
       "      <td>1</td>\n",
       "    </tr>\n",
       "    <tr>\n",
       "      <th>3</th>\n",
       "      <td>1</td>\n",
       "      <td>0</td>\n",
       "      <td>0</td>\n",
       "      <td>0</td>\n",
       "      <td>45</td>\n",
       "      <td>0</td>\n",
       "      <td>1</td>\n",
       "      <td>0</td>\n",
       "      <td>2</td>\n",
       "      <td>0</td>\n",
       "      <td>2</td>\n",
       "      <td>2</td>\n",
       "      <td>0</td>\n",
       "      <td>0</td>\n",
       "      <td>1</td>\n",
       "      <td>0</td>\n",
       "      <td>0</td>\n",
       "      <td>266</td>\n",
       "      <td>1400</td>\n",
       "      <td>0</td>\n",
       "    </tr>\n",
       "    <tr>\n",
       "      <th>4</th>\n",
       "      <td>0</td>\n",
       "      <td>0</td>\n",
       "      <td>0</td>\n",
       "      <td>0</td>\n",
       "      <td>2</td>\n",
       "      <td>1</td>\n",
       "      <td>0</td>\n",
       "      <td>1</td>\n",
       "      <td>0</td>\n",
       "      <td>0</td>\n",
       "      <td>0</td>\n",
       "      <td>0</td>\n",
       "      <td>0</td>\n",
       "      <td>0</td>\n",
       "      <td>0</td>\n",
       "      <td>1</td>\n",
       "      <td>2</td>\n",
       "      <td>729</td>\n",
       "      <td>925</td>\n",
       "      <td>1</td>\n",
       "    </tr>\n",
       "  </tbody>\n",
       "</table>\n",
       "</div>"
      ],
      "text/plain": [
       "   gender  SeniorCitizen  Partner  Dependents  tenure  PhoneService  \\\n",
       "0       0              0        1           0       1             0   \n",
       "1       1              0        0           0      34             1   \n",
       "2       1              0        0           0       2             1   \n",
       "3       1              0        0           0      45             0   \n",
       "4       0              0        0           0       2             1   \n",
       "\n",
       "   MultipleLines  InternetService  OnlineSecurity  OnlineBackup  \\\n",
       "0              1                0               0             2   \n",
       "1              0                0               2             0   \n",
       "2              0                0               2             2   \n",
       "3              1                0               2             0   \n",
       "4              0                1               0             0   \n",
       "\n",
       "   DeviceProtection  TechSupport  StreamingTV  StreamingMovies  Contract  \\\n",
       "0                 0            0            0                0         0   \n",
       "1                 2            0            0                0         1   \n",
       "2                 0            0            0                0         0   \n",
       "3                 2            2            0                0         1   \n",
       "4                 0            0            0                0         0   \n",
       "\n",
       "   PaperlessBilling  PaymentMethod  MonthlyCharges  TotalCharges  Churn  \n",
       "0                 1              2             142          2505      0  \n",
       "1                 0              3             498          1466      0  \n",
       "2                 1              3             436           157      1  \n",
       "3                 0              0             266          1400      0  \n",
       "4                 1              2             729           925      1  "
      ]
     },
     "execution_count": 16,
     "metadata": {},
     "output_type": "execute_result"
    }
   ],
   "source": [
    "churn = 'churn.csv' # import data\n",
    "df = pd.read_csv(churn)\n",
    "df = df.iloc[:, 1:]\n",
    "df = df.drop(['customerID'],axis=1)\n",
    "df.head()"
   ]
  },
  {
   "cell_type": "markdown",
   "metadata": {},
   "source": [
    "## Normalize Features"
   ]
  },
  {
   "cell_type": "code",
   "execution_count": 17,
   "metadata": {
    "scrolled": true
   },
   "outputs": [
    {
     "name": "stderr",
     "output_type": "stream",
     "text": [
      "/anaconda3/lib/python3.6/site-packages/sklearn/utils/validation.py:475: DataConversionWarning: Data with input dtype int64 was converted to float64 by StandardScaler.\n",
      "  warnings.warn(msg, DataConversionWarning)\n"
     ]
    },
    {
     "data": {
      "text/html": [
       "<div>\n",
       "<style scoped>\n",
       "    .dataframe tbody tr th:only-of-type {\n",
       "        vertical-align: middle;\n",
       "    }\n",
       "\n",
       "    .dataframe tbody tr th {\n",
       "        vertical-align: top;\n",
       "    }\n",
       "\n",
       "    .dataframe thead th {\n",
       "        text-align: right;\n",
       "    }\n",
       "</style>\n",
       "<table border=\"1\" class=\"dataframe\">\n",
       "  <thead>\n",
       "    <tr style=\"text-align: right;\">\n",
       "      <th></th>\n",
       "      <th>gender</th>\n",
       "      <th>SeniorCitizen</th>\n",
       "      <th>Partner</th>\n",
       "      <th>Dependents</th>\n",
       "      <th>tenure</th>\n",
       "      <th>PhoneService</th>\n",
       "      <th>MultipleLines</th>\n",
       "      <th>InternetService</th>\n",
       "      <th>OnlineSecurity</th>\n",
       "      <th>OnlineBackup</th>\n",
       "      <th>DeviceProtection</th>\n",
       "      <th>TechSupport</th>\n",
       "      <th>StreamingTV</th>\n",
       "      <th>StreamingMovies</th>\n",
       "      <th>Contract</th>\n",
       "      <th>PaperlessBilling</th>\n",
       "      <th>PaymentMethod</th>\n",
       "      <th>MonthlyCharges</th>\n",
       "      <th>TotalCharges</th>\n",
       "      <th>churn</th>\n",
       "    </tr>\n",
       "  </thead>\n",
       "  <tbody>\n",
       "    <tr>\n",
       "      <th>0</th>\n",
       "      <td>-1.009559</td>\n",
       "      <td>-0.439916</td>\n",
       "      <td>1.034530</td>\n",
       "      <td>-0.654012</td>\n",
       "      <td>-1.277445</td>\n",
       "      <td>-3.054010</td>\n",
       "      <td>0.062723</td>\n",
       "      <td>-1.183234</td>\n",
       "      <td>-0.918838</td>\n",
       "      <td>1.242550</td>\n",
       "      <td>-1.027910</td>\n",
       "      <td>-0.925262</td>\n",
       "      <td>-1.113495</td>\n",
       "      <td>-1.121405</td>\n",
       "      <td>-0.828207</td>\n",
       "      <td>0.829798</td>\n",
       "      <td>0.398558</td>\n",
       "      <td>-1.131766</td>\n",
       "      <td>-0.398608</td>\n",
       "      <td>0</td>\n",
       "    </tr>\n",
       "    <tr>\n",
       "      <th>1</th>\n",
       "      <td>0.990532</td>\n",
       "      <td>-0.439916</td>\n",
       "      <td>-0.966622</td>\n",
       "      <td>-0.654012</td>\n",
       "      <td>0.066327</td>\n",
       "      <td>0.327438</td>\n",
       "      <td>-0.991588</td>\n",
       "      <td>-1.183234</td>\n",
       "      <td>1.407321</td>\n",
       "      <td>-1.029919</td>\n",
       "      <td>1.245111</td>\n",
       "      <td>-0.925262</td>\n",
       "      <td>-1.113495</td>\n",
       "      <td>-1.121405</td>\n",
       "      <td>0.371271</td>\n",
       "      <td>-1.205113</td>\n",
       "      <td>1.334863</td>\n",
       "      <td>-0.387740</td>\n",
       "      <td>-0.948762</td>\n",
       "      <td>0</td>\n",
       "    </tr>\n",
       "    <tr>\n",
       "      <th>2</th>\n",
       "      <td>0.990532</td>\n",
       "      <td>-0.439916</td>\n",
       "      <td>-0.966622</td>\n",
       "      <td>-0.654012</td>\n",
       "      <td>-1.236724</td>\n",
       "      <td>0.327438</td>\n",
       "      <td>-0.991588</td>\n",
       "      <td>-1.183234</td>\n",
       "      <td>1.407321</td>\n",
       "      <td>1.242550</td>\n",
       "      <td>-1.027910</td>\n",
       "      <td>-0.925262</td>\n",
       "      <td>-1.113495</td>\n",
       "      <td>-1.121405</td>\n",
       "      <td>-0.828207</td>\n",
       "      <td>0.829798</td>\n",
       "      <td>1.334863</td>\n",
       "      <td>-0.517317</td>\n",
       "      <td>-1.641883</td>\n",
       "      <td>1</td>\n",
       "    </tr>\n",
       "    <tr>\n",
       "      <th>3</th>\n",
       "      <td>0.990532</td>\n",
       "      <td>-0.439916</td>\n",
       "      <td>-0.966622</td>\n",
       "      <td>-0.654012</td>\n",
       "      <td>0.514251</td>\n",
       "      <td>-3.054010</td>\n",
       "      <td>0.062723</td>\n",
       "      <td>-1.183234</td>\n",
       "      <td>1.407321</td>\n",
       "      <td>-1.029919</td>\n",
       "      <td>1.245111</td>\n",
       "      <td>1.396299</td>\n",
       "      <td>-1.113495</td>\n",
       "      <td>-1.121405</td>\n",
       "      <td>0.371271</td>\n",
       "      <td>-1.205113</td>\n",
       "      <td>-1.474052</td>\n",
       "      <td>-0.872611</td>\n",
       "      <td>-0.983710</td>\n",
       "      <td>0</td>\n",
       "    </tr>\n",
       "    <tr>\n",
       "      <th>4</th>\n",
       "      <td>-1.009559</td>\n",
       "      <td>-0.439916</td>\n",
       "      <td>-0.966622</td>\n",
       "      <td>-0.654012</td>\n",
       "      <td>-1.236724</td>\n",
       "      <td>0.327438</td>\n",
       "      <td>-0.991588</td>\n",
       "      <td>0.172250</td>\n",
       "      <td>-0.918838</td>\n",
       "      <td>-1.029919</td>\n",
       "      <td>-1.027910</td>\n",
       "      <td>-0.925262</td>\n",
       "      <td>-1.113495</td>\n",
       "      <td>-1.121405</td>\n",
       "      <td>-0.828207</td>\n",
       "      <td>0.829798</td>\n",
       "      <td>0.398558</td>\n",
       "      <td>0.095041</td>\n",
       "      <td>-1.235224</td>\n",
       "      <td>1</td>\n",
       "    </tr>\n",
       "  </tbody>\n",
       "</table>\n",
       "</div>"
      ],
      "text/plain": [
       "     gender  SeniorCitizen   Partner  Dependents    tenure  PhoneService  \\\n",
       "0 -1.009559      -0.439916  1.034530   -0.654012 -1.277445     -3.054010   \n",
       "1  0.990532      -0.439916 -0.966622   -0.654012  0.066327      0.327438   \n",
       "2  0.990532      -0.439916 -0.966622   -0.654012 -1.236724      0.327438   \n",
       "3  0.990532      -0.439916 -0.966622   -0.654012  0.514251     -3.054010   \n",
       "4 -1.009559      -0.439916 -0.966622   -0.654012 -1.236724      0.327438   \n",
       "\n",
       "   MultipleLines  InternetService  OnlineSecurity  OnlineBackup  \\\n",
       "0       0.062723        -1.183234       -0.918838      1.242550   \n",
       "1      -0.991588        -1.183234        1.407321     -1.029919   \n",
       "2      -0.991588        -1.183234        1.407321      1.242550   \n",
       "3       0.062723        -1.183234        1.407321     -1.029919   \n",
       "4      -0.991588         0.172250       -0.918838     -1.029919   \n",
       "\n",
       "   DeviceProtection  TechSupport  StreamingTV  StreamingMovies  Contract  \\\n",
       "0         -1.027910    -0.925262    -1.113495        -1.121405 -0.828207   \n",
       "1          1.245111    -0.925262    -1.113495        -1.121405  0.371271   \n",
       "2         -1.027910    -0.925262    -1.113495        -1.121405 -0.828207   \n",
       "3          1.245111     1.396299    -1.113495        -1.121405  0.371271   \n",
       "4         -1.027910    -0.925262    -1.113495        -1.121405 -0.828207   \n",
       "\n",
       "   PaperlessBilling  PaymentMethod  MonthlyCharges  TotalCharges  churn  \n",
       "0          0.829798       0.398558       -1.131766     -0.398608      0  \n",
       "1         -1.205113       1.334863       -0.387740     -0.948762      0  \n",
       "2          0.829798       1.334863       -0.517317     -1.641883      1  \n",
       "3         -1.205113      -1.474052       -0.872611     -0.983710      0  \n",
       "4          0.829798       0.398558        0.095041     -1.235224      1  "
      ]
     },
     "execution_count": 17,
     "metadata": {},
     "output_type": "execute_result"
    }
   ],
   "source": [
    "# prep for normalizing\n",
    "X = df.iloc[:,0:19].values\n",
    "y = df.iloc[:,19].values\n",
    "\n",
    "# normalize so prediction on features will be on same scale\n",
    "from sklearn.preprocessing import StandardScaler\n",
    "X_std = StandardScaler().fit_transform(X)\n",
    "dfNorm = pd.DataFrame(X_std, index=df.index, columns=df.columns[0:19])\n",
    "\n",
    "# add target variable to dataframe\n",
    "dfNorm['churn'] = df['Churn']\n",
    "\n",
    "# prep X and y arrays\n",
    "X = dfNorm.iloc[:,0:19].values\n",
    "y = dfNorm.iloc[:,19].values\n",
    "\n",
    "dfNorm.head()"
   ]
  },
  {
   "cell_type": "markdown",
   "metadata": {},
   "source": [
    "## Create Training and Test Data"
   ]
  },
  {
   "cell_type": "code",
   "execution_count": 18,
   "metadata": {},
   "outputs": [
    {
     "data": {
      "text/plain": [
       "((4930, 19), (4930,), (2113, 19), (2113,))"
      ]
     },
     "execution_count": 18,
     "metadata": {},
     "output_type": "execute_result"
    }
   ],
   "source": [
    "from sklearn.model_selection import train_test_split\n",
    "X_train, X_test, y_train, y_test = train_test_split(\n",
    "X, y, test_size=0.3, random_state=0)\n",
    "\n",
    "X_train.shape, y_train.shape, X_test.shape , y_test.shape"
   ]
  },
  {
   "cell_type": "markdown",
   "metadata": {},
   "source": [
    "## Create Pipeline Functions"
   ]
  },
  {
   "cell_type": "code",
   "execution_count": 19,
   "metadata": {},
   "outputs": [],
   "source": [
    "# pipeline funcion\n",
    "results_test = {}\n",
    "results_train = {}\n",
    "def predict_churn(algo_name,X_train,y_train,X_test,y_test,verbose=0):\n",
    "    algo_name.fit(X_train, y_train)\n",
    "    Y_pred = algo_name.predict(X_test)\n",
    "    acc_train = round(algo_name.score(X_train, y_train) * 100, 2)\n",
    "    acc_val = round(algo_name.score(X_test, y_test) * 100, 2)\n",
    "    results_test[str(algo_name)[0:str(algo_name).find('(')]] = acc_val\n",
    "    results_train[str(algo_name)[0:str(algo_name).find('(')]] = acc_train\n",
    "    if verbose ==0:\n",
    "        print(\"acc train: \" + str(acc_train))\n",
    "        print(\"acc test: \"+ str(acc_val))\n",
    "    else:\n",
    "        return Y_pred"
   ]
  },
  {
   "cell_type": "code",
   "execution_count": 20,
   "metadata": {},
   "outputs": [],
   "source": [
    "from sklearn import metrics\n",
    "\n",
    "# confusion matrix function\n",
    "def conf_matrix(algo_name,X_test, y_test):\n",
    "    y_pred = algo_name.predict(X_test)\n",
    "    forest_cm = metrics.confusion_matrix(y_pred, y_test, [1,0])\n",
    "    sns.heatmap(forest_cm, annot=True, fmt='.2f',xticklabels = [\"1\", \"0\"] , yticklabels = [\"1\", \"0\"] )\n",
    "    plt.ylabel('True class')\n",
    "    plt.xlabel('Predicted class')\n",
    "    plt.title(str(algo_name)[0:str(algo_name).find('(')])"
   ]
  },
  {
   "cell_type": "markdown",
   "metadata": {},
   "source": [
    "## 1. Random Forrest Classifier"
   ]
  },
  {
   "cell_type": "code",
   "execution_count": 21,
   "metadata": {
    "scrolled": false
   },
   "outputs": [
    {
     "name": "stdout",
     "output_type": "stream",
     "text": [
      "acc train: 99.66\n",
      "acc test: 79.08\n",
      "             precision    recall  f1-score   support\n",
      "\n",
      "          0       0.83      0.90      0.86      1560\n",
      "          1       0.63      0.49      0.55       553\n",
      "\n",
      "avg / total       0.78      0.79      0.78      2113\n",
      "\n"
     ]
    },
    {
     "data": {
      "image/png": "[encoded data removed]",
      "text/plain": [
       "<matplotlib.figure.Figure at 0x1a1d5bb518>"
      ]
     },
     "metadata": {},
     "output_type": "display_data"
    }
   ],
   "source": [
    "from sklearn.ensemble import RandomForestClassifier\n",
    "from sklearn.metrics import classification_report\n",
    "\n",
    "rf = RandomForestClassifier(n_estimators=50, random_state=0 )\n",
    "predict_churn(rf,X_train,y_train,X_test,y_test)\n",
    "print(classification_report(y_test, rf.predict(X_test)))\n",
    "conf_matrix(rf,X_test, y_test)"
   ]
  },
  {
   "cell_type": "markdown",
   "metadata": {},
   "source": [
    "\n",
    "## 2. Gradient Boosting Classifier"
   ]
  },
  {
   "cell_type": "code",
   "execution_count": 22,
   "metadata": {
    "scrolled": true
   },
   "outputs": [
    {
     "name": "stdout",
     "output_type": "stream",
     "text": [
      "acc train: 99.51\n",
      "acc test: 78.09\n",
      "             precision    recall  f1-score   support\n",
      "\n",
      "          0       0.84      0.87      0.85      1560\n",
      "          1       0.59      0.53      0.56       553\n",
      "\n",
      "avg / total       0.77      0.78      0.78      2113\n",
      "\n"
     ]
    },
    {
     "data": {
      "image/png": "[encoded data removed]",
      "text/plain": [
       "<matplotlib.figure.Figure at 0x1a149eb630>"
      ]
     },
     "metadata": {},
     "output_type": "display_data"
    }
   ],
   "source": [
    "from sklearn.ensemble import GradientBoostingClassifier\n",
    "\n",
    "gbc = GradientBoostingClassifier(loss='deviance', learning_rate=0.2, n_estimators=200 , max_depth=6)\n",
    "predict_churn(gbc,X_train,y_train,X_test,y_test)\n",
    "\n",
    "print(classification_report(y_test, gbc.predict(X_test)))\n",
    "conf_matrix(gbc,X_test, y_test)"
   ]
  },
  {
   "cell_type": "markdown",
   "metadata": {},
   "source": [
    "## 3. Support Vector Machine"
   ]
  },
  {
   "cell_type": "markdown",
   "metadata": {},
   "source": [
    "### 3a. Linear SVM"
   ]
  },
  {
   "cell_type": "code",
   "execution_count": 23,
   "metadata": {},
   "outputs": [
    {
     "name": "stdout",
     "output_type": "stream",
     "text": [
      "acc train: 79.98\n",
      "acc test: 80.03\n"
     ]
    }
   ],
   "source": [
    "from sklearn.svm import SVC\n",
    "\n",
    "svm = SVC(kernel='linear', probability=True)\n",
    "predict_churn(svm,X_train,y_train,X_test,y_test)"
   ]
  },
  {
   "cell_type": "markdown",
   "metadata": {},
   "source": [
    "### 3b. Linear RBF"
   ]
  },
  {
   "cell_type": "code",
   "execution_count": 24,
   "metadata": {},
   "outputs": [
    {
     "name": "stdout",
     "output_type": "stream",
     "text": [
      "acc train: 82.45\n",
      "acc test: 79.22\n"
     ]
    }
   ],
   "source": [
    "svm = SVC(kernel='rbf', probability=True)\n",
    "predict_churn(svm,X_train,y_train,X_test,y_test)"
   ]
  },
  {
   "cell_type": "markdown",
   "metadata": {},
   "source": [
    "### 3c. Poly SVM"
   ]
  },
  {
   "cell_type": "code",
   "execution_count": 25,
   "metadata": {},
   "outputs": [
    {
     "name": "stdout",
     "output_type": "stream",
     "text": [
      "acc train: 83.45\n",
      "acc test: 78.89\n"
     ]
    }
   ],
   "source": [
    "svm = SVC(kernel='poly', probability=True)\n",
    "predict_churn(svm,X_train,y_train,X_test,y_test)"
   ]
  },
  {
   "cell_type": "markdown",
   "metadata": {},
   "source": [
    "### Linear SVM Model"
   ]
  },
  {
   "cell_type": "code",
   "execution_count": 26,
   "metadata": {
    "scrolled": true
   },
   "outputs": [
    {
     "name": "stdout",
     "output_type": "stream",
     "text": [
      "acc train: 79.98\n",
      "acc test: 80.03\n",
      "             precision    recall  f1-score   support\n",
      "\n",
      "          0       0.84      0.90      0.87      1560\n",
      "          1       0.65      0.52      0.58       553\n",
      "\n",
      "avg / total       0.79      0.80      0.79      2113\n",
      "\n"
     ]
    },
    {
     "data": {
      "image/png": "[encoded data removed]",
      "text/plain": [
       "<matplotlib.figure.Figure at 0x1a1de610b8>"
      ]
     },
     "metadata": {},
     "output_type": "display_data"
    }
   ],
   "source": [
    "svm = SVC(kernel='linear', probability=True)\n",
    "predict_churn(svm,X_train,y_train,X_test,y_test)\n",
    "\n",
    "print(classification_report(y_test, svm.predict(X_test)))\n",
    "conf_matrix(svm,X_test, y_test)"
   ]
  },
  {
   "cell_type": "markdown",
   "metadata": {},
   "source": [
    "## Compare Models"
   ]
  },
  {
   "cell_type": "code",
   "execution_count": 27,
   "metadata": {},
   "outputs": [
    {
     "data": {
      "text/html": [
       "<div>\n",
       "<style scoped>\n",
       "    .dataframe tbody tr th:only-of-type {\n",
       "        vertical-align: middle;\n",
       "    }\n",
       "\n",
       "    .dataframe tbody tr th {\n",
       "        vertical-align: top;\n",
       "    }\n",
       "\n",
       "    .dataframe thead th {\n",
       "        text-align: right;\n",
       "    }\n",
       "</style>\n",
       "<table border=\"1\" class=\"dataframe\">\n",
       "  <thead>\n",
       "    <tr style=\"text-align: right;\">\n",
       "      <th></th>\n",
       "      <th>algo_name</th>\n",
       "      <th>acc_test</th>\n",
       "      <th>acc_train</th>\n",
       "    </tr>\n",
       "  </thead>\n",
       "  <tbody>\n",
       "    <tr>\n",
       "      <th>2</th>\n",
       "      <td>SVC</td>\n",
       "      <td>80.03</td>\n",
       "      <td>79.98</td>\n",
       "    </tr>\n",
       "    <tr>\n",
       "      <th>0</th>\n",
       "      <td>RandomForestClassifier</td>\n",
       "      <td>79.08</td>\n",
       "      <td>99.66</td>\n",
       "    </tr>\n",
       "    <tr>\n",
       "      <th>1</th>\n",
       "      <td>GradientBoostingClassifier</td>\n",
       "      <td>78.09</td>\n",
       "      <td>99.51</td>\n",
       "    </tr>\n",
       "  </tbody>\n",
       "</table>\n",
       "</div>"
      ],
      "text/plain": [
       "                    algo_name  acc_test  acc_train\n",
       "2                         SVC     80.03      79.98\n",
       "0      RandomForestClassifier     79.08      99.66\n",
       "1  GradientBoostingClassifier     78.09      99.51"
      ]
     },
     "execution_count": 27,
     "metadata": {},
     "output_type": "execute_result"
    }
   ],
   "source": [
    "df_test =pd.DataFrame(list(results_test.items()),\n",
    "                      columns=['algo_name','acc_test'])\n",
    "df_train =pd.DataFrame(list(results_train.items()),\n",
    "                      columns=['algo_name','acc_train'])\n",
    "df_results = df_test.join(df_train.set_index('algo_name'), on='algo_name')\n",
    "df_results.sort_values('acc_test',ascending=False)"
   ]
  },
  {
   "cell_type": "markdown",
   "metadata": {},
   "source": [
    "## Conclusion"
   ]
  },
  {
   "cell_type": "markdown",
   "metadata": {},
   "source": [
    "Comparing the three models we used, we will use the Linear SVM Model for our prediction. The model has the highest accuracy with new test data which we will use to predict and take action when current customers are likely to churn."
   ]
  }
 ],
 "metadata": {
  "kernelspec": {
   "display_name": "Python 3",
   "language": "python",
   "name": "python3"
  },
  "language_info": {
   "codemirror_mode": {
    "name": "ipython",
    "version": 3
   },
   "file_extension": ".py",
   "mimetype": "text/x-python",
   "name": "python",
   "nbconvert_exporter": "python",
   "pygments_lexer": "ipython3",
   "version": "3.6.4"
  }
 },
 "nbformat": 4,
 "nbformat_minor": 2
}
