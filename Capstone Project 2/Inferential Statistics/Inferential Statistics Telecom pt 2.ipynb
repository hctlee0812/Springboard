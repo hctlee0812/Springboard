{
 "cells": [
  {
   "cell_type": "markdown",
   "metadata": {},
   "source": [
    "## Inferential Statistics: Telecom Churn Data"
   ]
  },
  {
   "cell_type": "markdown",
   "metadata": {},
   "source": [
    "### Overview"
   ]
  },
  {
   "cell_type": "markdown",
   "metadata": {},
   "source": [
    "The purpose of this analysis is to see if the **difference between the proportion of monthly and one year plus churn rates** are the same so that we can see if it is statistically **AND** practically significant to take action among the respective gender."
   ]
  },
  {
   "cell_type": "code",
   "execution_count": 4,
   "metadata": {},
   "outputs": [],
   "source": [
    "df = pd.read_csv('churn.csv') # Import csv\n",
    "churn = df[['Churn','Contract']].copy() # Make a copy of only neccessary column"
   ]
  },
  {
   "cell_type": "code",
   "execution_count": 13,
   "metadata": {},
   "outputs": [],
   "source": [
    "conditions = [ # Create list of current values\n",
    "        df.Contract == 'One year',\n",
    "        df.Contract == 'Month-to-month',\n",
    "        df.Contract == 'Two year']\n",
    "choices = ['One Year Plus', 'Month', 'One Year Plus'] # Create list of new values"
   ]
  },
  {
   "cell_type": "code",
   "execution_count": 15,
   "metadata": {},
   "outputs": [],
   "source": [
    "df.Contract = np.select(conditions, choices) # Map conditions with choices\n",
    "churn = df[['Churn','Contract']].copy() # Make a copy of only neccessary column"
   ]
  },
  {
   "cell_type": "code",
   "execution_count": 16,
   "metadata": {},
   "outputs": [
    {
     "data": {
      "text/html": [
       "<div>\n",
       "<style scoped>\n",
       "    .dataframe tbody tr th:only-of-type {\n",
       "        vertical-align: middle;\n",
       "    }\n",
       "\n",
       "    .dataframe tbody tr th {\n",
       "        vertical-align: top;\n",
       "    }\n",
       "\n",
       "    .dataframe thead th {\n",
       "        text-align: right;\n",
       "    }\n",
       "</style>\n",
       "<table border=\"1\" class=\"dataframe\">\n",
       "  <thead>\n",
       "    <tr style=\"text-align: right;\">\n",
       "      <th></th>\n",
       "      <th>Churn</th>\n",
       "      <th>Contract</th>\n",
       "    </tr>\n",
       "  </thead>\n",
       "  <tbody>\n",
       "    <tr>\n",
       "      <th>0</th>\n",
       "      <td>No</td>\n",
       "      <td>Month</td>\n",
       "    </tr>\n",
       "    <tr>\n",
       "      <th>1</th>\n",
       "      <td>No</td>\n",
       "      <td>One Year Plus</td>\n",
       "    </tr>\n",
       "    <tr>\n",
       "      <th>2</th>\n",
       "      <td>Yes</td>\n",
       "      <td>Month</td>\n",
       "    </tr>\n",
       "    <tr>\n",
       "      <th>3</th>\n",
       "      <td>No</td>\n",
       "      <td>One Year Plus</td>\n",
       "    </tr>\n",
       "    <tr>\n",
       "      <th>4</th>\n",
       "      <td>Yes</td>\n",
       "      <td>Month</td>\n",
       "    </tr>\n",
       "  </tbody>\n",
       "</table>\n",
       "</div>"
      ],
      "text/plain": [
       "  Churn       Contract\n",
       "0    No          Month\n",
       "1    No  One Year Plus\n",
       "2   Yes          Month\n",
       "3    No  One Year Plus\n",
       "4   Yes          Month"
      ]
     },
     "execution_count": 16,
     "metadata": {},
     "output_type": "execute_result"
    }
   ],
   "source": [
    "churn.head()"
   ]
  },
  {
   "cell_type": "markdown",
   "metadata": {},
   "source": [
    "### Sample Proportion Calculation for Churn / No Churn"
   ]
  },
  {
   "cell_type": "code",
   "execution_count": 18,
   "metadata": {
    "scrolled": true
   },
   "outputs": [
    {
     "name": "stderr",
     "output_type": "stream",
     "text": [
      "/anaconda3/lib/python3.6/site-packages/ipykernel_launcher.py:1: UserWarning: Boolean Series key will be reindexed to match DataFrame index.\n",
      "  \"\"\"Entry point for launching an IPython kernel.\n",
      "/anaconda3/lib/python3.6/site-packages/ipykernel_launcher.py:3: UserWarning: Boolean Series key will be reindexed to match DataFrame index.\n",
      "  This is separate from the ipykernel package so we can avoid doing imports until\n"
     ]
    }
   ],
   "source": [
    "churn_m = churn[churn.Contract=='Month'][churn.Churn== 'Yes']['Churn'].count() # Month churn count\n",
    "\n",
    "churn_y = churn[churn.Contract=='One Year Plus'][churn.Churn== 'Yes']['Churn'].count() # One Year Plus churn count"
   ]
  },
  {
   "cell_type": "code",
   "execution_count": 20,
   "metadata": {},
   "outputs": [],
   "source": [
    "n = len(churn)# number of customers"
   ]
  },
  {
   "cell_type": "code",
   "execution_count": 21,
   "metadata": {
    "scrolled": true
   },
   "outputs": [
    {
     "name": "stdout",
     "output_type": "stream",
     "text": [
      "The sample proportion of churn for month contracts is 0.235\n",
      "The sample proportion of churn for one year plus contracts is 0.03\n"
     ]
    }
   ],
   "source": [
    "prop_m = churn_m/n # churn proportion for month contracts\n",
    "\n",
    "prop_y = churn_y/n # churn proportion for year contracts\n",
    "\n",
    "print(\"The sample proportion of churn for month contracts is \"+str(round(prop_m,3)))\n",
    "print(\"The sample proportion of churn for one year plus contracts is \"+str(round(prop_y,3)))"
   ]
  },
  {
   "cell_type": "markdown",
   "metadata": {},
   "source": [
    "### Central Limit Theorem Conditions"
   ]
  },
  {
   "cell_type": "markdown",
   "metadata": {},
   "source": [
    "**Random Condition:** Each customer is randomly obtained and recorded and thus, our sample **meets** the random condition of the Central Limit Theorem."
   ]
  },
  {
   "cell_type": "markdown",
   "metadata": {},
   "source": [
    "**Normal  Condition:** Both sample proportions of month and one year plus churn rates, when multiplied by sample size, are **greater than 10**. Their proportions are both in the **middle of 0 and 1** as well as have a **large number of records**. Thus, this sampling distribution for both sample proportions **meet** the normal condition."
   ]
  },
  {
   "cell_type": "markdown",
   "metadata": {},
   "source": [
    "**Independence Condition:** Both samples have sample sizes that are **less than 10%** of the number of members. Thus, this our sample distribution for both sample proportions **meet** the independent condition.\n"
   ]
  },
  {
   "cell_type": "markdown",
   "metadata": {},
   "source": [
    "### Null & Alternative Hypothesis"
   ]
  },
  {
   "cell_type": "markdown",
   "metadata": {},
   "source": [
    "*Null Hypothesis:* In terms of churn, there is **no difference** for customers who have monthly contracts and customers who have one year plus contracts.\n",
    "\n",
    "*Alternative Hypothesis:* In terms of churn, there is **a difference** customers who have monthly contracts and customers who have one year plus contracts."
   ]
  },
  {
   "cell_type": "markdown",
   "metadata": {},
   "source": [
    "### Significance Level & Power"
   ]
  },
  {
   "cell_type": "markdown",
   "metadata": {},
   "source": [
    "**Significance Level**: α = 0.01 \n",
    "\n",
    "**Power**: We are worried of making a **Type I error** because if there is no difference between the sample proportion of churn for monthly and one year plus contracts and reject this, telecom companies will be taking action on something that is insignificant --- as a result they will be **wasting time** and **losing money on action items**."
   ]
  },
  {
   "cell_type": "markdown",
   "metadata": {},
   "source": [
    "### Margin of Error & Confidence Interval"
   ]
  },
  {
   "cell_type": "code",
   "execution_count": 22,
   "metadata": {
    "scrolled": false
   },
   "outputs": [
    {
     "name": "stdout",
     "output_type": "stream",
     "text": [
      "The difference between the sample proportions of monthly and one year plus contracts is 0.205\n"
     ]
    }
   ],
   "source": [
    "prop_diff = prop_m - prop_y # sample statistic\n",
    "\n",
    "std_error = math.sqrt((prop_m * (1-prop_m) / n) + (prop_y * (1-prop_y)/n)) # standard error\n",
    "\n",
    "z_score = round(stats.norm.ppf(.995),3) # Z-score of 99% confidence interval\n",
    "\n",
    "print(\"The difference between the sample proportions of monthly and one year plus contracts is\", round(prop_diff,3))"
   ]
  },
  {
   "cell_type": "code",
   "execution_count": 23,
   "metadata": {},
   "outputs": [
    {
     "name": "stdout",
     "output_type": "stream",
     "text": [
      "Margin of Error: 0.014\n",
      "Confidence Interval: [0.191, 0.219]\n"
     ]
    }
   ],
   "source": [
    "moe = z_score*std_error # margin of error\n",
    "\n",
    "lower = prop_diff - moe # lower level of confidence interval\n",
    "upper = prop_diff + moe # upper level of confidence interval\n",
    "\n",
    "print(\"Margin of Error:\", round(moe,3))\n",
    "print(\"Confidence Interval:\", [round(lower,3),round(upper,3)])"
   ]
  },
  {
   "cell_type": "markdown",
   "metadata": {},
   "source": [
    "The is a **99% chance** that the true difference between monthly and one year plus churn percentages is between *.191 and .219.*\n",
    "\n",
    "This means we are **99% confident** that there exists a difference between monthly contracts and one year plus churn percentages."
   ]
  },
  {
   "cell_type": "markdown",
   "metadata": {},
   "source": [
    "### Z-Score & P-Value"
   ]
  },
  {
   "cell_type": "code",
   "execution_count": 26,
   "metadata": {},
   "outputs": [
    {
     "name": "stdout",
     "output_type": "stream",
     "text": [
      "Z-score: 35.79\n",
      "P-Value: 0.0\n"
     ]
    }
   ],
   "source": [
    "p = prop_m = prop_y # assuming null hypothesis is true\n",
    "\n",
    "p_hat = (churn_m + churn_y) / (n + n) # new proportion assuming null-hypothesis is true\n",
    "\n",
    "std_error = math.sqrt((2 * p_hat * (1-p_hat))/n) # standard error of sampling proportion assuming null-hypothesis is true\n",
    "\n",
    "z_score = (prop_diff - 0)/std_error # calculate z score\n",
    "\n",
    "p_value = stats.norm.sf(abs(z_score)) #calculate p-value\n",
    "\n",
    "print('Z-score:', round(z_score,2))\n",
    "print('P-Value:', round(p_value,4))"
   ]
  },
  {
   "cell_type": "markdown",
   "metadata": {},
   "source": [
    "The probability of getting a Z-score **as extreme or more extreme** than 35.79 is 9%, *assuming the null-hypothesis is true*. \n",
    "\n",
    "Since our p-value is **less than** our predetermined significance level of 0.01, we **do reject** the null hypothesis and assume **statistical significance** in the difference between proportions of monthly and one year plus churn rates."
   ]
  },
  {
   "cell_type": "markdown",
   "metadata": {},
   "source": [
    "### Conclusion"
   ]
  },
  {
   "cell_type": "markdown",
   "metadata": {},
   "source": [
    "Firstly, our statistical analysis says that we are *confident* that the true difference between churn rates for monthly and one year plus contracts is between .191 and 0.219, 99% of the time. Thus, we are quite confident that the true difference is between .191 and .219.\n",
    "\n",
    "Thus, contract types will be a good predictor variable to look further into when implementing our model.\n",
    "\n",
    "Thus, when advising a telecom to take action upon this analysis or not to take action, it is clear to focus on the contract types of the customers which was quite expected beforehand."
   ]
  }
 ],
 "metadata": {
  "kernelspec": {
   "display_name": "Python 3",
   "language": "python",
   "name": "python3"
  },
  "language_info": {
   "codemirror_mode": {
    "name": "ipython",
    "version": 3
   },
   "file_extension": ".py",
   "mimetype": "text/x-python",
   "name": "python",
   "nbconvert_exporter": "python",
   "pygments_lexer": "ipython3",
   "version": "3.6.4"
  }
 },
 "nbformat": 4,
 "nbformat_minor": 2
}
